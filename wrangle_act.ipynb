{
  "nbformat": 4,
  "nbformat_minor": 0,
  "metadata": {
    "colab": {
      "name": "wrangle_act.ipynb",
      "provenance": [],
      "authorship_tag": "ABX9TyN2SKbpDPlwemlOx4S9NM7G",
      "include_colab_link": true
    },
    "kernelspec": {
      "name": "python3",
      "display_name": "Python 3"
    }
  },
  "cells": [
    {
      "cell_type": "markdown",
      "metadata": {
        "id": "view-in-github",
        "colab_type": "text"
      },
      "source": [
        "<a href=\"https://colab.research.google.com/github/CherifArsanious/wrangle-and-analyze-data-project/blob/master/wrangle_act.ipynb\" target=\"_parent\"><img src=\"https://colab.research.google.com/assets/colab-badge.svg\" alt=\"Open In Colab\"/></a>"
      ]
    },
    {
      "cell_type": "markdown",
      "metadata": {
        "id": "J5Kqqiz8cfSO",
        "colab_type": "text"
      },
      "source": [
        "# Data-Analysis-NanoDegree-Udacity-Project-4\n",
        "## Wrangle-and-Analyze-Data\n",
        "## Project-done-by-Cherif.Arsanious"
      ]
    },
    {
      "cell_type": "markdown",
      "metadata": {
        "id": "2wvFO_ZLdIa9",
        "colab_type": "text"
      },
      "source": [
        "## Project-Overview\n",
        "This project is divided into 3 parts \n",
        "\n",
        "1- Wrangle Data\n",
        "\n",
        "I have to gather data from a csv file prepared by the instructor, a tsv file from a url using the requests library and gather data from twitter api using tweepy. I have to assess the collected data and clean them from dirty and messy data and test to make sure of my cleaning process\n",
        "\n",
        "2- Storing, analyzing, and visualizing my wrangled data\n",
        "\n",
        "3- Make 2 reports on my data wrangling efforts and my data analyses and visualizations efforts"
      ]
    },
    {
      "cell_type": "markdown",
      "metadata": {
        "id": "r3Q3cmsnfh_3",
        "colab_type": "text"
      },
      "source": [
        "First step in my wrangle effort is to import the required libraries that will help me to gather, assess and clean the data"
      ]
    },
    {
      "cell_type": "code",
      "metadata": {
        "id": "Y8qqRAIUesYb",
        "colab_type": "code",
        "colab": {}
      },
      "source": [
        "#First I will import the necessary libraries to start my project\n",
        "import pandas as pd\n",
        "import numpy as np\n",
        "import matplotlib.pyplot as plt\n",
        "%matplotlib inline\n",
        "import requests\n",
        "import tweepy\n",
        "import json"
      ],
      "execution_count": 0,
      "outputs": []
    },
    {
      "cell_type": "code",
      "metadata": {
        "id": "BRn4XrG1a600",
        "colab_type": "code",
        "outputId": "1e275331-24be-4c2b-854d-1ea7433f4012",
        "colab": {
          "base_uri": "https://localhost:8080/",
          "height": 34
        }
      },
      "source": [
        "#I should get the needed files that contains my csv and tsv file\n",
        "!git clone https://github.com/CherifArsanious/wrangle-and-analyze-data-project.git"
      ],
      "execution_count": 93,
      "outputs": [
        {
          "output_type": "stream",
          "text": [
            "fatal: destination path 'wrangle-and-analyze-data-project' already exists and is not an empty directory.\n"
          ],
          "name": "stdout"
        }
      ]
    },
    {
      "cell_type": "markdown",
      "metadata": {
        "id": "dyReQwBqGed8",
        "colab_type": "text"
      },
      "source": [
        "# Gather"
      ]
    },
    {
      "cell_type": "markdown",
      "metadata": {
        "id": "EdBMRyYVPjM5",
        "colab_type": "text"
      },
      "source": [
        "## Our first source of data is twitter_archive.csv file\n",
        "That file was ready available on Udacity platform and just needed to be imported through the right libraries"
      ]
    },
    {
      "cell_type": "code",
      "metadata": {
        "id": "-lS3zoCzcdgU",
        "colab_type": "code",
        "outputId": "8afb5714-06c0-4db9-ab60-3d6230d90df5",
        "colab": {
          "base_uri": "https://localhost:8080/",
          "height": 202
        }
      },
      "source": [
        "twitter_archive=pd.read_csv('wrangle-and-analyze-data-project/twitter-archive-enhanced.csv')\n",
        "twitter_archive.head(1)"
      ],
      "execution_count": 94,
      "outputs": [
        {
          "output_type": "execute_result",
          "data": {
            "text/html": [
              "<div>\n",
              "<style scoped>\n",
              "    .dataframe tbody tr th:only-of-type {\n",
              "        vertical-align: middle;\n",
              "    }\n",
              "\n",
              "    .dataframe tbody tr th {\n",
              "        vertical-align: top;\n",
              "    }\n",
              "\n",
              "    .dataframe thead th {\n",
              "        text-align: right;\n",
              "    }\n",
              "</style>\n",
              "<table border=\"1\" class=\"dataframe\">\n",
              "  <thead>\n",
              "    <tr style=\"text-align: right;\">\n",
              "      <th></th>\n",
              "      <th>tweet_id</th>\n",
              "      <th>in_reply_to_status_id</th>\n",
              "      <th>in_reply_to_user_id</th>\n",
              "      <th>timestamp</th>\n",
              "      <th>source</th>\n",
              "      <th>text</th>\n",
              "      <th>retweeted_status_id</th>\n",
              "      <th>retweeted_status_user_id</th>\n",
              "      <th>retweeted_status_timestamp</th>\n",
              "      <th>expanded_urls</th>\n",
              "      <th>rating_numerator</th>\n",
              "      <th>rating_denominator</th>\n",
              "      <th>name</th>\n",
              "      <th>doggo</th>\n",
              "      <th>floofer</th>\n",
              "      <th>pupper</th>\n",
              "      <th>puppo</th>\n",
              "    </tr>\n",
              "  </thead>\n",
              "  <tbody>\n",
              "    <tr>\n",
              "      <th>0</th>\n",
              "      <td>892420643555336193</td>\n",
              "      <td>NaN</td>\n",
              "      <td>NaN</td>\n",
              "      <td>2017-08-01 16:23:56 +0000</td>\n",
              "      <td>&lt;a href=\"http://twitter.com/download/iphone\" r...</td>\n",
              "      <td>This is Phineas. He's a mystical boy. Only eve...</td>\n",
              "      <td>NaN</td>\n",
              "      <td>NaN</td>\n",
              "      <td>NaN</td>\n",
              "      <td>https://twitter.com/dog_rates/status/892420643...</td>\n",
              "      <td>13</td>\n",
              "      <td>10</td>\n",
              "      <td>Phineas</td>\n",
              "      <td>None</td>\n",
              "      <td>None</td>\n",
              "      <td>None</td>\n",
              "      <td>None</td>\n",
              "    </tr>\n",
              "  </tbody>\n",
              "</table>\n",
              "</div>"
            ],
            "text/plain": [
              "             tweet_id  in_reply_to_status_id  ...  pupper puppo\n",
              "0  892420643555336193                    NaN  ...    None  None\n",
              "\n",
              "[1 rows x 17 columns]"
            ]
          },
          "metadata": {
            "tags": []
          },
          "execution_count": 94
        }
      ]
    },
    {
      "cell_type": "code",
      "metadata": {
        "id": "kxdCQ-XqOq1H",
        "colab_type": "code",
        "outputId": "c2bd603d-95af-42c8-fcaf-b4c990ca0f8f",
        "colab": {
          "base_uri": "https://localhost:8080/",
          "height": 202
        }
      },
      "source": [
        "twitter_archive.tail(1)"
      ],
      "execution_count": 95,
      "outputs": [
        {
          "output_type": "execute_result",
          "data": {
            "text/html": [
              "<div>\n",
              "<style scoped>\n",
              "    .dataframe tbody tr th:only-of-type {\n",
              "        vertical-align: middle;\n",
              "    }\n",
              "\n",
              "    .dataframe tbody tr th {\n",
              "        vertical-align: top;\n",
              "    }\n",
              "\n",
              "    .dataframe thead th {\n",
              "        text-align: right;\n",
              "    }\n",
              "</style>\n",
              "<table border=\"1\" class=\"dataframe\">\n",
              "  <thead>\n",
              "    <tr style=\"text-align: right;\">\n",
              "      <th></th>\n",
              "      <th>tweet_id</th>\n",
              "      <th>in_reply_to_status_id</th>\n",
              "      <th>in_reply_to_user_id</th>\n",
              "      <th>timestamp</th>\n",
              "      <th>source</th>\n",
              "      <th>text</th>\n",
              "      <th>retweeted_status_id</th>\n",
              "      <th>retweeted_status_user_id</th>\n",
              "      <th>retweeted_status_timestamp</th>\n",
              "      <th>expanded_urls</th>\n",
              "      <th>rating_numerator</th>\n",
              "      <th>rating_denominator</th>\n",
              "      <th>name</th>\n",
              "      <th>doggo</th>\n",
              "      <th>floofer</th>\n",
              "      <th>pupper</th>\n",
              "      <th>puppo</th>\n",
              "    </tr>\n",
              "  </thead>\n",
              "  <tbody>\n",
              "    <tr>\n",
              "      <th>2355</th>\n",
              "      <td>666020888022790149</td>\n",
              "      <td>NaN</td>\n",
              "      <td>NaN</td>\n",
              "      <td>2015-11-15 22:32:08 +0000</td>\n",
              "      <td>&lt;a href=\"http://twitter.com/download/iphone\" r...</td>\n",
              "      <td>Here we have a Japanese Irish Setter. Lost eye...</td>\n",
              "      <td>NaN</td>\n",
              "      <td>NaN</td>\n",
              "      <td>NaN</td>\n",
              "      <td>https://twitter.com/dog_rates/status/666020888...</td>\n",
              "      <td>8</td>\n",
              "      <td>10</td>\n",
              "      <td>None</td>\n",
              "      <td>None</td>\n",
              "      <td>None</td>\n",
              "      <td>None</td>\n",
              "      <td>None</td>\n",
              "    </tr>\n",
              "  </tbody>\n",
              "</table>\n",
              "</div>"
            ],
            "text/plain": [
              "                tweet_id  in_reply_to_status_id  ...  pupper puppo\n",
              "2355  666020888022790149                    NaN  ...    None  None\n",
              "\n",
              "[1 rows x 17 columns]"
            ]
          },
          "metadata": {
            "tags": []
          },
          "execution_count": 95
        }
      ]
    },
    {
      "cell_type": "markdown",
      "metadata": {
        "id": "KWvr3n7SOxgn",
        "colab_type": "text"
      },
      "source": [
        "Our data extends from 15-11-2015 to 1-8-2017 time frame"
      ]
    },
    {
      "cell_type": "markdown",
      "metadata": {
        "id": "k7Md6YEyNZIR",
        "colab_type": "text"
      },
      "source": [
        "Lets check the number of rows and columns in our dataframe"
      ]
    },
    {
      "cell_type": "code",
      "metadata": {
        "id": "JvNwCyCELSHo",
        "colab_type": "code",
        "outputId": "8f2e0e8f-3b86-4e7a-dae5-c81dbea4355a",
        "colab": {
          "base_uri": "https://localhost:8080/",
          "height": 34
        }
      },
      "source": [
        "#numbers of rows and columns in our dataframe\n",
        "print('number of rows:{} and number of columns:{}'.format(twitter_archive.shape[0],twitter_archive.shape[1]))"
      ],
      "execution_count": 96,
      "outputs": [
        {
          "output_type": "stream",
          "text": [
            "number of rows:2356 and number of columns:17\n"
          ],
          "name": "stdout"
        }
      ]
    },
    {
      "cell_type": "markdown",
      "metadata": {
        "id": "wazwt_GoNvqV",
        "colab_type": "text"
      },
      "source": [
        "ok, I will check now more information about the 17 columns"
      ]
    },
    {
      "cell_type": "code",
      "metadata": {
        "id": "BXESkvosLXbJ",
        "colab_type": "code",
        "outputId": "9bc69ead-c827-48ae-8df3-8fbe718d6c88",
        "colab": {
          "base_uri": "https://localhost:8080/",
          "height": 391
        }
      },
      "source": [
        "#information about our columns and missing values\n",
        "twitter_archive.info()"
      ],
      "execution_count": 97,
      "outputs": [
        {
          "output_type": "stream",
          "text": [
            "<class 'pandas.core.frame.DataFrame'>\n",
            "RangeIndex: 2356 entries, 0 to 2355\n",
            "Data columns (total 17 columns):\n",
            "tweet_id                      2356 non-null int64\n",
            "in_reply_to_status_id         78 non-null float64\n",
            "in_reply_to_user_id           78 non-null float64\n",
            "timestamp                     2356 non-null object\n",
            "source                        2356 non-null object\n",
            "text                          2356 non-null object\n",
            "retweeted_status_id           181 non-null float64\n",
            "retweeted_status_user_id      181 non-null float64\n",
            "retweeted_status_timestamp    181 non-null object\n",
            "expanded_urls                 2297 non-null object\n",
            "rating_numerator              2356 non-null int64\n",
            "rating_denominator            2356 non-null int64\n",
            "name                          2356 non-null object\n",
            "doggo                         2356 non-null object\n",
            "floofer                       2356 non-null object\n",
            "pupper                        2356 non-null object\n",
            "puppo                         2356 non-null object\n",
            "dtypes: float64(4), int64(3), object(10)\n",
            "memory usage: 313.0+ KB\n"
          ],
          "name": "stdout"
        }
      ]
    },
    {
      "cell_type": "markdown",
      "metadata": {
        "id": "Sxel7-nkP5ui",
        "colab_type": "text"
      },
      "source": [
        "Now i will check if there are duplicated rows in our dataframe"
      ]
    },
    {
      "cell_type": "code",
      "metadata": {
        "id": "LkfpK1EcQAYX",
        "colab_type": "code",
        "outputId": "a0041515-9e7b-45c3-db46-e533936611bd",
        "colab": {
          "base_uri": "https://localhost:8080/",
          "height": 34
        }
      },
      "source": [
        "twitter_archive.duplicated().all()"
      ],
      "execution_count": 98,
      "outputs": [
        {
          "output_type": "execute_result",
          "data": {
            "text/plain": [
              "False"
            ]
          },
          "metadata": {
            "tags": []
          },
          "execution_count": 98
        }
      ]
    },
    {
      "cell_type": "code",
      "metadata": {
        "id": "bGerAQSteW9A",
        "colab_type": "code",
        "outputId": "ef51a7fc-62ae-4175-d2c6-f03c39d0f913",
        "colab": {
          "base_uri": "https://localhost:8080/",
          "height": 297
        }
      },
      "source": [
        "twitter_archive.describe()"
      ],
      "execution_count": 99,
      "outputs": [
        {
          "output_type": "execute_result",
          "data": {
            "text/html": [
              "<div>\n",
              "<style scoped>\n",
              "    .dataframe tbody tr th:only-of-type {\n",
              "        vertical-align: middle;\n",
              "    }\n",
              "\n",
              "    .dataframe tbody tr th {\n",
              "        vertical-align: top;\n",
              "    }\n",
              "\n",
              "    .dataframe thead th {\n",
              "        text-align: right;\n",
              "    }\n",
              "</style>\n",
              "<table border=\"1\" class=\"dataframe\">\n",
              "  <thead>\n",
              "    <tr style=\"text-align: right;\">\n",
              "      <th></th>\n",
              "      <th>tweet_id</th>\n",
              "      <th>in_reply_to_status_id</th>\n",
              "      <th>in_reply_to_user_id</th>\n",
              "      <th>retweeted_status_id</th>\n",
              "      <th>retweeted_status_user_id</th>\n",
              "      <th>rating_numerator</th>\n",
              "      <th>rating_denominator</th>\n",
              "    </tr>\n",
              "  </thead>\n",
              "  <tbody>\n",
              "    <tr>\n",
              "      <th>count</th>\n",
              "      <td>2.356000e+03</td>\n",
              "      <td>7.800000e+01</td>\n",
              "      <td>7.800000e+01</td>\n",
              "      <td>1.810000e+02</td>\n",
              "      <td>1.810000e+02</td>\n",
              "      <td>2356.000000</td>\n",
              "      <td>2356.000000</td>\n",
              "    </tr>\n",
              "    <tr>\n",
              "      <th>mean</th>\n",
              "      <td>7.427716e+17</td>\n",
              "      <td>7.455079e+17</td>\n",
              "      <td>2.014171e+16</td>\n",
              "      <td>7.720400e+17</td>\n",
              "      <td>1.241698e+16</td>\n",
              "      <td>13.126486</td>\n",
              "      <td>10.455433</td>\n",
              "    </tr>\n",
              "    <tr>\n",
              "      <th>std</th>\n",
              "      <td>6.856705e+16</td>\n",
              "      <td>7.582492e+16</td>\n",
              "      <td>1.252797e+17</td>\n",
              "      <td>6.236928e+16</td>\n",
              "      <td>9.599254e+16</td>\n",
              "      <td>45.876648</td>\n",
              "      <td>6.745237</td>\n",
              "    </tr>\n",
              "    <tr>\n",
              "      <th>min</th>\n",
              "      <td>6.660209e+17</td>\n",
              "      <td>6.658147e+17</td>\n",
              "      <td>1.185634e+07</td>\n",
              "      <td>6.661041e+17</td>\n",
              "      <td>7.832140e+05</td>\n",
              "      <td>0.000000</td>\n",
              "      <td>0.000000</td>\n",
              "    </tr>\n",
              "    <tr>\n",
              "      <th>25%</th>\n",
              "      <td>6.783989e+17</td>\n",
              "      <td>6.757419e+17</td>\n",
              "      <td>3.086374e+08</td>\n",
              "      <td>7.186315e+17</td>\n",
              "      <td>4.196984e+09</td>\n",
              "      <td>10.000000</td>\n",
              "      <td>10.000000</td>\n",
              "    </tr>\n",
              "    <tr>\n",
              "      <th>50%</th>\n",
              "      <td>7.196279e+17</td>\n",
              "      <td>7.038708e+17</td>\n",
              "      <td>4.196984e+09</td>\n",
              "      <td>7.804657e+17</td>\n",
              "      <td>4.196984e+09</td>\n",
              "      <td>11.000000</td>\n",
              "      <td>10.000000</td>\n",
              "    </tr>\n",
              "    <tr>\n",
              "      <th>75%</th>\n",
              "      <td>7.993373e+17</td>\n",
              "      <td>8.257804e+17</td>\n",
              "      <td>4.196984e+09</td>\n",
              "      <td>8.203146e+17</td>\n",
              "      <td>4.196984e+09</td>\n",
              "      <td>12.000000</td>\n",
              "      <td>10.000000</td>\n",
              "    </tr>\n",
              "    <tr>\n",
              "      <th>max</th>\n",
              "      <td>8.924206e+17</td>\n",
              "      <td>8.862664e+17</td>\n",
              "      <td>8.405479e+17</td>\n",
              "      <td>8.874740e+17</td>\n",
              "      <td>7.874618e+17</td>\n",
              "      <td>1776.000000</td>\n",
              "      <td>170.000000</td>\n",
              "    </tr>\n",
              "  </tbody>\n",
              "</table>\n",
              "</div>"
            ],
            "text/plain": [
              "           tweet_id  ...  rating_denominator\n",
              "count  2.356000e+03  ...         2356.000000\n",
              "mean   7.427716e+17  ...           10.455433\n",
              "std    6.856705e+16  ...            6.745237\n",
              "min    6.660209e+17  ...            0.000000\n",
              "25%    6.783989e+17  ...           10.000000\n",
              "50%    7.196279e+17  ...           10.000000\n",
              "75%    7.993373e+17  ...           10.000000\n",
              "max    8.924206e+17  ...          170.000000\n",
              "\n",
              "[8 rows x 7 columns]"
            ]
          },
          "metadata": {
            "tags": []
          },
          "execution_count": 99
        }
      ]
    },
    {
      "cell_type": "code",
      "metadata": {
        "id": "P-MZwuK-eehr",
        "colab_type": "code",
        "outputId": "28f54cf3-7dd2-48c8-80e1-7dddcdcb3fa8",
        "colab": {
          "base_uri": "https://localhost:8080/",
          "height": 297
        }
      },
      "source": [
        "twitter_archive[['rating_numerator','rating_denominator']].describe()"
      ],
      "execution_count": 100,
      "outputs": [
        {
          "output_type": "execute_result",
          "data": {
            "text/html": [
              "<div>\n",
              "<style scoped>\n",
              "    .dataframe tbody tr th:only-of-type {\n",
              "        vertical-align: middle;\n",
              "    }\n",
              "\n",
              "    .dataframe tbody tr th {\n",
              "        vertical-align: top;\n",
              "    }\n",
              "\n",
              "    .dataframe thead th {\n",
              "        text-align: right;\n",
              "    }\n",
              "</style>\n",
              "<table border=\"1\" class=\"dataframe\">\n",
              "  <thead>\n",
              "    <tr style=\"text-align: right;\">\n",
              "      <th></th>\n",
              "      <th>rating_numerator</th>\n",
              "      <th>rating_denominator</th>\n",
              "    </tr>\n",
              "  </thead>\n",
              "  <tbody>\n",
              "    <tr>\n",
              "      <th>count</th>\n",
              "      <td>2356.000000</td>\n",
              "      <td>2356.000000</td>\n",
              "    </tr>\n",
              "    <tr>\n",
              "      <th>mean</th>\n",
              "      <td>13.126486</td>\n",
              "      <td>10.455433</td>\n",
              "    </tr>\n",
              "    <tr>\n",
              "      <th>std</th>\n",
              "      <td>45.876648</td>\n",
              "      <td>6.745237</td>\n",
              "    </tr>\n",
              "    <tr>\n",
              "      <th>min</th>\n",
              "      <td>0.000000</td>\n",
              "      <td>0.000000</td>\n",
              "    </tr>\n",
              "    <tr>\n",
              "      <th>25%</th>\n",
              "      <td>10.000000</td>\n",
              "      <td>10.000000</td>\n",
              "    </tr>\n",
              "    <tr>\n",
              "      <th>50%</th>\n",
              "      <td>11.000000</td>\n",
              "      <td>10.000000</td>\n",
              "    </tr>\n",
              "    <tr>\n",
              "      <th>75%</th>\n",
              "      <td>12.000000</td>\n",
              "      <td>10.000000</td>\n",
              "    </tr>\n",
              "    <tr>\n",
              "      <th>max</th>\n",
              "      <td>1776.000000</td>\n",
              "      <td>170.000000</td>\n",
              "    </tr>\n",
              "  </tbody>\n",
              "</table>\n",
              "</div>"
            ],
            "text/plain": [
              "       rating_numerator  rating_denominator\n",
              "count       2356.000000         2356.000000\n",
              "mean          13.126486           10.455433\n",
              "std           45.876648            6.745237\n",
              "min            0.000000            0.000000\n",
              "25%           10.000000           10.000000\n",
              "50%           11.000000           10.000000\n",
              "75%           12.000000           10.000000\n",
              "max         1776.000000          170.000000"
            ]
          },
          "metadata": {
            "tags": []
          },
          "execution_count": 100
        }
      ]
    },
    {
      "cell_type": "markdown",
      "metadata": {
        "id": "dzHEGlmc2cEV",
        "colab_type": "text"
      },
      "source": [
        "running the describe function on the rating numerator and rating denominator showed that the min in both columns is 0 which is weird that some rating were 0s and the maximum rating_numerator is 1776 which is most certainly could affect our anaylsis and be misleading, and the same goes for the 170 in the denominator rating."
      ]
    },
    {
      "cell_type": "code",
      "metadata": {
        "id": "2Q5ZvUR9ez1u",
        "colab_type": "code",
        "outputId": "c6e3637b-1788-4652-f86a-f5ffa4d98f25",
        "colab": {
          "base_uri": "https://localhost:8080/",
          "height": 284
        }
      },
      "source": [
        "twitter_archive.query('rating_numerator==0')"
      ],
      "execution_count": 101,
      "outputs": [
        {
          "output_type": "execute_result",
          "data": {
            "text/html": [
              "<div>\n",
              "<style scoped>\n",
              "    .dataframe tbody tr th:only-of-type {\n",
              "        vertical-align: middle;\n",
              "    }\n",
              "\n",
              "    .dataframe tbody tr th {\n",
              "        vertical-align: top;\n",
              "    }\n",
              "\n",
              "    .dataframe thead th {\n",
              "        text-align: right;\n",
              "    }\n",
              "</style>\n",
              "<table border=\"1\" class=\"dataframe\">\n",
              "  <thead>\n",
              "    <tr style=\"text-align: right;\">\n",
              "      <th></th>\n",
              "      <th>tweet_id</th>\n",
              "      <th>in_reply_to_status_id</th>\n",
              "      <th>in_reply_to_user_id</th>\n",
              "      <th>timestamp</th>\n",
              "      <th>source</th>\n",
              "      <th>text</th>\n",
              "      <th>retweeted_status_id</th>\n",
              "      <th>retweeted_status_user_id</th>\n",
              "      <th>retweeted_status_timestamp</th>\n",
              "      <th>expanded_urls</th>\n",
              "      <th>rating_numerator</th>\n",
              "      <th>rating_denominator</th>\n",
              "      <th>name</th>\n",
              "      <th>doggo</th>\n",
              "      <th>floofer</th>\n",
              "      <th>pupper</th>\n",
              "      <th>puppo</th>\n",
              "    </tr>\n",
              "  </thead>\n",
              "  <tbody>\n",
              "    <tr>\n",
              "      <th>315</th>\n",
              "      <td>835152434251116546</td>\n",
              "      <td>NaN</td>\n",
              "      <td>NaN</td>\n",
              "      <td>2017-02-24 15:40:31 +0000</td>\n",
              "      <td>&lt;a href=\"http://twitter.com/download/iphone\" r...</td>\n",
              "      <td>When you're so blinded by your systematic plag...</td>\n",
              "      <td>NaN</td>\n",
              "      <td>NaN</td>\n",
              "      <td>NaN</td>\n",
              "      <td>https://twitter.com/dog_rates/status/835152434...</td>\n",
              "      <td>0</td>\n",
              "      <td>10</td>\n",
              "      <td>None</td>\n",
              "      <td>None</td>\n",
              "      <td>None</td>\n",
              "      <td>None</td>\n",
              "      <td>None</td>\n",
              "    </tr>\n",
              "    <tr>\n",
              "      <th>1016</th>\n",
              "      <td>746906459439529985</td>\n",
              "      <td>7.468859e+17</td>\n",
              "      <td>4.196984e+09</td>\n",
              "      <td>2016-06-26 03:22:31 +0000</td>\n",
              "      <td>&lt;a href=\"http://twitter.com/download/iphone\" r...</td>\n",
              "      <td>PUPDATE: can't see any. Even if I could, I cou...</td>\n",
              "      <td>NaN</td>\n",
              "      <td>NaN</td>\n",
              "      <td>NaN</td>\n",
              "      <td>https://twitter.com/dog_rates/status/746906459...</td>\n",
              "      <td>0</td>\n",
              "      <td>10</td>\n",
              "      <td>None</td>\n",
              "      <td>None</td>\n",
              "      <td>None</td>\n",
              "      <td>None</td>\n",
              "      <td>None</td>\n",
              "    </tr>\n",
              "  </tbody>\n",
              "</table>\n",
              "</div>"
            ],
            "text/plain": [
              "                tweet_id  in_reply_to_status_id  ...  pupper puppo\n",
              "315   835152434251116546                    NaN  ...    None  None\n",
              "1016  746906459439529985           7.468859e+17  ...    None  None\n",
              "\n",
              "[2 rows x 17 columns]"
            ]
          },
          "metadata": {
            "tags": []
          },
          "execution_count": 101
        }
      ]
    },
    {
      "cell_type": "code",
      "metadata": {
        "id": "I9h65_uY3ONC",
        "colab_type": "code",
        "outputId": "6371bded-be45-4364-a9df-eaaa9532fbd6",
        "colab": {
          "base_uri": "https://localhost:8080/",
          "height": 202
        }
      },
      "source": [
        "twitter_archive.query('rating_numerator==1776')"
      ],
      "execution_count": 102,
      "outputs": [
        {
          "output_type": "execute_result",
          "data": {
            "text/html": [
              "<div>\n",
              "<style scoped>\n",
              "    .dataframe tbody tr th:only-of-type {\n",
              "        vertical-align: middle;\n",
              "    }\n",
              "\n",
              "    .dataframe tbody tr th {\n",
              "        vertical-align: top;\n",
              "    }\n",
              "\n",
              "    .dataframe thead th {\n",
              "        text-align: right;\n",
              "    }\n",
              "</style>\n",
              "<table border=\"1\" class=\"dataframe\">\n",
              "  <thead>\n",
              "    <tr style=\"text-align: right;\">\n",
              "      <th></th>\n",
              "      <th>tweet_id</th>\n",
              "      <th>in_reply_to_status_id</th>\n",
              "      <th>in_reply_to_user_id</th>\n",
              "      <th>timestamp</th>\n",
              "      <th>source</th>\n",
              "      <th>text</th>\n",
              "      <th>retweeted_status_id</th>\n",
              "      <th>retweeted_status_user_id</th>\n",
              "      <th>retweeted_status_timestamp</th>\n",
              "      <th>expanded_urls</th>\n",
              "      <th>rating_numerator</th>\n",
              "      <th>rating_denominator</th>\n",
              "      <th>name</th>\n",
              "      <th>doggo</th>\n",
              "      <th>floofer</th>\n",
              "      <th>pupper</th>\n",
              "      <th>puppo</th>\n",
              "    </tr>\n",
              "  </thead>\n",
              "  <tbody>\n",
              "    <tr>\n",
              "      <th>979</th>\n",
              "      <td>749981277374128128</td>\n",
              "      <td>NaN</td>\n",
              "      <td>NaN</td>\n",
              "      <td>2016-07-04 15:00:45 +0000</td>\n",
              "      <td>&lt;a href=\"https://about.twitter.com/products/tw...</td>\n",
              "      <td>This is Atticus. He's quite simply America af....</td>\n",
              "      <td>NaN</td>\n",
              "      <td>NaN</td>\n",
              "      <td>NaN</td>\n",
              "      <td>https://twitter.com/dog_rates/status/749981277...</td>\n",
              "      <td>1776</td>\n",
              "      <td>10</td>\n",
              "      <td>Atticus</td>\n",
              "      <td>None</td>\n",
              "      <td>None</td>\n",
              "      <td>None</td>\n",
              "      <td>None</td>\n",
              "    </tr>\n",
              "  </tbody>\n",
              "</table>\n",
              "</div>"
            ],
            "text/plain": [
              "               tweet_id  in_reply_to_status_id  ...  pupper puppo\n",
              "979  749981277374128128                    NaN  ...    None  None\n",
              "\n",
              "[1 rows x 17 columns]"
            ]
          },
          "metadata": {
            "tags": []
          },
          "execution_count": 102
        }
      ]
    },
    {
      "cell_type": "code",
      "metadata": {
        "id": "QgAlmzese_jD",
        "colab_type": "code",
        "outputId": "6cca5201-3c3b-4957-dd76-b2c41780d859",
        "colab": {
          "base_uri": "https://localhost:8080/",
          "height": 168
        }
      },
      "source": [
        "twitter_archive.query('rating_denominator==0')"
      ],
      "execution_count": 103,
      "outputs": [
        {
          "output_type": "execute_result",
          "data": {
            "text/html": [
              "<div>\n",
              "<style scoped>\n",
              "    .dataframe tbody tr th:only-of-type {\n",
              "        vertical-align: middle;\n",
              "    }\n",
              "\n",
              "    .dataframe tbody tr th {\n",
              "        vertical-align: top;\n",
              "    }\n",
              "\n",
              "    .dataframe thead th {\n",
              "        text-align: right;\n",
              "    }\n",
              "</style>\n",
              "<table border=\"1\" class=\"dataframe\">\n",
              "  <thead>\n",
              "    <tr style=\"text-align: right;\">\n",
              "      <th></th>\n",
              "      <th>tweet_id</th>\n",
              "      <th>in_reply_to_status_id</th>\n",
              "      <th>in_reply_to_user_id</th>\n",
              "      <th>timestamp</th>\n",
              "      <th>source</th>\n",
              "      <th>text</th>\n",
              "      <th>retweeted_status_id</th>\n",
              "      <th>retweeted_status_user_id</th>\n",
              "      <th>retweeted_status_timestamp</th>\n",
              "      <th>expanded_urls</th>\n",
              "      <th>rating_numerator</th>\n",
              "      <th>rating_denominator</th>\n",
              "      <th>name</th>\n",
              "      <th>doggo</th>\n",
              "      <th>floofer</th>\n",
              "      <th>pupper</th>\n",
              "      <th>puppo</th>\n",
              "    </tr>\n",
              "  </thead>\n",
              "  <tbody>\n",
              "    <tr>\n",
              "      <th>313</th>\n",
              "      <td>835246439529840640</td>\n",
              "      <td>8.352460e+17</td>\n",
              "      <td>26259576.0</td>\n",
              "      <td>2017-02-24 21:54:03 +0000</td>\n",
              "      <td>&lt;a href=\"http://twitter.com/download/iphone\" r...</td>\n",
              "      <td>@jonnysun @Lin_Manuel ok jomny I know you're e...</td>\n",
              "      <td>NaN</td>\n",
              "      <td>NaN</td>\n",
              "      <td>NaN</td>\n",
              "      <td>NaN</td>\n",
              "      <td>960</td>\n",
              "      <td>0</td>\n",
              "      <td>None</td>\n",
              "      <td>None</td>\n",
              "      <td>None</td>\n",
              "      <td>None</td>\n",
              "      <td>None</td>\n",
              "    </tr>\n",
              "  </tbody>\n",
              "</table>\n",
              "</div>"
            ],
            "text/plain": [
              "               tweet_id  in_reply_to_status_id  ...  pupper puppo\n",
              "313  835246439529840640           8.352460e+17  ...    None  None\n",
              "\n",
              "[1 rows x 17 columns]"
            ]
          },
          "metadata": {
            "tags": []
          },
          "execution_count": 103
        }
      ]
    },
    {
      "cell_type": "code",
      "metadata": {
        "id": "gFujU-O9dB4I",
        "colab_type": "code",
        "outputId": "b5af504a-b76b-4bc6-f28f-b0095b5387d9",
        "colab": {
          "base_uri": "https://localhost:8080/",
          "height": 221
        }
      },
      "source": [
        "twitter_archive.name.value_counts()"
      ],
      "execution_count": 104,
      "outputs": [
        {
          "output_type": "execute_result",
          "data": {
            "text/plain": [
              "None        745\n",
              "a            55\n",
              "Charlie      12\n",
              "Cooper       11\n",
              "Oliver       11\n",
              "           ... \n",
              "Snickers      1\n",
              "Berkeley      1\n",
              "Kenzie        1\n",
              "Ralphson      1\n",
              "Bert          1\n",
              "Name: name, Length: 957, dtype: int64"
            ]
          },
          "metadata": {
            "tags": []
          },
          "execution_count": 104
        }
      ]
    },
    {
      "cell_type": "markdown",
      "metadata": {
        "id": "cYlVry8aUxWV",
        "colab_type": "text"
      },
      "source": [
        "The task is to deal with original tweets only but i have 181 retweets and 78 reolies to tweets"
      ]
    },
    {
      "cell_type": "code",
      "metadata": {
        "id": "ZnnWU4K4Z19e",
        "colab_type": "code",
        "colab": {}
      },
      "source": [
        "# i found that value != np.nan doest work in the queries syntax and using value == value is an acceptable syntax for the same purpose"
      ],
      "execution_count": 0,
      "outputs": []
    },
    {
      "cell_type": "markdown",
      "metadata": {
        "id": "tPlQj0dAaQ1G",
        "colab_type": "text"
      },
      "source": [
        "we have 181 retweets and i found their index"
      ]
    },
    {
      "cell_type": "code",
      "metadata": {
        "id": "QTs1PE9ES2ec",
        "colab_type": "code",
        "colab": {}
      },
      "source": [
        "retweets_index=twitter_archive.query('retweeted_status_id == retweeted_status_id').index"
      ],
      "execution_count": 0,
      "outputs": []
    },
    {
      "cell_type": "markdown",
      "metadata": {
        "id": "rexSTqQXacSv",
        "colab_type": "text"
      },
      "source": [
        "we have 78 replies to orignial tweets and i found their index"
      ]
    },
    {
      "cell_type": "code",
      "metadata": {
        "id": "lmv5x3JaabCS",
        "colab_type": "code",
        "colab": {}
      },
      "source": [
        "in_reply_index=twitter_archive.query('in_reply_to_status_id == in_reply_to_status_id').index"
      ],
      "execution_count": 0,
      "outputs": []
    },
    {
      "cell_type": "markdown",
      "metadata": {
        "id": "3x0_0nJlbm-H",
        "colab_type": "text"
      },
      "source": [
        "I have 59 missing values in expanded_urls and i found their index"
      ]
    },
    {
      "cell_type": "code",
      "metadata": {
        "id": "nD5yNLwPb_ke",
        "colab_type": "code",
        "colab": {}
      },
      "source": [
        "expanded_urls_index=twitter_archive.query('expanded_urls != expanded_urls').index"
      ],
      "execution_count": 0,
      "outputs": []
    },
    {
      "cell_type": "markdown",
      "metadata": {
        "id": "oXV4HqtJPAob",
        "colab_type": "text"
      },
      "source": [
        "## Our second source of data is image_prediction.tsv file \n",
        "That file was ready to be downloaded through Udacity platform but it was asked to do this task through requests library so i did it by both ways"
      ]
    },
    {
      "cell_type": "code",
      "metadata": {
        "id": "pCz3mJ5LgS4m",
        "colab_type": "code",
        "outputId": "9abf02f8-f7d7-4fdc-a120-18175028b056",
        "colab": {
          "base_uri": "https://localhost:8080/",
          "height": 100
        }
      },
      "source": [
        "#The image prediction file was already available in Udacity resources platform and needed only to be imported\n",
        "image_prediction=pd.read_csv('wrangle-and-analyze-data-project/image-predictions.tsv',sep='\\t')\n",
        "image_prediction.head(1)"
      ],
      "execution_count": 109,
      "outputs": [
        {
          "output_type": "execute_result",
          "data": {
            "text/html": [
              "<div>\n",
              "<style scoped>\n",
              "    .dataframe tbody tr th:only-of-type {\n",
              "        vertical-align: middle;\n",
              "    }\n",
              "\n",
              "    .dataframe tbody tr th {\n",
              "        vertical-align: top;\n",
              "    }\n",
              "\n",
              "    .dataframe thead th {\n",
              "        text-align: right;\n",
              "    }\n",
              "</style>\n",
              "<table border=\"1\" class=\"dataframe\">\n",
              "  <thead>\n",
              "    <tr style=\"text-align: right;\">\n",
              "      <th></th>\n",
              "      <th>tweet_id</th>\n",
              "      <th>jpg_url</th>\n",
              "      <th>img_num</th>\n",
              "      <th>p1</th>\n",
              "      <th>p1_conf</th>\n",
              "      <th>p1_dog</th>\n",
              "      <th>p2</th>\n",
              "      <th>p2_conf</th>\n",
              "      <th>p2_dog</th>\n",
              "      <th>p3</th>\n",
              "      <th>p3_conf</th>\n",
              "      <th>p3_dog</th>\n",
              "    </tr>\n",
              "  </thead>\n",
              "  <tbody>\n",
              "    <tr>\n",
              "      <th>0</th>\n",
              "      <td>666020888022790149</td>\n",
              "      <td>https://pbs.twimg.com/media/CT4udn0WwAA0aMy.jpg</td>\n",
              "      <td>1</td>\n",
              "      <td>Welsh_springer_spaniel</td>\n",
              "      <td>0.465074</td>\n",
              "      <td>True</td>\n",
              "      <td>collie</td>\n",
              "      <td>0.156665</td>\n",
              "      <td>True</td>\n",
              "      <td>Shetland_sheepdog</td>\n",
              "      <td>0.061428</td>\n",
              "      <td>True</td>\n",
              "    </tr>\n",
              "  </tbody>\n",
              "</table>\n",
              "</div>"
            ],
            "text/plain": [
              "             tweet_id  ... p3_dog\n",
              "0  666020888022790149  ...   True\n",
              "\n",
              "[1 rows x 12 columns]"
            ]
          },
          "metadata": {
            "tags": []
          },
          "execution_count": 109
        }
      ]
    },
    {
      "cell_type": "markdown",
      "metadata": {
        "id": "cplHIrRTVTHg",
        "colab_type": "text"
      },
      "source": [
        "The other way to import the image_prediction file by requests library"
      ]
    },
    {
      "cell_type": "code",
      "metadata": {
        "id": "LIsVCTvrg8zK",
        "colab_type": "code",
        "colab": {}
      },
      "source": [
        "r=requests.get('https://d17h27t6h515a5.cloudfront.net/topher/2017/August/599fd2ad_image-predictions/image-predictions.tsv').content"
      ],
      "execution_count": 0,
      "outputs": []
    },
    {
      "cell_type": "code",
      "metadata": {
        "id": "88ENguvjv4Ui",
        "colab_type": "code",
        "colab": {}
      },
      "source": [
        "import io\n",
        "df = pd.read_csv(io.StringIO(r.decode('utf-8')),sep='\\t')"
      ],
      "execution_count": 0,
      "outputs": []
    },
    {
      "cell_type": "code",
      "metadata": {
        "id": "fAwRUWYtxURy",
        "colab_type": "code",
        "outputId": "530f4c1b-65cb-4744-cd69-dd11a9e33d43",
        "colab": {
          "base_uri": "https://localhost:8080/",
          "height": 224
        }
      },
      "source": [
        "df.head()"
      ],
      "execution_count": 0,
      "outputs": [
        {
          "output_type": "execute_result",
          "data": {
            "text/html": [
              "<div>\n",
              "<style scoped>\n",
              "    .dataframe tbody tr th:only-of-type {\n",
              "        vertical-align: middle;\n",
              "    }\n",
              "\n",
              "    .dataframe tbody tr th {\n",
              "        vertical-align: top;\n",
              "    }\n",
              "\n",
              "    .dataframe thead th {\n",
              "        text-align: right;\n",
              "    }\n",
              "</style>\n",
              "<table border=\"1\" class=\"dataframe\">\n",
              "  <thead>\n",
              "    <tr style=\"text-align: right;\">\n",
              "      <th></th>\n",
              "      <th>tweet_id</th>\n",
              "      <th>jpg_url</th>\n",
              "      <th>img_num</th>\n",
              "      <th>p1</th>\n",
              "      <th>p1_conf</th>\n",
              "      <th>p1_dog</th>\n",
              "      <th>p2</th>\n",
              "      <th>p2_conf</th>\n",
              "      <th>p2_dog</th>\n",
              "      <th>p3</th>\n",
              "      <th>p3_conf</th>\n",
              "      <th>p3_dog</th>\n",
              "    </tr>\n",
              "  </thead>\n",
              "  <tbody>\n",
              "    <tr>\n",
              "      <th>0</th>\n",
              "      <td>666020888022790149</td>\n",
              "      <td>https://pbs.twimg.com/media/CT4udn0WwAA0aMy.jpg</td>\n",
              "      <td>1</td>\n",
              "      <td>Welsh_springer_spaniel</td>\n",
              "      <td>0.465074</td>\n",
              "      <td>True</td>\n",
              "      <td>collie</td>\n",
              "      <td>0.156665</td>\n",
              "      <td>True</td>\n",
              "      <td>Shetland_sheepdog</td>\n",
              "      <td>0.061428</td>\n",
              "      <td>True</td>\n",
              "    </tr>\n",
              "    <tr>\n",
              "      <th>1</th>\n",
              "      <td>666029285002620928</td>\n",
              "      <td>https://pbs.twimg.com/media/CT42GRgUYAA5iDo.jpg</td>\n",
              "      <td>1</td>\n",
              "      <td>redbone</td>\n",
              "      <td>0.506826</td>\n",
              "      <td>True</td>\n",
              "      <td>miniature_pinscher</td>\n",
              "      <td>0.074192</td>\n",
              "      <td>True</td>\n",
              "      <td>Rhodesian_ridgeback</td>\n",
              "      <td>0.072010</td>\n",
              "      <td>True</td>\n",
              "    </tr>\n",
              "    <tr>\n",
              "      <th>2</th>\n",
              "      <td>666033412701032449</td>\n",
              "      <td>https://pbs.twimg.com/media/CT4521TWwAEvMyu.jpg</td>\n",
              "      <td>1</td>\n",
              "      <td>German_shepherd</td>\n",
              "      <td>0.596461</td>\n",
              "      <td>True</td>\n",
              "      <td>malinois</td>\n",
              "      <td>0.138584</td>\n",
              "      <td>True</td>\n",
              "      <td>bloodhound</td>\n",
              "      <td>0.116197</td>\n",
              "      <td>True</td>\n",
              "    </tr>\n",
              "    <tr>\n",
              "      <th>3</th>\n",
              "      <td>666044226329800704</td>\n",
              "      <td>https://pbs.twimg.com/media/CT5Dr8HUEAA-lEu.jpg</td>\n",
              "      <td>1</td>\n",
              "      <td>Rhodesian_ridgeback</td>\n",
              "      <td>0.408143</td>\n",
              "      <td>True</td>\n",
              "      <td>redbone</td>\n",
              "      <td>0.360687</td>\n",
              "      <td>True</td>\n",
              "      <td>miniature_pinscher</td>\n",
              "      <td>0.222752</td>\n",
              "      <td>True</td>\n",
              "    </tr>\n",
              "    <tr>\n",
              "      <th>4</th>\n",
              "      <td>666049248165822465</td>\n",
              "      <td>https://pbs.twimg.com/media/CT5IQmsXIAAKY4A.jpg</td>\n",
              "      <td>1</td>\n",
              "      <td>miniature_pinscher</td>\n",
              "      <td>0.560311</td>\n",
              "      <td>True</td>\n",
              "      <td>Rottweiler</td>\n",
              "      <td>0.243682</td>\n",
              "      <td>True</td>\n",
              "      <td>Doberman</td>\n",
              "      <td>0.154629</td>\n",
              "      <td>True</td>\n",
              "    </tr>\n",
              "  </tbody>\n",
              "</table>\n",
              "</div>"
            ],
            "text/plain": [
              "             tweet_id  ... p3_dog\n",
              "0  666020888022790149  ...   True\n",
              "1  666029285002620928  ...   True\n",
              "2  666033412701032449  ...   True\n",
              "3  666044226329800704  ...   True\n",
              "4  666049248165822465  ...   True\n",
              "\n",
              "[5 rows x 12 columns]"
            ]
          },
          "metadata": {
            "tags": []
          },
          "execution_count": 76
        }
      ]
    },
    {
      "cell_type": "markdown",
      "metadata": {
        "id": "9lLrOvwvVlwU",
        "colab_type": "text"
      },
      "source": [
        "As usual I will start by checking the number of rows and columns and some initial information about the columns and missing values "
      ]
    },
    {
      "cell_type": "code",
      "metadata": {
        "id": "CzVOnHS5VjwD",
        "colab_type": "code",
        "outputId": "458d04f0-dbdb-436a-e464-58d5284e57f5",
        "colab": {
          "base_uri": "https://localhost:8080/",
          "height": 80
        }
      },
      "source": [
        "image_prediction.tail(1)"
      ],
      "execution_count": 110,
      "outputs": [
        {
          "output_type": "execute_result",
          "data": {
            "text/html": [
              "<div>\n",
              "<style scoped>\n",
              "    .dataframe tbody tr th:only-of-type {\n",
              "        vertical-align: middle;\n",
              "    }\n",
              "\n",
              "    .dataframe tbody tr th {\n",
              "        vertical-align: top;\n",
              "    }\n",
              "\n",
              "    .dataframe thead th {\n",
              "        text-align: right;\n",
              "    }\n",
              "</style>\n",
              "<table border=\"1\" class=\"dataframe\">\n",
              "  <thead>\n",
              "    <tr style=\"text-align: right;\">\n",
              "      <th></th>\n",
              "      <th>tweet_id</th>\n",
              "      <th>jpg_url</th>\n",
              "      <th>img_num</th>\n",
              "      <th>p1</th>\n",
              "      <th>p1_conf</th>\n",
              "      <th>p1_dog</th>\n",
              "      <th>p2</th>\n",
              "      <th>p2_conf</th>\n",
              "      <th>p2_dog</th>\n",
              "      <th>p3</th>\n",
              "      <th>p3_conf</th>\n",
              "      <th>p3_dog</th>\n",
              "    </tr>\n",
              "  </thead>\n",
              "  <tbody>\n",
              "    <tr>\n",
              "      <th>2074</th>\n",
              "      <td>892420643555336193</td>\n",
              "      <td>https://pbs.twimg.com/media/DGKD1-bXoAAIAUK.jpg</td>\n",
              "      <td>1</td>\n",
              "      <td>orange</td>\n",
              "      <td>0.097049</td>\n",
              "      <td>False</td>\n",
              "      <td>bagel</td>\n",
              "      <td>0.085851</td>\n",
              "      <td>False</td>\n",
              "      <td>banana</td>\n",
              "      <td>0.07611</td>\n",
              "      <td>False</td>\n",
              "    </tr>\n",
              "  </tbody>\n",
              "</table>\n",
              "</div>"
            ],
            "text/plain": [
              "                tweet_id  ... p3_dog\n",
              "2074  892420643555336193  ...  False\n",
              "\n",
              "[1 rows x 12 columns]"
            ]
          },
          "metadata": {
            "tags": []
          },
          "execution_count": 110
        }
      ]
    },
    {
      "cell_type": "code",
      "metadata": {
        "id": "AuqyIKRaWUlL",
        "colab_type": "code",
        "outputId": "1e61be8e-0ea6-47cb-edb1-75a8db1725bb",
        "colab": {
          "base_uri": "https://localhost:8080/",
          "height": 34
        }
      },
      "source": [
        "#number of rows and columns in our dataframe\n",
        "image_prediction.shape"
      ],
      "execution_count": 111,
      "outputs": [
        {
          "output_type": "execute_result",
          "data": {
            "text/plain": [
              "(2075, 12)"
            ]
          },
          "metadata": {
            "tags": []
          },
          "execution_count": 111
        }
      ]
    },
    {
      "cell_type": "markdown",
      "metadata": {
        "id": "hS7c38gUYFhe",
        "colab_type": "text"
      },
      "source": [
        "Let's check about duplicated rows and it appears that there are no duplicated rows"
      ]
    },
    {
      "cell_type": "code",
      "metadata": {
        "id": "Cyut-T3AX97f",
        "colab_type": "code",
        "outputId": "194ec393-7a58-4fd9-cc7f-0b52df5a3a3c",
        "colab": {
          "base_uri": "https://localhost:8080/",
          "height": 34
        }
      },
      "source": [
        "image_prediction.duplicated().all()"
      ],
      "execution_count": 112,
      "outputs": [
        {
          "output_type": "execute_result",
          "data": {
            "text/plain": [
              "False"
            ]
          },
          "metadata": {
            "tags": []
          },
          "execution_count": 112
        }
      ]
    },
    {
      "cell_type": "markdown",
      "metadata": {
        "id": "LwU5XRxTURQV",
        "colab_type": "text"
      },
      "source": [
        "Ok I will start by checking the rows that predicted other stuff than dogs and open their urls to check if these tweets contained dogs pictures or not as based on that I will keep these rows or remove them, and after checking these rows by random check, I found out that these tweets do contain dogs and the model wrongly interpreted them as other stuff"
      ]
    },
    {
      "cell_type": "code",
      "metadata": {
        "id": "bF85qTKJN7AX",
        "colab_type": "code",
        "outputId": "70673a84-ed6c-43ca-ec8f-ae181e69a3d0",
        "colab": {
          "base_uri": "https://localhost:8080/",
          "height": 439
        }
      },
      "source": [
        "image_prediction.query('p1_dog==False')"
      ],
      "execution_count": 113,
      "outputs": [
        {
          "output_type": "execute_result",
          "data": {
            "text/html": [
              "<div>\n",
              "<style scoped>\n",
              "    .dataframe tbody tr th:only-of-type {\n",
              "        vertical-align: middle;\n",
              "    }\n",
              "\n",
              "    .dataframe tbody tr th {\n",
              "        vertical-align: top;\n",
              "    }\n",
              "\n",
              "    .dataframe thead th {\n",
              "        text-align: right;\n",
              "    }\n",
              "</style>\n",
              "<table border=\"1\" class=\"dataframe\">\n",
              "  <thead>\n",
              "    <tr style=\"text-align: right;\">\n",
              "      <th></th>\n",
              "      <th>tweet_id</th>\n",
              "      <th>jpg_url</th>\n",
              "      <th>img_num</th>\n",
              "      <th>p1</th>\n",
              "      <th>p1_conf</th>\n",
              "      <th>p1_dog</th>\n",
              "      <th>p2</th>\n",
              "      <th>p2_conf</th>\n",
              "      <th>p2_dog</th>\n",
              "      <th>p3</th>\n",
              "      <th>p3_conf</th>\n",
              "      <th>p3_dog</th>\n",
              "    </tr>\n",
              "  </thead>\n",
              "  <tbody>\n",
              "    <tr>\n",
              "      <th>6</th>\n",
              "      <td>666051853826850816</td>\n",
              "      <td>https://pbs.twimg.com/media/CT5KoJ1WoAAJash.jpg</td>\n",
              "      <td>1</td>\n",
              "      <td>box_turtle</td>\n",
              "      <td>0.933012</td>\n",
              "      <td>False</td>\n",
              "      <td>mud_turtle</td>\n",
              "      <td>0.045885</td>\n",
              "      <td>False</td>\n",
              "      <td>terrapin</td>\n",
              "      <td>0.017885</td>\n",
              "      <td>False</td>\n",
              "    </tr>\n",
              "    <tr>\n",
              "      <th>8</th>\n",
              "      <td>666057090499244032</td>\n",
              "      <td>https://pbs.twimg.com/media/CT5PY90WoAAQGLo.jpg</td>\n",
              "      <td>1</td>\n",
              "      <td>shopping_cart</td>\n",
              "      <td>0.962465</td>\n",
              "      <td>False</td>\n",
              "      <td>shopping_basket</td>\n",
              "      <td>0.014594</td>\n",
              "      <td>False</td>\n",
              "      <td>golden_retriever</td>\n",
              "      <td>0.007959</td>\n",
              "      <td>True</td>\n",
              "    </tr>\n",
              "    <tr>\n",
              "      <th>17</th>\n",
              "      <td>666104133288665088</td>\n",
              "      <td>https://pbs.twimg.com/media/CT56LSZWoAAlJj2.jpg</td>\n",
              "      <td>1</td>\n",
              "      <td>hen</td>\n",
              "      <td>0.965932</td>\n",
              "      <td>False</td>\n",
              "      <td>cock</td>\n",
              "      <td>0.033919</td>\n",
              "      <td>False</td>\n",
              "      <td>partridge</td>\n",
              "      <td>0.000052</td>\n",
              "      <td>False</td>\n",
              "    </tr>\n",
              "    <tr>\n",
              "      <th>18</th>\n",
              "      <td>666268910803644416</td>\n",
              "      <td>https://pbs.twimg.com/media/CT8QCd1WEAADXws.jpg</td>\n",
              "      <td>1</td>\n",
              "      <td>desktop_computer</td>\n",
              "      <td>0.086502</td>\n",
              "      <td>False</td>\n",
              "      <td>desk</td>\n",
              "      <td>0.085547</td>\n",
              "      <td>False</td>\n",
              "      <td>bookcase</td>\n",
              "      <td>0.079480</td>\n",
              "      <td>False</td>\n",
              "    </tr>\n",
              "    <tr>\n",
              "      <th>21</th>\n",
              "      <td>666293911632134144</td>\n",
              "      <td>https://pbs.twimg.com/media/CT8mx7KW4AEQu8N.jpg</td>\n",
              "      <td>1</td>\n",
              "      <td>three-toed_sloth</td>\n",
              "      <td>0.914671</td>\n",
              "      <td>False</td>\n",
              "      <td>otter</td>\n",
              "      <td>0.015250</td>\n",
              "      <td>False</td>\n",
              "      <td>great_grey_owl</td>\n",
              "      <td>0.013207</td>\n",
              "      <td>False</td>\n",
              "    </tr>\n",
              "    <tr>\n",
              "      <th>...</th>\n",
              "      <td>...</td>\n",
              "      <td>...</td>\n",
              "      <td>...</td>\n",
              "      <td>...</td>\n",
              "      <td>...</td>\n",
              "      <td>...</td>\n",
              "      <td>...</td>\n",
              "      <td>...</td>\n",
              "      <td>...</td>\n",
              "      <td>...</td>\n",
              "      <td>...</td>\n",
              "      <td>...</td>\n",
              "    </tr>\n",
              "    <tr>\n",
              "      <th>2026</th>\n",
              "      <td>882045870035918850</td>\n",
              "      <td>https://pbs.twimg.com/media/DD2oCl2WAAEI_4a.jpg</td>\n",
              "      <td>1</td>\n",
              "      <td>web_site</td>\n",
              "      <td>0.949591</td>\n",
              "      <td>False</td>\n",
              "      <td>dhole</td>\n",
              "      <td>0.017326</td>\n",
              "      <td>False</td>\n",
              "      <td>golden_retriever</td>\n",
              "      <td>0.006941</td>\n",
              "      <td>True</td>\n",
              "    </tr>\n",
              "    <tr>\n",
              "      <th>2046</th>\n",
              "      <td>886680336477933568</td>\n",
              "      <td>https://pbs.twimg.com/media/DE4fEDzWAAAyHMM.jpg</td>\n",
              "      <td>1</td>\n",
              "      <td>convertible</td>\n",
              "      <td>0.738995</td>\n",
              "      <td>False</td>\n",
              "      <td>sports_car</td>\n",
              "      <td>0.139952</td>\n",
              "      <td>False</td>\n",
              "      <td>car_wheel</td>\n",
              "      <td>0.044173</td>\n",
              "      <td>False</td>\n",
              "    </tr>\n",
              "    <tr>\n",
              "      <th>2052</th>\n",
              "      <td>887517139158093824</td>\n",
              "      <td>https://pbs.twimg.com/ext_tw_video_thumb/88751...</td>\n",
              "      <td>1</td>\n",
              "      <td>limousine</td>\n",
              "      <td>0.130432</td>\n",
              "      <td>False</td>\n",
              "      <td>tow_truck</td>\n",
              "      <td>0.029175</td>\n",
              "      <td>False</td>\n",
              "      <td>shopping_cart</td>\n",
              "      <td>0.026321</td>\n",
              "      <td>False</td>\n",
              "    </tr>\n",
              "    <tr>\n",
              "      <th>2071</th>\n",
              "      <td>891689557279858688</td>\n",
              "      <td>https://pbs.twimg.com/media/DF_q7IAWsAEuuN8.jpg</td>\n",
              "      <td>1</td>\n",
              "      <td>paper_towel</td>\n",
              "      <td>0.170278</td>\n",
              "      <td>False</td>\n",
              "      <td>Labrador_retriever</td>\n",
              "      <td>0.168086</td>\n",
              "      <td>True</td>\n",
              "      <td>spatula</td>\n",
              "      <td>0.040836</td>\n",
              "      <td>False</td>\n",
              "    </tr>\n",
              "    <tr>\n",
              "      <th>2074</th>\n",
              "      <td>892420643555336193</td>\n",
              "      <td>https://pbs.twimg.com/media/DGKD1-bXoAAIAUK.jpg</td>\n",
              "      <td>1</td>\n",
              "      <td>orange</td>\n",
              "      <td>0.097049</td>\n",
              "      <td>False</td>\n",
              "      <td>bagel</td>\n",
              "      <td>0.085851</td>\n",
              "      <td>False</td>\n",
              "      <td>banana</td>\n",
              "      <td>0.076110</td>\n",
              "      <td>False</td>\n",
              "    </tr>\n",
              "  </tbody>\n",
              "</table>\n",
              "<p>543 rows × 12 columns</p>\n",
              "</div>"
            ],
            "text/plain": [
              "                tweet_id  ... p3_dog\n",
              "6     666051853826850816  ...  False\n",
              "8     666057090499244032  ...   True\n",
              "17    666104133288665088  ...  False\n",
              "18    666268910803644416  ...  False\n",
              "21    666293911632134144  ...  False\n",
              "...                  ...  ...    ...\n",
              "2026  882045870035918850  ...   True\n",
              "2046  886680336477933568  ...  False\n",
              "2052  887517139158093824  ...  False\n",
              "2071  891689557279858688  ...  False\n",
              "2074  892420643555336193  ...  False\n",
              "\n",
              "[543 rows x 12 columns]"
            ]
          },
          "metadata": {
            "tags": []
          },
          "execution_count": 113
        }
      ]
    },
    {
      "cell_type": "markdown",
      "metadata": {
        "id": "Sgr8wD1GY_K8",
        "colab_type": "text"
      },
      "source": [
        "## Our third source of data is the twitter api\n",
        "I will use the twitter api itself to collect two additional columns required in this project(retweet_count, favorite_count). I created a develpoment account on twitter and requested access to their api and was granted access. After that I used twwepy library to download tweets json content to a text file and then read them line by line and create my third dataframe which is ret_fav_count."
      ]
    },
    {
      "cell_type": "markdown",
      "metadata": {
        "id": "RfcdV8M9Z7mL",
        "colab_type": "text"
      },
      "source": [
        "Using my granted access token to access the twitter api"
      ]
    },
    {
      "cell_type": "code",
      "metadata": {
        "id": "4Iv1YWTLyRMF",
        "colab_type": "code",
        "colab": {}
      },
      "source": [
        "auth=tweepy.OAuthHandler('ATgQvDLXAG0Y1KYivuXlZQaOh','r2YcOCuK356cwqAAc8U3EZ6vlbc5ZV8P3w0Sb7ag9UuPzMN5bV')\n",
        "auth.set_access_token('247215662-FQA5CUZpwtzQ1uunDpNT5nAb9GSgnWzOVUYgn5vW','ZES8vhdxjWdUqOvFYKtrwABjpvnkGCk2sFqG4Grj6xLsb')\n",
        "api=tweepy.API(auth,wait_on_rate_limit=True,wait_on_rate_limit_notify=True)"
      ],
      "execution_count": 0,
      "outputs": []
    },
    {
      "cell_type": "code",
      "metadata": {
        "id": "Lspui2lZ-JBq",
        "colab_type": "code",
        "outputId": "82fb4b97-a212-407c-b67a-e73137c82fbf",
        "colab": {
          "base_uri": "https://localhost:8080/",
          "height": 54
        }
      },
      "source": [
        "tweet=api.get_status(666049248165822465,tweet_mode='extended')\n",
        "#i will check the different attributes \n",
        "tweet"
      ],
      "execution_count": 0,
      "outputs": [
        {
          "output_type": "execute_result",
          "data": {
            "text/plain": [
              "Status(_api=<tweepy.api.API object at 0x7f91b8d9fe80>, _json={'created_at': 'Mon Nov 16 00:24:50 +0000 2015', 'id': 666049248165822465, 'id_str': '666049248165822465', 'full_text': 'Here we have a 1949 1st generation vulpix. Enjoys sweat tea and Fox News. Cannot be phased. 5/10 https://t.co/4B7cOc1EDq', 'truncated': False, 'display_text_range': [0, 120], 'entities': {'hashtags': [], 'symbols': [], 'user_mentions': [], 'urls': [], 'media': [{'id': 666049244999131136, 'id_str': '666049244999131136', 'indices': [97, 120], 'media_url': 'http://pbs.twimg.com/media/CT5IQmsXIAAKY4A.jpg', 'media_url_https': 'https://pbs.twimg.com/media/CT5IQmsXIAAKY4A.jpg', 'url': 'https://t.co/4B7cOc1EDq', 'display_url': 'pic.twitter.com/4B7cOc1EDq', 'expanded_url': 'https://twitter.com/dog_rates/status/666049248165822465/photo/1', 'type': 'photo', 'sizes': {'thumb': {'w': 150, 'h': 150, 'resize': 'crop'}, 'small': {'w': 510, 'h': 680, 'resize': 'fit'}, 'large': {'w': 768, 'h': 1024, 'resize': 'fit'}, 'medium': {'w': 768, 'h': 1024, 'resize': 'fit'}}}]}, 'extended_entities': {'media': [{'id': 666049244999131136, 'id_str': '666049244999131136', 'indices': [97, 120], 'media_url': 'http://pbs.twimg.com/media/CT5IQmsXIAAKY4A.jpg', 'media_url_https': 'https://pbs.twimg.com/media/CT5IQmsXIAAKY4A.jpg', 'url': 'https://t.co/4B7cOc1EDq', 'display_url': 'pic.twitter.com/4B7cOc1EDq', 'expanded_url': 'https://twitter.com/dog_rates/status/666049248165822465/photo/1', 'type': 'photo', 'sizes': {'thumb': {'w': 150, 'h': 150, 'resize': 'crop'}, 'small': {'w': 510, 'h': 680, 'resize': 'fit'}, 'large': {'w': 768, 'h': 1024, 'resize': 'fit'}, 'medium': {'w': 768, 'h': 1024, 'resize': 'fit'}}}]}, 'source': '<a href=\"http://twitter.com/download/iphone\" rel=\"nofollow\">Twitter for iPhone</a>', 'in_reply_to_status_id': None, 'in_reply_to_status_id_str': None, 'in_reply_to_user_id': None, 'in_reply_to_user_id_str': None, 'in_reply_to_screen_name': None, 'user': {'id': 4196983835, 'id_str': '4196983835', 'name': 'WeRateDogs®', 'screen_name': 'dog_rates', 'location': '「 DM YOUR DOGS 」', 'description': 'Your Only Source For Professional Dog Ratings Instagram and Facebook ➪ WeRateDogs partnerships@weratedogs.com ⠀⠀⠀⠀⠀⠀⠀⠀⠀⠀⠀⠀', 'url': 'https://t.co/N7sNNHSfPq', 'entities': {'url': {'urls': [{'url': 'https://t.co/N7sNNHSfPq', 'expanded_url': 'http://weratedogs.com', 'display_url': 'weratedogs.com', 'indices': [0, 23]}]}, 'description': {'urls': []}}, 'protected': False, 'followers_count': 8689792, 'friends_count': 15, 'listed_count': 7023, 'created_at': 'Sun Nov 15 21:41:29 +0000 2015', 'favourites_count': 144643, 'utc_offset': None, 'time_zone': None, 'geo_enabled': True, 'verified': True, 'statuses_count': 11674, 'lang': None, 'contributors_enabled': False, 'is_translator': False, 'is_translation_enabled': False, 'profile_background_color': '000000', 'profile_background_image_url': 'http://abs.twimg.com/images/themes/theme1/bg.png', 'profile_background_image_url_https': 'https://abs.twimg.com/images/themes/theme1/bg.png', 'profile_background_tile': False, 'profile_image_url': 'http://pbs.twimg.com/profile_images/1218319284557905920/ntuD-LOA_normal.jpg', 'profile_image_url_https': 'https://pbs.twimg.com/profile_images/1218319284557905920/ntuD-LOA_normal.jpg', 'profile_banner_url': 'https://pbs.twimg.com/profile_banners/4196983835/1575511391', 'profile_link_color': 'F5ABB5', 'profile_sidebar_border_color': '000000', 'profile_sidebar_fill_color': '000000', 'profile_text_color': '000000', 'profile_use_background_image': False, 'has_extended_profile': False, 'default_profile': False, 'default_profile_image': False, 'following': True, 'follow_request_sent': False, 'notifications': False, 'translator_type': 'none'}, 'geo': None, 'coordinates': None, 'place': None, 'contributors': None, 'is_quote_status': False, 'retweet_count': 41, 'favorite_count': 99, 'favorited': False, 'retweeted': False, 'possibly_sensitive': False, 'possibly_sensitive_appealable': False, 'lang': 'en'}, created_at=datetime.datetime(2015, 11, 16, 0, 24, 50), id=666049248165822465, id_str='666049248165822465', full_text='Here we have a 1949 1st generation vulpix. Enjoys sweat tea and Fox News. Cannot be phased. 5/10 https://t.co/4B7cOc1EDq', truncated=False, display_text_range=[0, 120], entities={'hashtags': [], 'symbols': [], 'user_mentions': [], 'urls': [], 'media': [{'id': 666049244999131136, 'id_str': '666049244999131136', 'indices': [97, 120], 'media_url': 'http://pbs.twimg.com/media/CT5IQmsXIAAKY4A.jpg', 'media_url_https': 'https://pbs.twimg.com/media/CT5IQmsXIAAKY4A.jpg', 'url': 'https://t.co/4B7cOc1EDq', 'display_url': 'pic.twitter.com/4B7cOc1EDq', 'expanded_url': 'https://twitter.com/dog_rates/status/666049248165822465/photo/1', 'type': 'photo', 'sizes': {'thumb': {'w': 150, 'h': 150, 'resize': 'crop'}, 'small': {'w': 510, 'h': 680, 'resize': 'fit'}, 'large': {'w': 768, 'h': 1024, 'resize': 'fit'}, 'medium': {'w': 768, 'h': 1024, 'resize': 'fit'}}}]}, extended_entities={'media': [{'id': 666049244999131136, 'id_str': '666049244999131136', 'indices': [97, 120], 'media_url': 'http://pbs.twimg.com/media/CT5IQmsXIAAKY4A.jpg', 'media_url_https': 'https://pbs.twimg.com/media/CT5IQmsXIAAKY4A.jpg', 'url': 'https://t.co/4B7cOc1EDq', 'display_url': 'pic.twitter.com/4B7cOc1EDq', 'expanded_url': 'https://twitter.com/dog_rates/status/666049248165822465/photo/1', 'type': 'photo', 'sizes': {'thumb': {'w': 150, 'h': 150, 'resize': 'crop'}, 'small': {'w': 510, 'h': 680, 'resize': 'fit'}, 'large': {'w': 768, 'h': 1024, 'resize': 'fit'}, 'medium': {'w': 768, 'h': 1024, 'resize': 'fit'}}}]}, source='Twitter for iPhone', source_url='http://twitter.com/download/iphone', in_reply_to_status_id=None, in_reply_to_status_id_str=None, in_reply_to_user_id=None, in_reply_to_user_id_str=None, in_reply_to_screen_name=None, author=User(_api=<tweepy.api.API object at 0x7f91b8d9fe80>, _json={'id': 4196983835, 'id_str': '4196983835', 'name': 'WeRateDogs®', 'screen_name': 'dog_rates', 'location': '「 DM YOUR DOGS 」', 'description': 'Your Only Source For Professional Dog Ratings Instagram and Facebook ➪ WeRateDogs partnerships@weratedogs.com ⠀⠀⠀⠀⠀⠀⠀⠀⠀⠀⠀⠀', 'url': 'https://t.co/N7sNNHSfPq', 'entities': {'url': {'urls': [{'url': 'https://t.co/N7sNNHSfPq', 'expanded_url': 'http://weratedogs.com', 'display_url': 'weratedogs.com', 'indices': [0, 23]}]}, 'description': {'urls': []}}, 'protected': False, 'followers_count': 8689792, 'friends_count': 15, 'listed_count': 7023, 'created_at': 'Sun Nov 15 21:41:29 +0000 2015', 'favourites_count': 144643, 'utc_offset': None, 'time_zone': None, 'geo_enabled': True, 'verified': True, 'statuses_count': 11674, 'lang': None, 'contributors_enabled': False, 'is_translator': False, 'is_translation_enabled': False, 'profile_background_color': '000000', 'profile_background_image_url': 'http://abs.twimg.com/images/themes/theme1/bg.png', 'profile_background_image_url_https': 'https://abs.twimg.com/images/themes/theme1/bg.png', 'profile_background_tile': False, 'profile_image_url': 'http://pbs.twimg.com/profile_images/1218319284557905920/ntuD-LOA_normal.jpg', 'profile_image_url_https': 'https://pbs.twimg.com/profile_images/1218319284557905920/ntuD-LOA_normal.jpg', 'profile_banner_url': 'https://pbs.twimg.com/profile_banners/4196983835/1575511391', 'profile_link_color': 'F5ABB5', 'profile_sidebar_border_color': '000000', 'profile_sidebar_fill_color': '000000', 'profile_text_color': '000000', 'profile_use_background_image': False, 'has_extended_profile': False, 'default_profile': False, 'default_profile_image': False, 'following': True, 'follow_request_sent': False, 'notifications': False, 'translator_type': 'none'}, id=4196983835, id_str='4196983835', name='WeRateDogs®', screen_name='dog_rates', location='「 DM YOUR DOGS 」', description='Your Only Source For Professional Dog Ratings Instagram and Facebook ➪ WeRateDogs partnerships@weratedogs.com ⠀⠀⠀⠀⠀⠀⠀⠀⠀⠀⠀⠀', url='https://t.co/N7sNNHSfPq', entities={'url': {'urls': [{'url': 'https://t.co/N7sNNHSfPq', 'expanded_url': 'http://weratedogs.com', 'display_url': 'weratedogs.com', 'indices': [0, 23]}]}, 'description': {'urls': []}}, protected=False, followers_count=8689792, friends_count=15, listed_count=7023, created_at=datetime.datetime(2015, 11, 15, 21, 41, 29), favourites_count=144643, utc_offset=None, time_zone=None, geo_enabled=True, verified=True, statuses_count=11674, lang=None, contributors_enabled=False, is_translator=False, is_translation_enabled=False, profile_background_color='000000', profile_background_image_url='http://abs.twimg.com/images/themes/theme1/bg.png', profile_background_image_url_https='https://abs.twimg.com/images/themes/theme1/bg.png', profile_background_tile=False, profile_image_url='http://pbs.twimg.com/profile_images/1218319284557905920/ntuD-LOA_normal.jpg', profile_image_url_https='https://pbs.twimg.com/profile_images/1218319284557905920/ntuD-LOA_normal.jpg', profile_banner_url='https://pbs.twimg.com/profile_banners/4196983835/1575511391', profile_link_color='F5ABB5', profile_sidebar_border_color='000000', profile_sidebar_fill_color='000000', profile_text_color='000000', profile_use_background_image=False, has_extended_profile=False, default_profile=False, default_profile_image=False, following=True, follow_request_sent=False, notifications=False, translator_type='none'), user=User(_api=<tweepy.api.API object at 0x7f91b8d9fe80>, _json={'id': 4196983835, 'id_str': '4196983835', 'name': 'WeRateDogs®', 'screen_name': 'dog_rates', 'location': '「 DM YOUR DOGS 」', 'description': 'Your Only Source For Professional Dog Ratings Instagram and Facebook ➪ WeRateDogs partnerships@weratedogs.com ⠀⠀⠀⠀⠀⠀⠀⠀⠀⠀⠀⠀', 'url': 'https://t.co/N7sNNHSfPq', 'entities': {'url': {'urls': [{'url': 'https://t.co/N7sNNHSfPq', 'expanded_url': 'http://weratedogs.com', 'display_url': 'weratedogs.com', 'indices': [0, 23]}]}, 'description': {'urls': []}}, 'protected': False, 'followers_count': 8689792, 'friends_count': 15, 'listed_count': 7023, 'created_at': 'Sun Nov 15 21:41:29 +0000 2015', 'favourites_count': 144643, 'utc_offset': None, 'time_zone': None, 'geo_enabled': True, 'verified': True, 'statuses_count': 11674, 'lang': None, 'contributors_enabled': False, 'is_translator': False, 'is_translation_enabled': False, 'profile_background_color': '000000', 'profile_background_image_url': 'http://abs.twimg.com/images/themes/theme1/bg.png', 'profile_background_image_url_https': 'https://abs.twimg.com/images/themes/theme1/bg.png', 'profile_background_tile': False, 'profile_image_url': 'http://pbs.twimg.com/profile_images/1218319284557905920/ntuD-LOA_normal.jpg', 'profile_image_url_https': 'https://pbs.twimg.com/profile_images/1218319284557905920/ntuD-LOA_normal.jpg', 'profile_banner_url': 'https://pbs.twimg.com/profile_banners/4196983835/1575511391', 'profile_link_color': 'F5ABB5', 'profile_sidebar_border_color': '000000', 'profile_sidebar_fill_color': '000000', 'profile_text_color': '000000', 'profile_use_background_image': False, 'has_extended_profile': False, 'default_profile': False, 'default_profile_image': False, 'following': True, 'follow_request_sent': False, 'notifications': False, 'translator_type': 'none'}, id=4196983835, id_str='4196983835', name='WeRateDogs®', screen_name='dog_rates', location='「 DM YOUR DOGS 」', description='Your Only Source For Professional Dog Ratings Instagram and Facebook ➪ WeRateDogs partnerships@weratedogs.com ⠀⠀⠀⠀⠀⠀⠀⠀⠀⠀⠀⠀', url='https://t.co/N7sNNHSfPq', entities={'url': {'urls': [{'url': 'https://t.co/N7sNNHSfPq', 'expanded_url': 'http://weratedogs.com', 'display_url': 'weratedogs.com', 'indices': [0, 23]}]}, 'description': {'urls': []}}, protected=False, followers_count=8689792, friends_count=15, listed_count=7023, created_at=datetime.datetime(2015, 11, 15, 21, 41, 29), favourites_count=144643, utc_offset=None, time_zone=None, geo_enabled=True, verified=True, statuses_count=11674, lang=None, contributors_enabled=False, is_translator=False, is_translation_enabled=False, profile_background_color='000000', profile_background_image_url='http://abs.twimg.com/images/themes/theme1/bg.png', profile_background_image_url_https='https://abs.twimg.com/images/themes/theme1/bg.png', profile_background_tile=False, profile_image_url='http://pbs.twimg.com/profile_images/1218319284557905920/ntuD-LOA_normal.jpg', profile_image_url_https='https://pbs.twimg.com/profile_images/1218319284557905920/ntuD-LOA_normal.jpg', profile_banner_url='https://pbs.twimg.com/profile_banners/4196983835/1575511391', profile_link_color='F5ABB5', profile_sidebar_border_color='000000', profile_sidebar_fill_color='000000', profile_text_color='000000', profile_use_background_image=False, has_extended_profile=False, default_profile=False, default_profile_image=False, following=True, follow_request_sent=False, notifications=False, translator_type='none'), geo=None, coordinates=None, place=None, contributors=None, is_quote_status=False, retweet_count=41, favorite_count=99, favorited=False, retweeted=False, possibly_sensitive=False, possibly_sensitive_appealable=False, lang='en')"
            ]
          },
          "metadata": {
            "tags": []
          },
          "execution_count": 82
        }
      ]
    },
    {
      "cell_type": "code",
      "metadata": {
        "id": "iiV_KA3GAF-H",
        "colab_type": "code",
        "outputId": "521db262-0d57-4eba-f137-f7f27965cf2e",
        "colab": {
          "base_uri": "https://localhost:8080/",
          "height": 54
        }
      },
      "source": [
        "#getting to know the json attributes\n",
        "print(tweet._json)"
      ],
      "execution_count": 0,
      "outputs": [
        {
          "output_type": "stream",
          "text": [
            "{'created_at': 'Mon Nov 16 00:24:50 +0000 2015', 'id': 666049248165822465, 'id_str': '666049248165822465', 'full_text': 'Here we have a 1949 1st generation vulpix. Enjoys sweat tea and Fox News. Cannot be phased. 5/10 https://t.co/4B7cOc1EDq', 'truncated': False, 'display_text_range': [0, 120], 'entities': {'hashtags': [], 'symbols': [], 'user_mentions': [], 'urls': [], 'media': [{'id': 666049244999131136, 'id_str': '666049244999131136', 'indices': [97, 120], 'media_url': 'http://pbs.twimg.com/media/CT5IQmsXIAAKY4A.jpg', 'media_url_https': 'https://pbs.twimg.com/media/CT5IQmsXIAAKY4A.jpg', 'url': 'https://t.co/4B7cOc1EDq', 'display_url': 'pic.twitter.com/4B7cOc1EDq', 'expanded_url': 'https://twitter.com/dog_rates/status/666049248165822465/photo/1', 'type': 'photo', 'sizes': {'thumb': {'w': 150, 'h': 150, 'resize': 'crop'}, 'small': {'w': 510, 'h': 680, 'resize': 'fit'}, 'large': {'w': 768, 'h': 1024, 'resize': 'fit'}, 'medium': {'w': 768, 'h': 1024, 'resize': 'fit'}}}]}, 'extended_entities': {'media': [{'id': 666049244999131136, 'id_str': '666049244999131136', 'indices': [97, 120], 'media_url': 'http://pbs.twimg.com/media/CT5IQmsXIAAKY4A.jpg', 'media_url_https': 'https://pbs.twimg.com/media/CT5IQmsXIAAKY4A.jpg', 'url': 'https://t.co/4B7cOc1EDq', 'display_url': 'pic.twitter.com/4B7cOc1EDq', 'expanded_url': 'https://twitter.com/dog_rates/status/666049248165822465/photo/1', 'type': 'photo', 'sizes': {'thumb': {'w': 150, 'h': 150, 'resize': 'crop'}, 'small': {'w': 510, 'h': 680, 'resize': 'fit'}, 'large': {'w': 768, 'h': 1024, 'resize': 'fit'}, 'medium': {'w': 768, 'h': 1024, 'resize': 'fit'}}}]}, 'source': '<a href=\"http://twitter.com/download/iphone\" rel=\"nofollow\">Twitter for iPhone</a>', 'in_reply_to_status_id': None, 'in_reply_to_status_id_str': None, 'in_reply_to_user_id': None, 'in_reply_to_user_id_str': None, 'in_reply_to_screen_name': None, 'user': {'id': 4196983835, 'id_str': '4196983835', 'name': 'WeRateDogs®', 'screen_name': 'dog_rates', 'location': '「 DM YOUR DOGS 」', 'description': 'Your Only Source For Professional Dog Ratings Instagram and Facebook ➪ WeRateDogs partnerships@weratedogs.com ⠀⠀⠀⠀⠀⠀⠀⠀⠀⠀⠀⠀', 'url': 'https://t.co/N7sNNHSfPq', 'entities': {'url': {'urls': [{'url': 'https://t.co/N7sNNHSfPq', 'expanded_url': 'http://weratedogs.com', 'display_url': 'weratedogs.com', 'indices': [0, 23]}]}, 'description': {'urls': []}}, 'protected': False, 'followers_count': 8689792, 'friends_count': 15, 'listed_count': 7023, 'created_at': 'Sun Nov 15 21:41:29 +0000 2015', 'favourites_count': 144643, 'utc_offset': None, 'time_zone': None, 'geo_enabled': True, 'verified': True, 'statuses_count': 11674, 'lang': None, 'contributors_enabled': False, 'is_translator': False, 'is_translation_enabled': False, 'profile_background_color': '000000', 'profile_background_image_url': 'http://abs.twimg.com/images/themes/theme1/bg.png', 'profile_background_image_url_https': 'https://abs.twimg.com/images/themes/theme1/bg.png', 'profile_background_tile': False, 'profile_image_url': 'http://pbs.twimg.com/profile_images/1218319284557905920/ntuD-LOA_normal.jpg', 'profile_image_url_https': 'https://pbs.twimg.com/profile_images/1218319284557905920/ntuD-LOA_normal.jpg', 'profile_banner_url': 'https://pbs.twimg.com/profile_banners/4196983835/1575511391', 'profile_link_color': 'F5ABB5', 'profile_sidebar_border_color': '000000', 'profile_sidebar_fill_color': '000000', 'profile_text_color': '000000', 'profile_use_background_image': False, 'has_extended_profile': False, 'default_profile': False, 'default_profile_image': False, 'following': True, 'follow_request_sent': False, 'notifications': False, 'translator_type': 'none'}, 'geo': None, 'coordinates': None, 'place': None, 'contributors': None, 'is_quote_status': False, 'retweet_count': 41, 'favorite_count': 99, 'favorited': False, 'retweeted': False, 'possibly_sensitive': False, 'possibly_sensitive_appealable': False, 'lang': 'en'}\n"
          ],
          "name": "stdout"
        }
      ]
    },
    {
      "cell_type": "code",
      "metadata": {
        "id": "c8CbsNSN_Mhs",
        "colab_type": "code",
        "outputId": "e02ee392-9446-4ca8-9a71-fbd66267153d",
        "colab": {
          "base_uri": "https://localhost:8080/",
          "height": 34
        }
      },
      "source": [
        "tweet._json['id']"
      ],
      "execution_count": 0,
      "outputs": [
        {
          "output_type": "execute_result",
          "data": {
            "text/plain": [
              "666049248165822465"
            ]
          },
          "metadata": {
            "tags": []
          },
          "execution_count": 84
        }
      ]
    },
    {
      "cell_type": "code",
      "metadata": {
        "id": "KVyNJt3yEbRq",
        "colab_type": "code",
        "outputId": "688ca5a2-aa69-4063-8b51-b5b2031f3517",
        "colab": {
          "base_uri": "https://localhost:8080/",
          "height": 34
        }
      },
      "source": [
        "tweet._json['favorite_count']"
      ],
      "execution_count": 0,
      "outputs": [
        {
          "output_type": "execute_result",
          "data": {
            "text/plain": [
              "99"
            ]
          },
          "metadata": {
            "tags": []
          },
          "execution_count": 85
        }
      ]
    },
    {
      "cell_type": "code",
      "metadata": {
        "id": "z9HrLIZeFm_z",
        "colab_type": "code",
        "outputId": "d43e2131-bfeb-4575-cab8-b7870d8ae131",
        "colab": {
          "base_uri": "https://localhost:8080/",
          "height": 34
        }
      },
      "source": [
        "tweet._json['retweet_count']"
      ],
      "execution_count": 0,
      "outputs": [
        {
          "output_type": "execute_result",
          "data": {
            "text/plain": [
              "41"
            ]
          },
          "metadata": {
            "tags": []
          },
          "execution_count": 86
        }
      ]
    },
    {
      "cell_type": "markdown",
      "metadata": {
        "id": "ZYngx7vtaVtD",
        "colab_type": "text"
      },
      "source": [
        "Okay now that i am familiar with the twitter api attributes, I will do the big step of importing all the tweets json content in a 'tweet_json.txt'\n",
        "\n",
        "After consulting the udacity help communities and mentor community and many trial and error from my side, i finally reached this code."
      ]
    },
    {
      "cell_type": "code",
      "metadata": {
        "id": "H9QJv27cUBnb",
        "colab_type": "code",
        "colab": {}
      },
      "source": [
        "#I will create a tweet_json.txt where i will store the tweets json content in it\n",
        "fails_dict={}\n",
        "with open('tweet_json.txt', 'w') as outfile:\n",
        "    for i,id in enumerate(twitter_archive['tweet_id']):\n",
        "        try:\n",
        "            tweet = api.get_status(id,tweet_mode='extended')\n",
        "            json.dump(tweet._json, outfile)\n",
        "            outfile.write('\\n')\n",
        "            print(i,'success')\n",
        "        except tweepy.TweepError as e:\n",
        "            print('Fail')\n",
        "            fails_dict[id]=e\n",
        "            pass"
      ],
      "execution_count": 0,
      "outputs": []
    },
    {
      "cell_type": "code",
      "metadata": {
        "id": "ThcvYKzhvf3O",
        "colab_type": "code",
        "outputId": "d2c71ee5-d806-4174-d32a-49cb0fe3d0c7",
        "colab": {
          "base_uri": "https://localhost:8080/",
          "height": 80
        }
      },
      "source": [
        "required_columns = []\n",
        "with open('tweet_json.txt') as json_file:\n",
        "    for line in json_file:\n",
        "        python_format = json.loads(line)\n",
        "        required_columns.append({'tweet_id':python_format['id'],\n",
        "                              'favorites':python_format['favorite_count'],\n",
        "                              'retweets':python_format['retweet_count'],\n",
        "                              'timestamp':python_format['created_at']})\n",
        "ret_fav_count=pd.DataFrame(required_columns,columns=['tweet_id','favorites','retweets','timestamp'])\n",
        "ret_fav_count.head(1)"
      ],
      "execution_count": 115,
      "outputs": [
        {
          "output_type": "execute_result",
          "data": {
            "text/html": [
              "<div>\n",
              "<style scoped>\n",
              "    .dataframe tbody tr th:only-of-type {\n",
              "        vertical-align: middle;\n",
              "    }\n",
              "\n",
              "    .dataframe tbody tr th {\n",
              "        vertical-align: top;\n",
              "    }\n",
              "\n",
              "    .dataframe thead th {\n",
              "        text-align: right;\n",
              "    }\n",
              "</style>\n",
              "<table border=\"1\" class=\"dataframe\">\n",
              "  <thead>\n",
              "    <tr style=\"text-align: right;\">\n",
              "      <th></th>\n",
              "      <th>tweet_id</th>\n",
              "      <th>favorites</th>\n",
              "      <th>retweets</th>\n",
              "      <th>timestamp</th>\n",
              "    </tr>\n",
              "  </thead>\n",
              "  <tbody>\n",
              "    <tr>\n",
              "      <th>0</th>\n",
              "      <td>892420643555336193</td>\n",
              "      <td>36549</td>\n",
              "      <td>7783</td>\n",
              "      <td>Tue Aug 01 16:23:56 +0000 2017</td>\n",
              "    </tr>\n",
              "  </tbody>\n",
              "</table>\n",
              "</div>"
            ],
            "text/plain": [
              "             tweet_id  favorites  retweets                       timestamp\n",
              "0  892420643555336193      36549      7783  Tue Aug 01 16:23:56 +0000 2017"
            ]
          },
          "metadata": {
            "tags": []
          },
          "execution_count": 115
        }
      ]
    },
    {
      "cell_type": "code",
      "metadata": {
        "id": "o6kPlX8k93hU",
        "colab_type": "code",
        "colab": {}
      },
      "source": [
        "#I will store the dataframe that i created from twitter in a csv file to save \n",
        "#time next time i open this notebook so that i don't have \n",
        "#to run the previous steps each time\n",
        "ret_fav_count.to_csv('ret_fav_count.csv',index=False)"
      ],
      "execution_count": 0,
      "outputs": []
    },
    {
      "cell_type": "markdown",
      "metadata": {
        "id": "hmuXJpq8inTX",
        "colab_type": "text"
      },
      "source": [
        "Now I will assess our third source of data by checking its numbers of rows and columns and getting information about columns types and missing values and checking for duplicated rows and inspecting the file on google sheets for further inspection"
      ]
    },
    {
      "cell_type": "code",
      "metadata": {
        "id": "jBIvRHFoDiyy",
        "colab_type": "code",
        "outputId": "d32f9d9c-0c38-434f-a4b4-43ac116f9ea3",
        "colab": {
          "base_uri": "https://localhost:8080/",
          "height": 204
        }
      },
      "source": [
        "ret_fav_count.head()"
      ],
      "execution_count": 117,
      "outputs": [
        {
          "output_type": "execute_result",
          "data": {
            "text/html": [
              "<div>\n",
              "<style scoped>\n",
              "    .dataframe tbody tr th:only-of-type {\n",
              "        vertical-align: middle;\n",
              "    }\n",
              "\n",
              "    .dataframe tbody tr th {\n",
              "        vertical-align: top;\n",
              "    }\n",
              "\n",
              "    .dataframe thead th {\n",
              "        text-align: right;\n",
              "    }\n",
              "</style>\n",
              "<table border=\"1\" class=\"dataframe\">\n",
              "  <thead>\n",
              "    <tr style=\"text-align: right;\">\n",
              "      <th></th>\n",
              "      <th>tweet_id</th>\n",
              "      <th>favorites</th>\n",
              "      <th>retweets</th>\n",
              "      <th>timestamp</th>\n",
              "    </tr>\n",
              "  </thead>\n",
              "  <tbody>\n",
              "    <tr>\n",
              "      <th>0</th>\n",
              "      <td>892420643555336193</td>\n",
              "      <td>36549</td>\n",
              "      <td>7783</td>\n",
              "      <td>Tue Aug 01 16:23:56 +0000 2017</td>\n",
              "    </tr>\n",
              "    <tr>\n",
              "      <th>1</th>\n",
              "      <td>892177421306343426</td>\n",
              "      <td>31477</td>\n",
              "      <td>5766</td>\n",
              "      <td>Tue Aug 01 00:17:27 +0000 2017</td>\n",
              "    </tr>\n",
              "    <tr>\n",
              "      <th>2</th>\n",
              "      <td>891815181378084864</td>\n",
              "      <td>23733</td>\n",
              "      <td>3816</td>\n",
              "      <td>Mon Jul 31 00:18:03 +0000 2017</td>\n",
              "    </tr>\n",
              "    <tr>\n",
              "      <th>3</th>\n",
              "      <td>891689557279858688</td>\n",
              "      <td>39862</td>\n",
              "      <td>7947</td>\n",
              "      <td>Sun Jul 30 15:58:51 +0000 2017</td>\n",
              "    </tr>\n",
              "    <tr>\n",
              "      <th>4</th>\n",
              "      <td>891327558926688256</td>\n",
              "      <td>38086</td>\n",
              "      <td>8586</td>\n",
              "      <td>Sat Jul 29 16:00:24 +0000 2017</td>\n",
              "    </tr>\n",
              "  </tbody>\n",
              "</table>\n",
              "</div>"
            ],
            "text/plain": [
              "             tweet_id  favorites  retweets                       timestamp\n",
              "0  892420643555336193      36549      7783  Tue Aug 01 16:23:56 +0000 2017\n",
              "1  892177421306343426      31477      5766  Tue Aug 01 00:17:27 +0000 2017\n",
              "2  891815181378084864      23733      3816  Mon Jul 31 00:18:03 +0000 2017\n",
              "3  891689557279858688      39862      7947  Sun Jul 30 15:58:51 +0000 2017\n",
              "4  891327558926688256      38086      8586  Sat Jul 29 16:00:24 +0000 2017"
            ]
          },
          "metadata": {
            "tags": []
          },
          "execution_count": 117
        }
      ]
    },
    {
      "cell_type": "code",
      "metadata": {
        "id": "nl858BANJDzF",
        "colab_type": "code",
        "outputId": "f7451bcc-92c9-4564-ac66-300a57184e32",
        "colab": {
          "base_uri": "https://localhost:8080/",
          "height": 34
        }
      },
      "source": [
        "#number of rows and columns in our datafrmae\n",
        "ret_fav_count.shape"
      ],
      "execution_count": 118,
      "outputs": [
        {
          "output_type": "execute_result",
          "data": {
            "text/plain": [
              "(2331, 4)"
            ]
          },
          "metadata": {
            "tags": []
          },
          "execution_count": 118
        }
      ]
    },
    {
      "cell_type": "markdown",
      "metadata": {
        "id": "xVfFlulUjvhh",
        "colab_type": "text"
      },
      "source": [
        "Now lets see the information about the columns"
      ]
    },
    {
      "cell_type": "code",
      "metadata": {
        "id": "Ti_H06joj3xh",
        "colab_type": "code",
        "outputId": "fe5b5fde-376a-4bcf-ff53-d160877a60ca",
        "colab": {
          "base_uri": "https://localhost:8080/",
          "height": 170
        }
      },
      "source": [
        "ret_fav_count.info()"
      ],
      "execution_count": 119,
      "outputs": [
        {
          "output_type": "stream",
          "text": [
            "<class 'pandas.core.frame.DataFrame'>\n",
            "RangeIndex: 2331 entries, 0 to 2330\n",
            "Data columns (total 4 columns):\n",
            "tweet_id     2331 non-null int64\n",
            "favorites    2331 non-null int64\n",
            "retweets     2331 non-null int64\n",
            "timestamp    2331 non-null object\n",
            "dtypes: int64(3), object(1)\n",
            "memory usage: 73.0+ KB\n"
          ],
          "name": "stdout"
        }
      ]
    },
    {
      "cell_type": "markdown",
      "metadata": {
        "id": "9DljqwIDkaLA",
        "colab_type": "text"
      },
      "source": [
        "I don't have duplicated rows in this dataframe"
      ]
    },
    {
      "cell_type": "code",
      "metadata": {
        "id": "gs9QQO9mkSb1",
        "colab_type": "code",
        "outputId": "046fca9d-6f06-40a4-8086-7fd59bb45c88",
        "colab": {
          "base_uri": "https://localhost:8080/",
          "height": 34
        }
      },
      "source": [
        "ret_fav_count.duplicated().all()"
      ],
      "execution_count": 120,
      "outputs": [
        {
          "output_type": "execute_result",
          "data": {
            "text/plain": [
              "False"
            ]
          },
          "metadata": {
            "tags": []
          },
          "execution_count": 120
        }
      ]
    },
    {
      "cell_type": "markdown",
      "metadata": {
        "id": "Hi8XcOS7J5bp",
        "colab_type": "text"
      },
      "source": [
        "# Assessing\n",
        "## Quality\n",
        "- timestamp in twitter_archive is of type object and not timedate\n",
        "- 'in_reply_to_status_id', 'in_reply_to_user_id','retweeted_status_id', 'retweeted_status_user_id', 'retweeted_status_timestamp' columns in twitter_archive are all missing values and are of no signicficance to our analysis \n",
        "- None values in name column in twitter_archive instead of np.nan\n",
        "- 'a' values in name column in twitter_archive instead of np.nan\n",
        "- None values in dogs stages are not interpreted as np.nan in twitter_archive\n",
        "- dogs' breeds are not consistent ( some are capital and some are not) in image_prediction dataframe\n",
        "- timestamp should be treated as timestamp not object type\n",
        "- 'p1' column name in image_prediction dataframe is not a suitable name to indicate that this column is dog breed predicted. It is a confusing name\n",
        "- 'p2' is a confusing name and not indicating dog breed indincated\n",
        "- 'p2-dog' is a confusing name to indicate that it is the probability of being a dog or not\n",
        "- Do i need all the columns in image_prediction data frame\n",
        "- image_prediction assumed that some images don't belong to dogs and interpreted other stuff than dogs and which is not true \n",
        "- timestamp in ret_fav_count dataframe of object type \n",
        "- 181 retweets found and not original tweets\n",
        "- 78 reply to tweets and not original tweets\n",
        "- 59 missing values in expanded urls \n",
        "- extreme min and max values in numerator and denominator ratings\n",
        "## Tidiness\n",
        "- 3 tables that have common columns \n",
        "- doggo, floofer, pupper, puppo should be stacked in one column"
      ]
    },
    {
      "cell_type": "markdown",
      "metadata": {
        "id": "5I4MLtAMkp0t",
        "colab_type": "text"
      },
      "source": [
        "# Cleaning and Testing Step"
      ]
    },
    {
      "cell_type": "markdown",
      "metadata": {
        "id": "7xE9_StTkzu4",
        "colab_type": "text"
      },
      "source": [
        "I will first create three copies of our three dataframes to start the cleaning process without missing with the original dataframe"
      ]
    },
    {
      "cell_type": "code",
      "metadata": {
        "id": "WN1a1-BeJyhC",
        "colab_type": "code",
        "colab": {}
      },
      "source": [
        "#making new copies of our dataframes to start the cleaning process\n",
        "twitter_archive_clean=twitter_archive.copy()\n",
        "image_prediction_clean=image_prediction.copy()\n",
        "ret_fav_count_clean=ret_fav_count.copy()"
      ],
      "execution_count": 0,
      "outputs": []
    },
    {
      "cell_type": "markdown",
      "metadata": {
        "id": "TSXgAGtolsrv",
        "colab_type": "text"
      },
      "source": [
        "### 1-Change timestamp in twitter_archive is from type object to type timedate"
      ]
    },
    {
      "cell_type": "code",
      "metadata": {
        "id": "xUyhrx7pQs-P",
        "colab_type": "code",
        "colab": {}
      },
      "source": [
        "#converting timestamp type from object to datetime\n",
        "twitter_archive_clean['timestamp']=pd.to_datetime(twitter_archive_clean['timestamp'])"
      ],
      "execution_count": 0,
      "outputs": []
    },
    {
      "cell_type": "markdown",
      "metadata": {
        "id": "HYysUDZ1m-SA",
        "colab_type": "text"
      },
      "source": [
        "Test"
      ]
    },
    {
      "cell_type": "code",
      "metadata": {
        "id": "9TIQniL9Rb5Q",
        "colab_type": "code",
        "outputId": "7dad9b99-943d-4651-de49-f9a37f545048",
        "colab": {
          "base_uri": "https://localhost:8080/",
          "height": 34
        }
      },
      "source": [
        "#test our cleaning step\n",
        "twitter_archive_clean.timestamp.dtypes"
      ],
      "execution_count": 123,
      "outputs": [
        {
          "output_type": "execute_result",
          "data": {
            "text/plain": [
              "datetime64[ns, UTC]"
            ]
          },
          "metadata": {
            "tags": []
          },
          "execution_count": 123
        }
      ]
    },
    {
      "cell_type": "markdown",
      "metadata": {
        "id": "prEcabKsM8vv",
        "colab_type": "text"
      },
      "source": [
        "### 2-Drop rows where expanded_urls are missing"
      ]
    },
    {
      "cell_type": "code",
      "metadata": {
        "id": "WwvKEIJpNSvB",
        "colab_type": "code",
        "colab": {}
      },
      "source": [
        "expanded_urls_index=twitter_archive_clean.query('expanded_urls != expanded_urls').index\n",
        "twitter_archive_clean=twitter_archive_clean.drop(expanded_urls_index,axis=0)"
      ],
      "execution_count": 0,
      "outputs": []
    },
    {
      "cell_type": "markdown",
      "metadata": {
        "id": "HKwPV0ZXN7gi",
        "colab_type": "text"
      },
      "source": [
        "### 3-Drop 181 rows where there are retweets since we are only interested in orginal tweets"
      ]
    },
    {
      "cell_type": "code",
      "metadata": {
        "id": "41S-3qeoN6D0",
        "colab_type": "code",
        "colab": {}
      },
      "source": [
        "retweets_index=twitter_archive_clean.query('retweeted_status_id == retweeted_status_id').index\n",
        "twitter_archive_clean=twitter_archive_clean.drop(retweets_index,axis=0)"
      ],
      "execution_count": 0,
      "outputs": []
    },
    {
      "cell_type": "markdown",
      "metadata": {
        "id": "5WYkV-wSOk9e",
        "colab_type": "text"
      },
      "source": [
        "### 4-Drop 78 rows where there are replies to tweets since we are only interested in original tweets"
      ]
    },
    {
      "cell_type": "code",
      "metadata": {
        "id": "azyfAoIBN5_x",
        "colab_type": "code",
        "colab": {}
      },
      "source": [
        "in_reply_index=twitter_archive_clean.query('in_reply_to_status_id == in_reply_to_status_id').index\n",
        "twitter_archive_clean=twitter_archive_clean.drop(in_reply_index,axis=0)"
      ],
      "execution_count": 0,
      "outputs": []
    },
    {
      "cell_type": "markdown",
      "metadata": {
        "id": "H6Kv0n0iPkj4",
        "colab_type": "text"
      },
      "source": [
        "Test"
      ]
    },
    {
      "cell_type": "code",
      "metadata": {
        "id": "3vO-DEbrPmvP",
        "colab_type": "code",
        "colab": {
          "base_uri": "https://localhost:8080/",
          "height": 391
        },
        "outputId": "5460716e-bf13-481e-cac7-b57391ffbafc"
      },
      "source": [
        "twitter_archive_clean.info()"
      ],
      "execution_count": 127,
      "outputs": [
        {
          "output_type": "stream",
          "text": [
            "<class 'pandas.core.frame.DataFrame'>\n",
            "Int64Index: 2094 entries, 0 to 2355\n",
            "Data columns (total 17 columns):\n",
            "tweet_id                      2094 non-null int64\n",
            "in_reply_to_status_id         0 non-null float64\n",
            "in_reply_to_user_id           0 non-null float64\n",
            "timestamp                     2094 non-null datetime64[ns, UTC]\n",
            "source                        2094 non-null object\n",
            "text                          2094 non-null object\n",
            "retweeted_status_id           0 non-null float64\n",
            "retweeted_status_user_id      0 non-null float64\n",
            "retweeted_status_timestamp    0 non-null object\n",
            "expanded_urls                 2094 non-null object\n",
            "rating_numerator              2094 non-null int64\n",
            "rating_denominator            2094 non-null int64\n",
            "name                          2094 non-null object\n",
            "doggo                         2094 non-null object\n",
            "floofer                       2094 non-null object\n",
            "pupper                        2094 non-null object\n",
            "puppo                         2094 non-null object\n",
            "dtypes: datetime64[ns, UTC](1), float64(4), int64(3), object(9)\n",
            "memory usage: 294.5+ KB\n"
          ],
          "name": "stdout"
        }
      ]
    },
    {
      "cell_type": "markdown",
      "metadata": {
        "id": "E6UgeOHPmO7n",
        "colab_type": "text"
      },
      "source": [
        "### 5-Drop 'in_reply_to_status_id', 'in_reply_to_user_id','retweeted_status_id', 'retweeted_status_user_id', 'retweeted_status_timestamp' columns in twitter_archive as they are all missing values and are of no signicficance to our analysis as we are only interested in original tweets"
      ]
    },
    {
      "cell_type": "code",
      "metadata": {
        "id": "bUXPxCVmSBbT",
        "colab_type": "code",
        "outputId": "c9a2ba48-080b-4e8f-ed0e-157619fbb65b",
        "colab": {
          "base_uri": "https://localhost:8080/",
          "height": 102
        }
      },
      "source": [
        "twitter_archive_clean.columns"
      ],
      "execution_count": 129,
      "outputs": [
        {
          "output_type": "execute_result",
          "data": {
            "text/plain": [
              "Index(['tweet_id', 'in_reply_to_status_id', 'in_reply_to_user_id', 'timestamp',\n",
              "       'source', 'text', 'retweeted_status_id', 'retweeted_status_user_id',\n",
              "       'retweeted_status_timestamp', 'expanded_urls', 'rating_numerator',\n",
              "       'rating_denominator', 'name', 'doggo', 'floofer', 'pupper', 'puppo'],\n",
              "      dtype='object')"
            ]
          },
          "metadata": {
            "tags": []
          },
          "execution_count": 129
        }
      ]
    },
    {
      "cell_type": "code",
      "metadata": {
        "id": "T88BEBcsSbz-",
        "colab_type": "code",
        "colab": {}
      },
      "source": [
        "twitter_archive_clean=twitter_archive_clean.drop(['in_reply_to_status_id', 'in_reply_to_user_id','retweeted_status_id', 'retweeted_status_user_id',\n",
        "       'retweeted_status_timestamp'],axis=1)"
      ],
      "execution_count": 0,
      "outputs": []
    },
    {
      "cell_type": "markdown",
      "metadata": {
        "id": "meWAzeznmxXy",
        "colab_type": "text"
      },
      "source": [
        "Test"
      ]
    },
    {
      "cell_type": "code",
      "metadata": {
        "id": "QmdnPQ5YS35Y",
        "colab_type": "code",
        "outputId": "3f117547-6b57-4afd-d78d-0722bd23ccb8",
        "colab": {
          "base_uri": "https://localhost:8080/",
          "height": 85
        }
      },
      "source": [
        "twitter_archive_clean.columns"
      ],
      "execution_count": 131,
      "outputs": [
        {
          "output_type": "execute_result",
          "data": {
            "text/plain": [
              "Index(['tweet_id', 'timestamp', 'source', 'text', 'expanded_urls',\n",
              "       'rating_numerator', 'rating_denominator', 'name', 'doggo', 'floofer',\n",
              "       'pupper', 'puppo'],\n",
              "      dtype='object')"
            ]
          },
          "metadata": {
            "tags": []
          },
          "execution_count": 131
        }
      ]
    },
    {
      "cell_type": "markdown",
      "metadata": {
        "id": "8DXHUzA9nTxd",
        "colab_type": "text"
      },
      "source": [
        "### 6-Replace None values in name column in twitter_archive with np.nan"
      ]
    },
    {
      "cell_type": "code",
      "metadata": {
        "id": "D6FlAxyPS76d",
        "colab_type": "code",
        "outputId": "7c4b9e2f-e342-4bc0-c077-c88811a3a3d2",
        "colab": {
          "base_uri": "https://localhost:8080/",
          "height": 34
        }
      },
      "source": [
        "#Although they are 745 missing names in name columns but python can't detect them as they are written as None\n",
        "twitter_archive_clean.name.isnull().all()"
      ],
      "execution_count": 132,
      "outputs": [
        {
          "output_type": "execute_result",
          "data": {
            "text/plain": [
              "False"
            ]
          },
          "metadata": {
            "tags": []
          },
          "execution_count": 132
        }
      ]
    },
    {
      "cell_type": "code",
      "metadata": {
        "id": "Rsw5eThjThu9",
        "colab_type": "code",
        "outputId": "b0deec68-0cef-4ed3-d430-bbbb1c5f80d6",
        "colab": {
          "base_uri": "https://localhost:8080/",
          "height": 221
        }
      },
      "source": [
        "twitter_archive_clean.name.value_counts()"
      ],
      "execution_count": 133,
      "outputs": [
        {
          "output_type": "execute_result",
          "data": {
            "text/plain": [
              "None       600\n",
              "a           55\n",
              "Charlie     11\n",
              "Lucy        11\n",
              "Cooper      10\n",
              "          ... \n",
              "Joshwa       1\n",
              "Kawhi        1\n",
              "Brockly      1\n",
              "old          1\n",
              "Bert         1\n",
              "Name: name, Length: 955, dtype: int64"
            ]
          },
          "metadata": {
            "tags": []
          },
          "execution_count": 133
        }
      ]
    },
    {
      "cell_type": "code",
      "metadata": {
        "id": "AtZ2n1PiTp_v",
        "colab_type": "code",
        "colab": {}
      },
      "source": [
        "twitter_archive_clean.name=twitter_archive_clean.name.replace('None',np.nan)"
      ],
      "execution_count": 0,
      "outputs": []
    },
    {
      "cell_type": "markdown",
      "metadata": {
        "id": "_SveKTPnnwvy",
        "colab_type": "text"
      },
      "source": [
        "Test"
      ]
    },
    {
      "cell_type": "code",
      "metadata": {
        "id": "je07yTXYUHOI",
        "colab_type": "code",
        "outputId": "72107c25-97b0-4350-d174-32c6a7323e4d",
        "colab": {
          "base_uri": "https://localhost:8080/",
          "height": 221
        }
      },
      "source": [
        "twitter_archive_clean.name.value_counts()"
      ],
      "execution_count": 135,
      "outputs": [
        {
          "output_type": "execute_result",
          "data": {
            "text/plain": [
              "a          55\n",
              "Lucy       11\n",
              "Charlie    11\n",
              "Cooper     10\n",
              "Oliver     10\n",
              "           ..\n",
              "Joshwa      1\n",
              "Kawhi       1\n",
              "Brockly     1\n",
              "old         1\n",
              "Bert        1\n",
              "Name: name, Length: 954, dtype: int64"
            ]
          },
          "metadata": {
            "tags": []
          },
          "execution_count": 135
        }
      ]
    },
    {
      "cell_type": "markdown",
      "metadata": {
        "id": "ZJA6U0XpoDzW",
        "colab_type": "text"
      },
      "source": [
        "### 7-Replace 'a' values in name column in twitter_archive with of np.nan"
      ]
    },
    {
      "cell_type": "code",
      "metadata": {
        "id": "P4PpwYb5owQu",
        "colab_type": "code",
        "colab": {}
      },
      "source": [
        "twitter_archive_clean.name=twitter_archive_clean.name.replace('a',np.nan)"
      ],
      "execution_count": 0,
      "outputs": []
    },
    {
      "cell_type": "markdown",
      "metadata": {
        "id": "YylT1-mcpVGg",
        "colab_type": "text"
      },
      "source": [
        "Test"
      ]
    },
    {
      "cell_type": "code",
      "metadata": {
        "id": "fPRlUSUfpTWR",
        "colab_type": "code",
        "outputId": "2f613a67-e0bb-44d5-e320-a4dc315fc57d",
        "colab": {
          "base_uri": "https://localhost:8080/",
          "height": 221
        }
      },
      "source": [
        "twitter_archive_clean.name.value_counts()"
      ],
      "execution_count": 137,
      "outputs": [
        {
          "output_type": "execute_result",
          "data": {
            "text/plain": [
              "Lucy         11\n",
              "Charlie      11\n",
              "Cooper       10\n",
              "Oliver       10\n",
              "Tucker        9\n",
              "             ..\n",
              "Bonaparte     1\n",
              "Howie         1\n",
              "Scott         1\n",
              "Claude        1\n",
              "Clarq         1\n",
              "Name: name, Length: 953, dtype: int64"
            ]
          },
          "metadata": {
            "tags": []
          },
          "execution_count": 137
        }
      ]
    },
    {
      "cell_type": "markdown",
      "metadata": {
        "id": "zOeEyhh9vgLg",
        "colab_type": "text"
      },
      "source": [
        "### 8- make breed name consistent with lower case only( some are capital and some are not) in image_prediction dataframe"
      ]
    },
    {
      "cell_type": "code",
      "metadata": {
        "id": "NRYWEM4Avd1o",
        "colab_type": "code",
        "outputId": "0ddd2f8a-f633-4126-983c-9032faf16292",
        "colab": {
          "base_uri": "https://localhost:8080/",
          "height": 374
        }
      },
      "source": [
        "image_prediction_clean.p1.head(20)"
      ],
      "execution_count": 138,
      "outputs": [
        {
          "output_type": "execute_result",
          "data": {
            "text/plain": [
              "0     Welsh_springer_spaniel\n",
              "1                    redbone\n",
              "2            German_shepherd\n",
              "3        Rhodesian_ridgeback\n",
              "4         miniature_pinscher\n",
              "5       Bernese_mountain_dog\n",
              "6                 box_turtle\n",
              "7                       chow\n",
              "8              shopping_cart\n",
              "9           miniature_poodle\n",
              "10          golden_retriever\n",
              "11             Gordon_setter\n",
              "12              Walker_hound\n",
              "13                       pug\n",
              "14                bloodhound\n",
              "15                     Lhasa\n",
              "16            English_setter\n",
              "17                       hen\n",
              "18          desktop_computer\n",
              "19         Italian_greyhound\n",
              "Name: p1, dtype: object"
            ]
          },
          "metadata": {
            "tags": []
          },
          "execution_count": 138
        }
      ]
    },
    {
      "cell_type": "code",
      "metadata": {
        "id": "2zu2Mf4JwASP",
        "colab_type": "code",
        "colab": {}
      },
      "source": [
        "image_prediction_clean.p1=image_prediction_clean.p1.str.lower()"
      ],
      "execution_count": 0,
      "outputs": []
    },
    {
      "cell_type": "markdown",
      "metadata": {
        "id": "NSL-fiUzwUJM",
        "colab_type": "text"
      },
      "source": [
        "Test"
      ]
    },
    {
      "cell_type": "code",
      "metadata": {
        "id": "WwCQz939wL2g",
        "colab_type": "code",
        "outputId": "b2d25317-0a9f-449c-83f8-bfd4b06f9831",
        "colab": {
          "base_uri": "https://localhost:8080/",
          "height": 374
        }
      },
      "source": [
        "image_prediction_clean.p1.head(20)"
      ],
      "execution_count": 140,
      "outputs": [
        {
          "output_type": "execute_result",
          "data": {
            "text/plain": [
              "0     welsh_springer_spaniel\n",
              "1                    redbone\n",
              "2            german_shepherd\n",
              "3        rhodesian_ridgeback\n",
              "4         miniature_pinscher\n",
              "5       bernese_mountain_dog\n",
              "6                 box_turtle\n",
              "7                       chow\n",
              "8              shopping_cart\n",
              "9           miniature_poodle\n",
              "10          golden_retriever\n",
              "11             gordon_setter\n",
              "12              walker_hound\n",
              "13                       pug\n",
              "14                bloodhound\n",
              "15                     lhasa\n",
              "16            english_setter\n",
              "17                       hen\n",
              "18          desktop_computer\n",
              "19         italian_greyhound\n",
              "Name: p1, dtype: object"
            ]
          },
          "metadata": {
            "tags": []
          },
          "execution_count": 140
        }
      ]
    },
    {
      "cell_type": "markdown",
      "metadata": {
        "id": "jp9rYWFewdcj",
        "colab_type": "text"
      },
      "source": [
        "### 9- change 'p1' column name in image_prediction dataframe which is not a suitable name to indicate that this column is dog breed predicted. It is a confusing name so I will replace with dog_breed"
      ]
    },
    {
      "cell_type": "code",
      "metadata": {
        "id": "Ispf1NN8xexP",
        "colab_type": "code",
        "outputId": "574f0e3e-913e-4270-ec7a-fbd074e52f16",
        "colab": {
          "base_uri": "https://localhost:8080/",
          "height": 68
        }
      },
      "source": [
        "image_prediction_clean.columns"
      ],
      "execution_count": 141,
      "outputs": [
        {
          "output_type": "execute_result",
          "data": {
            "text/plain": [
              "Index(['tweet_id', 'jpg_url', 'img_num', 'p1', 'p1_conf', 'p1_dog', 'p2',\n",
              "       'p2_conf', 'p2_dog', 'p3', 'p3_conf', 'p3_dog'],\n",
              "      dtype='object')"
            ]
          },
          "metadata": {
            "tags": []
          },
          "execution_count": 141
        }
      ]
    },
    {
      "cell_type": "code",
      "metadata": {
        "id": "L4TwZGROwR8m",
        "colab_type": "code",
        "colab": {}
      },
      "source": [
        "image_prediction_clean=image_prediction_clean.rename(columns={'p1':'dog_breed'})"
      ],
      "execution_count": 0,
      "outputs": []
    },
    {
      "cell_type": "markdown",
      "metadata": {
        "id": "4dp7tdVTRng8",
        "colab_type": "text"
      },
      "source": [
        "Test"
      ]
    },
    {
      "cell_type": "code",
      "metadata": {
        "id": "P5e8NqmPxZi4",
        "colab_type": "code",
        "outputId": "f680bfeb-c706-4dcd-b13c-02bc7a7b065c",
        "colab": {
          "base_uri": "https://localhost:8080/",
          "height": 68
        }
      },
      "source": [
        "image_prediction_clean.columns"
      ],
      "execution_count": 143,
      "outputs": [
        {
          "output_type": "execute_result",
          "data": {
            "text/plain": [
              "Index(['tweet_id', 'jpg_url', 'img_num', 'dog_breed', 'p1_conf', 'p1_dog',\n",
              "       'p2', 'p2_conf', 'p2_dog', 'p3', 'p3_conf', 'p3_dog'],\n",
              "      dtype='object')"
            ]
          },
          "metadata": {
            "tags": []
          },
          "execution_count": 143
        }
      ]
    },
    {
      "cell_type": "markdown",
      "metadata": {
        "id": "cVJ-lJE80JFC",
        "colab_type": "text"
      },
      "source": [
        "### 10- Drop columns ['p2','p2_conf','p2_dog','p3','p3_conf','p3_dog']\n",
        "by inspection on google sheets, theses columns have predicted other stuff than dogs so they are not reliable to our project as by random inspection all tweets contained dogs picture and we are only interesting in dogs breeds in this dataframe so they are quality issues for me and i will drop these columns"
      ]
    },
    {
      "cell_type": "code",
      "metadata": {
        "id": "Qo0TiBJvyplz",
        "colab_type": "code",
        "colab": {}
      },
      "source": [
        "image_prediction_clean=image_prediction_clean.drop(['p2','p2_conf','p2_dog','p3','p3_conf','p3_dog'],axis=1)"
      ],
      "execution_count": 0,
      "outputs": []
    },
    {
      "cell_type": "markdown",
      "metadata": {
        "id": "mQH2i3fX1SBf",
        "colab_type": "text"
      },
      "source": [
        "Test"
      ]
    },
    {
      "cell_type": "code",
      "metadata": {
        "id": "XpCzlDJ_1QMn",
        "colab_type": "code",
        "outputId": "64ab9d33-0593-48bf-ea1f-89d4ee5f889e",
        "colab": {
          "base_uri": "https://localhost:8080/",
          "height": 34
        }
      },
      "source": [
        "image_prediction_clean.columns"
      ],
      "execution_count": 145,
      "outputs": [
        {
          "output_type": "execute_result",
          "data": {
            "text/plain": [
              "Index(['tweet_id', 'jpg_url', 'img_num', 'dog_breed', 'p1_conf', 'p1_dog'], dtype='object')"
            ]
          },
          "metadata": {
            "tags": []
          },
          "execution_count": 145
        }
      ]
    },
    {
      "cell_type": "markdown",
      "metadata": {
        "id": "ITPKiMF62bCh",
        "colab_type": "text"
      },
      "source": [
        "### 11- Change ['p1_conf','p1_dog'] to ['prediction_confidence','dog'] respectively"
      ]
    },
    {
      "cell_type": "code",
      "metadata": {
        "id": "48WIvB_g1ban",
        "colab_type": "code",
        "colab": {}
      },
      "source": [
        "image_prediction_clean=image_prediction_clean.rename(columns={'p1_conf':'prediction_confidence','p1_dog':'dog'})"
      ],
      "execution_count": 0,
      "outputs": []
    },
    {
      "cell_type": "markdown",
      "metadata": {
        "id": "0CrT6pZ13cLg",
        "colab_type": "text"
      },
      "source": [
        "Test"
      ]
    },
    {
      "cell_type": "code",
      "metadata": {
        "id": "OyB7IELV3bCx",
        "colab_type": "code",
        "outputId": "21674def-3c59-4b06-f7a0-812fa7f50bc7",
        "colab": {
          "base_uri": "https://localhost:8080/",
          "height": 68
        }
      },
      "source": [
        "image_prediction_clean.columns"
      ],
      "execution_count": 147,
      "outputs": [
        {
          "output_type": "execute_result",
          "data": {
            "text/plain": [
              "Index(['tweet_id', 'jpg_url', 'img_num', 'dog_breed', 'prediction_confidence',\n",
              "       'dog'],\n",
              "      dtype='object')"
            ]
          },
          "metadata": {
            "tags": []
          },
          "execution_count": 147
        }
      ]
    },
    {
      "cell_type": "markdown",
      "metadata": {
        "id": "eUNYjk913qN8",
        "colab_type": "text"
      },
      "source": [
        "### 12- change the values in breed column that do not belong to dogs to np.nan\n",
        "image_prediction assumed that some images don't belong to dogs and interpreted other stuff than dogs and which is not true"
      ]
    },
    {
      "cell_type": "code",
      "metadata": {
        "id": "WShGMMok3hXd",
        "colab_type": "code",
        "outputId": "ee7cd02a-810d-4beb-8c69-9cb2be66c973",
        "colab": {
          "base_uri": "https://localhost:8080/",
          "height": 419
        }
      },
      "source": [
        "image_prediction_clean.query('dog==False')"
      ],
      "execution_count": 148,
      "outputs": [
        {
          "output_type": "execute_result",
          "data": {
            "text/html": [
              "<div>\n",
              "<style scoped>\n",
              "    .dataframe tbody tr th:only-of-type {\n",
              "        vertical-align: middle;\n",
              "    }\n",
              "\n",
              "    .dataframe tbody tr th {\n",
              "        vertical-align: top;\n",
              "    }\n",
              "\n",
              "    .dataframe thead th {\n",
              "        text-align: right;\n",
              "    }\n",
              "</style>\n",
              "<table border=\"1\" class=\"dataframe\">\n",
              "  <thead>\n",
              "    <tr style=\"text-align: right;\">\n",
              "      <th></th>\n",
              "      <th>tweet_id</th>\n",
              "      <th>jpg_url</th>\n",
              "      <th>img_num</th>\n",
              "      <th>dog_breed</th>\n",
              "      <th>prediction_confidence</th>\n",
              "      <th>dog</th>\n",
              "    </tr>\n",
              "  </thead>\n",
              "  <tbody>\n",
              "    <tr>\n",
              "      <th>6</th>\n",
              "      <td>666051853826850816</td>\n",
              "      <td>https://pbs.twimg.com/media/CT5KoJ1WoAAJash.jpg</td>\n",
              "      <td>1</td>\n",
              "      <td>box_turtle</td>\n",
              "      <td>0.933012</td>\n",
              "      <td>False</td>\n",
              "    </tr>\n",
              "    <tr>\n",
              "      <th>8</th>\n",
              "      <td>666057090499244032</td>\n",
              "      <td>https://pbs.twimg.com/media/CT5PY90WoAAQGLo.jpg</td>\n",
              "      <td>1</td>\n",
              "      <td>shopping_cart</td>\n",
              "      <td>0.962465</td>\n",
              "      <td>False</td>\n",
              "    </tr>\n",
              "    <tr>\n",
              "      <th>17</th>\n",
              "      <td>666104133288665088</td>\n",
              "      <td>https://pbs.twimg.com/media/CT56LSZWoAAlJj2.jpg</td>\n",
              "      <td>1</td>\n",
              "      <td>hen</td>\n",
              "      <td>0.965932</td>\n",
              "      <td>False</td>\n",
              "    </tr>\n",
              "    <tr>\n",
              "      <th>18</th>\n",
              "      <td>666268910803644416</td>\n",
              "      <td>https://pbs.twimg.com/media/CT8QCd1WEAADXws.jpg</td>\n",
              "      <td>1</td>\n",
              "      <td>desktop_computer</td>\n",
              "      <td>0.086502</td>\n",
              "      <td>False</td>\n",
              "    </tr>\n",
              "    <tr>\n",
              "      <th>21</th>\n",
              "      <td>666293911632134144</td>\n",
              "      <td>https://pbs.twimg.com/media/CT8mx7KW4AEQu8N.jpg</td>\n",
              "      <td>1</td>\n",
              "      <td>three-toed_sloth</td>\n",
              "      <td>0.914671</td>\n",
              "      <td>False</td>\n",
              "    </tr>\n",
              "    <tr>\n",
              "      <th>...</th>\n",
              "      <td>...</td>\n",
              "      <td>...</td>\n",
              "      <td>...</td>\n",
              "      <td>...</td>\n",
              "      <td>...</td>\n",
              "      <td>...</td>\n",
              "    </tr>\n",
              "    <tr>\n",
              "      <th>2026</th>\n",
              "      <td>882045870035918850</td>\n",
              "      <td>https://pbs.twimg.com/media/DD2oCl2WAAEI_4a.jpg</td>\n",
              "      <td>1</td>\n",
              "      <td>web_site</td>\n",
              "      <td>0.949591</td>\n",
              "      <td>False</td>\n",
              "    </tr>\n",
              "    <tr>\n",
              "      <th>2046</th>\n",
              "      <td>886680336477933568</td>\n",
              "      <td>https://pbs.twimg.com/media/DE4fEDzWAAAyHMM.jpg</td>\n",
              "      <td>1</td>\n",
              "      <td>convertible</td>\n",
              "      <td>0.738995</td>\n",
              "      <td>False</td>\n",
              "    </tr>\n",
              "    <tr>\n",
              "      <th>2052</th>\n",
              "      <td>887517139158093824</td>\n",
              "      <td>https://pbs.twimg.com/ext_tw_video_thumb/88751...</td>\n",
              "      <td>1</td>\n",
              "      <td>limousine</td>\n",
              "      <td>0.130432</td>\n",
              "      <td>False</td>\n",
              "    </tr>\n",
              "    <tr>\n",
              "      <th>2071</th>\n",
              "      <td>891689557279858688</td>\n",
              "      <td>https://pbs.twimg.com/media/DF_q7IAWsAEuuN8.jpg</td>\n",
              "      <td>1</td>\n",
              "      <td>paper_towel</td>\n",
              "      <td>0.170278</td>\n",
              "      <td>False</td>\n",
              "    </tr>\n",
              "    <tr>\n",
              "      <th>2074</th>\n",
              "      <td>892420643555336193</td>\n",
              "      <td>https://pbs.twimg.com/media/DGKD1-bXoAAIAUK.jpg</td>\n",
              "      <td>1</td>\n",
              "      <td>orange</td>\n",
              "      <td>0.097049</td>\n",
              "      <td>False</td>\n",
              "    </tr>\n",
              "  </tbody>\n",
              "</table>\n",
              "<p>543 rows × 6 columns</p>\n",
              "</div>"
            ],
            "text/plain": [
              "                tweet_id  ...    dog\n",
              "6     666051853826850816  ...  False\n",
              "8     666057090499244032  ...  False\n",
              "17    666104133288665088  ...  False\n",
              "18    666268910803644416  ...  False\n",
              "21    666293911632134144  ...  False\n",
              "...                  ...  ...    ...\n",
              "2026  882045870035918850  ...  False\n",
              "2046  886680336477933568  ...  False\n",
              "2052  887517139158093824  ...  False\n",
              "2071  891689557279858688  ...  False\n",
              "2074  892420643555336193  ...  False\n",
              "\n",
              "[543 rows x 6 columns]"
            ]
          },
          "metadata": {
            "tags": []
          },
          "execution_count": 148
        }
      ]
    },
    {
      "cell_type": "markdown",
      "metadata": {
        "id": "Z1h8WrUF4iUr",
        "colab_type": "text"
      },
      "source": [
        "by random inspection of these urls, I found that they contained dogs picture and the model failed to predict them so I need to change these breed values to np.nan"
      ]
    },
    {
      "cell_type": "code",
      "metadata": {
        "id": "0FpIsmCZ4fya",
        "colab_type": "code",
        "colab": {}
      },
      "source": [
        "not_breed=list(image_prediction_clean.query('dog==False')['dog_breed'])"
      ],
      "execution_count": 0,
      "outputs": []
    },
    {
      "cell_type": "code",
      "metadata": {
        "id": "hSbaRYGd5GLF",
        "colab_type": "code",
        "colab": {}
      },
      "source": [
        "image_prediction_clean['dog_breed']=image_prediction_clean['dog_breed'].replace(not_breed,np.nan)"
      ],
      "execution_count": 0,
      "outputs": []
    },
    {
      "cell_type": "markdown",
      "metadata": {
        "id": "KjkvHtFf8TOE",
        "colab_type": "text"
      },
      "source": [
        "Test"
      ]
    },
    {
      "cell_type": "code",
      "metadata": {
        "id": "W_e22Fno5p0z",
        "colab_type": "code",
        "outputId": "7028a9db-011c-477c-f2b9-858a7ef46855",
        "colab": {
          "base_uri": "https://localhost:8080/",
          "height": 419
        }
      },
      "source": [
        "image_prediction_clean.query('dog==False')"
      ],
      "execution_count": 151,
      "outputs": [
        {
          "output_type": "execute_result",
          "data": {
            "text/html": [
              "<div>\n",
              "<style scoped>\n",
              "    .dataframe tbody tr th:only-of-type {\n",
              "        vertical-align: middle;\n",
              "    }\n",
              "\n",
              "    .dataframe tbody tr th {\n",
              "        vertical-align: top;\n",
              "    }\n",
              "\n",
              "    .dataframe thead th {\n",
              "        text-align: right;\n",
              "    }\n",
              "</style>\n",
              "<table border=\"1\" class=\"dataframe\">\n",
              "  <thead>\n",
              "    <tr style=\"text-align: right;\">\n",
              "      <th></th>\n",
              "      <th>tweet_id</th>\n",
              "      <th>jpg_url</th>\n",
              "      <th>img_num</th>\n",
              "      <th>dog_breed</th>\n",
              "      <th>prediction_confidence</th>\n",
              "      <th>dog</th>\n",
              "    </tr>\n",
              "  </thead>\n",
              "  <tbody>\n",
              "    <tr>\n",
              "      <th>6</th>\n",
              "      <td>666051853826850816</td>\n",
              "      <td>https://pbs.twimg.com/media/CT5KoJ1WoAAJash.jpg</td>\n",
              "      <td>1</td>\n",
              "      <td>NaN</td>\n",
              "      <td>0.933012</td>\n",
              "      <td>False</td>\n",
              "    </tr>\n",
              "    <tr>\n",
              "      <th>8</th>\n",
              "      <td>666057090499244032</td>\n",
              "      <td>https://pbs.twimg.com/media/CT5PY90WoAAQGLo.jpg</td>\n",
              "      <td>1</td>\n",
              "      <td>NaN</td>\n",
              "      <td>0.962465</td>\n",
              "      <td>False</td>\n",
              "    </tr>\n",
              "    <tr>\n",
              "      <th>17</th>\n",
              "      <td>666104133288665088</td>\n",
              "      <td>https://pbs.twimg.com/media/CT56LSZWoAAlJj2.jpg</td>\n",
              "      <td>1</td>\n",
              "      <td>NaN</td>\n",
              "      <td>0.965932</td>\n",
              "      <td>False</td>\n",
              "    </tr>\n",
              "    <tr>\n",
              "      <th>18</th>\n",
              "      <td>666268910803644416</td>\n",
              "      <td>https://pbs.twimg.com/media/CT8QCd1WEAADXws.jpg</td>\n",
              "      <td>1</td>\n",
              "      <td>NaN</td>\n",
              "      <td>0.086502</td>\n",
              "      <td>False</td>\n",
              "    </tr>\n",
              "    <tr>\n",
              "      <th>21</th>\n",
              "      <td>666293911632134144</td>\n",
              "      <td>https://pbs.twimg.com/media/CT8mx7KW4AEQu8N.jpg</td>\n",
              "      <td>1</td>\n",
              "      <td>NaN</td>\n",
              "      <td>0.914671</td>\n",
              "      <td>False</td>\n",
              "    </tr>\n",
              "    <tr>\n",
              "      <th>...</th>\n",
              "      <td>...</td>\n",
              "      <td>...</td>\n",
              "      <td>...</td>\n",
              "      <td>...</td>\n",
              "      <td>...</td>\n",
              "      <td>...</td>\n",
              "    </tr>\n",
              "    <tr>\n",
              "      <th>2026</th>\n",
              "      <td>882045870035918850</td>\n",
              "      <td>https://pbs.twimg.com/media/DD2oCl2WAAEI_4a.jpg</td>\n",
              "      <td>1</td>\n",
              "      <td>NaN</td>\n",
              "      <td>0.949591</td>\n",
              "      <td>False</td>\n",
              "    </tr>\n",
              "    <tr>\n",
              "      <th>2046</th>\n",
              "      <td>886680336477933568</td>\n",
              "      <td>https://pbs.twimg.com/media/DE4fEDzWAAAyHMM.jpg</td>\n",
              "      <td>1</td>\n",
              "      <td>NaN</td>\n",
              "      <td>0.738995</td>\n",
              "      <td>False</td>\n",
              "    </tr>\n",
              "    <tr>\n",
              "      <th>2052</th>\n",
              "      <td>887517139158093824</td>\n",
              "      <td>https://pbs.twimg.com/ext_tw_video_thumb/88751...</td>\n",
              "      <td>1</td>\n",
              "      <td>NaN</td>\n",
              "      <td>0.130432</td>\n",
              "      <td>False</td>\n",
              "    </tr>\n",
              "    <tr>\n",
              "      <th>2071</th>\n",
              "      <td>891689557279858688</td>\n",
              "      <td>https://pbs.twimg.com/media/DF_q7IAWsAEuuN8.jpg</td>\n",
              "      <td>1</td>\n",
              "      <td>NaN</td>\n",
              "      <td>0.170278</td>\n",
              "      <td>False</td>\n",
              "    </tr>\n",
              "    <tr>\n",
              "      <th>2074</th>\n",
              "      <td>892420643555336193</td>\n",
              "      <td>https://pbs.twimg.com/media/DGKD1-bXoAAIAUK.jpg</td>\n",
              "      <td>1</td>\n",
              "      <td>NaN</td>\n",
              "      <td>0.097049</td>\n",
              "      <td>False</td>\n",
              "    </tr>\n",
              "  </tbody>\n",
              "</table>\n",
              "<p>543 rows × 6 columns</p>\n",
              "</div>"
            ],
            "text/plain": [
              "                tweet_id  ...    dog\n",
              "6     666051853826850816  ...  False\n",
              "8     666057090499244032  ...  False\n",
              "17    666104133288665088  ...  False\n",
              "18    666268910803644416  ...  False\n",
              "21    666293911632134144  ...  False\n",
              "...                  ...  ...    ...\n",
              "2026  882045870035918850  ...  False\n",
              "2046  886680336477933568  ...  False\n",
              "2052  887517139158093824  ...  False\n",
              "2071  891689557279858688  ...  False\n",
              "2074  892420643555336193  ...  False\n",
              "\n",
              "[543 rows x 6 columns]"
            ]
          },
          "metadata": {
            "tags": []
          },
          "execution_count": 151
        }
      ]
    },
    {
      "cell_type": "markdown",
      "metadata": {
        "id": "nxLYNZv-8n_1",
        "colab_type": "text"
      },
      "source": [
        "### 13- Drop dog column now that we don't need it anymore"
      ]
    },
    {
      "cell_type": "code",
      "metadata": {
        "id": "dZlnlc8W8bJJ",
        "colab_type": "code",
        "colab": {}
      },
      "source": [
        "image_prediction_clean=image_prediction_clean.drop(['dog'],axis=1)"
      ],
      "execution_count": 0,
      "outputs": []
    },
    {
      "cell_type": "markdown",
      "metadata": {
        "id": "o0EPV2la865C",
        "colab_type": "text"
      },
      "source": [
        "Test"
      ]
    },
    {
      "cell_type": "code",
      "metadata": {
        "id": "rQrS3twj85V3",
        "colab_type": "code",
        "outputId": "7b590189-4bde-4f23-c5fa-f0f42a1073ab",
        "colab": {
          "base_uri": "https://localhost:8080/",
          "height": 34
        }
      },
      "source": [
        "image_prediction_clean.columns"
      ],
      "execution_count": 153,
      "outputs": [
        {
          "output_type": "execute_result",
          "data": {
            "text/plain": [
              "Index(['tweet_id', 'jpg_url', 'img_num', 'dog_breed', 'prediction_confidence'], dtype='object')"
            ]
          },
          "metadata": {
            "tags": []
          },
          "execution_count": 153
        }
      ]
    },
    {
      "cell_type": "markdown",
      "metadata": {
        "id": "6uEtRk6a9Gsf",
        "colab_type": "text"
      },
      "source": [
        "### 14- Change 'name' column name to 'dog_name' to avoid confusion"
      ]
    },
    {
      "cell_type": "code",
      "metadata": {
        "id": "USvt38mtE6Rk",
        "colab_type": "code",
        "colab": {}
      },
      "source": [
        "twitter_archive_clean=twitter_archive_clean.rename(columns={'name':'dog_name'})"
      ],
      "execution_count": 0,
      "outputs": []
    },
    {
      "cell_type": "markdown",
      "metadata": {
        "id": "AzF5WJLgFOLo",
        "colab_type": "text"
      },
      "source": [
        "Test"
      ]
    },
    {
      "cell_type": "code",
      "metadata": {
        "id": "z4pEBQX_FSvD",
        "colab_type": "code",
        "outputId": "ffd16673-34dd-4ae4-f481-53511079546e",
        "colab": {
          "base_uri": "https://localhost:8080/",
          "height": 85
        }
      },
      "source": [
        "twitter_archive_clean.columns"
      ],
      "execution_count": 155,
      "outputs": [
        {
          "output_type": "execute_result",
          "data": {
            "text/plain": [
              "Index(['tweet_id', 'timestamp', 'source', 'text', 'expanded_urls',\n",
              "       'rating_numerator', 'rating_denominator', 'dog_name', 'doggo',\n",
              "       'floofer', 'pupper', 'puppo'],\n",
              "      dtype='object')"
            ]
          },
          "metadata": {
            "tags": []
          },
          "execution_count": 155
        }
      ]
    },
    {
      "cell_type": "markdown",
      "metadata": {
        "id": "COXaux2ODEF4",
        "colab_type": "text"
      },
      "source": [
        "### 15- change timestamp type from object to datetime in ret_fav_count dataframe"
      ]
    },
    {
      "cell_type": "code",
      "metadata": {
        "id": "HKko2YwK9AP4",
        "colab_type": "code",
        "colab": {}
      },
      "source": [
        "ret_fav_count['timestamp']=pd.to_datetime(ret_fav_count['timestamp'])"
      ],
      "execution_count": 0,
      "outputs": []
    },
    {
      "cell_type": "markdown",
      "metadata": {
        "id": "-y5pK6mmECq8",
        "colab_type": "text"
      },
      "source": [
        "Test"
      ]
    },
    {
      "cell_type": "code",
      "metadata": {
        "id": "Dgov2siWEBJ0",
        "colab_type": "code",
        "outputId": "4b5604b1-c217-4135-d285-c72c901113a1",
        "colab": {
          "base_uri": "https://localhost:8080/",
          "height": 34
        }
      },
      "source": [
        "ret_fav_count.timestamp.dtypes"
      ],
      "execution_count": 157,
      "outputs": [
        {
          "output_type": "execute_result",
          "data": {
            "text/plain": [
              "datetime64[ns, UTC]"
            ]
          },
          "metadata": {
            "tags": []
          },
          "execution_count": 157
        }
      ]
    },
    {
      "cell_type": "markdown",
      "metadata": {
        "id": "Y43HjjRQSjdG",
        "colab_type": "text"
      },
      "source": [
        "### 16-Drop rows where denominator are not equal to our standard 10"
      ]
    },
    {
      "cell_type": "code",
      "metadata": {
        "id": "Lvwu5saBS_vd",
        "colab_type": "code",
        "colab": {
          "base_uri": "https://localhost:8080/",
          "height": 297
        },
        "outputId": "2059080e-3164-4a12-a325-600fa5476fd5"
      },
      "source": [
        "twitter_archive_clean[['rating_numerator','rating_denominator']].describe()"
      ],
      "execution_count": 159,
      "outputs": [
        {
          "output_type": "execute_result",
          "data": {
            "text/html": [
              "<div>\n",
              "<style scoped>\n",
              "    .dataframe tbody tr th:only-of-type {\n",
              "        vertical-align: middle;\n",
              "    }\n",
              "\n",
              "    .dataframe tbody tr th {\n",
              "        vertical-align: top;\n",
              "    }\n",
              "\n",
              "    .dataframe thead th {\n",
              "        text-align: right;\n",
              "    }\n",
              "</style>\n",
              "<table border=\"1\" class=\"dataframe\">\n",
              "  <thead>\n",
              "    <tr style=\"text-align: right;\">\n",
              "      <th></th>\n",
              "      <th>rating_numerator</th>\n",
              "      <th>rating_denominator</th>\n",
              "    </tr>\n",
              "  </thead>\n",
              "  <tbody>\n",
              "    <tr>\n",
              "      <th>count</th>\n",
              "      <td>2094.000000</td>\n",
              "      <td>2094.000000</td>\n",
              "    </tr>\n",
              "    <tr>\n",
              "      <th>mean</th>\n",
              "      <td>12.191500</td>\n",
              "      <td>10.449379</td>\n",
              "    </tr>\n",
              "    <tr>\n",
              "      <th>std</th>\n",
              "      <td>40.393858</td>\n",
              "      <td>6.649800</td>\n",
              "    </tr>\n",
              "    <tr>\n",
              "      <th>min</th>\n",
              "      <td>0.000000</td>\n",
              "      <td>2.000000</td>\n",
              "    </tr>\n",
              "    <tr>\n",
              "      <th>25%</th>\n",
              "      <td>10.000000</td>\n",
              "      <td>10.000000</td>\n",
              "    </tr>\n",
              "    <tr>\n",
              "      <th>50%</th>\n",
              "      <td>11.000000</td>\n",
              "      <td>10.000000</td>\n",
              "    </tr>\n",
              "    <tr>\n",
              "      <th>75%</th>\n",
              "      <td>12.000000</td>\n",
              "      <td>10.000000</td>\n",
              "    </tr>\n",
              "    <tr>\n",
              "      <th>max</th>\n",
              "      <td>1776.000000</td>\n",
              "      <td>170.000000</td>\n",
              "    </tr>\n",
              "  </tbody>\n",
              "</table>\n",
              "</div>"
            ],
            "text/plain": [
              "       rating_numerator  rating_denominator\n",
              "count       2094.000000         2094.000000\n",
              "mean          12.191500           10.449379\n",
              "std           40.393858            6.649800\n",
              "min            0.000000            2.000000\n",
              "25%           10.000000           10.000000\n",
              "50%           11.000000           10.000000\n",
              "75%           12.000000           10.000000\n",
              "max         1776.000000          170.000000"
            ]
          },
          "metadata": {
            "tags": []
          },
          "execution_count": 159
        }
      ]
    },
    {
      "cell_type": "code",
      "metadata": {
        "id": "w47T81AlSiUz",
        "colab_type": "code",
        "colab": {}
      },
      "source": [
        "twitter_archive_clean=twitter_archive_clean.drop(twitter_archive_clean.query('rating_denominator!=10').index,axis=0)"
      ],
      "execution_count": 0,
      "outputs": []
    },
    {
      "cell_type": "markdown",
      "metadata": {
        "id": "Bvnjl-nBUA4o",
        "colab_type": "text"
      },
      "source": [
        "### 17-Drop rows where rating_numerator are equal to 0 or those whose have rating above 20"
      ]
    },
    {
      "cell_type": "code",
      "metadata": {
        "id": "nHGMUR9dUZ1B",
        "colab_type": "code",
        "colab": {}
      },
      "source": [
        "twitter_archive_clean=twitter_archive_clean.drop(twitter_archive_clean.query('rating_numerator == 0').index,axis=0)"
      ],
      "execution_count": 0,
      "outputs": []
    },
    {
      "cell_type": "code",
      "metadata": {
        "id": "V0ucTMurUoMG",
        "colab_type": "code",
        "colab": {}
      },
      "source": [
        "twitter_archive_clean=twitter_archive_clean.drop(twitter_archive_clean.query('rating_numerator >= 20').index,axis=0)"
      ],
      "execution_count": 0,
      "outputs": []
    },
    {
      "cell_type": "markdown",
      "metadata": {
        "id": "nqshgqnUUwa_",
        "colab_type": "text"
      },
      "source": [
        "Test"
      ]
    },
    {
      "cell_type": "code",
      "metadata": {
        "id": "mlVrSQZ-UyQi",
        "colab_type": "code",
        "colab": {
          "base_uri": "https://localhost:8080/",
          "height": 297
        },
        "outputId": "f5133f53-ae3e-4840-ec47-3f62671b2a3c"
      },
      "source": [
        "twitter_archive_clean[['rating_numerator','rating_denominator']].describe()"
      ],
      "execution_count": 166,
      "outputs": [
        {
          "output_type": "execute_result",
          "data": {
            "text/html": [
              "<div>\n",
              "<style scoped>\n",
              "    .dataframe tbody tr th:only-of-type {\n",
              "        vertical-align: middle;\n",
              "    }\n",
              "\n",
              "    .dataframe tbody tr th {\n",
              "        vertical-align: top;\n",
              "    }\n",
              "\n",
              "    .dataframe thead th {\n",
              "        text-align: right;\n",
              "    }\n",
              "</style>\n",
              "<table border=\"1\" class=\"dataframe\">\n",
              "  <thead>\n",
              "    <tr style=\"text-align: right;\">\n",
              "      <th></th>\n",
              "      <th>rating_numerator</th>\n",
              "      <th>rating_denominator</th>\n",
              "    </tr>\n",
              "  </thead>\n",
              "  <tbody>\n",
              "    <tr>\n",
              "      <th>count</th>\n",
              "      <td>2071.000000</td>\n",
              "      <td>2071.0</td>\n",
              "    </tr>\n",
              "    <tr>\n",
              "      <th>mean</th>\n",
              "      <td>10.611299</td>\n",
              "      <td>10.0</td>\n",
              "    </tr>\n",
              "    <tr>\n",
              "      <th>std</th>\n",
              "      <td>2.142969</td>\n",
              "      <td>0.0</td>\n",
              "    </tr>\n",
              "    <tr>\n",
              "      <th>min</th>\n",
              "      <td>1.000000</td>\n",
              "      <td>10.0</td>\n",
              "    </tr>\n",
              "    <tr>\n",
              "      <th>25%</th>\n",
              "      <td>10.000000</td>\n",
              "      <td>10.0</td>\n",
              "    </tr>\n",
              "    <tr>\n",
              "      <th>50%</th>\n",
              "      <td>11.000000</td>\n",
              "      <td>10.0</td>\n",
              "    </tr>\n",
              "    <tr>\n",
              "      <th>75%</th>\n",
              "      <td>12.000000</td>\n",
              "      <td>10.0</td>\n",
              "    </tr>\n",
              "    <tr>\n",
              "      <th>max</th>\n",
              "      <td>14.000000</td>\n",
              "      <td>10.0</td>\n",
              "    </tr>\n",
              "  </tbody>\n",
              "</table>\n",
              "</div>"
            ],
            "text/plain": [
              "       rating_numerator  rating_denominator\n",
              "count       2071.000000              2071.0\n",
              "mean          10.611299                10.0\n",
              "std            2.142969                 0.0\n",
              "min            1.000000                10.0\n",
              "25%           10.000000                10.0\n",
              "50%           11.000000                10.0\n",
              "75%           12.000000                10.0\n",
              "max           14.000000                10.0"
            ]
          },
          "metadata": {
            "tags": []
          },
          "execution_count": 166
        }
      ]
    },
    {
      "cell_type": "markdown",
      "metadata": {
        "id": "ka3gnThhLDcz",
        "colab_type": "text"
      },
      "source": [
        "## Clean step2\n",
        "### Tidiness\n",
        "### 1-Stack dog stages in one column"
      ]
    },
    {
      "cell_type": "code",
      "metadata": {
        "id": "uRH4stVrL8Kh",
        "colab_type": "code",
        "outputId": "7be657f2-e5de-4bec-cab1-2daad1c9ebb3",
        "colab": {
          "base_uri": "https://localhost:8080/",
          "height": 85
        }
      },
      "source": [
        "twitter_archive_clean.columns"
      ],
      "execution_count": 167,
      "outputs": [
        {
          "output_type": "execute_result",
          "data": {
            "text/plain": [
              "Index(['tweet_id', 'timestamp', 'source', 'text', 'expanded_urls',\n",
              "       'rating_numerator', 'rating_denominator', 'dog_name', 'doggo',\n",
              "       'floofer', 'pupper', 'puppo'],\n",
              "      dtype='object')"
            ]
          },
          "metadata": {
            "tags": []
          },
          "execution_count": 167
        }
      ]
    },
    {
      "cell_type": "code",
      "metadata": {
        "id": "yGBUKxHhEMAp",
        "colab_type": "code",
        "colab": {}
      },
      "source": [
        "#the code did not work for me and created a 4 times bigger dataframe that i could not handle so i had to think of another solution\n",
        "#twitter_archive_clean=pd.melt(twitter_archive_clean,id_vars=['tweet_id', 'timestamp', 'source', 'text', 'expanded_urls','rating_numerator', 'rating_denominator', 'dog_name'],value_vars=['doggo',\n",
        "#'floofer', 'pupper', 'puppo'],var_name='dog_stage')"
      ],
      "execution_count": 0,
      "outputs": []
    },
    {
      "cell_type": "markdown",
      "metadata": {
        "id": "-HjJxRKdRVlx",
        "colab_type": "text"
      },
      "source": [
        "### This cleaning step combines both a quality cleaning issue and a tidiness issue"
      ]
    },
    {
      "cell_type": "markdown",
      "metadata": {
        "id": "V8vuDwYjSbTy",
        "colab_type": "text"
      },
      "source": [
        "the documentation in this website helped me\n",
        "https://pandas.pydata.org/pandas-docs/stable/reference/api/pandas.Series.str.cat.html"
      ]
    },
    {
      "cell_type": "code",
      "metadata": {
        "id": "Be4KAnNmONtH",
        "colab_type": "code",
        "colab": {}
      },
      "source": [
        "dog_stage = ['doggo','pupper', 'floofer', 'puppo' ]\n",
        "for i in dog_stage:\n",
        "        twitter_archive_clean[i] = twitter_archive_clean[i].replace('None', '')\n",
        "#concat the four strings together\n",
        "twitter_archive_clean['stage'] = twitter_archive_clean.doggo.str.cat(twitter_archive_clean.floofer).str.cat(twitter_archive_clean.pupper).str.cat(twitter_archive_clean.puppo)\n",
        "\n",
        "twitter_archive_clean = twitter_archive_clean.drop(['doggo','floofer','pupper','puppo'], axis = 1)\n",
        "\n",
        "\n",
        "twitter_archive_clean['stage'] = twitter_archive_clean['stage'].replace('', np.nan)"
      ],
      "execution_count": 0,
      "outputs": []
    },
    {
      "cell_type": "markdown",
      "metadata": {
        "id": "xQgxGEmyaQZi",
        "colab_type": "text"
      },
      "source": [
        "Test"
      ]
    },
    {
      "cell_type": "code",
      "metadata": {
        "id": "P26HKZHgaO6P",
        "colab_type": "code",
        "outputId": "1d4fb077-41b6-4634-8461-a2f78b16a98c",
        "colab": {
          "base_uri": "https://localhost:8080/",
          "height": 68
        }
      },
      "source": [
        "twitter_archive_clean.columns"
      ],
      "execution_count": 169,
      "outputs": [
        {
          "output_type": "execute_result",
          "data": {
            "text/plain": [
              "Index(['tweet_id', 'timestamp', 'source', 'text', 'expanded_urls',\n",
              "       'rating_numerator', 'rating_denominator', 'dog_name', 'stage'],\n",
              "      dtype='object')"
            ]
          },
          "metadata": {
            "tags": []
          },
          "execution_count": 169
        }
      ]
    },
    {
      "cell_type": "code",
      "metadata": {
        "id": "aQz94xYZadAh",
        "colab_type": "code",
        "outputId": "e5e49aed-dd98-4495-c767-e5d10f60bd0c",
        "colab": {
          "base_uri": "https://localhost:8080/",
          "height": 513
        }
      },
      "source": [
        "twitter_archive_clean.sample(5)"
      ],
      "execution_count": 170,
      "outputs": [
        {
          "output_type": "execute_result",
          "data": {
            "text/html": [
              "<div>\n",
              "<style scoped>\n",
              "    .dataframe tbody tr th:only-of-type {\n",
              "        vertical-align: middle;\n",
              "    }\n",
              "\n",
              "    .dataframe tbody tr th {\n",
              "        vertical-align: top;\n",
              "    }\n",
              "\n",
              "    .dataframe thead th {\n",
              "        text-align: right;\n",
              "    }\n",
              "</style>\n",
              "<table border=\"1\" class=\"dataframe\">\n",
              "  <thead>\n",
              "    <tr style=\"text-align: right;\">\n",
              "      <th></th>\n",
              "      <th>tweet_id</th>\n",
              "      <th>timestamp</th>\n",
              "      <th>source</th>\n",
              "      <th>text</th>\n",
              "      <th>expanded_urls</th>\n",
              "      <th>rating_numerator</th>\n",
              "      <th>rating_denominator</th>\n",
              "      <th>dog_name</th>\n",
              "      <th>stage</th>\n",
              "    </tr>\n",
              "  </thead>\n",
              "  <tbody>\n",
              "    <tr>\n",
              "      <th>1340</th>\n",
              "      <td>704859558691414016</td>\n",
              "      <td>2016-03-02 02:43:09+00:00</td>\n",
              "      <td>&lt;a href=\"http://twitter.com/download/iphone\" r...</td>\n",
              "      <td>Here is a heartbreaking scene of an incredible...</td>\n",
              "      <td>https://twitter.com/dog_rates/status/704859558...</td>\n",
              "      <td>10</td>\n",
              "      <td>10</td>\n",
              "      <td>NaN</td>\n",
              "      <td>pupper</td>\n",
              "    </tr>\n",
              "    <tr>\n",
              "      <th>1367</th>\n",
              "      <td>702598099714314240</td>\n",
              "      <td>2016-02-24 20:56:55+00:00</td>\n",
              "      <td>&lt;a href=\"http://twitter.com/download/iphone\" r...</td>\n",
              "      <td>This is Sansa. She's gotten too big for her ch...</td>\n",
              "      <td>https://twitter.com/dog_rates/status/702598099...</td>\n",
              "      <td>11</td>\n",
              "      <td>10</td>\n",
              "      <td>Sansa</td>\n",
              "      <td>pupper</td>\n",
              "    </tr>\n",
              "    <tr>\n",
              "      <th>514</th>\n",
              "      <td>811627233043480576</td>\n",
              "      <td>2016-12-21 17:39:46+00:00</td>\n",
              "      <td>&lt;a href=\"http://twitter.com/download/iphone\" r...</td>\n",
              "      <td>This is Augie. He's a savage. Doesn't give a h...</td>\n",
              "      <td>https://twitter.com/dog_rates/status/811627233...</td>\n",
              "      <td>10</td>\n",
              "      <td>10</td>\n",
              "      <td>Augie</td>\n",
              "      <td>NaN</td>\n",
              "    </tr>\n",
              "    <tr>\n",
              "      <th>920</th>\n",
              "      <td>756303284449767430</td>\n",
              "      <td>2016-07-22 01:42:09+00:00</td>\n",
              "      <td>&lt;a href=\"http://twitter.com/download/iphone\" r...</td>\n",
              "      <td>Pwease accept dis rose on behalf of dog. 11/10...</td>\n",
              "      <td>https://twitter.com/dog_rates/status/756303284...</td>\n",
              "      <td>11</td>\n",
              "      <td>10</td>\n",
              "      <td>NaN</td>\n",
              "      <td>NaN</td>\n",
              "    </tr>\n",
              "    <tr>\n",
              "      <th>41</th>\n",
              "      <td>884441805382717440</td>\n",
              "      <td>2017-07-10 15:58:53+00:00</td>\n",
              "      <td>&lt;a href=\"http://twitter.com/download/iphone\" r...</td>\n",
              "      <td>I present to you, Pup in Hat. Pup in Hat is gr...</td>\n",
              "      <td>https://twitter.com/dog_rates/status/884441805...</td>\n",
              "      <td>14</td>\n",
              "      <td>10</td>\n",
              "      <td>NaN</td>\n",
              "      <td>NaN</td>\n",
              "    </tr>\n",
              "  </tbody>\n",
              "</table>\n",
              "</div>"
            ],
            "text/plain": [
              "                tweet_id                 timestamp  ... dog_name   stage\n",
              "1340  704859558691414016 2016-03-02 02:43:09+00:00  ...      NaN  pupper\n",
              "1367  702598099714314240 2016-02-24 20:56:55+00:00  ...    Sansa  pupper\n",
              "514   811627233043480576 2016-12-21 17:39:46+00:00  ...    Augie     NaN\n",
              "920   756303284449767430 2016-07-22 01:42:09+00:00  ...      NaN     NaN\n",
              "41    884441805382717440 2017-07-10 15:58:53+00:00  ...      NaN     NaN\n",
              "\n",
              "[5 rows x 9 columns]"
            ]
          },
          "metadata": {
            "tags": []
          },
          "execution_count": 170
        }
      ]
    },
    {
      "cell_type": "markdown",
      "metadata": {
        "id": "Xg3sr8zHVUyC",
        "colab_type": "text"
      },
      "source": [
        "### 2-Merge the three dataframes together in a master one"
      ]
    },
    {
      "cell_type": "code",
      "metadata": {
        "id": "S4PBTgjVag7l",
        "colab_type": "code",
        "colab": {}
      },
      "source": [
        "twitter_archive_master=pd.merge(left=twitter_archive_clean,right=image_prediction_clean,on='tweet_id')"
      ],
      "execution_count": 0,
      "outputs": []
    },
    {
      "cell_type": "code",
      "metadata": {
        "id": "41Mq4RCHbUcF",
        "colab_type": "code",
        "colab": {}
      },
      "source": [
        "twitter_archive_master=pd.merge(left=twitter_archive_master,right=ret_fav_count_clean, on='tweet_id')"
      ],
      "execution_count": 0,
      "outputs": []
    },
    {
      "cell_type": "code",
      "metadata": {
        "id": "n35WC1yJcWmv",
        "colab_type": "code",
        "outputId": "30ca7932-a741-471a-98a0-fdc4e18f059f",
        "colab": {
          "base_uri": "https://localhost:8080/",
          "height": 335
        }
      },
      "source": [
        "twitter_archive_master.head(2)"
      ],
      "execution_count": 173,
      "outputs": [
        {
          "output_type": "execute_result",
          "data": {
            "text/html": [
              "<div>\n",
              "<style scoped>\n",
              "    .dataframe tbody tr th:only-of-type {\n",
              "        vertical-align: middle;\n",
              "    }\n",
              "\n",
              "    .dataframe tbody tr th {\n",
              "        vertical-align: top;\n",
              "    }\n",
              "\n",
              "    .dataframe thead th {\n",
              "        text-align: right;\n",
              "    }\n",
              "</style>\n",
              "<table border=\"1\" class=\"dataframe\">\n",
              "  <thead>\n",
              "    <tr style=\"text-align: right;\">\n",
              "      <th></th>\n",
              "      <th>tweet_id</th>\n",
              "      <th>timestamp_x</th>\n",
              "      <th>source</th>\n",
              "      <th>text</th>\n",
              "      <th>expanded_urls</th>\n",
              "      <th>rating_numerator</th>\n",
              "      <th>rating_denominator</th>\n",
              "      <th>dog_name</th>\n",
              "      <th>stage</th>\n",
              "      <th>jpg_url</th>\n",
              "      <th>img_num</th>\n",
              "      <th>dog_breed</th>\n",
              "      <th>prediction_confidence</th>\n",
              "      <th>favorites</th>\n",
              "      <th>retweets</th>\n",
              "      <th>timestamp_y</th>\n",
              "    </tr>\n",
              "  </thead>\n",
              "  <tbody>\n",
              "    <tr>\n",
              "      <th>0</th>\n",
              "      <td>892420643555336193</td>\n",
              "      <td>2017-08-01 16:23:56+00:00</td>\n",
              "      <td>&lt;a href=\"http://twitter.com/download/iphone\" r...</td>\n",
              "      <td>This is Phineas. He's a mystical boy. Only eve...</td>\n",
              "      <td>https://twitter.com/dog_rates/status/892420643...</td>\n",
              "      <td>13</td>\n",
              "      <td>10</td>\n",
              "      <td>Phineas</td>\n",
              "      <td>NaN</td>\n",
              "      <td>https://pbs.twimg.com/media/DGKD1-bXoAAIAUK.jpg</td>\n",
              "      <td>1</td>\n",
              "      <td>NaN</td>\n",
              "      <td>0.097049</td>\n",
              "      <td>36549</td>\n",
              "      <td>7783</td>\n",
              "      <td>Tue Aug 01 16:23:56 +0000 2017</td>\n",
              "    </tr>\n",
              "    <tr>\n",
              "      <th>1</th>\n",
              "      <td>892177421306343426</td>\n",
              "      <td>2017-08-01 00:17:27+00:00</td>\n",
              "      <td>&lt;a href=\"http://twitter.com/download/iphone\" r...</td>\n",
              "      <td>This is Tilly. She's just checking pup on you....</td>\n",
              "      <td>https://twitter.com/dog_rates/status/892177421...</td>\n",
              "      <td>13</td>\n",
              "      <td>10</td>\n",
              "      <td>Tilly</td>\n",
              "      <td>NaN</td>\n",
              "      <td>https://pbs.twimg.com/media/DGGmoV4XsAAUL6n.jpg</td>\n",
              "      <td>1</td>\n",
              "      <td>chihuahua</td>\n",
              "      <td>0.323581</td>\n",
              "      <td>31477</td>\n",
              "      <td>5766</td>\n",
              "      <td>Tue Aug 01 00:17:27 +0000 2017</td>\n",
              "    </tr>\n",
              "  </tbody>\n",
              "</table>\n",
              "</div>"
            ],
            "text/plain": [
              "             tweet_id  ...                     timestamp_y\n",
              "0  892420643555336193  ...  Tue Aug 01 16:23:56 +0000 2017\n",
              "1  892177421306343426  ...  Tue Aug 01 00:17:27 +0000 2017\n",
              "\n",
              "[2 rows x 16 columns]"
            ]
          },
          "metadata": {
            "tags": []
          },
          "execution_count": 173
        }
      ]
    },
    {
      "cell_type": "code",
      "metadata": {
        "id": "N22oCV_8cZff",
        "colab_type": "code",
        "outputId": "7e11bfd3-202e-4264-e66f-cd45f0c229b9",
        "colab": {
          "base_uri": "https://localhost:8080/",
          "height": 34
        }
      },
      "source": [
        "twitter_archive_master.shape"
      ],
      "execution_count": 174,
      "outputs": [
        {
          "output_type": "execute_result",
          "data": {
            "text/plain": [
              "(1941, 16)"
            ]
          },
          "metadata": {
            "tags": []
          },
          "execution_count": 174
        }
      ]
    },
    {
      "cell_type": "markdown",
      "metadata": {
        "id": "G4bZ9ZYAee0r",
        "colab_type": "text"
      },
      "source": [
        "\n",
        "### I will rearrange columns for better convenience "
      ]
    },
    {
      "cell_type": "code",
      "metadata": {
        "id": "qn8GIMvQddBp",
        "colab_type": "code",
        "outputId": "af7388a9-7c0e-463e-b9a4-c4fdacf75e99",
        "colab": {
          "base_uri": "https://localhost:8080/",
          "height": 102
        }
      },
      "source": [
        "twitter_archive_master.columns"
      ],
      "execution_count": 175,
      "outputs": [
        {
          "output_type": "execute_result",
          "data": {
            "text/plain": [
              "Index(['tweet_id', 'timestamp_x', 'source', 'text', 'expanded_urls',\n",
              "       'rating_numerator', 'rating_denominator', 'dog_name', 'stage',\n",
              "       'jpg_url', 'img_num', 'dog_breed', 'prediction_confidence', 'favorites',\n",
              "       'retweets', 'timestamp_y'],\n",
              "      dtype='object')"
            ]
          },
          "metadata": {
            "tags": []
          },
          "execution_count": 175
        }
      ]
    },
    {
      "cell_type": "code",
      "metadata": {
        "id": "ZhH83LtMebYy",
        "colab_type": "code",
        "outputId": "dc5ff214-1de9-4f07-adf1-7b91423ad67d",
        "colab": {
          "base_uri": "https://localhost:8080/",
          "height": 1000
        }
      },
      "source": [
        "twitter_archive_master=twitter_archive_master[['tweet_id','favorites', 'retweets','dog_name','dog_breed','stage','rating_numerator', 'rating_denominator', 'source', 'text', 'expanded_urls', 'jpg_url', 'img_num', 'prediction_confidence', 'timestamp_y','timestamp_x']]\n",
        "twitter_archive_master.sample(10)"
      ],
      "execution_count": 177,
      "outputs": [
        {
          "output_type": "execute_result",
          "data": {
            "text/html": [
              "<div>\n",
              "<style scoped>\n",
              "    .dataframe tbody tr th:only-of-type {\n",
              "        vertical-align: middle;\n",
              "    }\n",
              "\n",
              "    .dataframe tbody tr th {\n",
              "        vertical-align: top;\n",
              "    }\n",
              "\n",
              "    .dataframe thead th {\n",
              "        text-align: right;\n",
              "    }\n",
              "</style>\n",
              "<table border=\"1\" class=\"dataframe\">\n",
              "  <thead>\n",
              "    <tr style=\"text-align: right;\">\n",
              "      <th></th>\n",
              "      <th>tweet_id</th>\n",
              "      <th>favorites</th>\n",
              "      <th>retweets</th>\n",
              "      <th>dog_name</th>\n",
              "      <th>dog_breed</th>\n",
              "      <th>stage</th>\n",
              "      <th>rating_numerator</th>\n",
              "      <th>rating_denominator</th>\n",
              "      <th>source</th>\n",
              "      <th>text</th>\n",
              "      <th>expanded_urls</th>\n",
              "      <th>jpg_url</th>\n",
              "      <th>img_num</th>\n",
              "      <th>prediction_confidence</th>\n",
              "      <th>timestamp_y</th>\n",
              "      <th>timestamp_x</th>\n",
              "    </tr>\n",
              "  </thead>\n",
              "  <tbody>\n",
              "    <tr>\n",
              "      <th>931</th>\n",
              "      <td>712092745624633345</td>\n",
              "      <td>2955</td>\n",
              "      <td>891</td>\n",
              "      <td>Steven</td>\n",
              "      <td>NaN</td>\n",
              "      <td>NaN</td>\n",
              "      <td>7</td>\n",
              "      <td>10</td>\n",
              "      <td>&lt;a href=\"http://twitter.com/download/iphone\" r...</td>\n",
              "      <td>This is Steven. He's inverted af. Also very he...</td>\n",
              "      <td>https://twitter.com/dog_rates/status/712092745...</td>\n",
              "      <td>https://pbs.twimg.com/media/CeHckpuW4AAF7rT.jpg</td>\n",
              "      <td>1</td>\n",
              "      <td>0.235373</td>\n",
              "      <td>Tue Mar 22 01:45:15 +0000 2016</td>\n",
              "      <td>2016-03-22 01:45:15+00:00</td>\n",
              "    </tr>\n",
              "    <tr>\n",
              "      <th>1934</th>\n",
              "      <td>666051853826850816</td>\n",
              "      <td>1141</td>\n",
              "      <td>788</td>\n",
              "      <td>an</td>\n",
              "      <td>NaN</td>\n",
              "      <td>NaN</td>\n",
              "      <td>2</td>\n",
              "      <td>10</td>\n",
              "      <td>&lt;a href=\"http://twitter.com/download/iphone\" r...</td>\n",
              "      <td>This is an odd dog. Hard on the outside but lo...</td>\n",
              "      <td>https://twitter.com/dog_rates/status/666051853...</td>\n",
              "      <td>https://pbs.twimg.com/media/CT5KoJ1WoAAJash.jpg</td>\n",
              "      <td>1</td>\n",
              "      <td>0.933012</td>\n",
              "      <td>Mon Nov 16 00:35:11 +0000 2015</td>\n",
              "      <td>2015-11-16 00:35:11+00:00</td>\n",
              "    </tr>\n",
              "    <tr>\n",
              "      <th>1518</th>\n",
              "      <td>674262580978937856</td>\n",
              "      <td>1281</td>\n",
              "      <td>442</td>\n",
              "      <td>Gus</td>\n",
              "      <td>greater_swiss_mountain_dog</td>\n",
              "      <td>pupper</td>\n",
              "      <td>9</td>\n",
              "      <td>10</td>\n",
              "      <td>&lt;a href=\"http://twitter.com/download/iphone\" r...</td>\n",
              "      <td>This is Gus. He's super stoked about being an ...</td>\n",
              "      <td>https://twitter.com/dog_rates/status/674262580...</td>\n",
              "      <td>https://pbs.twimg.com/media/CVt2PawWIAEUkqW.jpg</td>\n",
              "      <td>1</td>\n",
              "      <td>0.519428</td>\n",
              "      <td>Tue Dec 08 16:21:41 +0000 2015</td>\n",
              "      <td>2015-12-08 16:21:41+00:00</td>\n",
              "    </tr>\n",
              "    <tr>\n",
              "      <th>1202</th>\n",
              "      <td>688789766343622656</td>\n",
              "      <td>2239</td>\n",
              "      <td>666</td>\n",
              "      <td>Pubert</td>\n",
              "      <td>american_staffordshire_terrier</td>\n",
              "      <td>NaN</td>\n",
              "      <td>8</td>\n",
              "      <td>10</td>\n",
              "      <td>&lt;a href=\"http://twitter.com/download/iphone\" r...</td>\n",
              "      <td>Meet Pubert. He's a Kerplunk Rumplestilt. Cann...</td>\n",
              "      <td>https://twitter.com/dog_rates/status/688789766...</td>\n",
              "      <td>https://pbs.twimg.com/media/CY8SocAWsAARuyh.jpg</td>\n",
              "      <td>1</td>\n",
              "      <td>0.599660</td>\n",
              "      <td>Sun Jan 17 18:27:32 +0000 2016</td>\n",
              "      <td>2016-01-17 18:27:32+00:00</td>\n",
              "    </tr>\n",
              "    <tr>\n",
              "      <th>614</th>\n",
              "      <td>763183847194451968</td>\n",
              "      <td>5481</td>\n",
              "      <td>1502</td>\n",
              "      <td>Clark</td>\n",
              "      <td>miniature_poodle</td>\n",
              "      <td>NaN</td>\n",
              "      <td>8</td>\n",
              "      <td>10</td>\n",
              "      <td>&lt;a href=\"http://twitter.com/download/iphone\" r...</td>\n",
              "      <td>This is Clark. He collects teddy bears. It's a...</td>\n",
              "      <td>https://twitter.com/dog_rates/status/763183847...</td>\n",
              "      <td>https://pbs.twimg.com/media/CpdfpzKWYAAWSUi.jpg</td>\n",
              "      <td>1</td>\n",
              "      <td>0.354674</td>\n",
              "      <td>Wed Aug 10 01:23:03 +0000 2016</td>\n",
              "      <td>2016-08-10 01:23:03+00:00</td>\n",
              "    </tr>\n",
              "    <tr>\n",
              "      <th>1131</th>\n",
              "      <td>693629975228977152</td>\n",
              "      <td>2461</td>\n",
              "      <td>800</td>\n",
              "      <td>NaN</td>\n",
              "      <td>pug</td>\n",
              "      <td>pupper</td>\n",
              "      <td>12</td>\n",
              "      <td>10</td>\n",
              "      <td>&lt;a href=\"http://twitter.com/download/iphone\" r...</td>\n",
              "      <td>This pupper is afraid of its own feet. 12/10 w...</td>\n",
              "      <td>https://twitter.com/dog_rates/status/693629975...</td>\n",
              "      <td>https://pbs.twimg.com/media/CaBEx3SWEAILZpi.jpg</td>\n",
              "      <td>1</td>\n",
              "      <td>0.841987</td>\n",
              "      <td>Sun Jan 31 03:00:47 +0000 2016</td>\n",
              "      <td>2016-01-31 03:00:47+00:00</td>\n",
              "    </tr>\n",
              "    <tr>\n",
              "      <th>1190</th>\n",
              "      <td>689289219123089408</td>\n",
              "      <td>2277</td>\n",
              "      <td>947</td>\n",
              "      <td>NaN</td>\n",
              "      <td>NaN</td>\n",
              "      <td>NaN</td>\n",
              "      <td>13</td>\n",
              "      <td>10</td>\n",
              "      <td>&lt;a href=\"http://twitter.com/download/iphone\" r...</td>\n",
              "      <td>Someone sent me this without any context and e...</td>\n",
              "      <td>https://twitter.com/dog_rates/status/689289219...</td>\n",
              "      <td>https://pbs.twimg.com/ext_tw_video_thumb/68928...</td>\n",
              "      <td>1</td>\n",
              "      <td>0.254642</td>\n",
              "      <td>Tue Jan 19 03:32:10 +0000 2016</td>\n",
              "      <td>2016-01-19 03:32:10+00:00</td>\n",
              "    </tr>\n",
              "    <tr>\n",
              "      <th>1761</th>\n",
              "      <td>669351434509529089</td>\n",
              "      <td>421</td>\n",
              "      <td>174</td>\n",
              "      <td>Sully</td>\n",
              "      <td>NaN</td>\n",
              "      <td>NaN</td>\n",
              "      <td>10</td>\n",
              "      <td>10</td>\n",
              "      <td>&lt;a href=\"http://twitter.com/download/iphone\" r...</td>\n",
              "      <td>This is Sully. He's a Leviticus Galapagos. Ver...</td>\n",
              "      <td>https://twitter.com/dog_rates/status/669351434...</td>\n",
              "      <td>https://pbs.twimg.com/media/CUoDk8mWsAAMyBL.jpg</td>\n",
              "      <td>1</td>\n",
              "      <td>0.756829</td>\n",
              "      <td>Wed Nov 25 03:06:32 +0000 2015</td>\n",
              "      <td>2015-11-25 03:06:32+00:00</td>\n",
              "    </tr>\n",
              "    <tr>\n",
              "      <th>248</th>\n",
              "      <td>831939777352105988</td>\n",
              "      <td>24330</td>\n",
              "      <td>6243</td>\n",
              "      <td>Emanuel</td>\n",
              "      <td>pomeranian</td>\n",
              "      <td>doggo</td>\n",
              "      <td>12</td>\n",
              "      <td>10</td>\n",
              "      <td>&lt;a href=\"http://twitter.com/download/iphone\" r...</td>\n",
              "      <td>This is Emanuel. He's a h*ckin rare doggo. Dwe...</td>\n",
              "      <td>https://twitter.com/dog_rates/status/831939777...</td>\n",
              "      <td>https://pbs.twimg.com/media/C4uk0EWWQAAaZm1.jpg</td>\n",
              "      <td>1</td>\n",
              "      <td>0.153862</td>\n",
              "      <td>Wed Feb 15 18:54:34 +0000 2017</td>\n",
              "      <td>2017-02-15 18:54:34+00:00</td>\n",
              "    </tr>\n",
              "    <tr>\n",
              "      <th>485</th>\n",
              "      <td>788150585577050112</td>\n",
              "      <td>6303</td>\n",
              "      <td>1335</td>\n",
              "      <td>Leo</td>\n",
              "      <td>chow</td>\n",
              "      <td>NaN</td>\n",
              "      <td>13</td>\n",
              "      <td>10</td>\n",
              "      <td>&lt;a href=\"http://twitter.com/download/iphone\" r...</td>\n",
              "      <td>This is Leo. He's a golden chow. Rather h*ckin...</td>\n",
              "      <td>https://twitter.com/dog_rates/status/788150585...</td>\n",
              "      <td>https://pbs.twimg.com/media/CvASw6dWcAQmo3X.jpg</td>\n",
              "      <td>3</td>\n",
              "      <td>0.814145</td>\n",
              "      <td>Mon Oct 17 22:51:57 +0000 2016</td>\n",
              "      <td>2016-10-17 22:51:57+00:00</td>\n",
              "    </tr>\n",
              "  </tbody>\n",
              "</table>\n",
              "</div>"
            ],
            "text/plain": [
              "                tweet_id  ...               timestamp_x\n",
              "931   712092745624633345  ... 2016-03-22 01:45:15+00:00\n",
              "1934  666051853826850816  ... 2015-11-16 00:35:11+00:00\n",
              "1518  674262580978937856  ... 2015-12-08 16:21:41+00:00\n",
              "1202  688789766343622656  ... 2016-01-17 18:27:32+00:00\n",
              "614   763183847194451968  ... 2016-08-10 01:23:03+00:00\n",
              "1131  693629975228977152  ... 2016-01-31 03:00:47+00:00\n",
              "1190  689289219123089408  ... 2016-01-19 03:32:10+00:00\n",
              "1761  669351434509529089  ... 2015-11-25 03:06:32+00:00\n",
              "248   831939777352105988  ... 2017-02-15 18:54:34+00:00\n",
              "485   788150585577050112  ... 2016-10-17 22:51:57+00:00\n",
              "\n",
              "[10 rows x 16 columns]"
            ]
          },
          "metadata": {
            "tags": []
          },
          "execution_count": 177
        }
      ]
    },
    {
      "cell_type": "markdown",
      "metadata": {
        "id": "4j1MMCR7gnPN",
        "colab_type": "text"
      },
      "source": [
        "### Storing\n",
        "I will store the twitter_archive_master as a csv file and also a database table"
      ]
    },
    {
      "cell_type": "code",
      "metadata": {
        "id": "rW-Sdqn5gScb",
        "colab_type": "code",
        "colab": {}
      },
      "source": [
        "twitter_archive_master.to_csv('twitter_archive_master.csv',index=False)"
      ],
      "execution_count": 0,
      "outputs": []
    },
    {
      "cell_type": "code",
      "metadata": {
        "id": "jb9boW9KhKyj",
        "colab_type": "code",
        "colab": {}
      },
      "source": [
        "from sqlalchemy import create_engine"
      ],
      "execution_count": 0,
      "outputs": []
    },
    {
      "cell_type": "code",
      "metadata": {
        "id": "GhiuQ9QninRj",
        "colab_type": "code",
        "colab": {}
      },
      "source": [
        "engine = create_engine('sqlite:///twitter_archive_master.db')"
      ],
      "execution_count": 0,
      "outputs": []
    },
    {
      "cell_type": "code",
      "metadata": {
        "id": "aMG0DSHHizVf",
        "colab_type": "code",
        "colab": {}
      },
      "source": [
        "twitter_archive_master.to_sql('master',engine,index=False)"
      ],
      "execution_count": 0,
      "outputs": []
    },
    {
      "cell_type": "markdown",
      "metadata": {
        "id": "qVFjZ_zDj8cT",
        "colab_type": "text"
      },
      "source": [
        "# Analysis and Visualizations"
      ]
    },
    {
      "cell_type": "code",
      "metadata": {
        "id": "8ihFXmLVlgDF",
        "colab_type": "code",
        "outputId": "0714b056-2c71-440b-89ca-9e284695560d",
        "colab": {
          "base_uri": "https://localhost:8080/",
          "height": 272
        }
      },
      "source": [
        "twitter_archive_master.rating_numerator.value_counts()"
      ],
      "execution_count": 184,
      "outputs": [
        {
          "output_type": "execute_result",
          "data": {
            "text/plain": [
              "12    444\n",
              "10    416\n",
              "11    392\n",
              "13    249\n",
              "9     149\n",
              "8      95\n",
              "7      51\n",
              "14     33\n",
              "5      33\n",
              "6      32\n",
              "3      19\n",
              "4      15\n",
              "2       9\n",
              "1       4\n",
              "Name: rating_numerator, dtype: int64"
            ]
          },
          "metadata": {
            "tags": []
          },
          "execution_count": 184
        }
      ]
    },
    {
      "cell_type": "code",
      "metadata": {
        "id": "euUVIRdGW6py",
        "colab_type": "code",
        "colab": {
          "base_uri": "https://localhost:8080/",
          "height": 285
        },
        "outputId": "e8921af6-5f10-4621-ae56-8473f16c755b"
      },
      "source": [
        "twitter_archive_master.rating_numerator.value_counts().plot(kind='bar')"
      ],
      "execution_count": 192,
      "outputs": [
        {
          "output_type": "execute_result",
          "data": {
            "text/plain": [
              "<matplotlib.axes._subplots.AxesSubplot at 0x7f91b7585d30>"
            ]
          },
          "metadata": {
            "tags": []
          },
          "execution_count": 192
        },
        {
          "output_type": "display_data",
          "data": {
            "image/png": "[encoded data removed]",
            "text/plain": [
              "<Figure size 432x288 with 1 Axes>"
            ]
          },
          "metadata": {
            "tags": []
          }
        }
      ]
    },
    {
      "cell_type": "code",
      "metadata": {
        "id": "wrKnqU7yWvb1",
        "colab_type": "code",
        "colab": {
          "base_uri": "https://localhost:8080/",
          "height": 170
        },
        "outputId": "e46c633f-8287-4f29-a958-210792a68031"
      },
      "source": [
        "twitter_archive_master.rating_numerator.describe()"
      ],
      "execution_count": 185,
      "outputs": [
        {
          "output_type": "execute_result",
          "data": {
            "text/plain": [
              "count    1941.000000\n",
              "mean       10.537352\n",
              "std         2.162537\n",
              "min         1.000000\n",
              "25%        10.000000\n",
              "50%        11.000000\n",
              "75%        12.000000\n",
              "max        14.000000\n",
              "Name: rating_numerator, dtype: float64"
            ]
          },
          "metadata": {
            "tags": []
          },
          "execution_count": 185
        }
      ]
    },
    {
      "cell_type": "code",
      "metadata": {
        "id": "8VWE42K8jIbF",
        "colab_type": "code",
        "outputId": "b1528982-4ef0-400e-a2bb-e2291310af4c",
        "colab": {
          "base_uri": "https://localhost:8080/",
          "height": 694
        }
      },
      "source": [
        "twitter_archive_master.plot(x='favorites',y='retweets',kind='scatter',figsize=(20,10));"
      ],
      "execution_count": 198,
      "outputs": [
        {
          "output_type": "stream",
          "text": [
            "/usr/local/lib/python3.6/dist-packages/pandas/plotting/_matplotlib/core.py:420: FutureWarning: Converting timezone-aware DatetimeArray to timezone-naive ndarray with 'datetime64[ns]' dtype. In the future, this will return an ndarray with 'object' dtype where each element is a 'pandas.Timestamp' with the correct 'tz'.\n",
            "\tTo accept the future behavior, pass 'dtype=object'.\n",
            "\tTo keep the old behavior, pass 'dtype=\"datetime64[ns]\"'.\n",
            "  numeric_data[col] = np.asarray(numeric_data[col])\n"
          ],
          "name": "stderr"
        },
        {
          "output_type": "display_data",
          "data": {
            "image/png": "[encoded data removed]",
            "text/plain": [
              "<Figure size 1440x720 with 1 Axes>"
            ]
          },
          "metadata": {
            "tags": []
          }
        }
      ]
    },
    {
      "cell_type": "code",
      "metadata": {
        "id": "3cBtjUk_kpMj",
        "colab_type": "code",
        "outputId": "4a52d49b-0230-47d4-d711-50602d2ef658",
        "colab": {
          "base_uri": "https://localhost:8080/",
          "height": 589
        }
      },
      "source": [
        "twitter_archive_master.plot(x='timestamp_x',y='rating_numerator',kind='line',figsize=(15,10))"
      ],
      "execution_count": 206,
      "outputs": [
        {
          "output_type": "execute_result",
          "data": {
            "text/plain": [
              "<matplotlib.axes._subplots.AxesSubplot at 0x7f91b31b0630>"
            ]
          },
          "metadata": {
            "tags": []
          },
          "execution_count": 206
        },
        {
          "output_type": "display_data",
          "data": {
            "image/png": "[encoded data removed]",
            "text/plain": [
              "<Figure size 1080x720 with 1 Axes>"
            ]
          },
          "metadata": {
            "tags": []
          }
        }
      ]
    },
    {
      "cell_type": "code",
      "metadata": {
        "id": "S1NCUwHepvju",
        "colab_type": "code",
        "outputId": "d69d76cd-6404-4a82-b850-9f0b32de28bf",
        "colab": {
          "base_uri": "https://localhost:8080/",
          "height": 694
        }
      },
      "source": [
        "twitter_archive_master.plot(x='favorites',y='retweets',kind='scatter',figsize=(15,10));"
      ],
      "execution_count": 0,
      "outputs": [
        {
          "output_type": "stream",
          "text": [
            "/usr/local/lib/python3.6/dist-packages/pandas/plotting/_matplotlib/core.py:420: FutureWarning: Converting timezone-aware DatetimeArray to timezone-naive ndarray with 'datetime64[ns]' dtype. In the future, this will return an ndarray with 'object' dtype where each element is a 'pandas.Timestamp' with the correct 'tz'.\n",
            "\tTo accept the future behavior, pass 'dtype=object'.\n",
            "\tTo keep the old behavior, pass 'dtype=\"datetime64[ns]\"'.\n",
            "  numeric_data[col] = np.asarray(numeric_data[col])\n"
          ],
          "name": "stderr"
        },
        {
          "output_type": "display_data",
          "data": {
            "image/png": "[encoded data removed]",
            "text/plain": [
              "<Figure size 1080x720 with 1 Axes>"
            ]
          },
          "metadata": {
            "tags": []
          }
        }
      ]
    },
    {
      "cell_type": "code",
      "metadata": {
        "id": "8pWkyBauvkkC",
        "colab_type": "code",
        "outputId": "34efa4cc-e40b-4aae-e128-fef3f5f5164d",
        "colab": {
          "base_uri": "https://localhost:8080/",
          "height": 391
        }
      },
      "source": [
        "breeds=twitter_archive_master.groupby(by='dog_breed').rating_numerator.mean().sort_values(ascending=False).head(20)\n",
        "breeds"
      ],
      "execution_count": 199,
      "outputs": [
        {
          "output_type": "execute_result",
          "data": {
            "text/plain": [
              "dog_breed\n",
              "saluki                     12.500000\n",
              "briard                     12.333333\n",
              "tibetan_mastiff            12.250000\n",
              "border_terrier             12.142857\n",
              "silky_terrier              12.000000\n",
              "standard_schnauzer         12.000000\n",
              "eskimo_dog                 11.777778\n",
              "gordon_setter              11.750000\n",
              "irish_setter               11.750000\n",
              "samoyed                    11.743590\n",
              "chow                       11.609756\n",
              "golden_retriever           11.567164\n",
              "cardigan                   11.529412\n",
              "wire-haired_fox_terrier    11.500000\n",
              "australian_terrier         11.500000\n",
              "giant_schnauzer            11.500000\n",
              "great_pyrenees             11.461538\n",
              "kelpie                     11.454545\n",
              "pembroke                   11.443182\n",
              "irish_water_spaniel        11.333333\n",
              "Name: rating_numerator, dtype: float64"
            ]
          },
          "metadata": {
            "tags": []
          },
          "execution_count": 199
        }
      ]
    },
    {
      "cell_type": "code",
      "metadata": {
        "id": "59My1TI5wbNZ",
        "colab_type": "code",
        "outputId": "94e3b8cd-f094-4cfb-c08c-9989932e04ec",
        "colab": {
          "base_uri": "https://localhost:8080/",
          "height": 510
        }
      },
      "source": [
        "breeds.plot(kind='bar',figsize=(10,6))"
      ],
      "execution_count": 202,
      "outputs": [
        {
          "output_type": "execute_result",
          "data": {
            "text/plain": [
              "<matplotlib.axes._subplots.AxesSubplot at 0x7f91b327a390>"
            ]
          },
          "metadata": {
            "tags": []
          },
          "execution_count": 202
        },
        {
          "output_type": "display_data",
          "data": {
            "image/png": "[encoded data removed]",
            "text/plain": [
              "<Figure size 720x432 with 1 Axes>"
            ]
          },
          "metadata": {
            "tags": []
          }
        }
      ]
    },
    {
      "cell_type": "code",
      "metadata": {
        "id": "BTviTiHNwx4U",
        "colab_type": "code",
        "colab": {}
      },
      "source": [
        ""
      ],
      "execution_count": 0,
      "outputs": []
    }
  ]
}