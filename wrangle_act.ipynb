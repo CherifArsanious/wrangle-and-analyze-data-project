{
  "nbformat": 4,
  "nbformat_minor": 0,
  "metadata": {
    "colab": {
      "name": "wrangle_act.ipynb",
      "provenance": [],
      "authorship_tag": "ABX9TyN+eYUxGfnS8W57N24ax802",
      "include_colab_link": true
    },
    "kernelspec": {
      "name": "python3",
      "display_name": "Python 3"
    }
  },
  "cells": [
    {
      "cell_type": "markdown",
      "metadata": {
        "id": "view-in-github",
        "colab_type": "text"
      },
      "source": [
        "<a href=\"https://colab.research.google.com/github/CherifArsanious/wrangle-and-analyze-data-project/blob/master/wrangle_act.ipynb\" target=\"_parent\"><img src=\"https://colab.research.google.com/assets/colab-badge.svg\" alt=\"Open In Colab\"/></a>"
      ]
    },
    {
      "cell_type": "markdown",
      "metadata": {
        "id": "J5Kqqiz8cfSO",
        "colab_type": "text"
      },
      "source": [
        "# Data-Analysis-NanoDegree-Udacity-Project-4\n",
        "## Wrangle-and-Analyze-Data\n",
        "## Project-done-by-Cherif.Arsanious"
      ]
    },
    {
      "cell_type": "markdown",
      "metadata": {
        "id": "2wvFO_ZLdIa9",
        "colab_type": "text"
      },
      "source": [
        "## Project-Overview\n",
        "This project is divided into 3 parts \n",
        "\n",
        "1- Wrangle Data\n",
        "\n",
        "I have to gather data from a csv file prepared by the instructor, a tsv file from a url using the requests library and gather data from twitter api using tweepy. I have to assess the collected data and clean them from dirty and messy data and test to make sure of my cleaning process\n",
        "\n",
        "2- Storing, analyzing, and visualizing my wrangled data\n",
        "\n",
        "3- Make 2 reports on my data wrangling efforts and my data analyses and visualizations efforts"
      ]
    },
    {
      "cell_type": "markdown",
      "metadata": {
        "id": "r3Q3cmsnfh_3",
        "colab_type": "text"
      },
      "source": [
        "First step in my wrangle effort is to import the required libraries that will help me to gather, assess and clean the data"
      ]
    },
    {
      "cell_type": "code",
      "metadata": {
        "id": "Y8qqRAIUesYb",
        "colab_type": "code",
        "colab": {}
      },
      "source": [
        "#First I will import the necessary libraries to start my project\n",
        "import pandas as pd\n",
        "import numpy as np\n",
        "import matplotlib.pyplot as plt\n",
        "%matplotlib inline\n",
        "import requests\n",
        "import tweepy\n",
        "import json"
      ],
      "execution_count": 0,
      "outputs": []
    },
    {
      "cell_type": "code",
      "metadata": {
        "id": "BRn4XrG1a600",
        "colab_type": "code",
        "outputId": "cf7f8063-bdf1-4827-efe8-f0fae8cf813b",
        "colab": {
          "base_uri": "https://localhost:8080/",
          "height": 119
        }
      },
      "source": [
        "#I should get the needed files that contains my csv and tsv file\n",
        "!git clone https://github.com/CherifArsanious/wrangle-and-analyze-data-project.git"
      ],
      "execution_count": 2,
      "outputs": [
        {
          "output_type": "stream",
          "text": [
            "Cloning into 'wrangle-and-analyze-data-project'...\n",
            "remote: Enumerating objects: 23, done.\u001b[K\n",
            "remote: Counting objects:   4% (1/23)\u001b[K\rremote: Counting objects:   8% (2/23)\u001b[K\rremote: Counting objects:  13% (3/23)\u001b[K\rremote: Counting objects:  17% (4/23)\u001b[K\rremote: Counting objects:  21% (5/23)\u001b[K\rremote: Counting objects:  26% (6/23)\u001b[K\rremote: Counting objects:  30% (7/23)\u001b[K\rremote: Counting objects:  34% (8/23)\u001b[K\rremote: Counting objects:  39% (9/23)\u001b[K\rremote: Counting objects:  43% (10/23)\u001b[K\rremote: Counting objects:  47% (11/23)\u001b[K\rremote: Counting objects:  52% (12/23)\u001b[K\rremote: Counting objects:  56% (13/23)\u001b[K\rremote: Counting objects:  60% (14/23)\u001b[K\rremote: Counting objects:  65% (15/23)\u001b[K\rremote: Counting objects:  69% (16/23)\u001b[K\rremote: Counting objects:  73% (17/23)\u001b[K\rremote: Counting objects:  78% (18/23)\u001b[K\rremote: Counting objects:  82% (19/23)\u001b[K\rremote: Counting objects:  86% (20/23)\u001b[K\rremote: Counting objects:  91% (21/23)\u001b[K\rremote: Counting objects:  95% (22/23)\u001b[K\rremote: Counting objects: 100% (23/23)\u001b[K\rremote: Counting objects: 100% (23/23), done.\u001b[K\n",
            "remote: Compressing objects: 100% (23/23), done.\u001b[K\n",
            "remote: Total 23 (delta 11), reused 0 (delta 0), pack-reused 0\u001b[K\n",
            "Unpacking objects: 100% (23/23), done.\n"
          ],
          "name": "stdout"
        }
      ]
    },
    {
      "cell_type": "markdown",
      "metadata": {
        "id": "dyReQwBqGed8",
        "colab_type": "text"
      },
      "source": [
        "# Gather"
      ]
    },
    {
      "cell_type": "markdown",
      "metadata": {
        "id": "EdBMRyYVPjM5",
        "colab_type": "text"
      },
      "source": [
        "## Our first source of data is twitter_archive.csv file\n",
        "That file was ready available on Udacity platform and just needed to be imported through the right libraries"
      ]
    },
    {
      "cell_type": "code",
      "metadata": {
        "id": "-lS3zoCzcdgU",
        "colab_type": "code",
        "outputId": "130891c3-8d90-477d-e799-2d4c6a8aeb74",
        "colab": {
          "base_uri": "https://localhost:8080/",
          "height": 581
        }
      },
      "source": [
        "twitter_archive=pd.read_csv('wrangle-and-analyze-data-project/twitter-archive-enhanced.csv')\n",
        "twitter_archive.head()"
      ],
      "execution_count": 3,
      "outputs": [
        {
          "output_type": "execute_result",
          "data": {
            "text/html": [
              "<div>\n",
              "<style scoped>\n",
              "    .dataframe tbody tr th:only-of-type {\n",
              "        vertical-align: middle;\n",
              "    }\n",
              "\n",
              "    .dataframe tbody tr th {\n",
              "        vertical-align: top;\n",
              "    }\n",
              "\n",
              "    .dataframe thead th {\n",
              "        text-align: right;\n",
              "    }\n",
              "</style>\n",
              "<table border=\"1\" class=\"dataframe\">\n",
              "  <thead>\n",
              "    <tr style=\"text-align: right;\">\n",
              "      <th></th>\n",
              "      <th>tweet_id</th>\n",
              "      <th>in_reply_to_status_id</th>\n",
              "      <th>in_reply_to_user_id</th>\n",
              "      <th>timestamp</th>\n",
              "      <th>source</th>\n",
              "      <th>text</th>\n",
              "      <th>retweeted_status_id</th>\n",
              "      <th>retweeted_status_user_id</th>\n",
              "      <th>retweeted_status_timestamp</th>\n",
              "      <th>expanded_urls</th>\n",
              "      <th>rating_numerator</th>\n",
              "      <th>rating_denominator</th>\n",
              "      <th>name</th>\n",
              "      <th>doggo</th>\n",
              "      <th>floofer</th>\n",
              "      <th>pupper</th>\n",
              "      <th>puppo</th>\n",
              "    </tr>\n",
              "  </thead>\n",
              "  <tbody>\n",
              "    <tr>\n",
              "      <th>0</th>\n",
              "      <td>892420643555336193</td>\n",
              "      <td>NaN</td>\n",
              "      <td>NaN</td>\n",
              "      <td>2017-08-01 16:23:56 +0000</td>\n",
              "      <td>&lt;a href=\"http://twitter.com/download/iphone\" r...</td>\n",
              "      <td>This is Phineas. He's a mystical boy. Only eve...</td>\n",
              "      <td>NaN</td>\n",
              "      <td>NaN</td>\n",
              "      <td>NaN</td>\n",
              "      <td>https://twitter.com/dog_rates/status/892420643...</td>\n",
              "      <td>13</td>\n",
              "      <td>10</td>\n",
              "      <td>Phineas</td>\n",
              "      <td>None</td>\n",
              "      <td>None</td>\n",
              "      <td>None</td>\n",
              "      <td>None</td>\n",
              "    </tr>\n",
              "    <tr>\n",
              "      <th>1</th>\n",
              "      <td>892177421306343426</td>\n",
              "      <td>NaN</td>\n",
              "      <td>NaN</td>\n",
              "      <td>2017-08-01 00:17:27 +0000</td>\n",
              "      <td>&lt;a href=\"http://twitter.com/download/iphone\" r...</td>\n",
              "      <td>This is Tilly. She's just checking pup on you....</td>\n",
              "      <td>NaN</td>\n",
              "      <td>NaN</td>\n",
              "      <td>NaN</td>\n",
              "      <td>https://twitter.com/dog_rates/status/892177421...</td>\n",
              "      <td>13</td>\n",
              "      <td>10</td>\n",
              "      <td>Tilly</td>\n",
              "      <td>None</td>\n",
              "      <td>None</td>\n",
              "      <td>None</td>\n",
              "      <td>None</td>\n",
              "    </tr>\n",
              "    <tr>\n",
              "      <th>2</th>\n",
              "      <td>891815181378084864</td>\n",
              "      <td>NaN</td>\n",
              "      <td>NaN</td>\n",
              "      <td>2017-07-31 00:18:03 +0000</td>\n",
              "      <td>&lt;a href=\"http://twitter.com/download/iphone\" r...</td>\n",
              "      <td>This is Archie. He is a rare Norwegian Pouncin...</td>\n",
              "      <td>NaN</td>\n",
              "      <td>NaN</td>\n",
              "      <td>NaN</td>\n",
              "      <td>https://twitter.com/dog_rates/status/891815181...</td>\n",
              "      <td>12</td>\n",
              "      <td>10</td>\n",
              "      <td>Archie</td>\n",
              "      <td>None</td>\n",
              "      <td>None</td>\n",
              "      <td>None</td>\n",
              "      <td>None</td>\n",
              "    </tr>\n",
              "    <tr>\n",
              "      <th>3</th>\n",
              "      <td>891689557279858688</td>\n",
              "      <td>NaN</td>\n",
              "      <td>NaN</td>\n",
              "      <td>2017-07-30 15:58:51 +0000</td>\n",
              "      <td>&lt;a href=\"http://twitter.com/download/iphone\" r...</td>\n",
              "      <td>This is Darla. She commenced a snooze mid meal...</td>\n",
              "      <td>NaN</td>\n",
              "      <td>NaN</td>\n",
              "      <td>NaN</td>\n",
              "      <td>https://twitter.com/dog_rates/status/891689557...</td>\n",
              "      <td>13</td>\n",
              "      <td>10</td>\n",
              "      <td>Darla</td>\n",
              "      <td>None</td>\n",
              "      <td>None</td>\n",
              "      <td>None</td>\n",
              "      <td>None</td>\n",
              "    </tr>\n",
              "    <tr>\n",
              "      <th>4</th>\n",
              "      <td>891327558926688256</td>\n",
              "      <td>NaN</td>\n",
              "      <td>NaN</td>\n",
              "      <td>2017-07-29 16:00:24 +0000</td>\n",
              "      <td>&lt;a href=\"http://twitter.com/download/iphone\" r...</td>\n",
              "      <td>This is Franklin. He would like you to stop ca...</td>\n",
              "      <td>NaN</td>\n",
              "      <td>NaN</td>\n",
              "      <td>NaN</td>\n",
              "      <td>https://twitter.com/dog_rates/status/891327558...</td>\n",
              "      <td>12</td>\n",
              "      <td>10</td>\n",
              "      <td>Franklin</td>\n",
              "      <td>None</td>\n",
              "      <td>None</td>\n",
              "      <td>None</td>\n",
              "      <td>None</td>\n",
              "    </tr>\n",
              "  </tbody>\n",
              "</table>\n",
              "</div>"
            ],
            "text/plain": [
              "             tweet_id  in_reply_to_status_id  ...  pupper puppo\n",
              "0  892420643555336193                    NaN  ...    None  None\n",
              "1  892177421306343426                    NaN  ...    None  None\n",
              "2  891815181378084864                    NaN  ...    None  None\n",
              "3  891689557279858688                    NaN  ...    None  None\n",
              "4  891327558926688256                    NaN  ...    None  None\n",
              "\n",
              "[5 rows x 17 columns]"
            ]
          },
          "metadata": {
            "tags": []
          },
          "execution_count": 3
        }
      ]
    },
    {
      "cell_type": "code",
      "metadata": {
        "id": "kxdCQ-XqOq1H",
        "colab_type": "code",
        "colab": {
          "base_uri": "https://localhost:8080/",
          "height": 1000
        },
        "outputId": "87670ebe-c001-45fe-8796-ce001960bb9e"
      },
      "source": [
        "twitter_archive.tail(20)"
      ],
      "execution_count": 8,
      "outputs": [
        {
          "output_type": "execute_result",
          "data": {
            "text/html": [
              "<div>\n",
              "<style scoped>\n",
              "    .dataframe tbody tr th:only-of-type {\n",
              "        vertical-align: middle;\n",
              "    }\n",
              "\n",
              "    .dataframe tbody tr th {\n",
              "        vertical-align: top;\n",
              "    }\n",
              "\n",
              "    .dataframe thead th {\n",
              "        text-align: right;\n",
              "    }\n",
              "</style>\n",
              "<table border=\"1\" class=\"dataframe\">\n",
              "  <thead>\n",
              "    <tr style=\"text-align: right;\">\n",
              "      <th></th>\n",
              "      <th>tweet_id</th>\n",
              "      <th>in_reply_to_status_id</th>\n",
              "      <th>in_reply_to_user_id</th>\n",
              "      <th>timestamp</th>\n",
              "      <th>source</th>\n",
              "      <th>text</th>\n",
              "      <th>retweeted_status_id</th>\n",
              "      <th>retweeted_status_user_id</th>\n",
              "      <th>retweeted_status_timestamp</th>\n",
              "      <th>expanded_urls</th>\n",
              "      <th>rating_numerator</th>\n",
              "      <th>rating_denominator</th>\n",
              "      <th>name</th>\n",
              "      <th>doggo</th>\n",
              "      <th>floofer</th>\n",
              "      <th>pupper</th>\n",
              "      <th>puppo</th>\n",
              "    </tr>\n",
              "  </thead>\n",
              "  <tbody>\n",
              "    <tr>\n",
              "      <th>2336</th>\n",
              "      <td>666273097616637952</td>\n",
              "      <td>NaN</td>\n",
              "      <td>NaN</td>\n",
              "      <td>2015-11-16 15:14:19 +0000</td>\n",
              "      <td>&lt;a href=\"http://twitter.com/download/iphone\" r...</td>\n",
              "      <td>Can take selfies 11/10 https://t.co/ws2AMaNwPW</td>\n",
              "      <td>NaN</td>\n",
              "      <td>NaN</td>\n",
              "      <td>NaN</td>\n",
              "      <td>https://twitter.com/dog_rates/status/666273097...</td>\n",
              "      <td>11</td>\n",
              "      <td>10</td>\n",
              "      <td>None</td>\n",
              "      <td>None</td>\n",
              "      <td>None</td>\n",
              "      <td>None</td>\n",
              "      <td>None</td>\n",
              "    </tr>\n",
              "    <tr>\n",
              "      <th>2337</th>\n",
              "      <td>666268910803644416</td>\n",
              "      <td>NaN</td>\n",
              "      <td>NaN</td>\n",
              "      <td>2015-11-16 14:57:41 +0000</td>\n",
              "      <td>&lt;a href=\"http://twitter.com/download/iphone\" r...</td>\n",
              "      <td>Very concerned about fellow dog trapped in com...</td>\n",
              "      <td>NaN</td>\n",
              "      <td>NaN</td>\n",
              "      <td>NaN</td>\n",
              "      <td>https://twitter.com/dog_rates/status/666268910...</td>\n",
              "      <td>10</td>\n",
              "      <td>10</td>\n",
              "      <td>None</td>\n",
              "      <td>None</td>\n",
              "      <td>None</td>\n",
              "      <td>None</td>\n",
              "      <td>None</td>\n",
              "    </tr>\n",
              "    <tr>\n",
              "      <th>2338</th>\n",
              "      <td>666104133288665088</td>\n",
              "      <td>NaN</td>\n",
              "      <td>NaN</td>\n",
              "      <td>2015-11-16 04:02:55 +0000</td>\n",
              "      <td>&lt;a href=\"http://twitter.com/download/iphone\" r...</td>\n",
              "      <td>Not familiar with this breed. No tail (weird)....</td>\n",
              "      <td>NaN</td>\n",
              "      <td>NaN</td>\n",
              "      <td>NaN</td>\n",
              "      <td>https://twitter.com/dog_rates/status/666104133...</td>\n",
              "      <td>1</td>\n",
              "      <td>10</td>\n",
              "      <td>None</td>\n",
              "      <td>None</td>\n",
              "      <td>None</td>\n",
              "      <td>None</td>\n",
              "      <td>None</td>\n",
              "    </tr>\n",
              "    <tr>\n",
              "      <th>2339</th>\n",
              "      <td>666102155909144576</td>\n",
              "      <td>NaN</td>\n",
              "      <td>NaN</td>\n",
              "      <td>2015-11-16 03:55:04 +0000</td>\n",
              "      <td>&lt;a href=\"http://twitter.com/download/iphone\" r...</td>\n",
              "      <td>Oh my. Here you are seeing an Adobe Setter giv...</td>\n",
              "      <td>NaN</td>\n",
              "      <td>NaN</td>\n",
              "      <td>NaN</td>\n",
              "      <td>https://twitter.com/dog_rates/status/666102155...</td>\n",
              "      <td>11</td>\n",
              "      <td>10</td>\n",
              "      <td>None</td>\n",
              "      <td>None</td>\n",
              "      <td>None</td>\n",
              "      <td>None</td>\n",
              "      <td>None</td>\n",
              "    </tr>\n",
              "    <tr>\n",
              "      <th>2340</th>\n",
              "      <td>666099513787052032</td>\n",
              "      <td>NaN</td>\n",
              "      <td>NaN</td>\n",
              "      <td>2015-11-16 03:44:34 +0000</td>\n",
              "      <td>&lt;a href=\"http://twitter.com/download/iphone\" r...</td>\n",
              "      <td>Can stand on stump for what seems like a while...</td>\n",
              "      <td>NaN</td>\n",
              "      <td>NaN</td>\n",
              "      <td>NaN</td>\n",
              "      <td>https://twitter.com/dog_rates/status/666099513...</td>\n",
              "      <td>8</td>\n",
              "      <td>10</td>\n",
              "      <td>None</td>\n",
              "      <td>None</td>\n",
              "      <td>None</td>\n",
              "      <td>None</td>\n",
              "      <td>None</td>\n",
              "    </tr>\n",
              "    <tr>\n",
              "      <th>2341</th>\n",
              "      <td>666094000022159362</td>\n",
              "      <td>NaN</td>\n",
              "      <td>NaN</td>\n",
              "      <td>2015-11-16 03:22:39 +0000</td>\n",
              "      <td>&lt;a href=\"http://twitter.com/download/iphone\" r...</td>\n",
              "      <td>This appears to be a Mongolian Presbyterian mi...</td>\n",
              "      <td>NaN</td>\n",
              "      <td>NaN</td>\n",
              "      <td>NaN</td>\n",
              "      <td>https://twitter.com/dog_rates/status/666094000...</td>\n",
              "      <td>9</td>\n",
              "      <td>10</td>\n",
              "      <td>None</td>\n",
              "      <td>None</td>\n",
              "      <td>None</td>\n",
              "      <td>None</td>\n",
              "      <td>None</td>\n",
              "    </tr>\n",
              "    <tr>\n",
              "      <th>2342</th>\n",
              "      <td>666082916733198337</td>\n",
              "      <td>NaN</td>\n",
              "      <td>NaN</td>\n",
              "      <td>2015-11-16 02:38:37 +0000</td>\n",
              "      <td>&lt;a href=\"http://twitter.com/download/iphone\" r...</td>\n",
              "      <td>Here we have a well-established sunblockerspan...</td>\n",
              "      <td>NaN</td>\n",
              "      <td>NaN</td>\n",
              "      <td>NaN</td>\n",
              "      <td>https://twitter.com/dog_rates/status/666082916...</td>\n",
              "      <td>6</td>\n",
              "      <td>10</td>\n",
              "      <td>None</td>\n",
              "      <td>None</td>\n",
              "      <td>None</td>\n",
              "      <td>None</td>\n",
              "      <td>None</td>\n",
              "    </tr>\n",
              "    <tr>\n",
              "      <th>2343</th>\n",
              "      <td>666073100786774016</td>\n",
              "      <td>NaN</td>\n",
              "      <td>NaN</td>\n",
              "      <td>2015-11-16 01:59:36 +0000</td>\n",
              "      <td>&lt;a href=\"http://twitter.com/download/iphone\" r...</td>\n",
              "      <td>Let's hope this flight isn't Malaysian (lol). ...</td>\n",
              "      <td>NaN</td>\n",
              "      <td>NaN</td>\n",
              "      <td>NaN</td>\n",
              "      <td>https://twitter.com/dog_rates/status/666073100...</td>\n",
              "      <td>10</td>\n",
              "      <td>10</td>\n",
              "      <td>None</td>\n",
              "      <td>None</td>\n",
              "      <td>None</td>\n",
              "      <td>None</td>\n",
              "      <td>None</td>\n",
              "    </tr>\n",
              "    <tr>\n",
              "      <th>2344</th>\n",
              "      <td>666071193221509120</td>\n",
              "      <td>NaN</td>\n",
              "      <td>NaN</td>\n",
              "      <td>2015-11-16 01:52:02 +0000</td>\n",
              "      <td>&lt;a href=\"http://twitter.com/download/iphone\" r...</td>\n",
              "      <td>Here we have a northern speckled Rhododendron....</td>\n",
              "      <td>NaN</td>\n",
              "      <td>NaN</td>\n",
              "      <td>NaN</td>\n",
              "      <td>https://twitter.com/dog_rates/status/666071193...</td>\n",
              "      <td>9</td>\n",
              "      <td>10</td>\n",
              "      <td>None</td>\n",
              "      <td>None</td>\n",
              "      <td>None</td>\n",
              "      <td>None</td>\n",
              "      <td>None</td>\n",
              "    </tr>\n",
              "    <tr>\n",
              "      <th>2345</th>\n",
              "      <td>666063827256086533</td>\n",
              "      <td>NaN</td>\n",
              "      <td>NaN</td>\n",
              "      <td>2015-11-16 01:22:45 +0000</td>\n",
              "      <td>&lt;a href=\"http://twitter.com/download/iphone\" r...</td>\n",
              "      <td>This is the happiest dog you will ever see. Ve...</td>\n",
              "      <td>NaN</td>\n",
              "      <td>NaN</td>\n",
              "      <td>NaN</td>\n",
              "      <td>https://twitter.com/dog_rates/status/666063827...</td>\n",
              "      <td>10</td>\n",
              "      <td>10</td>\n",
              "      <td>the</td>\n",
              "      <td>None</td>\n",
              "      <td>None</td>\n",
              "      <td>None</td>\n",
              "      <td>None</td>\n",
              "    </tr>\n",
              "    <tr>\n",
              "      <th>2346</th>\n",
              "      <td>666058600524156928</td>\n",
              "      <td>NaN</td>\n",
              "      <td>NaN</td>\n",
              "      <td>2015-11-16 01:01:59 +0000</td>\n",
              "      <td>&lt;a href=\"http://twitter.com/download/iphone\" r...</td>\n",
              "      <td>Here is the Rand Paul of retrievers folks! He'...</td>\n",
              "      <td>NaN</td>\n",
              "      <td>NaN</td>\n",
              "      <td>NaN</td>\n",
              "      <td>https://twitter.com/dog_rates/status/666058600...</td>\n",
              "      <td>8</td>\n",
              "      <td>10</td>\n",
              "      <td>the</td>\n",
              "      <td>None</td>\n",
              "      <td>None</td>\n",
              "      <td>None</td>\n",
              "      <td>None</td>\n",
              "    </tr>\n",
              "    <tr>\n",
              "      <th>2347</th>\n",
              "      <td>666057090499244032</td>\n",
              "      <td>NaN</td>\n",
              "      <td>NaN</td>\n",
              "      <td>2015-11-16 00:55:59 +0000</td>\n",
              "      <td>&lt;a href=\"http://twitter.com/download/iphone\" r...</td>\n",
              "      <td>My oh my. This is a rare blond Canadian terrie...</td>\n",
              "      <td>NaN</td>\n",
              "      <td>NaN</td>\n",
              "      <td>NaN</td>\n",
              "      <td>https://twitter.com/dog_rates/status/666057090...</td>\n",
              "      <td>9</td>\n",
              "      <td>10</td>\n",
              "      <td>a</td>\n",
              "      <td>None</td>\n",
              "      <td>None</td>\n",
              "      <td>None</td>\n",
              "      <td>None</td>\n",
              "    </tr>\n",
              "    <tr>\n",
              "      <th>2348</th>\n",
              "      <td>666055525042405380</td>\n",
              "      <td>NaN</td>\n",
              "      <td>NaN</td>\n",
              "      <td>2015-11-16 00:49:46 +0000</td>\n",
              "      <td>&lt;a href=\"http://twitter.com/download/iphone\" r...</td>\n",
              "      <td>Here is a Siberian heavily armored polar bear ...</td>\n",
              "      <td>NaN</td>\n",
              "      <td>NaN</td>\n",
              "      <td>NaN</td>\n",
              "      <td>https://twitter.com/dog_rates/status/666055525...</td>\n",
              "      <td>10</td>\n",
              "      <td>10</td>\n",
              "      <td>a</td>\n",
              "      <td>None</td>\n",
              "      <td>None</td>\n",
              "      <td>None</td>\n",
              "      <td>None</td>\n",
              "    </tr>\n",
              "    <tr>\n",
              "      <th>2349</th>\n",
              "      <td>666051853826850816</td>\n",
              "      <td>NaN</td>\n",
              "      <td>NaN</td>\n",
              "      <td>2015-11-16 00:35:11 +0000</td>\n",
              "      <td>&lt;a href=\"http://twitter.com/download/iphone\" r...</td>\n",
              "      <td>This is an odd dog. Hard on the outside but lo...</td>\n",
              "      <td>NaN</td>\n",
              "      <td>NaN</td>\n",
              "      <td>NaN</td>\n",
              "      <td>https://twitter.com/dog_rates/status/666051853...</td>\n",
              "      <td>2</td>\n",
              "      <td>10</td>\n",
              "      <td>an</td>\n",
              "      <td>None</td>\n",
              "      <td>None</td>\n",
              "      <td>None</td>\n",
              "      <td>None</td>\n",
              "    </tr>\n",
              "    <tr>\n",
              "      <th>2350</th>\n",
              "      <td>666050758794694657</td>\n",
              "      <td>NaN</td>\n",
              "      <td>NaN</td>\n",
              "      <td>2015-11-16 00:30:50 +0000</td>\n",
              "      <td>&lt;a href=\"http://twitter.com/download/iphone\" r...</td>\n",
              "      <td>This is a truly beautiful English Wilson Staff...</td>\n",
              "      <td>NaN</td>\n",
              "      <td>NaN</td>\n",
              "      <td>NaN</td>\n",
              "      <td>https://twitter.com/dog_rates/status/666050758...</td>\n",
              "      <td>10</td>\n",
              "      <td>10</td>\n",
              "      <td>a</td>\n",
              "      <td>None</td>\n",
              "      <td>None</td>\n",
              "      <td>None</td>\n",
              "      <td>None</td>\n",
              "    </tr>\n",
              "    <tr>\n",
              "      <th>2351</th>\n",
              "      <td>666049248165822465</td>\n",
              "      <td>NaN</td>\n",
              "      <td>NaN</td>\n",
              "      <td>2015-11-16 00:24:50 +0000</td>\n",
              "      <td>&lt;a href=\"http://twitter.com/download/iphone\" r...</td>\n",
              "      <td>Here we have a 1949 1st generation vulpix. Enj...</td>\n",
              "      <td>NaN</td>\n",
              "      <td>NaN</td>\n",
              "      <td>NaN</td>\n",
              "      <td>https://twitter.com/dog_rates/status/666049248...</td>\n",
              "      <td>5</td>\n",
              "      <td>10</td>\n",
              "      <td>None</td>\n",
              "      <td>None</td>\n",
              "      <td>None</td>\n",
              "      <td>None</td>\n",
              "      <td>None</td>\n",
              "    </tr>\n",
              "    <tr>\n",
              "      <th>2352</th>\n",
              "      <td>666044226329800704</td>\n",
              "      <td>NaN</td>\n",
              "      <td>NaN</td>\n",
              "      <td>2015-11-16 00:04:52 +0000</td>\n",
              "      <td>&lt;a href=\"http://twitter.com/download/iphone\" r...</td>\n",
              "      <td>This is a purebred Piers Morgan. Loves to Netf...</td>\n",
              "      <td>NaN</td>\n",
              "      <td>NaN</td>\n",
              "      <td>NaN</td>\n",
              "      <td>https://twitter.com/dog_rates/status/666044226...</td>\n",
              "      <td>6</td>\n",
              "      <td>10</td>\n",
              "      <td>a</td>\n",
              "      <td>None</td>\n",
              "      <td>None</td>\n",
              "      <td>None</td>\n",
              "      <td>None</td>\n",
              "    </tr>\n",
              "    <tr>\n",
              "      <th>2353</th>\n",
              "      <td>666033412701032449</td>\n",
              "      <td>NaN</td>\n",
              "      <td>NaN</td>\n",
              "      <td>2015-11-15 23:21:54 +0000</td>\n",
              "      <td>&lt;a href=\"http://twitter.com/download/iphone\" r...</td>\n",
              "      <td>Here is a very happy pup. Big fan of well-main...</td>\n",
              "      <td>NaN</td>\n",
              "      <td>NaN</td>\n",
              "      <td>NaN</td>\n",
              "      <td>https://twitter.com/dog_rates/status/666033412...</td>\n",
              "      <td>9</td>\n",
              "      <td>10</td>\n",
              "      <td>a</td>\n",
              "      <td>None</td>\n",
              "      <td>None</td>\n",
              "      <td>None</td>\n",
              "      <td>None</td>\n",
              "    </tr>\n",
              "    <tr>\n",
              "      <th>2354</th>\n",
              "      <td>666029285002620928</td>\n",
              "      <td>NaN</td>\n",
              "      <td>NaN</td>\n",
              "      <td>2015-11-15 23:05:30 +0000</td>\n",
              "      <td>&lt;a href=\"http://twitter.com/download/iphone\" r...</td>\n",
              "      <td>This is a western brown Mitsubishi terrier. Up...</td>\n",
              "      <td>NaN</td>\n",
              "      <td>NaN</td>\n",
              "      <td>NaN</td>\n",
              "      <td>https://twitter.com/dog_rates/status/666029285...</td>\n",
              "      <td>7</td>\n",
              "      <td>10</td>\n",
              "      <td>a</td>\n",
              "      <td>None</td>\n",
              "      <td>None</td>\n",
              "      <td>None</td>\n",
              "      <td>None</td>\n",
              "    </tr>\n",
              "    <tr>\n",
              "      <th>2355</th>\n",
              "      <td>666020888022790149</td>\n",
              "      <td>NaN</td>\n",
              "      <td>NaN</td>\n",
              "      <td>2015-11-15 22:32:08 +0000</td>\n",
              "      <td>&lt;a href=\"http://twitter.com/download/iphone\" r...</td>\n",
              "      <td>Here we have a Japanese Irish Setter. Lost eye...</td>\n",
              "      <td>NaN</td>\n",
              "      <td>NaN</td>\n",
              "      <td>NaN</td>\n",
              "      <td>https://twitter.com/dog_rates/status/666020888...</td>\n",
              "      <td>8</td>\n",
              "      <td>10</td>\n",
              "      <td>None</td>\n",
              "      <td>None</td>\n",
              "      <td>None</td>\n",
              "      <td>None</td>\n",
              "      <td>None</td>\n",
              "    </tr>\n",
              "  </tbody>\n",
              "</table>\n",
              "</div>"
            ],
            "text/plain": [
              "                tweet_id  in_reply_to_status_id  ...  pupper puppo\n",
              "2336  666273097616637952                    NaN  ...    None  None\n",
              "2337  666268910803644416                    NaN  ...    None  None\n",
              "2338  666104133288665088                    NaN  ...    None  None\n",
              "2339  666102155909144576                    NaN  ...    None  None\n",
              "2340  666099513787052032                    NaN  ...    None  None\n",
              "2341  666094000022159362                    NaN  ...    None  None\n",
              "2342  666082916733198337                    NaN  ...    None  None\n",
              "2343  666073100786774016                    NaN  ...    None  None\n",
              "2344  666071193221509120                    NaN  ...    None  None\n",
              "2345  666063827256086533                    NaN  ...    None  None\n",
              "2346  666058600524156928                    NaN  ...    None  None\n",
              "2347  666057090499244032                    NaN  ...    None  None\n",
              "2348  666055525042405380                    NaN  ...    None  None\n",
              "2349  666051853826850816                    NaN  ...    None  None\n",
              "2350  666050758794694657                    NaN  ...    None  None\n",
              "2351  666049248165822465                    NaN  ...    None  None\n",
              "2352  666044226329800704                    NaN  ...    None  None\n",
              "2353  666033412701032449                    NaN  ...    None  None\n",
              "2354  666029285002620928                    NaN  ...    None  None\n",
              "2355  666020888022790149                    NaN  ...    None  None\n",
              "\n",
              "[20 rows x 17 columns]"
            ]
          },
          "metadata": {
            "tags": []
          },
          "execution_count": 8
        }
      ]
    },
    {
      "cell_type": "markdown",
      "metadata": {
        "id": "KWvr3n7SOxgn",
        "colab_type": "text"
      },
      "source": [
        "Our data extends from 15-11-2015 to 1-8-2017 time frame"
      ]
    },
    {
      "cell_type": "markdown",
      "metadata": {
        "id": "k7Md6YEyNZIR",
        "colab_type": "text"
      },
      "source": [
        "Lets check the number of rows and columns in our dataframe"
      ]
    },
    {
      "cell_type": "code",
      "metadata": {
        "id": "JvNwCyCELSHo",
        "colab_type": "code",
        "outputId": "67e96289-a323-4abb-b38a-efed4e0a940a",
        "colab": {
          "base_uri": "https://localhost:8080/",
          "height": 34
        }
      },
      "source": [
        "#numbers of rows and columns in our dataframe\n",
        "print('number of rows:{} and number of columns:{}'.format(twitter_archive.shape[0],twitter_archive.shape[1]))"
      ],
      "execution_count": 6,
      "outputs": [
        {
          "output_type": "stream",
          "text": [
            "number of rows:2356 and number of columns:17\n"
          ],
          "name": "stdout"
        }
      ]
    },
    {
      "cell_type": "markdown",
      "metadata": {
        "id": "wazwt_GoNvqV",
        "colab_type": "text"
      },
      "source": [
        "ok, I will check now more information about the 17 columns"
      ]
    },
    {
      "cell_type": "code",
      "metadata": {
        "id": "BXESkvosLXbJ",
        "colab_type": "code",
        "outputId": "fb4fa11d-3e1e-4cb1-b3d1-76fde5d2700f",
        "colab": {
          "base_uri": "https://localhost:8080/",
          "height": 391
        }
      },
      "source": [
        "#information about our columns and missing values\n",
        "twitter_archive.info()"
      ],
      "execution_count": 7,
      "outputs": [
        {
          "output_type": "stream",
          "text": [
            "<class 'pandas.core.frame.DataFrame'>\n",
            "RangeIndex: 2356 entries, 0 to 2355\n",
            "Data columns (total 17 columns):\n",
            "tweet_id                      2356 non-null int64\n",
            "in_reply_to_status_id         78 non-null float64\n",
            "in_reply_to_user_id           78 non-null float64\n",
            "timestamp                     2356 non-null object\n",
            "source                        2356 non-null object\n",
            "text                          2356 non-null object\n",
            "retweeted_status_id           181 non-null float64\n",
            "retweeted_status_user_id      181 non-null float64\n",
            "retweeted_status_timestamp    181 non-null object\n",
            "expanded_urls                 2297 non-null object\n",
            "rating_numerator              2356 non-null int64\n",
            "rating_denominator            2356 non-null int64\n",
            "name                          2356 non-null object\n",
            "doggo                         2356 non-null object\n",
            "floofer                       2356 non-null object\n",
            "pupper                        2356 non-null object\n",
            "puppo                         2356 non-null object\n",
            "dtypes: float64(4), int64(3), object(10)\n",
            "memory usage: 313.0+ KB\n"
          ],
          "name": "stdout"
        }
      ]
    },
    {
      "cell_type": "markdown",
      "metadata": {
        "id": "Sxel7-nkP5ui",
        "colab_type": "text"
      },
      "source": [
        "Now i will check if there are duplicated rows in our dataframe"
      ]
    },
    {
      "cell_type": "code",
      "metadata": {
        "id": "LkfpK1EcQAYX",
        "colab_type": "code",
        "colab": {
          "base_uri": "https://localhost:8080/",
          "height": 34
        },
        "outputId": "3a21483d-8e58-4489-ecb0-c5744b11d47c"
      },
      "source": [
        "twitter_archive.duplicated().all()"
      ],
      "execution_count": 11,
      "outputs": [
        {
          "output_type": "execute_result",
          "data": {
            "text/plain": [
              "False"
            ]
          },
          "metadata": {
            "tags": []
          },
          "execution_count": 11
        }
      ]
    },
    {
      "cell_type": "markdown",
      "metadata": {
        "id": "vWifn7t7QMb6",
        "colab_type": "text"
      },
      "source": [
        "and apparantly there are no duplicated rows"
      ]
    },
    {
      "cell_type": "markdown",
      "metadata": {
        "id": "oXV4HqtJPAob",
        "colab_type": "text"
      },
      "source": [
        "## Our second source of data is image_prediction.tsv file \n",
        "That file was ready to be downloaded through Udacity platform but it was asked to do this task through requests library so i did it by both ways"
      ]
    },
    {
      "cell_type": "code",
      "metadata": {
        "id": "pCz3mJ5LgS4m",
        "colab_type": "code",
        "outputId": "a6620dd4-1d11-437e-c1b7-767e1bc16841",
        "colab": {
          "base_uri": "https://localhost:8080/",
          "height": 689
        }
      },
      "source": [
        "#The image prediction file was already available in Udacity resources platform and needed only to be imported\n",
        "image_prediction=pd.read_csv('wrangle-and-analyze-data-project/image-predictions.tsv',sep='\\t')\n",
        "image_prediction.head(20)"
      ],
      "execution_count": 13,
      "outputs": [
        {
          "output_type": "execute_result",
          "data": {
            "text/html": [
              "<div>\n",
              "<style scoped>\n",
              "    .dataframe tbody tr th:only-of-type {\n",
              "        vertical-align: middle;\n",
              "    }\n",
              "\n",
              "    .dataframe tbody tr th {\n",
              "        vertical-align: top;\n",
              "    }\n",
              "\n",
              "    .dataframe thead th {\n",
              "        text-align: right;\n",
              "    }\n",
              "</style>\n",
              "<table border=\"1\" class=\"dataframe\">\n",
              "  <thead>\n",
              "    <tr style=\"text-align: right;\">\n",
              "      <th></th>\n",
              "      <th>tweet_id</th>\n",
              "      <th>jpg_url</th>\n",
              "      <th>img_num</th>\n",
              "      <th>p1</th>\n",
              "      <th>p1_conf</th>\n",
              "      <th>p1_dog</th>\n",
              "      <th>p2</th>\n",
              "      <th>p2_conf</th>\n",
              "      <th>p2_dog</th>\n",
              "      <th>p3</th>\n",
              "      <th>p3_conf</th>\n",
              "      <th>p3_dog</th>\n",
              "    </tr>\n",
              "  </thead>\n",
              "  <tbody>\n",
              "    <tr>\n",
              "      <th>0</th>\n",
              "      <td>666020888022790149</td>\n",
              "      <td>https://pbs.twimg.com/media/CT4udn0WwAA0aMy.jpg</td>\n",
              "      <td>1</td>\n",
              "      <td>Welsh_springer_spaniel</td>\n",
              "      <td>0.465074</td>\n",
              "      <td>True</td>\n",
              "      <td>collie</td>\n",
              "      <td>0.156665</td>\n",
              "      <td>True</td>\n",
              "      <td>Shetland_sheepdog</td>\n",
              "      <td>0.061428</td>\n",
              "      <td>True</td>\n",
              "    </tr>\n",
              "    <tr>\n",
              "      <th>1</th>\n",
              "      <td>666029285002620928</td>\n",
              "      <td>https://pbs.twimg.com/media/CT42GRgUYAA5iDo.jpg</td>\n",
              "      <td>1</td>\n",
              "      <td>redbone</td>\n",
              "      <td>0.506826</td>\n",
              "      <td>True</td>\n",
              "      <td>miniature_pinscher</td>\n",
              "      <td>0.074192</td>\n",
              "      <td>True</td>\n",
              "      <td>Rhodesian_ridgeback</td>\n",
              "      <td>0.072010</td>\n",
              "      <td>True</td>\n",
              "    </tr>\n",
              "    <tr>\n",
              "      <th>2</th>\n",
              "      <td>666033412701032449</td>\n",
              "      <td>https://pbs.twimg.com/media/CT4521TWwAEvMyu.jpg</td>\n",
              "      <td>1</td>\n",
              "      <td>German_shepherd</td>\n",
              "      <td>0.596461</td>\n",
              "      <td>True</td>\n",
              "      <td>malinois</td>\n",
              "      <td>0.138584</td>\n",
              "      <td>True</td>\n",
              "      <td>bloodhound</td>\n",
              "      <td>0.116197</td>\n",
              "      <td>True</td>\n",
              "    </tr>\n",
              "    <tr>\n",
              "      <th>3</th>\n",
              "      <td>666044226329800704</td>\n",
              "      <td>https://pbs.twimg.com/media/CT5Dr8HUEAA-lEu.jpg</td>\n",
              "      <td>1</td>\n",
              "      <td>Rhodesian_ridgeback</td>\n",
              "      <td>0.408143</td>\n",
              "      <td>True</td>\n",
              "      <td>redbone</td>\n",
              "      <td>0.360687</td>\n",
              "      <td>True</td>\n",
              "      <td>miniature_pinscher</td>\n",
              "      <td>0.222752</td>\n",
              "      <td>True</td>\n",
              "    </tr>\n",
              "    <tr>\n",
              "      <th>4</th>\n",
              "      <td>666049248165822465</td>\n",
              "      <td>https://pbs.twimg.com/media/CT5IQmsXIAAKY4A.jpg</td>\n",
              "      <td>1</td>\n",
              "      <td>miniature_pinscher</td>\n",
              "      <td>0.560311</td>\n",
              "      <td>True</td>\n",
              "      <td>Rottweiler</td>\n",
              "      <td>0.243682</td>\n",
              "      <td>True</td>\n",
              "      <td>Doberman</td>\n",
              "      <td>0.154629</td>\n",
              "      <td>True</td>\n",
              "    </tr>\n",
              "    <tr>\n",
              "      <th>5</th>\n",
              "      <td>666050758794694657</td>\n",
              "      <td>https://pbs.twimg.com/media/CT5Jof1WUAEuVxN.jpg</td>\n",
              "      <td>1</td>\n",
              "      <td>Bernese_mountain_dog</td>\n",
              "      <td>0.651137</td>\n",
              "      <td>True</td>\n",
              "      <td>English_springer</td>\n",
              "      <td>0.263788</td>\n",
              "      <td>True</td>\n",
              "      <td>Greater_Swiss_Mountain_dog</td>\n",
              "      <td>0.016199</td>\n",
              "      <td>True</td>\n",
              "    </tr>\n",
              "    <tr>\n",
              "      <th>6</th>\n",
              "      <td>666051853826850816</td>\n",
              "      <td>https://pbs.twimg.com/media/CT5KoJ1WoAAJash.jpg</td>\n",
              "      <td>1</td>\n",
              "      <td>box_turtle</td>\n",
              "      <td>0.933012</td>\n",
              "      <td>False</td>\n",
              "      <td>mud_turtle</td>\n",
              "      <td>0.045885</td>\n",
              "      <td>False</td>\n",
              "      <td>terrapin</td>\n",
              "      <td>0.017885</td>\n",
              "      <td>False</td>\n",
              "    </tr>\n",
              "    <tr>\n",
              "      <th>7</th>\n",
              "      <td>666055525042405380</td>\n",
              "      <td>https://pbs.twimg.com/media/CT5N9tpXIAAifs1.jpg</td>\n",
              "      <td>1</td>\n",
              "      <td>chow</td>\n",
              "      <td>0.692517</td>\n",
              "      <td>True</td>\n",
              "      <td>Tibetan_mastiff</td>\n",
              "      <td>0.058279</td>\n",
              "      <td>True</td>\n",
              "      <td>fur_coat</td>\n",
              "      <td>0.054449</td>\n",
              "      <td>False</td>\n",
              "    </tr>\n",
              "    <tr>\n",
              "      <th>8</th>\n",
              "      <td>666057090499244032</td>\n",
              "      <td>https://pbs.twimg.com/media/CT5PY90WoAAQGLo.jpg</td>\n",
              "      <td>1</td>\n",
              "      <td>shopping_cart</td>\n",
              "      <td>0.962465</td>\n",
              "      <td>False</td>\n",
              "      <td>shopping_basket</td>\n",
              "      <td>0.014594</td>\n",
              "      <td>False</td>\n",
              "      <td>golden_retriever</td>\n",
              "      <td>0.007959</td>\n",
              "      <td>True</td>\n",
              "    </tr>\n",
              "    <tr>\n",
              "      <th>9</th>\n",
              "      <td>666058600524156928</td>\n",
              "      <td>https://pbs.twimg.com/media/CT5Qw94XAAA_2dP.jpg</td>\n",
              "      <td>1</td>\n",
              "      <td>miniature_poodle</td>\n",
              "      <td>0.201493</td>\n",
              "      <td>True</td>\n",
              "      <td>komondor</td>\n",
              "      <td>0.192305</td>\n",
              "      <td>True</td>\n",
              "      <td>soft-coated_wheaten_terrier</td>\n",
              "      <td>0.082086</td>\n",
              "      <td>True</td>\n",
              "    </tr>\n",
              "    <tr>\n",
              "      <th>10</th>\n",
              "      <td>666063827256086533</td>\n",
              "      <td>https://pbs.twimg.com/media/CT5Vg_wXIAAXfnj.jpg</td>\n",
              "      <td>1</td>\n",
              "      <td>golden_retriever</td>\n",
              "      <td>0.775930</td>\n",
              "      <td>True</td>\n",
              "      <td>Tibetan_mastiff</td>\n",
              "      <td>0.093718</td>\n",
              "      <td>True</td>\n",
              "      <td>Labrador_retriever</td>\n",
              "      <td>0.072427</td>\n",
              "      <td>True</td>\n",
              "    </tr>\n",
              "    <tr>\n",
              "      <th>11</th>\n",
              "      <td>666071193221509120</td>\n",
              "      <td>https://pbs.twimg.com/media/CT5cN_3WEAAlOoZ.jpg</td>\n",
              "      <td>1</td>\n",
              "      <td>Gordon_setter</td>\n",
              "      <td>0.503672</td>\n",
              "      <td>True</td>\n",
              "      <td>Yorkshire_terrier</td>\n",
              "      <td>0.174201</td>\n",
              "      <td>True</td>\n",
              "      <td>Pekinese</td>\n",
              "      <td>0.109454</td>\n",
              "      <td>True</td>\n",
              "    </tr>\n",
              "    <tr>\n",
              "      <th>12</th>\n",
              "      <td>666073100786774016</td>\n",
              "      <td>https://pbs.twimg.com/media/CT5d9DZXAAALcwe.jpg</td>\n",
              "      <td>1</td>\n",
              "      <td>Walker_hound</td>\n",
              "      <td>0.260857</td>\n",
              "      <td>True</td>\n",
              "      <td>English_foxhound</td>\n",
              "      <td>0.175382</td>\n",
              "      <td>True</td>\n",
              "      <td>Ibizan_hound</td>\n",
              "      <td>0.097471</td>\n",
              "      <td>True</td>\n",
              "    </tr>\n",
              "    <tr>\n",
              "      <th>13</th>\n",
              "      <td>666082916733198337</td>\n",
              "      <td>https://pbs.twimg.com/media/CT5m4VGWEAAtKc8.jpg</td>\n",
              "      <td>1</td>\n",
              "      <td>pug</td>\n",
              "      <td>0.489814</td>\n",
              "      <td>True</td>\n",
              "      <td>bull_mastiff</td>\n",
              "      <td>0.404722</td>\n",
              "      <td>True</td>\n",
              "      <td>French_bulldog</td>\n",
              "      <td>0.048960</td>\n",
              "      <td>True</td>\n",
              "    </tr>\n",
              "    <tr>\n",
              "      <th>14</th>\n",
              "      <td>666094000022159362</td>\n",
              "      <td>https://pbs.twimg.com/media/CT5w9gUW4AAsBNN.jpg</td>\n",
              "      <td>1</td>\n",
              "      <td>bloodhound</td>\n",
              "      <td>0.195217</td>\n",
              "      <td>True</td>\n",
              "      <td>German_shepherd</td>\n",
              "      <td>0.078260</td>\n",
              "      <td>True</td>\n",
              "      <td>malinois</td>\n",
              "      <td>0.075628</td>\n",
              "      <td>True</td>\n",
              "    </tr>\n",
              "    <tr>\n",
              "      <th>15</th>\n",
              "      <td>666099513787052032</td>\n",
              "      <td>https://pbs.twimg.com/media/CT51-JJUEAA6hV8.jpg</td>\n",
              "      <td>1</td>\n",
              "      <td>Lhasa</td>\n",
              "      <td>0.582330</td>\n",
              "      <td>True</td>\n",
              "      <td>Shih-Tzu</td>\n",
              "      <td>0.166192</td>\n",
              "      <td>True</td>\n",
              "      <td>Dandie_Dinmont</td>\n",
              "      <td>0.089688</td>\n",
              "      <td>True</td>\n",
              "    </tr>\n",
              "    <tr>\n",
              "      <th>16</th>\n",
              "      <td>666102155909144576</td>\n",
              "      <td>https://pbs.twimg.com/media/CT54YGiWUAEZnoK.jpg</td>\n",
              "      <td>1</td>\n",
              "      <td>English_setter</td>\n",
              "      <td>0.298617</td>\n",
              "      <td>True</td>\n",
              "      <td>Newfoundland</td>\n",
              "      <td>0.149842</td>\n",
              "      <td>True</td>\n",
              "      <td>borzoi</td>\n",
              "      <td>0.133649</td>\n",
              "      <td>True</td>\n",
              "    </tr>\n",
              "    <tr>\n",
              "      <th>17</th>\n",
              "      <td>666104133288665088</td>\n",
              "      <td>https://pbs.twimg.com/media/CT56LSZWoAAlJj2.jpg</td>\n",
              "      <td>1</td>\n",
              "      <td>hen</td>\n",
              "      <td>0.965932</td>\n",
              "      <td>False</td>\n",
              "      <td>cock</td>\n",
              "      <td>0.033919</td>\n",
              "      <td>False</td>\n",
              "      <td>partridge</td>\n",
              "      <td>0.000052</td>\n",
              "      <td>False</td>\n",
              "    </tr>\n",
              "    <tr>\n",
              "      <th>18</th>\n",
              "      <td>666268910803644416</td>\n",
              "      <td>https://pbs.twimg.com/media/CT8QCd1WEAADXws.jpg</td>\n",
              "      <td>1</td>\n",
              "      <td>desktop_computer</td>\n",
              "      <td>0.086502</td>\n",
              "      <td>False</td>\n",
              "      <td>desk</td>\n",
              "      <td>0.085547</td>\n",
              "      <td>False</td>\n",
              "      <td>bookcase</td>\n",
              "      <td>0.079480</td>\n",
              "      <td>False</td>\n",
              "    </tr>\n",
              "    <tr>\n",
              "      <th>19</th>\n",
              "      <td>666273097616637952</td>\n",
              "      <td>https://pbs.twimg.com/media/CT8T1mtUwAA3aqm.jpg</td>\n",
              "      <td>1</td>\n",
              "      <td>Italian_greyhound</td>\n",
              "      <td>0.176053</td>\n",
              "      <td>True</td>\n",
              "      <td>toy_terrier</td>\n",
              "      <td>0.111884</td>\n",
              "      <td>True</td>\n",
              "      <td>basenji</td>\n",
              "      <td>0.111152</td>\n",
              "      <td>True</td>\n",
              "    </tr>\n",
              "  </tbody>\n",
              "</table>\n",
              "</div>"
            ],
            "text/plain": [
              "              tweet_id  ... p3_dog\n",
              "0   666020888022790149  ...   True\n",
              "1   666029285002620928  ...   True\n",
              "2   666033412701032449  ...   True\n",
              "3   666044226329800704  ...   True\n",
              "4   666049248165822465  ...   True\n",
              "5   666050758794694657  ...   True\n",
              "6   666051853826850816  ...  False\n",
              "7   666055525042405380  ...  False\n",
              "8   666057090499244032  ...   True\n",
              "9   666058600524156928  ...   True\n",
              "10  666063827256086533  ...   True\n",
              "11  666071193221509120  ...   True\n",
              "12  666073100786774016  ...   True\n",
              "13  666082916733198337  ...   True\n",
              "14  666094000022159362  ...   True\n",
              "15  666099513787052032  ...   True\n",
              "16  666102155909144576  ...   True\n",
              "17  666104133288665088  ...  False\n",
              "18  666268910803644416  ...  False\n",
              "19  666273097616637952  ...   True\n",
              "\n",
              "[20 rows x 12 columns]"
            ]
          },
          "metadata": {
            "tags": []
          },
          "execution_count": 13
        }
      ]
    },
    {
      "cell_type": "markdown",
      "metadata": {
        "id": "cplHIrRTVTHg",
        "colab_type": "text"
      },
      "source": [
        "The other way to import the image_prediction file by requests library"
      ]
    },
    {
      "cell_type": "code",
      "metadata": {
        "id": "LIsVCTvrg8zK",
        "colab_type": "code",
        "colab": {}
      },
      "source": [
        "r=requests.get('https://d17h27t6h515a5.cloudfront.net/topher/2017/August/599fd2ad_image-predictions/image-predictions.tsv').content"
      ],
      "execution_count": 0,
      "outputs": []
    },
    {
      "cell_type": "code",
      "metadata": {
        "id": "88ENguvjv4Ui",
        "colab_type": "code",
        "colab": {}
      },
      "source": [
        "import io\n",
        "df = pd.read_csv(io.StringIO(r.decode('utf-8')),sep='\\t')"
      ],
      "execution_count": 0,
      "outputs": []
    },
    {
      "cell_type": "code",
      "metadata": {
        "id": "fAwRUWYtxURy",
        "colab_type": "code",
        "outputId": "86197272-67f3-46be-ac0b-72ae2e2f079e",
        "colab": {
          "base_uri": "https://localhost:8080/",
          "height": 224
        }
      },
      "source": [
        "df.head()"
      ],
      "execution_count": 17,
      "outputs": [
        {
          "output_type": "execute_result",
          "data": {
            "text/html": [
              "<div>\n",
              "<style scoped>\n",
              "    .dataframe tbody tr th:only-of-type {\n",
              "        vertical-align: middle;\n",
              "    }\n",
              "\n",
              "    .dataframe tbody tr th {\n",
              "        vertical-align: top;\n",
              "    }\n",
              "\n",
              "    .dataframe thead th {\n",
              "        text-align: right;\n",
              "    }\n",
              "</style>\n",
              "<table border=\"1\" class=\"dataframe\">\n",
              "  <thead>\n",
              "    <tr style=\"text-align: right;\">\n",
              "      <th></th>\n",
              "      <th>tweet_id</th>\n",
              "      <th>jpg_url</th>\n",
              "      <th>img_num</th>\n",
              "      <th>p1</th>\n",
              "      <th>p1_conf</th>\n",
              "      <th>p1_dog</th>\n",
              "      <th>p2</th>\n",
              "      <th>p2_conf</th>\n",
              "      <th>p2_dog</th>\n",
              "      <th>p3</th>\n",
              "      <th>p3_conf</th>\n",
              "      <th>p3_dog</th>\n",
              "    </tr>\n",
              "  </thead>\n",
              "  <tbody>\n",
              "    <tr>\n",
              "      <th>0</th>\n",
              "      <td>666020888022790149</td>\n",
              "      <td>https://pbs.twimg.com/media/CT4udn0WwAA0aMy.jpg</td>\n",
              "      <td>1</td>\n",
              "      <td>Welsh_springer_spaniel</td>\n",
              "      <td>0.465074</td>\n",
              "      <td>True</td>\n",
              "      <td>collie</td>\n",
              "      <td>0.156665</td>\n",
              "      <td>True</td>\n",
              "      <td>Shetland_sheepdog</td>\n",
              "      <td>0.061428</td>\n",
              "      <td>True</td>\n",
              "    </tr>\n",
              "    <tr>\n",
              "      <th>1</th>\n",
              "      <td>666029285002620928</td>\n",
              "      <td>https://pbs.twimg.com/media/CT42GRgUYAA5iDo.jpg</td>\n",
              "      <td>1</td>\n",
              "      <td>redbone</td>\n",
              "      <td>0.506826</td>\n",
              "      <td>True</td>\n",
              "      <td>miniature_pinscher</td>\n",
              "      <td>0.074192</td>\n",
              "      <td>True</td>\n",
              "      <td>Rhodesian_ridgeback</td>\n",
              "      <td>0.072010</td>\n",
              "      <td>True</td>\n",
              "    </tr>\n",
              "    <tr>\n",
              "      <th>2</th>\n",
              "      <td>666033412701032449</td>\n",
              "      <td>https://pbs.twimg.com/media/CT4521TWwAEvMyu.jpg</td>\n",
              "      <td>1</td>\n",
              "      <td>German_shepherd</td>\n",
              "      <td>0.596461</td>\n",
              "      <td>True</td>\n",
              "      <td>malinois</td>\n",
              "      <td>0.138584</td>\n",
              "      <td>True</td>\n",
              "      <td>bloodhound</td>\n",
              "      <td>0.116197</td>\n",
              "      <td>True</td>\n",
              "    </tr>\n",
              "    <tr>\n",
              "      <th>3</th>\n",
              "      <td>666044226329800704</td>\n",
              "      <td>https://pbs.twimg.com/media/CT5Dr8HUEAA-lEu.jpg</td>\n",
              "      <td>1</td>\n",
              "      <td>Rhodesian_ridgeback</td>\n",
              "      <td>0.408143</td>\n",
              "      <td>True</td>\n",
              "      <td>redbone</td>\n",
              "      <td>0.360687</td>\n",
              "      <td>True</td>\n",
              "      <td>miniature_pinscher</td>\n",
              "      <td>0.222752</td>\n",
              "      <td>True</td>\n",
              "    </tr>\n",
              "    <tr>\n",
              "      <th>4</th>\n",
              "      <td>666049248165822465</td>\n",
              "      <td>https://pbs.twimg.com/media/CT5IQmsXIAAKY4A.jpg</td>\n",
              "      <td>1</td>\n",
              "      <td>miniature_pinscher</td>\n",
              "      <td>0.560311</td>\n",
              "      <td>True</td>\n",
              "      <td>Rottweiler</td>\n",
              "      <td>0.243682</td>\n",
              "      <td>True</td>\n",
              "      <td>Doberman</td>\n",
              "      <td>0.154629</td>\n",
              "      <td>True</td>\n",
              "    </tr>\n",
              "  </tbody>\n",
              "</table>\n",
              "</div>"
            ],
            "text/plain": [
              "             tweet_id  ... p3_dog\n",
              "0  666020888022790149  ...   True\n",
              "1  666029285002620928  ...   True\n",
              "2  666033412701032449  ...   True\n",
              "3  666044226329800704  ...   True\n",
              "4  666049248165822465  ...   True\n",
              "\n",
              "[5 rows x 12 columns]"
            ]
          },
          "metadata": {
            "tags": []
          },
          "execution_count": 17
        }
      ]
    },
    {
      "cell_type": "markdown",
      "metadata": {
        "id": "9lLrOvwvVlwU",
        "colab_type": "text"
      },
      "source": [
        "As usual I will start by checking the number of rows and columns and some initial information about the columns and missing values "
      ]
    },
    {
      "cell_type": "code",
      "metadata": {
        "id": "CzVOnHS5VjwD",
        "colab_type": "code",
        "colab": {
          "base_uri": "https://localhost:8080/",
          "height": 706
        },
        "outputId": "49057c4b-e438-4e6f-f967-178d0a983a7d"
      },
      "source": [
        "image_prediction.tail(20)"
      ],
      "execution_count": 18,
      "outputs": [
        {
          "output_type": "execute_result",
          "data": {
            "text/html": [
              "<div>\n",
              "<style scoped>\n",
              "    .dataframe tbody tr th:only-of-type {\n",
              "        vertical-align: middle;\n",
              "    }\n",
              "\n",
              "    .dataframe tbody tr th {\n",
              "        vertical-align: top;\n",
              "    }\n",
              "\n",
              "    .dataframe thead th {\n",
              "        text-align: right;\n",
              "    }\n",
              "</style>\n",
              "<table border=\"1\" class=\"dataframe\">\n",
              "  <thead>\n",
              "    <tr style=\"text-align: right;\">\n",
              "      <th></th>\n",
              "      <th>tweet_id</th>\n",
              "      <th>jpg_url</th>\n",
              "      <th>img_num</th>\n",
              "      <th>p1</th>\n",
              "      <th>p1_conf</th>\n",
              "      <th>p1_dog</th>\n",
              "      <th>p2</th>\n",
              "      <th>p2_conf</th>\n",
              "      <th>p2_dog</th>\n",
              "      <th>p3</th>\n",
              "      <th>p3_conf</th>\n",
              "      <th>p3_dog</th>\n",
              "    </tr>\n",
              "  </thead>\n",
              "  <tbody>\n",
              "    <tr>\n",
              "      <th>2055</th>\n",
              "      <td>888202515573088257</td>\n",
              "      <td>https://pbs.twimg.com/media/DFDw2tyUQAAAFke.jpg</td>\n",
              "      <td>2</td>\n",
              "      <td>Pembroke</td>\n",
              "      <td>0.809197</td>\n",
              "      <td>True</td>\n",
              "      <td>Rhodesian_ridgeback</td>\n",
              "      <td>0.054950</td>\n",
              "      <td>True</td>\n",
              "      <td>beagle</td>\n",
              "      <td>0.038915</td>\n",
              "      <td>True</td>\n",
              "    </tr>\n",
              "    <tr>\n",
              "      <th>2056</th>\n",
              "      <td>888554962724278272</td>\n",
              "      <td>https://pbs.twimg.com/media/DFTH_O-UQAACu20.jpg</td>\n",
              "      <td>3</td>\n",
              "      <td>Siberian_husky</td>\n",
              "      <td>0.700377</td>\n",
              "      <td>True</td>\n",
              "      <td>Eskimo_dog</td>\n",
              "      <td>0.166511</td>\n",
              "      <td>True</td>\n",
              "      <td>malamute</td>\n",
              "      <td>0.111411</td>\n",
              "      <td>True</td>\n",
              "    </tr>\n",
              "    <tr>\n",
              "      <th>2057</th>\n",
              "      <td>888804989199671297</td>\n",
              "      <td>https://pbs.twimg.com/media/DFWra-3VYAA2piG.jpg</td>\n",
              "      <td>1</td>\n",
              "      <td>golden_retriever</td>\n",
              "      <td>0.469760</td>\n",
              "      <td>True</td>\n",
              "      <td>Labrador_retriever</td>\n",
              "      <td>0.184172</td>\n",
              "      <td>True</td>\n",
              "      <td>English_setter</td>\n",
              "      <td>0.073482</td>\n",
              "      <td>True</td>\n",
              "    </tr>\n",
              "    <tr>\n",
              "      <th>2058</th>\n",
              "      <td>888917238123831296</td>\n",
              "      <td>https://pbs.twimg.com/media/DFYRgsOUQAARGhO.jpg</td>\n",
              "      <td>1</td>\n",
              "      <td>golden_retriever</td>\n",
              "      <td>0.714719</td>\n",
              "      <td>True</td>\n",
              "      <td>Tibetan_mastiff</td>\n",
              "      <td>0.120184</td>\n",
              "      <td>True</td>\n",
              "      <td>Labrador_retriever</td>\n",
              "      <td>0.105506</td>\n",
              "      <td>True</td>\n",
              "    </tr>\n",
              "    <tr>\n",
              "      <th>2059</th>\n",
              "      <td>889278841981685760</td>\n",
              "      <td>https://pbs.twimg.com/ext_tw_video_thumb/88927...</td>\n",
              "      <td>1</td>\n",
              "      <td>whippet</td>\n",
              "      <td>0.626152</td>\n",
              "      <td>True</td>\n",
              "      <td>borzoi</td>\n",
              "      <td>0.194742</td>\n",
              "      <td>True</td>\n",
              "      <td>Saluki</td>\n",
              "      <td>0.027351</td>\n",
              "      <td>True</td>\n",
              "    </tr>\n",
              "    <tr>\n",
              "      <th>2060</th>\n",
              "      <td>889531135344209921</td>\n",
              "      <td>https://pbs.twimg.com/media/DFg_2PVW0AEHN3p.jpg</td>\n",
              "      <td>1</td>\n",
              "      <td>golden_retriever</td>\n",
              "      <td>0.953442</td>\n",
              "      <td>True</td>\n",
              "      <td>Labrador_retriever</td>\n",
              "      <td>0.013834</td>\n",
              "      <td>True</td>\n",
              "      <td>redbone</td>\n",
              "      <td>0.007958</td>\n",
              "      <td>True</td>\n",
              "    </tr>\n",
              "    <tr>\n",
              "      <th>2061</th>\n",
              "      <td>889638837579907072</td>\n",
              "      <td>https://pbs.twimg.com/media/DFihzFfXsAYGDPR.jpg</td>\n",
              "      <td>1</td>\n",
              "      <td>French_bulldog</td>\n",
              "      <td>0.991650</td>\n",
              "      <td>True</td>\n",
              "      <td>boxer</td>\n",
              "      <td>0.002129</td>\n",
              "      <td>True</td>\n",
              "      <td>Staffordshire_bullterrier</td>\n",
              "      <td>0.001498</td>\n",
              "      <td>True</td>\n",
              "    </tr>\n",
              "    <tr>\n",
              "      <th>2062</th>\n",
              "      <td>889665388333682689</td>\n",
              "      <td>https://pbs.twimg.com/media/DFi579UWsAAatzw.jpg</td>\n",
              "      <td>1</td>\n",
              "      <td>Pembroke</td>\n",
              "      <td>0.966327</td>\n",
              "      <td>True</td>\n",
              "      <td>Cardigan</td>\n",
              "      <td>0.027356</td>\n",
              "      <td>True</td>\n",
              "      <td>basenji</td>\n",
              "      <td>0.004633</td>\n",
              "      <td>True</td>\n",
              "    </tr>\n",
              "    <tr>\n",
              "      <th>2063</th>\n",
              "      <td>889880896479866881</td>\n",
              "      <td>https://pbs.twimg.com/media/DFl99B1WsAITKsg.jpg</td>\n",
              "      <td>1</td>\n",
              "      <td>French_bulldog</td>\n",
              "      <td>0.377417</td>\n",
              "      <td>True</td>\n",
              "      <td>Labrador_retriever</td>\n",
              "      <td>0.151317</td>\n",
              "      <td>True</td>\n",
              "      <td>muzzle</td>\n",
              "      <td>0.082981</td>\n",
              "      <td>False</td>\n",
              "    </tr>\n",
              "    <tr>\n",
              "      <th>2064</th>\n",
              "      <td>890006608113172480</td>\n",
              "      <td>https://pbs.twimg.com/media/DFnwSY4WAAAMliS.jpg</td>\n",
              "      <td>1</td>\n",
              "      <td>Samoyed</td>\n",
              "      <td>0.957979</td>\n",
              "      <td>True</td>\n",
              "      <td>Pomeranian</td>\n",
              "      <td>0.013884</td>\n",
              "      <td>True</td>\n",
              "      <td>chow</td>\n",
              "      <td>0.008167</td>\n",
              "      <td>True</td>\n",
              "    </tr>\n",
              "    <tr>\n",
              "      <th>2065</th>\n",
              "      <td>890240255349198849</td>\n",
              "      <td>https://pbs.twimg.com/media/DFrEyVuW0AAO3t9.jpg</td>\n",
              "      <td>1</td>\n",
              "      <td>Pembroke</td>\n",
              "      <td>0.511319</td>\n",
              "      <td>True</td>\n",
              "      <td>Cardigan</td>\n",
              "      <td>0.451038</td>\n",
              "      <td>True</td>\n",
              "      <td>Chihuahua</td>\n",
              "      <td>0.029248</td>\n",
              "      <td>True</td>\n",
              "    </tr>\n",
              "    <tr>\n",
              "      <th>2066</th>\n",
              "      <td>890609185150312448</td>\n",
              "      <td>https://pbs.twimg.com/media/DFwUU__XcAEpyXI.jpg</td>\n",
              "      <td>1</td>\n",
              "      <td>Irish_terrier</td>\n",
              "      <td>0.487574</td>\n",
              "      <td>True</td>\n",
              "      <td>Irish_setter</td>\n",
              "      <td>0.193054</td>\n",
              "      <td>True</td>\n",
              "      <td>Chesapeake_Bay_retriever</td>\n",
              "      <td>0.118184</td>\n",
              "      <td>True</td>\n",
              "    </tr>\n",
              "    <tr>\n",
              "      <th>2067</th>\n",
              "      <td>890729181411237888</td>\n",
              "      <td>https://pbs.twimg.com/media/DFyBahAVwAAhUTd.jpg</td>\n",
              "      <td>2</td>\n",
              "      <td>Pomeranian</td>\n",
              "      <td>0.566142</td>\n",
              "      <td>True</td>\n",
              "      <td>Eskimo_dog</td>\n",
              "      <td>0.178406</td>\n",
              "      <td>True</td>\n",
              "      <td>Pembroke</td>\n",
              "      <td>0.076507</td>\n",
              "      <td>True</td>\n",
              "    </tr>\n",
              "    <tr>\n",
              "      <th>2068</th>\n",
              "      <td>890971913173991426</td>\n",
              "      <td>https://pbs.twimg.com/media/DF1eOmZXUAALUcq.jpg</td>\n",
              "      <td>1</td>\n",
              "      <td>Appenzeller</td>\n",
              "      <td>0.341703</td>\n",
              "      <td>True</td>\n",
              "      <td>Border_collie</td>\n",
              "      <td>0.199287</td>\n",
              "      <td>True</td>\n",
              "      <td>ice_lolly</td>\n",
              "      <td>0.193548</td>\n",
              "      <td>False</td>\n",
              "    </tr>\n",
              "    <tr>\n",
              "      <th>2069</th>\n",
              "      <td>891087950875897856</td>\n",
              "      <td>https://pbs.twimg.com/media/DF3HwyEWsAABqE6.jpg</td>\n",
              "      <td>1</td>\n",
              "      <td>Chesapeake_Bay_retriever</td>\n",
              "      <td>0.425595</td>\n",
              "      <td>True</td>\n",
              "      <td>Irish_terrier</td>\n",
              "      <td>0.116317</td>\n",
              "      <td>True</td>\n",
              "      <td>Indian_elephant</td>\n",
              "      <td>0.076902</td>\n",
              "      <td>False</td>\n",
              "    </tr>\n",
              "    <tr>\n",
              "      <th>2070</th>\n",
              "      <td>891327558926688256</td>\n",
              "      <td>https://pbs.twimg.com/media/DF6hr6BUMAAzZgT.jpg</td>\n",
              "      <td>2</td>\n",
              "      <td>basset</td>\n",
              "      <td>0.555712</td>\n",
              "      <td>True</td>\n",
              "      <td>English_springer</td>\n",
              "      <td>0.225770</td>\n",
              "      <td>True</td>\n",
              "      <td>German_short-haired_pointer</td>\n",
              "      <td>0.175219</td>\n",
              "      <td>True</td>\n",
              "    </tr>\n",
              "    <tr>\n",
              "      <th>2071</th>\n",
              "      <td>891689557279858688</td>\n",
              "      <td>https://pbs.twimg.com/media/DF_q7IAWsAEuuN8.jpg</td>\n",
              "      <td>1</td>\n",
              "      <td>paper_towel</td>\n",
              "      <td>0.170278</td>\n",
              "      <td>False</td>\n",
              "      <td>Labrador_retriever</td>\n",
              "      <td>0.168086</td>\n",
              "      <td>True</td>\n",
              "      <td>spatula</td>\n",
              "      <td>0.040836</td>\n",
              "      <td>False</td>\n",
              "    </tr>\n",
              "    <tr>\n",
              "      <th>2072</th>\n",
              "      <td>891815181378084864</td>\n",
              "      <td>https://pbs.twimg.com/media/DGBdLU1WsAANxJ9.jpg</td>\n",
              "      <td>1</td>\n",
              "      <td>Chihuahua</td>\n",
              "      <td>0.716012</td>\n",
              "      <td>True</td>\n",
              "      <td>malamute</td>\n",
              "      <td>0.078253</td>\n",
              "      <td>True</td>\n",
              "      <td>kelpie</td>\n",
              "      <td>0.031379</td>\n",
              "      <td>True</td>\n",
              "    </tr>\n",
              "    <tr>\n",
              "      <th>2073</th>\n",
              "      <td>892177421306343426</td>\n",
              "      <td>https://pbs.twimg.com/media/DGGmoV4XsAAUL6n.jpg</td>\n",
              "      <td>1</td>\n",
              "      <td>Chihuahua</td>\n",
              "      <td>0.323581</td>\n",
              "      <td>True</td>\n",
              "      <td>Pekinese</td>\n",
              "      <td>0.090647</td>\n",
              "      <td>True</td>\n",
              "      <td>papillon</td>\n",
              "      <td>0.068957</td>\n",
              "      <td>True</td>\n",
              "    </tr>\n",
              "    <tr>\n",
              "      <th>2074</th>\n",
              "      <td>892420643555336193</td>\n",
              "      <td>https://pbs.twimg.com/media/DGKD1-bXoAAIAUK.jpg</td>\n",
              "      <td>1</td>\n",
              "      <td>orange</td>\n",
              "      <td>0.097049</td>\n",
              "      <td>False</td>\n",
              "      <td>bagel</td>\n",
              "      <td>0.085851</td>\n",
              "      <td>False</td>\n",
              "      <td>banana</td>\n",
              "      <td>0.076110</td>\n",
              "      <td>False</td>\n",
              "    </tr>\n",
              "  </tbody>\n",
              "</table>\n",
              "</div>"
            ],
            "text/plain": [
              "                tweet_id  ... p3_dog\n",
              "2055  888202515573088257  ...   True\n",
              "2056  888554962724278272  ...   True\n",
              "2057  888804989199671297  ...   True\n",
              "2058  888917238123831296  ...   True\n",
              "2059  889278841981685760  ...   True\n",
              "2060  889531135344209921  ...   True\n",
              "2061  889638837579907072  ...   True\n",
              "2062  889665388333682689  ...   True\n",
              "2063  889880896479866881  ...  False\n",
              "2064  890006608113172480  ...   True\n",
              "2065  890240255349198849  ...   True\n",
              "2066  890609185150312448  ...   True\n",
              "2067  890729181411237888  ...   True\n",
              "2068  890971913173991426  ...  False\n",
              "2069  891087950875897856  ...  False\n",
              "2070  891327558926688256  ...   True\n",
              "2071  891689557279858688  ...  False\n",
              "2072  891815181378084864  ...   True\n",
              "2073  892177421306343426  ...   True\n",
              "2074  892420643555336193  ...  False\n",
              "\n",
              "[20 rows x 12 columns]"
            ]
          },
          "metadata": {
            "tags": []
          },
          "execution_count": 18
        }
      ]
    },
    {
      "cell_type": "code",
      "metadata": {
        "id": "AuqyIKRaWUlL",
        "colab_type": "code",
        "colab": {
          "base_uri": "https://localhost:8080/",
          "height": 34
        },
        "outputId": "1940a759-e0d7-42bc-b07a-b1cb7cc9a379"
      },
      "source": [
        "#number of rows and columns in our dataframe\n",
        "image_prediction.shape"
      ],
      "execution_count": 19,
      "outputs": [
        {
          "output_type": "execute_result",
          "data": {
            "text/plain": [
              "(2075, 12)"
            ]
          },
          "metadata": {
            "tags": []
          },
          "execution_count": 19
        }
      ]
    },
    {
      "cell_type": "markdown",
      "metadata": {
        "id": "Ab3KE-4NWw27",
        "colab_type": "text"
      },
      "source": [
        "I notice there are 281 missing rows when comapring image_prediction dataframe and twitter_archive dataframe"
      ]
    },
    {
      "cell_type": "markdown",
      "metadata": {
        "id": "hS7c38gUYFhe",
        "colab_type": "text"
      },
      "source": [
        "Let's check about duplicated rows and it appears that there are no duplicated rows"
      ]
    },
    {
      "cell_type": "code",
      "metadata": {
        "id": "Cyut-T3AX97f",
        "colab_type": "code",
        "colab": {
          "base_uri": "https://localhost:8080/",
          "height": 34
        },
        "outputId": "2905228f-6988-4e5d-97d3-80828af7f2ca"
      },
      "source": [
        "image_prediction.duplicated().all()"
      ],
      "execution_count": 20,
      "outputs": [
        {
          "output_type": "execute_result",
          "data": {
            "text/plain": [
              "False"
            ]
          },
          "metadata": {
            "tags": []
          },
          "execution_count": 20
        }
      ]
    },
    {
      "cell_type": "markdown",
      "metadata": {
        "id": "LwU5XRxTURQV",
        "colab_type": "text"
      },
      "source": [
        "Ok I will start by checking the rows that predicted other stuff than dogs and open their urls to check if these tweets contained dogs pictures or not as based on that I will keep these rows or remove them, and after checking these rows by random check, I found out that these tweets do contain dogs and the model wrongly interpreted them as other stuff"
      ]
    },
    {
      "cell_type": "code",
      "metadata": {
        "id": "bF85qTKJN7AX",
        "colab_type": "code",
        "outputId": "c85be597-2f98-49ec-a3ef-1c5550288187",
        "colab": {
          "base_uri": "https://localhost:8080/",
          "height": 439
        }
      },
      "source": [
        "image_prediction.query('p1_dog==False')"
      ],
      "execution_count": 21,
      "outputs": [
        {
          "output_type": "execute_result",
          "data": {
            "text/html": [
              "<div>\n",
              "<style scoped>\n",
              "    .dataframe tbody tr th:only-of-type {\n",
              "        vertical-align: middle;\n",
              "    }\n",
              "\n",
              "    .dataframe tbody tr th {\n",
              "        vertical-align: top;\n",
              "    }\n",
              "\n",
              "    .dataframe thead th {\n",
              "        text-align: right;\n",
              "    }\n",
              "</style>\n",
              "<table border=\"1\" class=\"dataframe\">\n",
              "  <thead>\n",
              "    <tr style=\"text-align: right;\">\n",
              "      <th></th>\n",
              "      <th>tweet_id</th>\n",
              "      <th>jpg_url</th>\n",
              "      <th>img_num</th>\n",
              "      <th>p1</th>\n",
              "      <th>p1_conf</th>\n",
              "      <th>p1_dog</th>\n",
              "      <th>p2</th>\n",
              "      <th>p2_conf</th>\n",
              "      <th>p2_dog</th>\n",
              "      <th>p3</th>\n",
              "      <th>p3_conf</th>\n",
              "      <th>p3_dog</th>\n",
              "    </tr>\n",
              "  </thead>\n",
              "  <tbody>\n",
              "    <tr>\n",
              "      <th>6</th>\n",
              "      <td>666051853826850816</td>\n",
              "      <td>https://pbs.twimg.com/media/CT5KoJ1WoAAJash.jpg</td>\n",
              "      <td>1</td>\n",
              "      <td>box_turtle</td>\n",
              "      <td>0.933012</td>\n",
              "      <td>False</td>\n",
              "      <td>mud_turtle</td>\n",
              "      <td>0.045885</td>\n",
              "      <td>False</td>\n",
              "      <td>terrapin</td>\n",
              "      <td>0.017885</td>\n",
              "      <td>False</td>\n",
              "    </tr>\n",
              "    <tr>\n",
              "      <th>8</th>\n",
              "      <td>666057090499244032</td>\n",
              "      <td>https://pbs.twimg.com/media/CT5PY90WoAAQGLo.jpg</td>\n",
              "      <td>1</td>\n",
              "      <td>shopping_cart</td>\n",
              "      <td>0.962465</td>\n",
              "      <td>False</td>\n",
              "      <td>shopping_basket</td>\n",
              "      <td>0.014594</td>\n",
              "      <td>False</td>\n",
              "      <td>golden_retriever</td>\n",
              "      <td>0.007959</td>\n",
              "      <td>True</td>\n",
              "    </tr>\n",
              "    <tr>\n",
              "      <th>17</th>\n",
              "      <td>666104133288665088</td>\n",
              "      <td>https://pbs.twimg.com/media/CT56LSZWoAAlJj2.jpg</td>\n",
              "      <td>1</td>\n",
              "      <td>hen</td>\n",
              "      <td>0.965932</td>\n",
              "      <td>False</td>\n",
              "      <td>cock</td>\n",
              "      <td>0.033919</td>\n",
              "      <td>False</td>\n",
              "      <td>partridge</td>\n",
              "      <td>0.000052</td>\n",
              "      <td>False</td>\n",
              "    </tr>\n",
              "    <tr>\n",
              "      <th>18</th>\n",
              "      <td>666268910803644416</td>\n",
              "      <td>https://pbs.twimg.com/media/CT8QCd1WEAADXws.jpg</td>\n",
              "      <td>1</td>\n",
              "      <td>desktop_computer</td>\n",
              "      <td>0.086502</td>\n",
              "      <td>False</td>\n",
              "      <td>desk</td>\n",
              "      <td>0.085547</td>\n",
              "      <td>False</td>\n",
              "      <td>bookcase</td>\n",
              "      <td>0.079480</td>\n",
              "      <td>False</td>\n",
              "    </tr>\n",
              "    <tr>\n",
              "      <th>21</th>\n",
              "      <td>666293911632134144</td>\n",
              "      <td>https://pbs.twimg.com/media/CT8mx7KW4AEQu8N.jpg</td>\n",
              "      <td>1</td>\n",
              "      <td>three-toed_sloth</td>\n",
              "      <td>0.914671</td>\n",
              "      <td>False</td>\n",
              "      <td>otter</td>\n",
              "      <td>0.015250</td>\n",
              "      <td>False</td>\n",
              "      <td>great_grey_owl</td>\n",
              "      <td>0.013207</td>\n",
              "      <td>False</td>\n",
              "    </tr>\n",
              "    <tr>\n",
              "      <th>...</th>\n",
              "      <td>...</td>\n",
              "      <td>...</td>\n",
              "      <td>...</td>\n",
              "      <td>...</td>\n",
              "      <td>...</td>\n",
              "      <td>...</td>\n",
              "      <td>...</td>\n",
              "      <td>...</td>\n",
              "      <td>...</td>\n",
              "      <td>...</td>\n",
              "      <td>...</td>\n",
              "      <td>...</td>\n",
              "    </tr>\n",
              "    <tr>\n",
              "      <th>2026</th>\n",
              "      <td>882045870035918850</td>\n",
              "      <td>https://pbs.twimg.com/media/DD2oCl2WAAEI_4a.jpg</td>\n",
              "      <td>1</td>\n",
              "      <td>web_site</td>\n",
              "      <td>0.949591</td>\n",
              "      <td>False</td>\n",
              "      <td>dhole</td>\n",
              "      <td>0.017326</td>\n",
              "      <td>False</td>\n",
              "      <td>golden_retriever</td>\n",
              "      <td>0.006941</td>\n",
              "      <td>True</td>\n",
              "    </tr>\n",
              "    <tr>\n",
              "      <th>2046</th>\n",
              "      <td>886680336477933568</td>\n",
              "      <td>https://pbs.twimg.com/media/DE4fEDzWAAAyHMM.jpg</td>\n",
              "      <td>1</td>\n",
              "      <td>convertible</td>\n",
              "      <td>0.738995</td>\n",
              "      <td>False</td>\n",
              "      <td>sports_car</td>\n",
              "      <td>0.139952</td>\n",
              "      <td>False</td>\n",
              "      <td>car_wheel</td>\n",
              "      <td>0.044173</td>\n",
              "      <td>False</td>\n",
              "    </tr>\n",
              "    <tr>\n",
              "      <th>2052</th>\n",
              "      <td>887517139158093824</td>\n",
              "      <td>https://pbs.twimg.com/ext_tw_video_thumb/88751...</td>\n",
              "      <td>1</td>\n",
              "      <td>limousine</td>\n",
              "      <td>0.130432</td>\n",
              "      <td>False</td>\n",
              "      <td>tow_truck</td>\n",
              "      <td>0.029175</td>\n",
              "      <td>False</td>\n",
              "      <td>shopping_cart</td>\n",
              "      <td>0.026321</td>\n",
              "      <td>False</td>\n",
              "    </tr>\n",
              "    <tr>\n",
              "      <th>2071</th>\n",
              "      <td>891689557279858688</td>\n",
              "      <td>https://pbs.twimg.com/media/DF_q7IAWsAEuuN8.jpg</td>\n",
              "      <td>1</td>\n",
              "      <td>paper_towel</td>\n",
              "      <td>0.170278</td>\n",
              "      <td>False</td>\n",
              "      <td>Labrador_retriever</td>\n",
              "      <td>0.168086</td>\n",
              "      <td>True</td>\n",
              "      <td>spatula</td>\n",
              "      <td>0.040836</td>\n",
              "      <td>False</td>\n",
              "    </tr>\n",
              "    <tr>\n",
              "      <th>2074</th>\n",
              "      <td>892420643555336193</td>\n",
              "      <td>https://pbs.twimg.com/media/DGKD1-bXoAAIAUK.jpg</td>\n",
              "      <td>1</td>\n",
              "      <td>orange</td>\n",
              "      <td>0.097049</td>\n",
              "      <td>False</td>\n",
              "      <td>bagel</td>\n",
              "      <td>0.085851</td>\n",
              "      <td>False</td>\n",
              "      <td>banana</td>\n",
              "      <td>0.076110</td>\n",
              "      <td>False</td>\n",
              "    </tr>\n",
              "  </tbody>\n",
              "</table>\n",
              "<p>543 rows × 12 columns</p>\n",
              "</div>"
            ],
            "text/plain": [
              "                tweet_id  ... p3_dog\n",
              "6     666051853826850816  ...  False\n",
              "8     666057090499244032  ...   True\n",
              "17    666104133288665088  ...  False\n",
              "18    666268910803644416  ...  False\n",
              "21    666293911632134144  ...  False\n",
              "...                  ...  ...    ...\n",
              "2026  882045870035918850  ...   True\n",
              "2046  886680336477933568  ...  False\n",
              "2052  887517139158093824  ...  False\n",
              "2071  891689557279858688  ...  False\n",
              "2074  892420643555336193  ...  False\n",
              "\n",
              "[543 rows x 12 columns]"
            ]
          },
          "metadata": {
            "tags": []
          },
          "execution_count": 21
        }
      ]
    },
    {
      "cell_type": "markdown",
      "metadata": {
        "id": "Sgr8wD1GY_K8",
        "colab_type": "text"
      },
      "source": [
        "## Our third source of data is the twitter api\n",
        "I will use the twitter api itself to collect two additional columns required in this project(retweet_count, favorite_count). I created a develpoment account on twitter and requested access to their api and was granted access. After that I used twwepy library to download tweets json content to a text file and then read them line by line and create my third dataframe which is ret_fav_count."
      ]
    },
    {
      "cell_type": "markdown",
      "metadata": {
        "id": "RfcdV8M9Z7mL",
        "colab_type": "text"
      },
      "source": [
        "Using my granted access token to access the twitter api"
      ]
    },
    {
      "cell_type": "code",
      "metadata": {
        "id": "4Iv1YWTLyRMF",
        "colab_type": "code",
        "colab": {}
      },
      "source": [
        "auth=tweepy.OAuthHandler('ATgQvDLXAG0Y1KYivuXlZQaOh','r2YcOCuK356cwqAAc8U3EZ6vlbc5ZV8P3w0Sb7ag9UuPzMN5bV')\n",
        "auth.set_access_token('247215662-FQA5CUZpwtzQ1uunDpNT5nAb9GSgnWzOVUYgn5vW','ZES8vhdxjWdUqOvFYKtrwABjpvnkGCk2sFqG4Grj6xLsb')\n",
        "api=tweepy.API(auth,wait_on_rate_limit=True,wait_on_rate_limit_notify=True)"
      ],
      "execution_count": 0,
      "outputs": []
    },
    {
      "cell_type": "code",
      "metadata": {
        "id": "Lspui2lZ-JBq",
        "colab_type": "code",
        "outputId": "df52390b-74f1-437d-e656-67a4b5cdbfe3",
        "colab": {
          "base_uri": "https://localhost:8080/",
          "height": 54
        }
      },
      "source": [
        "tweet=api.get_status(666049248165822465,tweet_mode='extended')\n",
        "#i will check the different attributes \n",
        "tweet"
      ],
      "execution_count": 23,
      "outputs": [
        {
          "output_type": "execute_result",
          "data": {
            "text/plain": [
              "Status(_api=<tweepy.api.API object at 0x7fb13759e080>, _json={'created_at': 'Mon Nov 16 00:24:50 +0000 2015', 'id': 666049248165822465, 'id_str': '666049248165822465', 'full_text': 'Here we have a 1949 1st generation vulpix. Enjoys sweat tea and Fox News. Cannot be phased. 5/10 https://t.co/4B7cOc1EDq', 'truncated': False, 'display_text_range': [0, 120], 'entities': {'hashtags': [], 'symbols': [], 'user_mentions': [], 'urls': [], 'media': [{'id': 666049244999131136, 'id_str': '666049244999131136', 'indices': [97, 120], 'media_url': 'http://pbs.twimg.com/media/CT5IQmsXIAAKY4A.jpg', 'media_url_https': 'https://pbs.twimg.com/media/CT5IQmsXIAAKY4A.jpg', 'url': 'https://t.co/4B7cOc1EDq', 'display_url': 'pic.twitter.com/4B7cOc1EDq', 'expanded_url': 'https://twitter.com/dog_rates/status/666049248165822465/photo/1', 'type': 'photo', 'sizes': {'thumb': {'w': 150, 'h': 150, 'resize': 'crop'}, 'small': {'w': 510, 'h': 680, 'resize': 'fit'}, 'large': {'w': 768, 'h': 1024, 'resize': 'fit'}, 'medium': {'w': 768, 'h': 1024, 'resize': 'fit'}}}]}, 'extended_entities': {'media': [{'id': 666049244999131136, 'id_str': '666049244999131136', 'indices': [97, 120], 'media_url': 'http://pbs.twimg.com/media/CT5IQmsXIAAKY4A.jpg', 'media_url_https': 'https://pbs.twimg.com/media/CT5IQmsXIAAKY4A.jpg', 'url': 'https://t.co/4B7cOc1EDq', 'display_url': 'pic.twitter.com/4B7cOc1EDq', 'expanded_url': 'https://twitter.com/dog_rates/status/666049248165822465/photo/1', 'type': 'photo', 'sizes': {'thumb': {'w': 150, 'h': 150, 'resize': 'crop'}, 'small': {'w': 510, 'h': 680, 'resize': 'fit'}, 'large': {'w': 768, 'h': 1024, 'resize': 'fit'}, 'medium': {'w': 768, 'h': 1024, 'resize': 'fit'}}}]}, 'source': '<a href=\"http://twitter.com/download/iphone\" rel=\"nofollow\">Twitter for iPhone</a>', 'in_reply_to_status_id': None, 'in_reply_to_status_id_str': None, 'in_reply_to_user_id': None, 'in_reply_to_user_id_str': None, 'in_reply_to_screen_name': None, 'user': {'id': 4196983835, 'id_str': '4196983835', 'name': 'WeRateDogs®', 'screen_name': 'dog_rates', 'location': '「 DM YOUR DOGS 」', 'description': 'Your Only Source For Professional Dog Ratings Instagram and Facebook ➪ WeRateDogs partnerships@weratedogs.com ⠀⠀⠀⠀⠀⠀⠀⠀⠀⠀⠀⠀', 'url': 'https://t.co/N7sNNHSfPq', 'entities': {'url': {'urls': [{'url': 'https://t.co/N7sNNHSfPq', 'expanded_url': 'http://weratedogs.com', 'display_url': 'weratedogs.com', 'indices': [0, 23]}]}, 'description': {'urls': []}}, 'protected': False, 'followers_count': 8688606, 'friends_count': 15, 'listed_count': 7026, 'created_at': 'Sun Nov 15 21:41:29 +0000 2015', 'favourites_count': 144641, 'utc_offset': None, 'time_zone': None, 'geo_enabled': True, 'verified': True, 'statuses_count': 11673, 'lang': None, 'contributors_enabled': False, 'is_translator': False, 'is_translation_enabled': False, 'profile_background_color': '000000', 'profile_background_image_url': 'http://abs.twimg.com/images/themes/theme1/bg.png', 'profile_background_image_url_https': 'https://abs.twimg.com/images/themes/theme1/bg.png', 'profile_background_tile': False, 'profile_image_url': 'http://pbs.twimg.com/profile_images/1218319284557905920/ntuD-LOA_normal.jpg', 'profile_image_url_https': 'https://pbs.twimg.com/profile_images/1218319284557905920/ntuD-LOA_normal.jpg', 'profile_banner_url': 'https://pbs.twimg.com/profile_banners/4196983835/1575511391', 'profile_link_color': 'F5ABB5', 'profile_sidebar_border_color': '000000', 'profile_sidebar_fill_color': '000000', 'profile_text_color': '000000', 'profile_use_background_image': False, 'has_extended_profile': False, 'default_profile': False, 'default_profile_image': False, 'following': True, 'follow_request_sent': False, 'notifications': False, 'translator_type': 'none'}, 'geo': None, 'coordinates': None, 'place': None, 'contributors': None, 'is_quote_status': False, 'retweet_count': 41, 'favorite_count': 99, 'favorited': False, 'retweeted': False, 'possibly_sensitive': False, 'possibly_sensitive_appealable': False, 'lang': 'en'}, created_at=datetime.datetime(2015, 11, 16, 0, 24, 50), id=666049248165822465, id_str='666049248165822465', full_text='Here we have a 1949 1st generation vulpix. Enjoys sweat tea and Fox News. Cannot be phased. 5/10 https://t.co/4B7cOc1EDq', truncated=False, display_text_range=[0, 120], entities={'hashtags': [], 'symbols': [], 'user_mentions': [], 'urls': [], 'media': [{'id': 666049244999131136, 'id_str': '666049244999131136', 'indices': [97, 120], 'media_url': 'http://pbs.twimg.com/media/CT5IQmsXIAAKY4A.jpg', 'media_url_https': 'https://pbs.twimg.com/media/CT5IQmsXIAAKY4A.jpg', 'url': 'https://t.co/4B7cOc1EDq', 'display_url': 'pic.twitter.com/4B7cOc1EDq', 'expanded_url': 'https://twitter.com/dog_rates/status/666049248165822465/photo/1', 'type': 'photo', 'sizes': {'thumb': {'w': 150, 'h': 150, 'resize': 'crop'}, 'small': {'w': 510, 'h': 680, 'resize': 'fit'}, 'large': {'w': 768, 'h': 1024, 'resize': 'fit'}, 'medium': {'w': 768, 'h': 1024, 'resize': 'fit'}}}]}, extended_entities={'media': [{'id': 666049244999131136, 'id_str': '666049244999131136', 'indices': [97, 120], 'media_url': 'http://pbs.twimg.com/media/CT5IQmsXIAAKY4A.jpg', 'media_url_https': 'https://pbs.twimg.com/media/CT5IQmsXIAAKY4A.jpg', 'url': 'https://t.co/4B7cOc1EDq', 'display_url': 'pic.twitter.com/4B7cOc1EDq', 'expanded_url': 'https://twitter.com/dog_rates/status/666049248165822465/photo/1', 'type': 'photo', 'sizes': {'thumb': {'w': 150, 'h': 150, 'resize': 'crop'}, 'small': {'w': 510, 'h': 680, 'resize': 'fit'}, 'large': {'w': 768, 'h': 1024, 'resize': 'fit'}, 'medium': {'w': 768, 'h': 1024, 'resize': 'fit'}}}]}, source='Twitter for iPhone', source_url='http://twitter.com/download/iphone', in_reply_to_status_id=None, in_reply_to_status_id_str=None, in_reply_to_user_id=None, in_reply_to_user_id_str=None, in_reply_to_screen_name=None, author=User(_api=<tweepy.api.API object at 0x7fb13759e080>, _json={'id': 4196983835, 'id_str': '4196983835', 'name': 'WeRateDogs®', 'screen_name': 'dog_rates', 'location': '「 DM YOUR DOGS 」', 'description': 'Your Only Source For Professional Dog Ratings Instagram and Facebook ➪ WeRateDogs partnerships@weratedogs.com ⠀⠀⠀⠀⠀⠀⠀⠀⠀⠀⠀⠀', 'url': 'https://t.co/N7sNNHSfPq', 'entities': {'url': {'urls': [{'url': 'https://t.co/N7sNNHSfPq', 'expanded_url': 'http://weratedogs.com', 'display_url': 'weratedogs.com', 'indices': [0, 23]}]}, 'description': {'urls': []}}, 'protected': False, 'followers_count': 8688606, 'friends_count': 15, 'listed_count': 7026, 'created_at': 'Sun Nov 15 21:41:29 +0000 2015', 'favourites_count': 144641, 'utc_offset': None, 'time_zone': None, 'geo_enabled': True, 'verified': True, 'statuses_count': 11673, 'lang': None, 'contributors_enabled': False, 'is_translator': False, 'is_translation_enabled': False, 'profile_background_color': '000000', 'profile_background_image_url': 'http://abs.twimg.com/images/themes/theme1/bg.png', 'profile_background_image_url_https': 'https://abs.twimg.com/images/themes/theme1/bg.png', 'profile_background_tile': False, 'profile_image_url': 'http://pbs.twimg.com/profile_images/1218319284557905920/ntuD-LOA_normal.jpg', 'profile_image_url_https': 'https://pbs.twimg.com/profile_images/1218319284557905920/ntuD-LOA_normal.jpg', 'profile_banner_url': 'https://pbs.twimg.com/profile_banners/4196983835/1575511391', 'profile_link_color': 'F5ABB5', 'profile_sidebar_border_color': '000000', 'profile_sidebar_fill_color': '000000', 'profile_text_color': '000000', 'profile_use_background_image': False, 'has_extended_profile': False, 'default_profile': False, 'default_profile_image': False, 'following': True, 'follow_request_sent': False, 'notifications': False, 'translator_type': 'none'}, id=4196983835, id_str='4196983835', name='WeRateDogs®', screen_name='dog_rates', location='「 DM YOUR DOGS 」', description='Your Only Source For Professional Dog Ratings Instagram and Facebook ➪ WeRateDogs partnerships@weratedogs.com ⠀⠀⠀⠀⠀⠀⠀⠀⠀⠀⠀⠀', url='https://t.co/N7sNNHSfPq', entities={'url': {'urls': [{'url': 'https://t.co/N7sNNHSfPq', 'expanded_url': 'http://weratedogs.com', 'display_url': 'weratedogs.com', 'indices': [0, 23]}]}, 'description': {'urls': []}}, protected=False, followers_count=8688606, friends_count=15, listed_count=7026, created_at=datetime.datetime(2015, 11, 15, 21, 41, 29), favourites_count=144641, utc_offset=None, time_zone=None, geo_enabled=True, verified=True, statuses_count=11673, lang=None, contributors_enabled=False, is_translator=False, is_translation_enabled=False, profile_background_color='000000', profile_background_image_url='http://abs.twimg.com/images/themes/theme1/bg.png', profile_background_image_url_https='https://abs.twimg.com/images/themes/theme1/bg.png', profile_background_tile=False, profile_image_url='http://pbs.twimg.com/profile_images/1218319284557905920/ntuD-LOA_normal.jpg', profile_image_url_https='https://pbs.twimg.com/profile_images/1218319284557905920/ntuD-LOA_normal.jpg', profile_banner_url='https://pbs.twimg.com/profile_banners/4196983835/1575511391', profile_link_color='F5ABB5', profile_sidebar_border_color='000000', profile_sidebar_fill_color='000000', profile_text_color='000000', profile_use_background_image=False, has_extended_profile=False, default_profile=False, default_profile_image=False, following=True, follow_request_sent=False, notifications=False, translator_type='none'), user=User(_api=<tweepy.api.API object at 0x7fb13759e080>, _json={'id': 4196983835, 'id_str': '4196983835', 'name': 'WeRateDogs®', 'screen_name': 'dog_rates', 'location': '「 DM YOUR DOGS 」', 'description': 'Your Only Source For Professional Dog Ratings Instagram and Facebook ➪ WeRateDogs partnerships@weratedogs.com ⠀⠀⠀⠀⠀⠀⠀⠀⠀⠀⠀⠀', 'url': 'https://t.co/N7sNNHSfPq', 'entities': {'url': {'urls': [{'url': 'https://t.co/N7sNNHSfPq', 'expanded_url': 'http://weratedogs.com', 'display_url': 'weratedogs.com', 'indices': [0, 23]}]}, 'description': {'urls': []}}, 'protected': False, 'followers_count': 8688606, 'friends_count': 15, 'listed_count': 7026, 'created_at': 'Sun Nov 15 21:41:29 +0000 2015', 'favourites_count': 144641, 'utc_offset': None, 'time_zone': None, 'geo_enabled': True, 'verified': True, 'statuses_count': 11673, 'lang': None, 'contributors_enabled': False, 'is_translator': False, 'is_translation_enabled': False, 'profile_background_color': '000000', 'profile_background_image_url': 'http://abs.twimg.com/images/themes/theme1/bg.png', 'profile_background_image_url_https': 'https://abs.twimg.com/images/themes/theme1/bg.png', 'profile_background_tile': False, 'profile_image_url': 'http://pbs.twimg.com/profile_images/1218319284557905920/ntuD-LOA_normal.jpg', 'profile_image_url_https': 'https://pbs.twimg.com/profile_images/1218319284557905920/ntuD-LOA_normal.jpg', 'profile_banner_url': 'https://pbs.twimg.com/profile_banners/4196983835/1575511391', 'profile_link_color': 'F5ABB5', 'profile_sidebar_border_color': '000000', 'profile_sidebar_fill_color': '000000', 'profile_text_color': '000000', 'profile_use_background_image': False, 'has_extended_profile': False, 'default_profile': False, 'default_profile_image': False, 'following': True, 'follow_request_sent': False, 'notifications': False, 'translator_type': 'none'}, id=4196983835, id_str='4196983835', name='WeRateDogs®', screen_name='dog_rates', location='「 DM YOUR DOGS 」', description='Your Only Source For Professional Dog Ratings Instagram and Facebook ➪ WeRateDogs partnerships@weratedogs.com ⠀⠀⠀⠀⠀⠀⠀⠀⠀⠀⠀⠀', url='https://t.co/N7sNNHSfPq', entities={'url': {'urls': [{'url': 'https://t.co/N7sNNHSfPq', 'expanded_url': 'http://weratedogs.com', 'display_url': 'weratedogs.com', 'indices': [0, 23]}]}, 'description': {'urls': []}}, protected=False, followers_count=8688606, friends_count=15, listed_count=7026, created_at=datetime.datetime(2015, 11, 15, 21, 41, 29), favourites_count=144641, utc_offset=None, time_zone=None, geo_enabled=True, verified=True, statuses_count=11673, lang=None, contributors_enabled=False, is_translator=False, is_translation_enabled=False, profile_background_color='000000', profile_background_image_url='http://abs.twimg.com/images/themes/theme1/bg.png', profile_background_image_url_https='https://abs.twimg.com/images/themes/theme1/bg.png', profile_background_tile=False, profile_image_url='http://pbs.twimg.com/profile_images/1218319284557905920/ntuD-LOA_normal.jpg', profile_image_url_https='https://pbs.twimg.com/profile_images/1218319284557905920/ntuD-LOA_normal.jpg', profile_banner_url='https://pbs.twimg.com/profile_banners/4196983835/1575511391', profile_link_color='F5ABB5', profile_sidebar_border_color='000000', profile_sidebar_fill_color='000000', profile_text_color='000000', profile_use_background_image=False, has_extended_profile=False, default_profile=False, default_profile_image=False, following=True, follow_request_sent=False, notifications=False, translator_type='none'), geo=None, coordinates=None, place=None, contributors=None, is_quote_status=False, retweet_count=41, favorite_count=99, favorited=False, retweeted=False, possibly_sensitive=False, possibly_sensitive_appealable=False, lang='en')"
            ]
          },
          "metadata": {
            "tags": []
          },
          "execution_count": 23
        }
      ]
    },
    {
      "cell_type": "code",
      "metadata": {
        "id": "iiV_KA3GAF-H",
        "colab_type": "code",
        "outputId": "17075b19-d45d-488d-f38e-58ee3a9add83",
        "colab": {
          "base_uri": "https://localhost:8080/",
          "height": 1000
        }
      },
      "source": [
        "#getting to know the json attributes\n",
        "tweet._json"
      ],
      "execution_count": 25,
      "outputs": [
        {
          "output_type": "execute_result",
          "data": {
            "text/plain": [
              "{'contributors': None,\n",
              " 'coordinates': None,\n",
              " 'created_at': 'Mon Nov 16 00:24:50 +0000 2015',\n",
              " 'display_text_range': [0, 120],\n",
              " 'entities': {'hashtags': [],\n",
              "  'media': [{'display_url': 'pic.twitter.com/4B7cOc1EDq',\n",
              "    'expanded_url': 'https://twitter.com/dog_rates/status/666049248165822465/photo/1',\n",
              "    'id': 666049244999131136,\n",
              "    'id_str': '666049244999131136',\n",
              "    'indices': [97, 120],\n",
              "    'media_url': 'http://pbs.twimg.com/media/CT5IQmsXIAAKY4A.jpg',\n",
              "    'media_url_https': 'https://pbs.twimg.com/media/CT5IQmsXIAAKY4A.jpg',\n",
              "    'sizes': {'large': {'h': 1024, 'resize': 'fit', 'w': 768},\n",
              "     'medium': {'h': 1024, 'resize': 'fit', 'w': 768},\n",
              "     'small': {'h': 680, 'resize': 'fit', 'w': 510},\n",
              "     'thumb': {'h': 150, 'resize': 'crop', 'w': 150}},\n",
              "    'type': 'photo',\n",
              "    'url': 'https://t.co/4B7cOc1EDq'}],\n",
              "  'symbols': [],\n",
              "  'urls': [],\n",
              "  'user_mentions': []},\n",
              " 'extended_entities': {'media': [{'display_url': 'pic.twitter.com/4B7cOc1EDq',\n",
              "    'expanded_url': 'https://twitter.com/dog_rates/status/666049248165822465/photo/1',\n",
              "    'id': 666049244999131136,\n",
              "    'id_str': '666049244999131136',\n",
              "    'indices': [97, 120],\n",
              "    'media_url': 'http://pbs.twimg.com/media/CT5IQmsXIAAKY4A.jpg',\n",
              "    'media_url_https': 'https://pbs.twimg.com/media/CT5IQmsXIAAKY4A.jpg',\n",
              "    'sizes': {'large': {'h': 1024, 'resize': 'fit', 'w': 768},\n",
              "     'medium': {'h': 1024, 'resize': 'fit', 'w': 768},\n",
              "     'small': {'h': 680, 'resize': 'fit', 'w': 510},\n",
              "     'thumb': {'h': 150, 'resize': 'crop', 'w': 150}},\n",
              "    'type': 'photo',\n",
              "    'url': 'https://t.co/4B7cOc1EDq'}]},\n",
              " 'favorite_count': 99,\n",
              " 'favorited': False,\n",
              " 'full_text': 'Here we have a 1949 1st generation vulpix. Enjoys sweat tea and Fox News. Cannot be phased. 5/10 https://t.co/4B7cOc1EDq',\n",
              " 'geo': None,\n",
              " 'id': 666049248165822465,\n",
              " 'id_str': '666049248165822465',\n",
              " 'in_reply_to_screen_name': None,\n",
              " 'in_reply_to_status_id': None,\n",
              " 'in_reply_to_status_id_str': None,\n",
              " 'in_reply_to_user_id': None,\n",
              " 'in_reply_to_user_id_str': None,\n",
              " 'is_quote_status': False,\n",
              " 'lang': 'en',\n",
              " 'place': None,\n",
              " 'possibly_sensitive': False,\n",
              " 'possibly_sensitive_appealable': False,\n",
              " 'retweet_count': 41,\n",
              " 'retweeted': False,\n",
              " 'source': '<a href=\"http://twitter.com/download/iphone\" rel=\"nofollow\">Twitter for iPhone</a>',\n",
              " 'truncated': False,\n",
              " 'user': {'contributors_enabled': False,\n",
              "  'created_at': 'Sun Nov 15 21:41:29 +0000 2015',\n",
              "  'default_profile': False,\n",
              "  'default_profile_image': False,\n",
              "  'description': 'Your Only Source For Professional Dog Ratings Instagram and Facebook ➪ WeRateDogs partnerships@weratedogs.com ⠀⠀⠀⠀⠀⠀⠀⠀⠀⠀⠀⠀',\n",
              "  'entities': {'description': {'urls': []},\n",
              "   'url': {'urls': [{'display_url': 'weratedogs.com',\n",
              "      'expanded_url': 'http://weratedogs.com',\n",
              "      'indices': [0, 23],\n",
              "      'url': 'https://t.co/N7sNNHSfPq'}]}},\n",
              "  'favourites_count': 144641,\n",
              "  'follow_request_sent': False,\n",
              "  'followers_count': 8688606,\n",
              "  'following': True,\n",
              "  'friends_count': 15,\n",
              "  'geo_enabled': True,\n",
              "  'has_extended_profile': False,\n",
              "  'id': 4196983835,\n",
              "  'id_str': '4196983835',\n",
              "  'is_translation_enabled': False,\n",
              "  'is_translator': False,\n",
              "  'lang': None,\n",
              "  'listed_count': 7026,\n",
              "  'location': '「 DM YOUR DOGS 」',\n",
              "  'name': 'WeRateDogs®',\n",
              "  'notifications': False,\n",
              "  'profile_background_color': '000000',\n",
              "  'profile_background_image_url': 'http://abs.twimg.com/images/themes/theme1/bg.png',\n",
              "  'profile_background_image_url_https': 'https://abs.twimg.com/images/themes/theme1/bg.png',\n",
              "  'profile_background_tile': False,\n",
              "  'profile_banner_url': 'https://pbs.twimg.com/profile_banners/4196983835/1575511391',\n",
              "  'profile_image_url': 'http://pbs.twimg.com/profile_images/1218319284557905920/ntuD-LOA_normal.jpg',\n",
              "  'profile_image_url_https': 'https://pbs.twimg.com/profile_images/1218319284557905920/ntuD-LOA_normal.jpg',\n",
              "  'profile_link_color': 'F5ABB5',\n",
              "  'profile_sidebar_border_color': '000000',\n",
              "  'profile_sidebar_fill_color': '000000',\n",
              "  'profile_text_color': '000000',\n",
              "  'profile_use_background_image': False,\n",
              "  'protected': False,\n",
              "  'screen_name': 'dog_rates',\n",
              "  'statuses_count': 11673,\n",
              "  'time_zone': None,\n",
              "  'translator_type': 'none',\n",
              "  'url': 'https://t.co/N7sNNHSfPq',\n",
              "  'utc_offset': None,\n",
              "  'verified': True}}"
            ]
          },
          "metadata": {
            "tags": []
          },
          "execution_count": 25
        }
      ]
    },
    {
      "cell_type": "code",
      "metadata": {
        "id": "c8CbsNSN_Mhs",
        "colab_type": "code",
        "outputId": "a3afe915-6c90-4b5b-d926-ee72b68ef5af",
        "colab": {
          "base_uri": "https://localhost:8080/",
          "height": 34
        }
      },
      "source": [
        "tweet._json['id']"
      ],
      "execution_count": 26,
      "outputs": [
        {
          "output_type": "execute_result",
          "data": {
            "text/plain": [
              "666049248165822465"
            ]
          },
          "metadata": {
            "tags": []
          },
          "execution_count": 26
        }
      ]
    },
    {
      "cell_type": "code",
      "metadata": {
        "id": "KVyNJt3yEbRq",
        "colab_type": "code",
        "outputId": "08622cde-6c01-449e-9e32-f4453613ffca",
        "colab": {
          "base_uri": "https://localhost:8080/",
          "height": 34
        }
      },
      "source": [
        "tweet._json['favorite_count']"
      ],
      "execution_count": 27,
      "outputs": [
        {
          "output_type": "execute_result",
          "data": {
            "text/plain": [
              "99"
            ]
          },
          "metadata": {
            "tags": []
          },
          "execution_count": 27
        }
      ]
    },
    {
      "cell_type": "code",
      "metadata": {
        "id": "z9HrLIZeFm_z",
        "colab_type": "code",
        "outputId": "626119b2-cbdd-47d9-d821-dc2fdb4358fc",
        "colab": {
          "base_uri": "https://localhost:8080/",
          "height": 34
        }
      },
      "source": [
        "tweet._json['retweet_count']"
      ],
      "execution_count": 28,
      "outputs": [
        {
          "output_type": "execute_result",
          "data": {
            "text/plain": [
              "41"
            ]
          },
          "metadata": {
            "tags": []
          },
          "execution_count": 28
        }
      ]
    },
    {
      "cell_type": "markdown",
      "metadata": {
        "id": "ZYngx7vtaVtD",
        "colab_type": "text"
      },
      "source": [
        "Okay now that i am familiar with the twitter api attributes, I will do the big step of importing all the tweets json content in a 'tweet_json.txt'\n",
        "\n",
        "After consulting the udacity help communities and mentor community and many trial and error from my side, i finally reached this code."
      ]
    },
    {
      "cell_type": "code",
      "metadata": {
        "id": "H9QJv27cUBnb",
        "colab_type": "code",
        "outputId": "1f232a7b-15e1-4278-9bf4-02cefff77225",
        "colab": {
          "base_uri": "https://localhost:8080/",
          "height": 1000
        }
      },
      "source": [
        "#I will create a tweet_json.txt where i will store the tweets json content in it\n",
        "fails_dict={}\n",
        "with open('tweet_json.txt', 'w') as outfile:\n",
        "    for i,id in enumerate(twitter_archive['tweet_id']):\n",
        "        try:\n",
        "            tweet = api.get_status(id,tweet_mode='extended')\n",
        "            json.dump(tweet._json, outfile)\n",
        "            outfile.write('\\n')\n",
        "            print(i,'success')\n",
        "        except tweepy.TweepError as e:\n",
        "            print('Fail')\n",
        "            fails_dict[id]=e\n",
        "            pass"
      ],
      "execution_count": 29,
      "outputs": [
        {
          "output_type": "stream",
          "text": [
            "0 success\n",
            "1 success\n",
            "2 success\n",
            "3 success\n",
            "4 success\n",
            "5 success\n",
            "6 success\n",
            "7 success\n",
            "8 success\n",
            "9 success\n",
            "10 success\n",
            "11 success\n",
            "12 success\n",
            "13 success\n",
            "14 success\n",
            "15 success\n",
            "16 success\n",
            "17 success\n",
            "18 success\n",
            "Fail\n",
            "20 success\n",
            "21 success\n",
            "22 success\n",
            "23 success\n",
            "24 success\n",
            "25 success\n",
            "26 success\n",
            "27 success\n",
            "28 success\n",
            "29 success\n",
            "30 success\n",
            "31 success\n",
            "32 success\n",
            "33 success\n",
            "34 success\n",
            "35 success\n",
            "36 success\n",
            "37 success\n",
            "38 success\n",
            "39 success\n",
            "40 success\n",
            "41 success\n",
            "42 success\n",
            "43 success\n",
            "44 success\n",
            "45 success\n",
            "46 success\n",
            "47 success\n",
            "48 success\n",
            "49 success\n",
            "50 success\n",
            "51 success\n",
            "52 success\n",
            "53 success\n",
            "54 success\n",
            "55 success\n",
            "56 success\n",
            "57 success\n",
            "58 success\n",
            "59 success\n",
            "60 success\n",
            "61 success\n",
            "62 success\n",
            "63 success\n",
            "64 success\n",
            "65 success\n",
            "66 success\n",
            "67 success\n",
            "68 success\n",
            "69 success\n",
            "70 success\n",
            "71 success\n",
            "72 success\n",
            "73 success\n",
            "74 success\n",
            "75 success\n",
            "76 success\n",
            "77 success\n",
            "78 success\n",
            "79 success\n",
            "80 success\n",
            "81 success\n",
            "82 success\n",
            "83 success\n",
            "84 success\n",
            "85 success\n",
            "86 success\n",
            "87 success\n",
            "88 success\n",
            "89 success\n",
            "90 success\n",
            "91 success\n",
            "92 success\n",
            "93 success\n",
            "94 success\n",
            "Fail\n",
            "96 success\n",
            "97 success\n",
            "98 success\n",
            "99 success\n",
            "100 success\n",
            "Fail\n",
            "102 success\n",
            "103 success\n",
            "Fail\n",
            "105 success\n",
            "106 success\n",
            "107 success\n",
            "108 success\n",
            "109 success\n",
            "110 success\n",
            "111 success\n",
            "112 success\n",
            "113 success\n",
            "114 success\n",
            "115 success\n",
            "116 success\n",
            "117 success\n",
            "Fail\n",
            "119 success\n",
            "120 success\n",
            "121 success\n",
            "122 success\n",
            "123 success\n",
            "124 success\n",
            "125 success\n",
            "126 success\n",
            "127 success\n",
            "128 success\n",
            "129 success\n",
            "130 success\n",
            "131 success\n",
            "Fail\n",
            "133 success\n",
            "134 success\n",
            "135 success\n",
            "136 success\n",
            "137 success\n",
            "138 success\n",
            "139 success\n",
            "140 success\n",
            "141 success\n",
            "142 success\n",
            "143 success\n",
            "144 success\n",
            "145 success\n",
            "146 success\n",
            "147 success\n",
            "148 success\n",
            "149 success\n",
            "150 success\n",
            "151 success\n",
            "152 success\n",
            "153 success\n",
            "154 success\n",
            "Fail\n",
            "156 success\n",
            "157 success\n",
            "158 success\n",
            "159 success\n",
            "160 success\n",
            "161 success\n",
            "162 success\n",
            "163 success\n",
            "164 success\n",
            "165 success\n",
            "166 success\n",
            "167 success\n",
            "168 success\n",
            "169 success\n",
            "170 success\n",
            "171 success\n",
            "172 success\n",
            "173 success\n",
            "174 success\n",
            "175 success\n",
            "176 success\n",
            "177 success\n",
            "178 success\n",
            "179 success\n",
            "180 success\n",
            "181 success\n",
            "Fail\n",
            "183 success\n",
            "184 success\n",
            "185 success\n",
            "186 success\n",
            "187 success\n",
            "188 success\n",
            "189 success\n",
            "190 success\n",
            "191 success\n",
            "192 success\n",
            "193 success\n",
            "194 success\n",
            "195 success\n",
            "196 success\n",
            "197 success\n",
            "198 success\n",
            "199 success\n",
            "200 success\n",
            "201 success\n",
            "202 success\n",
            "203 success\n",
            "204 success\n",
            "205 success\n",
            "206 success\n",
            "207 success\n",
            "208 success\n",
            "209 success\n",
            "210 success\n",
            "Fail\n",
            "212 success\n",
            "213 success\n",
            "214 success\n",
            "215 success\n",
            "216 success\n",
            "217 success\n",
            "218 success\n",
            "219 success\n",
            "220 success\n",
            "221 success\n",
            "222 success\n",
            "223 success\n",
            "224 success\n",
            "225 success\n",
            "226 success\n",
            "227 success\n",
            "228 success\n",
            "229 success\n",
            "230 success\n",
            "231 success\n",
            "232 success\n",
            "233 success\n",
            "234 success\n",
            "235 success\n",
            "236 success\n",
            "237 success\n",
            "238 success\n",
            "239 success\n",
            "240 success\n",
            "241 success\n",
            "242 success\n",
            "243 success\n",
            "244 success\n",
            "245 success\n",
            "246 success\n",
            "Fail\n",
            "248 success\n",
            "249 success\n",
            "250 success\n",
            "251 success\n",
            "252 success\n",
            "Fail\n",
            "254 success\n",
            "255 success\n",
            "256 success\n",
            "257 success\n",
            "258 success\n",
            "259 success\n",
            "Fail\n",
            "261 success\n",
            "262 success\n",
            "263 success\n",
            "264 success\n",
            "265 success\n",
            "266 success\n",
            "267 success\n",
            "268 success\n",
            "269 success\n",
            "270 success\n",
            "271 success\n",
            "272 success\n",
            "273 success\n",
            "274 success\n",
            "275 success\n",
            "276 success\n",
            "277 success\n",
            "278 success\n",
            "279 success\n",
            "280 success\n",
            "281 success\n",
            "282 success\n",
            "283 success\n",
            "284 success\n",
            "285 success\n",
            "286 success\n",
            "287 success\n",
            "288 success\n",
            "289 success\n",
            "290 success\n",
            "291 success\n",
            "292 success\n",
            "293 success\n",
            "294 success\n",
            "295 success\n",
            "Fail\n",
            "297 success\n",
            "Fail\n",
            "299 success\n",
            "300 success\n",
            "301 success\n",
            "302 success\n",
            "303 success\n",
            "304 success\n",
            "305 success\n",
            "306 success\n",
            "307 success\n",
            "308 success\n",
            "309 success\n",
            "310 success\n",
            "311 success\n",
            "312 success\n",
            "313 success\n",
            "314 success\n",
            "315 success\n",
            "316 success\n",
            "317 success\n",
            "318 success\n",
            "319 success\n",
            "320 success\n",
            "321 success\n",
            "322 success\n",
            "323 success\n",
            "324 success\n",
            "325 success\n",
            "326 success\n",
            "327 success\n",
            "328 success\n",
            "329 success\n",
            "330 success\n",
            "331 success\n",
            "332 success\n",
            "333 success\n",
            "334 success\n",
            "335 success\n",
            "336 success\n",
            "337 success\n",
            "338 success\n",
            "339 success\n",
            "340 success\n",
            "341 success\n",
            "342 success\n",
            "343 success\n",
            "344 success\n",
            "345 success\n",
            "346 success\n",
            "347 success\n",
            "348 success\n",
            "349 success\n",
            "350 success\n",
            "351 success\n",
            "352 success\n",
            "353 success\n",
            "354 success\n",
            "355 success\n",
            "356 success\n",
            "357 success\n",
            "358 success\n",
            "359 success\n",
            "360 success\n",
            "361 success\n",
            "362 success\n",
            "Fail\n",
            "364 success\n",
            "365 success\n",
            "366 success\n",
            "367 success\n",
            "368 success\n",
            "369 success\n",
            "370 success\n",
            "371 success\n",
            "372 success\n",
            "373 success\n",
            "374 success\n",
            "375 success\n",
            "376 success\n",
            "377 success\n",
            "378 success\n",
            "379 success\n",
            "380 success\n",
            "381 success\n",
            "Fail\n",
            "383 success\n",
            "384 success\n",
            "385 success\n",
            "386 success\n",
            "387 success\n",
            "388 success\n",
            "389 success\n",
            "390 success\n",
            "391 success\n",
            "392 success\n",
            "393 success\n",
            "394 success\n",
            "395 success\n",
            "396 success\n",
            "397 success\n",
            "398 success\n",
            "399 success\n",
            "400 success\n",
            "401 success\n",
            "402 success\n",
            "403 success\n",
            "404 success\n",
            "405 success\n",
            "406 success\n",
            "407 success\n",
            "408 success\n",
            "409 success\n",
            "410 success\n",
            "411 success\n",
            "412 success\n",
            "413 success\n",
            "414 success\n",
            "415 success\n",
            "416 success\n",
            "417 success\n",
            "418 success\n",
            "419 success\n",
            "420 success\n",
            "421 success\n",
            "422 success\n",
            "423 success\n",
            "424 success\n",
            "425 success\n",
            "426 success\n",
            "427 success\n",
            "428 success\n",
            "429 success\n",
            "430 success\n",
            "431 success\n",
            "432 success\n",
            "433 success\n",
            "434 success\n",
            "435 success\n",
            "436 success\n",
            "437 success\n",
            "438 success\n",
            "439 success\n",
            "440 success\n",
            "441 success\n",
            "442 success\n",
            "443 success\n",
            "444 success\n",
            "445 success\n",
            "446 success\n",
            "447 success\n",
            "448 success\n",
            "449 success\n",
            "450 success\n",
            "451 success\n",
            "452 success\n",
            "453 success\n",
            "454 success\n",
            "455 success\n",
            "456 success\n",
            "457 success\n",
            "458 success\n",
            "459 success\n",
            "460 success\n",
            "461 success\n",
            "462 success\n",
            "463 success\n",
            "464 success\n",
            "465 success\n",
            "466 success\n",
            "467 success\n",
            "468 success\n",
            "469 success\n",
            "470 success\n",
            "471 success\n",
            "472 success\n",
            "473 success\n",
            "474 success\n",
            "475 success\n",
            "476 success\n",
            "477 success\n",
            "478 success\n",
            "479 success\n",
            "480 success\n",
            "481 success\n",
            "482 success\n",
            "483 success\n",
            "484 success\n",
            "485 success\n",
            "486 success\n",
            "487 success\n",
            "488 success\n",
            "489 success\n",
            "490 success\n",
            "491 success\n",
            "492 success\n",
            "493 success\n",
            "494 success\n",
            "495 success\n",
            "496 success\n",
            "497 success\n",
            "498 success\n",
            "499 success\n",
            "500 success\n",
            "501 success\n",
            "502 success\n",
            "503 success\n",
            "504 success\n",
            "505 success\n",
            "Fail\n",
            "507 success\n",
            "508 success\n",
            "509 success\n",
            "510 success\n",
            "511 success\n",
            "512 success\n",
            "513 success\n",
            "514 success\n",
            "515 success\n",
            "516 success\n",
            "517 success\n",
            "518 success\n",
            "519 success\n",
            "520 success\n",
            "521 success\n",
            "522 success\n",
            "523 success\n",
            "524 success\n",
            "525 success\n",
            "526 success\n",
            "527 success\n",
            "528 success\n",
            "529 success\n",
            "530 success\n",
            "531 success\n",
            "532 success\n",
            "533 success\n",
            "534 success\n",
            "535 success\n",
            "536 success\n",
            "537 success\n",
            "538 success\n",
            "539 success\n",
            "540 success\n",
            "541 success\n",
            "542 success\n",
            "543 success\n",
            "544 success\n",
            "545 success\n",
            "546 success\n",
            "547 success\n",
            "548 success\n",
            "549 success\n",
            "550 success\n",
            "551 success\n",
            "552 success\n",
            "553 success\n",
            "554 success\n",
            "555 success\n",
            "556 success\n",
            "557 success\n",
            "558 success\n",
            "559 success\n",
            "560 success\n",
            "561 success\n",
            "562 success\n",
            "563 success\n",
            "564 success\n",
            "565 success\n",
            "Fail\n",
            "567 success\n",
            "568 success\n",
            "569 success\n",
            "570 success\n",
            "571 success\n",
            "572 success\n",
            "573 success\n",
            "574 success\n",
            "575 success\n",
            "576 success\n",
            "577 success\n",
            "578 success\n",
            "579 success\n",
            "580 success\n",
            "581 success\n",
            "582 success\n",
            "583 success\n",
            "584 success\n",
            "585 success\n",
            "586 success\n",
            "587 success\n",
            "588 success\n",
            "589 success\n",
            "590 success\n",
            "591 success\n",
            "592 success\n",
            "593 success\n",
            "594 success\n",
            "595 success\n",
            "596 success\n",
            "597 success\n",
            "598 success\n",
            "599 success\n",
            "600 success\n",
            "601 success\n",
            "602 success\n",
            "603 success\n",
            "604 success\n",
            "605 success\n",
            "606 success\n",
            "607 success\n",
            "608 success\n",
            "609 success\n",
            "610 success\n",
            "611 success\n",
            "612 success\n",
            "613 success\n",
            "614 success\n",
            "615 success\n",
            "616 success\n",
            "617 success\n",
            "618 success\n",
            "619 success\n",
            "620 success\n",
            "621 success\n",
            "622 success\n",
            "623 success\n",
            "624 success\n",
            "625 success\n",
            "626 success\n",
            "627 success\n",
            "628 success\n",
            "629 success\n",
            "630 success\n",
            "631 success\n",
            "632 success\n",
            "633 success\n",
            "634 success\n",
            "635 success\n",
            "636 success\n",
            "637 success\n",
            "638 success\n",
            "639 success\n",
            "640 success\n",
            "641 success\n",
            "642 success\n",
            "643 success\n",
            "644 success\n",
            "645 success\n",
            "646 success\n",
            "647 success\n",
            "648 success\n",
            "649 success\n",
            "650 success\n",
            "651 success\n",
            "652 success\n",
            "653 success\n",
            "654 success\n",
            "655 success\n",
            "656 success\n",
            "657 success\n",
            "658 success\n",
            "659 success\n",
            "660 success\n",
            "661 success\n",
            "662 success\n",
            "663 success\n",
            "664 success\n",
            "665 success\n",
            "666 success\n",
            "667 success\n",
            "668 success\n",
            "669 success\n",
            "670 success\n",
            "671 success\n",
            "672 success\n",
            "673 success\n",
            "674 success\n",
            "675 success\n",
            "676 success\n",
            "677 success\n",
            "678 success\n",
            "679 success\n",
            "680 success\n",
            "681 success\n",
            "682 success\n",
            "683 success\n",
            "684 success\n",
            "685 success\n",
            "686 success\n",
            "687 success\n",
            "688 success\n",
            "689 success\n",
            "690 success\n",
            "691 success\n",
            "692 success\n",
            "693 success\n",
            "694 success\n",
            "695 success\n",
            "696 success\n",
            "697 success\n",
            "698 success\n",
            "699 success\n",
            "700 success\n",
            "701 success\n",
            "702 success\n",
            "703 success\n",
            "704 success\n",
            "705 success\n",
            "706 success\n",
            "707 success\n",
            "708 success\n",
            "709 success\n",
            "710 success\n",
            "711 success\n",
            "712 success\n",
            "713 success\n",
            "714 success\n",
            "715 success\n",
            "716 success\n",
            "717 success\n",
            "718 success\n",
            "719 success\n",
            "720 success\n",
            "721 success\n",
            "722 success\n",
            "723 success\n",
            "724 success\n",
            "725 success\n",
            "726 success\n",
            "727 success\n",
            "728 success\n",
            "729 success\n",
            "730 success\n",
            "731 success\n",
            "732 success\n",
            "733 success\n",
            "734 success\n",
            "735 success\n",
            "736 success\n",
            "737 success\n",
            "738 success\n",
            "739 success\n",
            "740 success\n",
            "741 success\n",
            "742 success\n",
            "743 success\n",
            "744 success\n",
            "745 success\n",
            "746 success\n",
            "747 success\n",
            "748 success\n",
            "749 success\n",
            "Fail\n",
            "751 success\n",
            "752 success\n",
            "753 success\n",
            "754 success\n",
            "755 success\n",
            "756 success\n",
            "757 success\n",
            "758 success\n",
            "759 success\n",
            "760 success\n",
            "761 success\n",
            "762 success\n",
            "763 success\n",
            "764 success\n",
            "765 success\n",
            "766 success\n",
            "767 success\n",
            "768 success\n",
            "769 success\n",
            "770 success\n",
            "771 success\n",
            "772 success\n",
            "773 success\n",
            "774 success\n",
            "775 success\n",
            "776 success\n",
            "777 success\n",
            "778 success\n",
            "779 success\n",
            "780 success\n",
            "781 success\n",
            "782 success\n",
            "783 success\n",
            "Fail\n",
            "785 success\n",
            "786 success\n",
            "787 success\n",
            "788 success\n",
            "789 success\n",
            "790 success\n",
            "791 success\n",
            "792 success\n",
            "793 success\n",
            "794 success\n",
            "795 success\n",
            "796 success\n",
            "797 success\n",
            "798 success\n",
            "799 success\n",
            "800 success\n",
            "801 success\n",
            "802 success\n",
            "803 success\n",
            "804 success\n",
            "805 success\n",
            "806 success\n",
            "807 success\n",
            "808 success\n",
            "809 success\n",
            "810 success\n",
            "811 success\n",
            "812 success\n",
            "813 success\n",
            "814 success\n",
            "Fail\n",
            "816 success\n",
            "817 success\n",
            "Fail\n",
            "819 success\n",
            "820 success\n",
            "821 success\n",
            "822 success\n",
            "823 success\n",
            "824 success\n",
            "825 success\n",
            "826 success\n",
            "827 success\n",
            "828 success\n",
            "829 success\n",
            "830 success\n",
            "831 success\n",
            "832 success\n",
            "833 success\n",
            "834 success\n",
            "835 success\n",
            "836 success\n",
            "837 success\n",
            "838 success\n",
            "839 success\n",
            "840 success\n",
            "841 success\n",
            "842 success\n",
            "843 success\n",
            "844 success\n",
            "845 success\n",
            "846 success\n",
            "847 success\n",
            "848 success\n",
            "849 success\n",
            "850 success\n",
            "851 success\n",
            "852 success\n",
            "853 success\n",
            "854 success\n",
            "855 success\n",
            "856 success\n",
            "857 success\n",
            "858 success\n",
            "859 success\n",
            "860 success\n",
            "861 success\n",
            "862 success\n",
            "863 success\n",
            "864 success\n",
            "865 success\n",
            "866 success\n",
            "867 success\n",
            "868 success\n",
            "869 success\n",
            "870 success\n",
            "871 success\n",
            "872 success\n",
            "873 success\n",
            "874 success\n",
            "875 success\n",
            "876 success\n",
            "877 success\n",
            "878 success\n",
            "879 success\n",
            "880 success\n",
            "881 success\n",
            "882 success\n",
            "883 success\n",
            "884 success\n",
            "885 success\n",
            "886 success\n",
            "887 success\n",
            "888 success\n",
            "889 success\n",
            "Fail\n",
            "891 success\n",
            "892 success\n",
            "893 success\n",
            "894 success\n",
            "895 success\n",
            "896 success\n",
            "897 success\n",
            "898 success\n"
          ],
          "name": "stdout"
        },
        {
          "output_type": "stream",
          "text": [
            "Rate limit reached. Sleeping for: 150\n"
          ],
          "name": "stderr"
        },
        {
          "output_type": "stream",
          "text": [
            "899 success\n",
            "900 success\n",
            "901 success\n",
            "902 success\n",
            "903 success\n",
            "904 success\n",
            "905 success\n",
            "906 success\n",
            "907 success\n",
            "908 success\n",
            "909 success\n",
            "910 success\n",
            "911 success\n",
            "912 success\n",
            "913 success\n",
            "914 success\n",
            "915 success\n",
            "916 success\n",
            "917 success\n",
            "918 success\n",
            "919 success\n",
            "920 success\n",
            "921 success\n",
            "922 success\n",
            "923 success\n",
            "924 success\n",
            "925 success\n",
            "926 success\n",
            "927 success\n",
            "928 success\n",
            "929 success\n",
            "930 success\n",
            "931 success\n",
            "Fail\n",
            "933 success\n",
            "934 success\n",
            "935 success\n",
            "936 success\n",
            "937 success\n",
            "938 success\n",
            "939 success\n",
            "940 success\n",
            "941 success\n",
            "942 success\n",
            "943 success\n",
            "944 success\n",
            "945 success\n",
            "946 success\n",
            "947 success\n",
            "948 success\n",
            "949 success\n",
            "950 success\n",
            "951 success\n",
            "952 success\n",
            "953 success\n",
            "954 success\n",
            "955 success\n",
            "956 success\n",
            "957 success\n",
            "958 success\n",
            "959 success\n",
            "960 success\n",
            "961 success\n",
            "962 success\n",
            "963 success\n",
            "964 success\n",
            "965 success\n",
            "966 success\n",
            "967 success\n",
            "968 success\n",
            "969 success\n",
            "970 success\n",
            "971 success\n",
            "972 success\n",
            "973 success\n",
            "974 success\n",
            "975 success\n",
            "976 success\n",
            "977 success\n",
            "978 success\n",
            "979 success\n",
            "980 success\n",
            "981 success\n",
            "982 success\n",
            "983 success\n",
            "984 success\n",
            "985 success\n",
            "986 success\n",
            "987 success\n",
            "988 success\n",
            "989 success\n",
            "990 success\n",
            "991 success\n",
            "992 success\n",
            "993 success\n",
            "994 success\n",
            "995 success\n",
            "996 success\n",
            "997 success\n",
            "998 success\n",
            "999 success\n",
            "1000 success\n",
            "1001 success\n",
            "1002 success\n",
            "1003 success\n",
            "1004 success\n",
            "1005 success\n",
            "1006 success\n",
            "1007 success\n",
            "1008 success\n",
            "1009 success\n",
            "1010 success\n",
            "1011 success\n",
            "1012 success\n",
            "1013 success\n",
            "1014 success\n",
            "1015 success\n",
            "1016 success\n",
            "1017 success\n",
            "1018 success\n",
            "1019 success\n",
            "1020 success\n",
            "1021 success\n",
            "1022 success\n",
            "1023 success\n",
            "1024 success\n",
            "1025 success\n",
            "1026 success\n",
            "1027 success\n",
            "1028 success\n",
            "1029 success\n",
            "1030 success\n",
            "1031 success\n",
            "1032 success\n",
            "1033 success\n",
            "1034 success\n",
            "1035 success\n",
            "1036 success\n",
            "1037 success\n",
            "1038 success\n",
            "1039 success\n",
            "1040 success\n",
            "1041 success\n",
            "1042 success\n",
            "1043 success\n",
            "1044 success\n",
            "1045 success\n",
            "1046 success\n",
            "1047 success\n",
            "1048 success\n",
            "1049 success\n",
            "1050 success\n",
            "1051 success\n",
            "1052 success\n",
            "1053 success\n",
            "1054 success\n",
            "1055 success\n",
            "1056 success\n",
            "1057 success\n",
            "1058 success\n",
            "1059 success\n",
            "1060 success\n",
            "1061 success\n",
            "1062 success\n",
            "1063 success\n",
            "1064 success\n",
            "1065 success\n",
            "1066 success\n",
            "1067 success\n",
            "1068 success\n",
            "1069 success\n",
            "1070 success\n",
            "1071 success\n",
            "1072 success\n",
            "1073 success\n",
            "1074 success\n",
            "1075 success\n",
            "1076 success\n",
            "1077 success\n",
            "1078 success\n",
            "1079 success\n",
            "1080 success\n",
            "1081 success\n",
            "1082 success\n",
            "1083 success\n",
            "1084 success\n",
            "1085 success\n",
            "1086 success\n",
            "1087 success\n",
            "1088 success\n",
            "1089 success\n",
            "1090 success\n",
            "1091 success\n",
            "1092 success\n",
            "1093 success\n",
            "1094 success\n",
            "1095 success\n",
            "1096 success\n",
            "1097 success\n",
            "1098 success\n",
            "1099 success\n",
            "1100 success\n",
            "1101 success\n",
            "1102 success\n",
            "1103 success\n",
            "1104 success\n",
            "1105 success\n",
            "1106 success\n",
            "1107 success\n",
            "1108 success\n",
            "1109 success\n",
            "1110 success\n",
            "1111 success\n",
            "1112 success\n",
            "1113 success\n",
            "1114 success\n",
            "1115 success\n",
            "1116 success\n",
            "1117 success\n",
            "1118 success\n",
            "1119 success\n",
            "1120 success\n",
            "1121 success\n",
            "1122 success\n",
            "1123 success\n",
            "1124 success\n",
            "1125 success\n",
            "1126 success\n",
            "1127 success\n",
            "1128 success\n",
            "1129 success\n",
            "1130 success\n",
            "1131 success\n",
            "1132 success\n",
            "1133 success\n",
            "1134 success\n",
            "1135 success\n",
            "1136 success\n",
            "1137 success\n",
            "1138 success\n",
            "1139 success\n",
            "1140 success\n",
            "1141 success\n",
            "1142 success\n",
            "1143 success\n",
            "1144 success\n",
            "1145 success\n",
            "1146 success\n",
            "1147 success\n",
            "1148 success\n",
            "1149 success\n",
            "1150 success\n",
            "1151 success\n",
            "1152 success\n",
            "1153 success\n",
            "1154 success\n",
            "1155 success\n",
            "1156 success\n",
            "1157 success\n",
            "1158 success\n",
            "1159 success\n",
            "1160 success\n",
            "1161 success\n",
            "1162 success\n",
            "1163 success\n",
            "1164 success\n",
            "1165 success\n",
            "1166 success\n",
            "1167 success\n",
            "1168 success\n",
            "1169 success\n",
            "1170 success\n",
            "1171 success\n",
            "1172 success\n",
            "1173 success\n",
            "1174 success\n",
            "1175 success\n",
            "1176 success\n",
            "1177 success\n",
            "1178 success\n",
            "1179 success\n",
            "1180 success\n",
            "1181 success\n",
            "1182 success\n",
            "1183 success\n",
            "1184 success\n",
            "1185 success\n",
            "1186 success\n",
            "1187 success\n",
            "1188 success\n",
            "1189 success\n",
            "1190 success\n",
            "1191 success\n",
            "1192 success\n",
            "1193 success\n",
            "1194 success\n",
            "1195 success\n",
            "1196 success\n",
            "1197 success\n",
            "1198 success\n",
            "1199 success\n",
            "1200 success\n",
            "1201 success\n",
            "1202 success\n",
            "1203 success\n",
            "1204 success\n",
            "1205 success\n",
            "1206 success\n",
            "1207 success\n",
            "1208 success\n",
            "1209 success\n",
            "1210 success\n",
            "1211 success\n",
            "1212 success\n",
            "1213 success\n",
            "1214 success\n",
            "1215 success\n",
            "1216 success\n",
            "1217 success\n",
            "1218 success\n",
            "1219 success\n",
            "1220 success\n",
            "1221 success\n",
            "1222 success\n",
            "1223 success\n",
            "1224 success\n",
            "1225 success\n",
            "1226 success\n",
            "1227 success\n",
            "1228 success\n",
            "1229 success\n",
            "1230 success\n",
            "1231 success\n",
            "1232 success\n",
            "1233 success\n",
            "1234 success\n",
            "1235 success\n",
            "1236 success\n",
            "1237 success\n",
            "1238 success\n",
            "1239 success\n",
            "1240 success\n",
            "1241 success\n",
            "1242 success\n",
            "1243 success\n",
            "1244 success\n",
            "1245 success\n",
            "1246 success\n",
            "1247 success\n",
            "1248 success\n",
            "1249 success\n",
            "1250 success\n",
            "1251 success\n",
            "1252 success\n",
            "1253 success\n",
            "1254 success\n",
            "1255 success\n",
            "1256 success\n",
            "1257 success\n",
            "1258 success\n",
            "1259 success\n",
            "1260 success\n",
            "1261 success\n",
            "1262 success\n",
            "1263 success\n",
            "1264 success\n",
            "1265 success\n",
            "1266 success\n",
            "1267 success\n",
            "1268 success\n",
            "1269 success\n",
            "1270 success\n",
            "1271 success\n",
            "1272 success\n",
            "1273 success\n",
            "1274 success\n",
            "1275 success\n",
            "1276 success\n",
            "1277 success\n",
            "1278 success\n",
            "1279 success\n",
            "1280 success\n",
            "1281 success\n",
            "1282 success\n",
            "1283 success\n",
            "1284 success\n",
            "1285 success\n",
            "1286 success\n",
            "1287 success\n",
            "1288 success\n",
            "1289 success\n",
            "1290 success\n",
            "1291 success\n",
            "1292 success\n",
            "1293 success\n",
            "1294 success\n",
            "1295 success\n",
            "1296 success\n",
            "1297 success\n",
            "1298 success\n",
            "1299 success\n",
            "1300 success\n",
            "1301 success\n",
            "1302 success\n",
            "1303 success\n",
            "1304 success\n",
            "1305 success\n",
            "1306 success\n",
            "1307 success\n",
            "1308 success\n",
            "1309 success\n",
            "1310 success\n",
            "1311 success\n",
            "1312 success\n",
            "1313 success\n",
            "1314 success\n",
            "1315 success\n",
            "1316 success\n",
            "1317 success\n",
            "1318 success\n",
            "1319 success\n",
            "1320 success\n",
            "1321 success\n",
            "1322 success\n",
            "1323 success\n",
            "1324 success\n",
            "1325 success\n",
            "1326 success\n",
            "1327 success\n",
            "1328 success\n",
            "1329 success\n",
            "1330 success\n",
            "1331 success\n",
            "1332 success\n",
            "1333 success\n",
            "1334 success\n",
            "1335 success\n",
            "1336 success\n",
            "1337 success\n",
            "1338 success\n",
            "1339 success\n",
            "1340 success\n",
            "1341 success\n",
            "1342 success\n",
            "1343 success\n",
            "1344 success\n",
            "1345 success\n",
            "1346 success\n",
            "1347 success\n",
            "1348 success\n",
            "1349 success\n",
            "1350 success\n",
            "1351 success\n",
            "1352 success\n",
            "1353 success\n",
            "1354 success\n",
            "1355 success\n",
            "1356 success\n",
            "1357 success\n",
            "1358 success\n",
            "1359 success\n",
            "1360 success\n",
            "1361 success\n",
            "1362 success\n",
            "1363 success\n",
            "1364 success\n",
            "1365 success\n",
            "1366 success\n",
            "1367 success\n",
            "1368 success\n",
            "1369 success\n",
            "1370 success\n",
            "1371 success\n",
            "1372 success\n",
            "1373 success\n",
            "1374 success\n",
            "1375 success\n",
            "1376 success\n",
            "1377 success\n",
            "1378 success\n",
            "1379 success\n",
            "1380 success\n",
            "1381 success\n",
            "1382 success\n",
            "1383 success\n",
            "1384 success\n",
            "1385 success\n",
            "1386 success\n",
            "1387 success\n",
            "1388 success\n",
            "1389 success\n",
            "1390 success\n",
            "1391 success\n",
            "1392 success\n",
            "1393 success\n",
            "1394 success\n",
            "1395 success\n",
            "1396 success\n",
            "1397 success\n",
            "1398 success\n",
            "1399 success\n",
            "1400 success\n",
            "1401 success\n",
            "1402 success\n",
            "1403 success\n",
            "1404 success\n",
            "1405 success\n",
            "1406 success\n",
            "1407 success\n",
            "1408 success\n",
            "1409 success\n",
            "1410 success\n",
            "1411 success\n",
            "1412 success\n",
            "1413 success\n",
            "1414 success\n",
            "1415 success\n",
            "1416 success\n",
            "1417 success\n",
            "1418 success\n",
            "1419 success\n",
            "1420 success\n",
            "1421 success\n",
            "1422 success\n",
            "1423 success\n",
            "1424 success\n",
            "1425 success\n",
            "1426 success\n",
            "1427 success\n",
            "1428 success\n",
            "1429 success\n",
            "1430 success\n",
            "1431 success\n",
            "1432 success\n",
            "1433 success\n",
            "1434 success\n",
            "1435 success\n",
            "1436 success\n",
            "1437 success\n",
            "1438 success\n",
            "1439 success\n",
            "1440 success\n",
            "1441 success\n",
            "1442 success\n",
            "1443 success\n",
            "1444 success\n",
            "1445 success\n",
            "1446 success\n",
            "1447 success\n",
            "1448 success\n",
            "1449 success\n",
            "1450 success\n",
            "1451 success\n",
            "1452 success\n",
            "1453 success\n",
            "1454 success\n",
            "1455 success\n",
            "1456 success\n",
            "1457 success\n",
            "1458 success\n",
            "1459 success\n",
            "1460 success\n",
            "1461 success\n",
            "1462 success\n",
            "1463 success\n",
            "1464 success\n",
            "1465 success\n",
            "1466 success\n",
            "1467 success\n",
            "1468 success\n",
            "1469 success\n",
            "1470 success\n",
            "1471 success\n",
            "1472 success\n",
            "1473 success\n",
            "1474 success\n",
            "1475 success\n",
            "1476 success\n",
            "1477 success\n",
            "1478 success\n",
            "1479 success\n",
            "1480 success\n",
            "1481 success\n",
            "1482 success\n",
            "1483 success\n",
            "1484 success\n",
            "1485 success\n",
            "1486 success\n",
            "1487 success\n",
            "1488 success\n",
            "1489 success\n",
            "1490 success\n",
            "1491 success\n",
            "1492 success\n",
            "1493 success\n",
            "1494 success\n",
            "1495 success\n",
            "1496 success\n",
            "1497 success\n",
            "1498 success\n",
            "1499 success\n",
            "1500 success\n",
            "1501 success\n",
            "1502 success\n",
            "1503 success\n",
            "1504 success\n",
            "1505 success\n",
            "1506 success\n",
            "1507 success\n",
            "1508 success\n",
            "1509 success\n",
            "1510 success\n",
            "1511 success\n",
            "1512 success\n",
            "1513 success\n",
            "1514 success\n",
            "1515 success\n",
            "1516 success\n",
            "1517 success\n",
            "1518 success\n",
            "1519 success\n",
            "1520 success\n",
            "1521 success\n",
            "1522 success\n",
            "1523 success\n",
            "1524 success\n",
            "1525 success\n",
            "1526 success\n",
            "1527 success\n",
            "1528 success\n",
            "1529 success\n",
            "1530 success\n",
            "1531 success\n",
            "1532 success\n",
            "1533 success\n",
            "1534 success\n",
            "1535 success\n",
            "1536 success\n",
            "1537 success\n",
            "1538 success\n",
            "1539 success\n",
            "1540 success\n",
            "1541 success\n",
            "1542 success\n",
            "1543 success\n",
            "1544 success\n",
            "1545 success\n",
            "1546 success\n",
            "1547 success\n",
            "1548 success\n",
            "1549 success\n",
            "1550 success\n",
            "1551 success\n",
            "1552 success\n",
            "1553 success\n",
            "1554 success\n",
            "1555 success\n",
            "1556 success\n",
            "1557 success\n",
            "1558 success\n",
            "1559 success\n",
            "1560 success\n",
            "1561 success\n",
            "1562 success\n",
            "1563 success\n",
            "1564 success\n",
            "1565 success\n",
            "1566 success\n",
            "1567 success\n",
            "1568 success\n",
            "1569 success\n",
            "1570 success\n",
            "1571 success\n",
            "1572 success\n",
            "1573 success\n",
            "1574 success\n",
            "1575 success\n",
            "1576 success\n",
            "1577 success\n",
            "1578 success\n",
            "1579 success\n",
            "1580 success\n",
            "1581 success\n",
            "1582 success\n",
            "1583 success\n",
            "1584 success\n",
            "1585 success\n",
            "1586 success\n",
            "1587 success\n",
            "1588 success\n",
            "1589 success\n",
            "1590 success\n",
            "1591 success\n",
            "1592 success\n",
            "1593 success\n",
            "1594 success\n",
            "1595 success\n",
            "1596 success\n",
            "1597 success\n",
            "1598 success\n",
            "1599 success\n",
            "1600 success\n",
            "1601 success\n",
            "1602 success\n",
            "1603 success\n",
            "1604 success\n",
            "1605 success\n",
            "1606 success\n",
            "1607 success\n",
            "1608 success\n",
            "1609 success\n",
            "1610 success\n",
            "1611 success\n",
            "1612 success\n",
            "1613 success\n",
            "1614 success\n",
            "1615 success\n",
            "1616 success\n",
            "1617 success\n",
            "1618 success\n",
            "1619 success\n",
            "1620 success\n",
            "1621 success\n",
            "1622 success\n",
            "1623 success\n",
            "1624 success\n",
            "1625 success\n",
            "1626 success\n",
            "1627 success\n",
            "1628 success\n",
            "1629 success\n",
            "1630 success\n",
            "1631 success\n",
            "1632 success\n",
            "1633 success\n",
            "1634 success\n",
            "1635 success\n",
            "1636 success\n",
            "1637 success\n",
            "1638 success\n",
            "1639 success\n",
            "1640 success\n",
            "1641 success\n",
            "1642 success\n",
            "1643 success\n",
            "1644 success\n",
            "1645 success\n",
            "1646 success\n",
            "1647 success\n",
            "1648 success\n",
            "1649 success\n",
            "1650 success\n",
            "1651 success\n",
            "1652 success\n",
            "1653 success\n",
            "1654 success\n",
            "1655 success\n",
            "1656 success\n",
            "1657 success\n",
            "1658 success\n",
            "1659 success\n",
            "1660 success\n",
            "1661 success\n",
            "1662 success\n",
            "1663 success\n",
            "1664 success\n",
            "1665 success\n",
            "1666 success\n",
            "1667 success\n",
            "1668 success\n",
            "1669 success\n",
            "1670 success\n",
            "1671 success\n",
            "1672 success\n",
            "1673 success\n",
            "1674 success\n",
            "1675 success\n",
            "1676 success\n",
            "1677 success\n",
            "1678 success\n",
            "1679 success\n",
            "1680 success\n",
            "1681 success\n",
            "1682 success\n",
            "1683 success\n",
            "1684 success\n",
            "1685 success\n",
            "1686 success\n",
            "1687 success\n",
            "1688 success\n",
            "1689 success\n",
            "1690 success\n",
            "1691 success\n",
            "1692 success\n",
            "1693 success\n",
            "1694 success\n",
            "1695 success\n",
            "1696 success\n",
            "1697 success\n",
            "1698 success\n",
            "1699 success\n",
            "1700 success\n",
            "1701 success\n",
            "1702 success\n",
            "1703 success\n",
            "1704 success\n",
            "1705 success\n",
            "1706 success\n",
            "1707 success\n",
            "1708 success\n",
            "1709 success\n",
            "1710 success\n",
            "1711 success\n",
            "1712 success\n",
            "1713 success\n",
            "1714 success\n",
            "1715 success\n",
            "1716 success\n",
            "1717 success\n",
            "1718 success\n",
            "1719 success\n",
            "1720 success\n",
            "1721 success\n",
            "1722 success\n",
            "1723 success\n",
            "1724 success\n",
            "1725 success\n",
            "Fail\n",
            "1727 success\n",
            "1728 success\n",
            "1729 success\n",
            "1730 success\n",
            "1731 success\n",
            "1732 success\n",
            "1733 success\n",
            "1734 success\n",
            "1735 success\n",
            "1736 success\n",
            "1737 success\n",
            "1738 success\n",
            "1739 success\n",
            "1740 success\n",
            "1741 success\n",
            "1742 success\n",
            "1743 success\n",
            "1744 success\n",
            "1745 success\n",
            "1746 success\n",
            "1747 success\n",
            "1748 success\n",
            "1749 success\n",
            "1750 success\n",
            "1751 success\n",
            "1752 success\n",
            "1753 success\n",
            "1754 success\n",
            "1755 success\n",
            "1756 success\n",
            "1757 success\n",
            "1758 success\n",
            "1759 success\n",
            "1760 success\n",
            "1761 success\n",
            "1762 success\n",
            "1763 success\n",
            "1764 success\n",
            "1765 success\n",
            "1766 success\n",
            "1767 success\n",
            "1768 success\n",
            "1769 success\n",
            "1770 success\n",
            "1771 success\n",
            "1772 success\n",
            "1773 success\n",
            "1774 success\n",
            "1775 success\n",
            "1776 success\n",
            "1777 success\n",
            "1778 success\n",
            "1779 success\n",
            "1780 success\n",
            "1781 success\n",
            "1782 success\n",
            "1783 success\n",
            "1784 success\n",
            "1785 success\n",
            "1786 success\n",
            "1787 success\n",
            "1788 success\n",
            "1789 success\n",
            "1790 success\n",
            "1791 success\n",
            "1792 success\n",
            "1793 success\n",
            "1794 success\n",
            "1795 success\n",
            "1796 success\n",
            "1797 success\n",
            "1798 success\n"
          ],
          "name": "stdout"
        },
        {
          "output_type": "stream",
          "text": [
            "Rate limit reached. Sleeping for: 598\n"
          ],
          "name": "stderr"
        },
        {
          "output_type": "stream",
          "text": [
            "1799 success\n",
            "1800 success\n",
            "1801 success\n",
            "1802 success\n",
            "1803 success\n",
            "1804 success\n",
            "1805 success\n",
            "1806 success\n",
            "1807 success\n",
            "1808 success\n",
            "1809 success\n",
            "1810 success\n",
            "1811 success\n",
            "1812 success\n",
            "1813 success\n",
            "1814 success\n",
            "1815 success\n",
            "1816 success\n",
            "1817 success\n",
            "1818 success\n",
            "1819 success\n",
            "1820 success\n",
            "1821 success\n",
            "1822 success\n",
            "1823 success\n",
            "1824 success\n",
            "1825 success\n",
            "1826 success\n",
            "1827 success\n",
            "1828 success\n",
            "1829 success\n",
            "1830 success\n",
            "1831 success\n",
            "1832 success\n",
            "1833 success\n",
            "1834 success\n",
            "1835 success\n",
            "1836 success\n",
            "1837 success\n",
            "1838 success\n",
            "1839 success\n",
            "1840 success\n",
            "1841 success\n",
            "1842 success\n",
            "1843 success\n",
            "1844 success\n",
            "1845 success\n",
            "1846 success\n",
            "1847 success\n",
            "1848 success\n",
            "1849 success\n",
            "1850 success\n",
            "1851 success\n",
            "1852 success\n",
            "1853 success\n",
            "1854 success\n",
            "1855 success\n",
            "1856 success\n",
            "1857 success\n",
            "1858 success\n",
            "1859 success\n",
            "1860 success\n",
            "1861 success\n",
            "1862 success\n",
            "1863 success\n",
            "1864 success\n",
            "1865 success\n",
            "1866 success\n",
            "1867 success\n",
            "1868 success\n",
            "1869 success\n",
            "1870 success\n",
            "1871 success\n",
            "1872 success\n",
            "1873 success\n",
            "1874 success\n",
            "1875 success\n",
            "1876 success\n",
            "1877 success\n",
            "1878 success\n",
            "1879 success\n",
            "1880 success\n",
            "1881 success\n",
            "1882 success\n",
            "1883 success\n",
            "1884 success\n",
            "1885 success\n",
            "1886 success\n",
            "1887 success\n",
            "1888 success\n",
            "1889 success\n",
            "1890 success\n",
            "1891 success\n",
            "1892 success\n",
            "1893 success\n",
            "1894 success\n",
            "1895 success\n",
            "1896 success\n",
            "1897 success\n",
            "1898 success\n",
            "1899 success\n",
            "1900 success\n",
            "1901 success\n",
            "1902 success\n",
            "1903 success\n",
            "1904 success\n",
            "1905 success\n",
            "1906 success\n",
            "1907 success\n",
            "1908 success\n",
            "1909 success\n",
            "1910 success\n",
            "1911 success\n",
            "1912 success\n",
            "1913 success\n",
            "1914 success\n",
            "1915 success\n",
            "1916 success\n",
            "1917 success\n",
            "1918 success\n",
            "1919 success\n",
            "1920 success\n",
            "1921 success\n",
            "1922 success\n",
            "1923 success\n",
            "1924 success\n",
            "1925 success\n",
            "1926 success\n",
            "1927 success\n",
            "1928 success\n",
            "1929 success\n",
            "1930 success\n",
            "1931 success\n",
            "1932 success\n",
            "1933 success\n",
            "1934 success\n",
            "1935 success\n",
            "1936 success\n",
            "1937 success\n",
            "1938 success\n",
            "1939 success\n",
            "1940 success\n",
            "1941 success\n",
            "1942 success\n",
            "1943 success\n",
            "1944 success\n",
            "1945 success\n",
            "1946 success\n",
            "1947 success\n",
            "1948 success\n",
            "1949 success\n",
            "1950 success\n",
            "1951 success\n",
            "1952 success\n",
            "1953 success\n",
            "1954 success\n",
            "1955 success\n",
            "1956 success\n",
            "1957 success\n",
            "1958 success\n",
            "1959 success\n",
            "1960 success\n",
            "1961 success\n",
            "1962 success\n",
            "1963 success\n",
            "1964 success\n",
            "1965 success\n",
            "1966 success\n",
            "1967 success\n",
            "1968 success\n",
            "1969 success\n",
            "1970 success\n",
            "1971 success\n",
            "1972 success\n",
            "1973 success\n",
            "1974 success\n",
            "1975 success\n",
            "1976 success\n",
            "1977 success\n",
            "1978 success\n",
            "1979 success\n",
            "1980 success\n",
            "1981 success\n",
            "1982 success\n",
            "1983 success\n",
            "1984 success\n",
            "1985 success\n",
            "1986 success\n",
            "1987 success\n",
            "1988 success\n",
            "1989 success\n",
            "1990 success\n",
            "1991 success\n",
            "1992 success\n",
            "1993 success\n",
            "1994 success\n",
            "1995 success\n",
            "1996 success\n",
            "1997 success\n",
            "1998 success\n",
            "1999 success\n",
            "2000 success\n",
            "2001 success\n",
            "2002 success\n",
            "2003 success\n",
            "2004 success\n",
            "2005 success\n",
            "2006 success\n",
            "2007 success\n",
            "2008 success\n",
            "2009 success\n",
            "2010 success\n",
            "2011 success\n",
            "2012 success\n",
            "2013 success\n",
            "2014 success\n",
            "2015 success\n",
            "2016 success\n",
            "2017 success\n",
            "2018 success\n",
            "2019 success\n",
            "2020 success\n",
            "2021 success\n",
            "2022 success\n",
            "2023 success\n",
            "2024 success\n",
            "2025 success\n",
            "2026 success\n",
            "2027 success\n",
            "2028 success\n",
            "2029 success\n",
            "2030 success\n",
            "2031 success\n",
            "2032 success\n",
            "2033 success\n",
            "2034 success\n",
            "2035 success\n",
            "2036 success\n",
            "2037 success\n",
            "2038 success\n",
            "2039 success\n",
            "2040 success\n",
            "2041 success\n",
            "2042 success\n",
            "2043 success\n",
            "2044 success\n",
            "2045 success\n",
            "2046 success\n",
            "2047 success\n",
            "2048 success\n",
            "2049 success\n",
            "2050 success\n",
            "2051 success\n",
            "2052 success\n",
            "2053 success\n",
            "2054 success\n",
            "2055 success\n",
            "2056 success\n",
            "2057 success\n",
            "2058 success\n",
            "2059 success\n",
            "2060 success\n",
            "2061 success\n",
            "2062 success\n",
            "2063 success\n",
            "2064 success\n",
            "2065 success\n",
            "2066 success\n",
            "2067 success\n",
            "2068 success\n",
            "2069 success\n",
            "2070 success\n",
            "2071 success\n",
            "2072 success\n",
            "2073 success\n",
            "2074 success\n",
            "2075 success\n",
            "2076 success\n",
            "2077 success\n",
            "2078 success\n",
            "2079 success\n",
            "2080 success\n",
            "2081 success\n",
            "2082 success\n",
            "2083 success\n",
            "2084 success\n",
            "2085 success\n",
            "2086 success\n",
            "2087 success\n",
            "2088 success\n",
            "2089 success\n",
            "2090 success\n",
            "2091 success\n",
            "2092 success\n",
            "2093 success\n",
            "2094 success\n",
            "2095 success\n",
            "2096 success\n",
            "2097 success\n",
            "2098 success\n",
            "2099 success\n",
            "2100 success\n",
            "2101 success\n",
            "2102 success\n",
            "2103 success\n",
            "2104 success\n",
            "2105 success\n",
            "2106 success\n",
            "2107 success\n",
            "2108 success\n",
            "2109 success\n",
            "2110 success\n",
            "2111 success\n",
            "2112 success\n",
            "2113 success\n",
            "2114 success\n",
            "2115 success\n",
            "2116 success\n",
            "2117 success\n",
            "2118 success\n",
            "2119 success\n",
            "2120 success\n",
            "2121 success\n",
            "2122 success\n",
            "2123 success\n",
            "2124 success\n",
            "2125 success\n",
            "2126 success\n",
            "2127 success\n",
            "2128 success\n",
            "2129 success\n",
            "2130 success\n",
            "2131 success\n",
            "2132 success\n",
            "2133 success\n",
            "2134 success\n",
            "2135 success\n",
            "2136 success\n",
            "2137 success\n",
            "2138 success\n",
            "2139 success\n",
            "2140 success\n",
            "2141 success\n",
            "2142 success\n",
            "2143 success\n",
            "2144 success\n",
            "2145 success\n",
            "2146 success\n",
            "2147 success\n",
            "2148 success\n",
            "2149 success\n",
            "2150 success\n",
            "2151 success\n",
            "2152 success\n",
            "2153 success\n",
            "2154 success\n",
            "2155 success\n",
            "2156 success\n",
            "2157 success\n",
            "2158 success\n",
            "2159 success\n",
            "2160 success\n",
            "2161 success\n",
            "2162 success\n",
            "2163 success\n",
            "2164 success\n",
            "2165 success\n",
            "2166 success\n",
            "2167 success\n",
            "2168 success\n",
            "2169 success\n",
            "2170 success\n",
            "2171 success\n",
            "2172 success\n",
            "2173 success\n",
            "2174 success\n",
            "2175 success\n",
            "2176 success\n",
            "2177 success\n",
            "2178 success\n",
            "2179 success\n",
            "2180 success\n",
            "2181 success\n",
            "2182 success\n",
            "2183 success\n",
            "2184 success\n",
            "2185 success\n",
            "2186 success\n",
            "2187 success\n",
            "2188 success\n",
            "2189 success\n",
            "2190 success\n",
            "2191 success\n",
            "2192 success\n",
            "2193 success\n",
            "2194 success\n",
            "2195 success\n",
            "2196 success\n",
            "2197 success\n",
            "2198 success\n",
            "2199 success\n",
            "2200 success\n",
            "2201 success\n",
            "2202 success\n",
            "2203 success\n",
            "2204 success\n",
            "2205 success\n",
            "2206 success\n",
            "2207 success\n",
            "2208 success\n",
            "2209 success\n",
            "2210 success\n",
            "2211 success\n",
            "2212 success\n",
            "2213 success\n",
            "2214 success\n",
            "2215 success\n",
            "2216 success\n",
            "2217 success\n",
            "2218 success\n",
            "2219 success\n",
            "2220 success\n",
            "2221 success\n",
            "2222 success\n",
            "2223 success\n",
            "2224 success\n",
            "2225 success\n",
            "2226 success\n",
            "2227 success\n",
            "2228 success\n",
            "2229 success\n",
            "2230 success\n",
            "2231 success\n",
            "2232 success\n",
            "2233 success\n",
            "2234 success\n",
            "2235 success\n",
            "2236 success\n",
            "2237 success\n",
            "2238 success\n",
            "2239 success\n",
            "2240 success\n",
            "2241 success\n",
            "2242 success\n",
            "2243 success\n",
            "2244 success\n",
            "2245 success\n",
            "2246 success\n",
            "2247 success\n",
            "2248 success\n",
            "2249 success\n",
            "2250 success\n",
            "2251 success\n",
            "2252 success\n",
            "2253 success\n",
            "2254 success\n",
            "2255 success\n",
            "2256 success\n",
            "2257 success\n",
            "2258 success\n",
            "2259 success\n",
            "2260 success\n",
            "2261 success\n",
            "2262 success\n",
            "2263 success\n",
            "2264 success\n",
            "2265 success\n",
            "2266 success\n",
            "2267 success\n",
            "2268 success\n",
            "2269 success\n",
            "2270 success\n",
            "2271 success\n",
            "2272 success\n",
            "2273 success\n",
            "2274 success\n",
            "2275 success\n",
            "2276 success\n",
            "2277 success\n",
            "2278 success\n",
            "2279 success\n",
            "2280 success\n",
            "2281 success\n",
            "2282 success\n",
            "2283 success\n",
            "2284 success\n",
            "2285 success\n",
            "2286 success\n",
            "2287 success\n",
            "2288 success\n",
            "2289 success\n",
            "2290 success\n",
            "2291 success\n",
            "2292 success\n",
            "2293 success\n",
            "2294 success\n",
            "2295 success\n",
            "2296 success\n",
            "2297 success\n",
            "2298 success\n",
            "2299 success\n",
            "2300 success\n",
            "2301 success\n",
            "2302 success\n",
            "2303 success\n",
            "2304 success\n",
            "2305 success\n",
            "2306 success\n",
            "2307 success\n",
            "2308 success\n",
            "2309 success\n",
            "2310 success\n",
            "2311 success\n",
            "2312 success\n",
            "2313 success\n",
            "2314 success\n",
            "2315 success\n",
            "2316 success\n",
            "2317 success\n",
            "2318 success\n",
            "2319 success\n",
            "2320 success\n",
            "2321 success\n",
            "2322 success\n",
            "2323 success\n",
            "2324 success\n",
            "2325 success\n",
            "2326 success\n",
            "2327 success\n",
            "2328 success\n",
            "2329 success\n",
            "2330 success\n",
            "2331 success\n",
            "2332 success\n",
            "2333 success\n",
            "2334 success\n",
            "2335 success\n",
            "2336 success\n",
            "2337 success\n",
            "2338 success\n",
            "2339 success\n",
            "2340 success\n",
            "2341 success\n",
            "2342 success\n",
            "2343 success\n",
            "2344 success\n",
            "2345 success\n",
            "2346 success\n",
            "2347 success\n",
            "2348 success\n",
            "2349 success\n",
            "2350 success\n",
            "2351 success\n",
            "2352 success\n",
            "2353 success\n",
            "2354 success\n",
            "2355 success\n"
          ],
          "name": "stdout"
        }
      ]
    },
    {
      "cell_type": "code",
      "metadata": {
        "id": "ThcvYKzhvf3O",
        "colab_type": "code",
        "outputId": "c8fa8547-86cc-4ae1-bfb9-733f264a5fc5",
        "colab": {
          "base_uri": "https://localhost:8080/",
          "height": 669
        }
      },
      "source": [
        "required_columns = []\n",
        "with open('tweet_json.txt') as json_file:\n",
        "    for line in json_file:\n",
        "        python_format = json.loads(line)\n",
        "        required_columns.append({'tweet_id':python_format['id'],\n",
        "                              'favorites':python_format['favorite_count'],\n",
        "                              'retweets':python_format['retweet_count'],\n",
        "                              'timestamp':python_format['created_at']})\n",
        "ret_fav_count=pd.DataFrame(required_columns,columns=['tweet_id','favorites','retweets','timestamp'])\n",
        "ret_fav_count.head(20)"
      ],
      "execution_count": 30,
      "outputs": [
        {
          "output_type": "execute_result",
          "data": {
            "text/html": [
              "<div>\n",
              "<style scoped>\n",
              "    .dataframe tbody tr th:only-of-type {\n",
              "        vertical-align: middle;\n",
              "    }\n",
              "\n",
              "    .dataframe tbody tr th {\n",
              "        vertical-align: top;\n",
              "    }\n",
              "\n",
              "    .dataframe thead th {\n",
              "        text-align: right;\n",
              "    }\n",
              "</style>\n",
              "<table border=\"1\" class=\"dataframe\">\n",
              "  <thead>\n",
              "    <tr style=\"text-align: right;\">\n",
              "      <th></th>\n",
              "      <th>tweet_id</th>\n",
              "      <th>favorites</th>\n",
              "      <th>retweets</th>\n",
              "      <th>timestamp</th>\n",
              "    </tr>\n",
              "  </thead>\n",
              "  <tbody>\n",
              "    <tr>\n",
              "      <th>0</th>\n",
              "      <td>892420643555336193</td>\n",
              "      <td>36550</td>\n",
              "      <td>7783</td>\n",
              "      <td>Tue Aug 01 16:23:56 +0000 2017</td>\n",
              "    </tr>\n",
              "    <tr>\n",
              "      <th>1</th>\n",
              "      <td>892177421306343426</td>\n",
              "      <td>31477</td>\n",
              "      <td>5765</td>\n",
              "      <td>Tue Aug 01 00:17:27 +0000 2017</td>\n",
              "    </tr>\n",
              "    <tr>\n",
              "      <th>2</th>\n",
              "      <td>891815181378084864</td>\n",
              "      <td>23734</td>\n",
              "      <td>3816</td>\n",
              "      <td>Mon Jul 31 00:18:03 +0000 2017</td>\n",
              "    </tr>\n",
              "    <tr>\n",
              "      <th>3</th>\n",
              "      <td>891689557279858688</td>\n",
              "      <td>39859</td>\n",
              "      <td>7947</td>\n",
              "      <td>Sun Jul 30 15:58:51 +0000 2017</td>\n",
              "    </tr>\n",
              "    <tr>\n",
              "      <th>4</th>\n",
              "      <td>891327558926688256</td>\n",
              "      <td>38069</td>\n",
              "      <td>8584</td>\n",
              "      <td>Sat Jul 29 16:00:24 +0000 2017</td>\n",
              "    </tr>\n",
              "    <tr>\n",
              "      <th>5</th>\n",
              "      <td>891087950875897856</td>\n",
              "      <td>19153</td>\n",
              "      <td>2865</td>\n",
              "      <td>Sat Jul 29 00:08:17 +0000 2017</td>\n",
              "    </tr>\n",
              "    <tr>\n",
              "      <th>6</th>\n",
              "      <td>890971913173991426</td>\n",
              "      <td>11161</td>\n",
              "      <td>1877</td>\n",
              "      <td>Fri Jul 28 16:27:12 +0000 2017</td>\n",
              "    </tr>\n",
              "    <tr>\n",
              "      <th>7</th>\n",
              "      <td>890729181411237888</td>\n",
              "      <td>61606</td>\n",
              "      <td>17370</td>\n",
              "      <td>Fri Jul 28 00:22:40 +0000 2017</td>\n",
              "    </tr>\n",
              "    <tr>\n",
              "      <th>8</th>\n",
              "      <td>890609185150312448</td>\n",
              "      <td>26384</td>\n",
              "      <td>3953</td>\n",
              "      <td>Thu Jul 27 16:25:51 +0000 2017</td>\n",
              "    </tr>\n",
              "    <tr>\n",
              "      <th>9</th>\n",
              "      <td>890240255349198849</td>\n",
              "      <td>30159</td>\n",
              "      <td>6766</td>\n",
              "      <td>Wed Jul 26 15:59:51 +0000 2017</td>\n",
              "    </tr>\n",
              "    <tr>\n",
              "      <th>10</th>\n",
              "      <td>890006608113172480</td>\n",
              "      <td>29034</td>\n",
              "      <td>6755</td>\n",
              "      <td>Wed Jul 26 00:31:25 +0000 2017</td>\n",
              "    </tr>\n",
              "    <tr>\n",
              "      <th>11</th>\n",
              "      <td>889880896479866881</td>\n",
              "      <td>26387</td>\n",
              "      <td>4602</td>\n",
              "      <td>Tue Jul 25 16:11:53 +0000 2017</td>\n",
              "    </tr>\n",
              "    <tr>\n",
              "      <th>12</th>\n",
              "      <td>889665388333682689</td>\n",
              "      <td>45474</td>\n",
              "      <td>9221</td>\n",
              "      <td>Tue Jul 25 01:55:32 +0000 2017</td>\n",
              "    </tr>\n",
              "    <tr>\n",
              "      <th>13</th>\n",
              "      <td>889638837579907072</td>\n",
              "      <td>25595</td>\n",
              "      <td>4140</td>\n",
              "      <td>Tue Jul 25 00:10:02 +0000 2017</td>\n",
              "    </tr>\n",
              "    <tr>\n",
              "      <th>14</th>\n",
              "      <td>889531135344209921</td>\n",
              "      <td>14312</td>\n",
              "      <td>2080</td>\n",
              "      <td>Mon Jul 24 17:02:04 +0000 2017</td>\n",
              "    </tr>\n",
              "    <tr>\n",
              "      <th>15</th>\n",
              "      <td>889278841981685760</td>\n",
              "      <td>23823</td>\n",
              "      <td>4923</td>\n",
              "      <td>Mon Jul 24 00:19:32 +0000 2017</td>\n",
              "    </tr>\n",
              "    <tr>\n",
              "      <th>16</th>\n",
              "      <td>888917238123831296</td>\n",
              "      <td>27550</td>\n",
              "      <td>4150</td>\n",
              "      <td>Sun Jul 23 00:22:39 +0000 2017</td>\n",
              "    </tr>\n",
              "    <tr>\n",
              "      <th>17</th>\n",
              "      <td>888804989199671297</td>\n",
              "      <td>24200</td>\n",
              "      <td>3924</td>\n",
              "      <td>Sat Jul 22 16:56:37 +0000 2017</td>\n",
              "    </tr>\n",
              "    <tr>\n",
              "      <th>18</th>\n",
              "      <td>888554962724278272</td>\n",
              "      <td>18704</td>\n",
              "      <td>3216</td>\n",
              "      <td>Sat Jul 22 00:23:06 +0000 2017</td>\n",
              "    </tr>\n",
              "    <tr>\n",
              "      <th>19</th>\n",
              "      <td>888078434458587136</td>\n",
              "      <td>20598</td>\n",
              "      <td>3192</td>\n",
              "      <td>Thu Jul 20 16:49:33 +0000 2017</td>\n",
              "    </tr>\n",
              "  </tbody>\n",
              "</table>\n",
              "</div>"
            ],
            "text/plain": [
              "              tweet_id  favorites  retweets                       timestamp\n",
              "0   892420643555336193      36550      7783  Tue Aug 01 16:23:56 +0000 2017\n",
              "1   892177421306343426      31477      5765  Tue Aug 01 00:17:27 +0000 2017\n",
              "2   891815181378084864      23734      3816  Mon Jul 31 00:18:03 +0000 2017\n",
              "3   891689557279858688      39859      7947  Sun Jul 30 15:58:51 +0000 2017\n",
              "4   891327558926688256      38069      8584  Sat Jul 29 16:00:24 +0000 2017\n",
              "5   891087950875897856      19153      2865  Sat Jul 29 00:08:17 +0000 2017\n",
              "6   890971913173991426      11161      1877  Fri Jul 28 16:27:12 +0000 2017\n",
              "7   890729181411237888      61606     17370  Fri Jul 28 00:22:40 +0000 2017\n",
              "8   890609185150312448      26384      3953  Thu Jul 27 16:25:51 +0000 2017\n",
              "9   890240255349198849      30159      6766  Wed Jul 26 15:59:51 +0000 2017\n",
              "10  890006608113172480      29034      6755  Wed Jul 26 00:31:25 +0000 2017\n",
              "11  889880896479866881      26387      4602  Tue Jul 25 16:11:53 +0000 2017\n",
              "12  889665388333682689      45474      9221  Tue Jul 25 01:55:32 +0000 2017\n",
              "13  889638837579907072      25595      4140  Tue Jul 25 00:10:02 +0000 2017\n",
              "14  889531135344209921      14312      2080  Mon Jul 24 17:02:04 +0000 2017\n",
              "15  889278841981685760      23823      4923  Mon Jul 24 00:19:32 +0000 2017\n",
              "16  888917238123831296      27550      4150  Sun Jul 23 00:22:39 +0000 2017\n",
              "17  888804989199671297      24200      3924  Sat Jul 22 16:56:37 +0000 2017\n",
              "18  888554962724278272      18704      3216  Sat Jul 22 00:23:06 +0000 2017\n",
              "19  888078434458587136      20598      3192  Thu Jul 20 16:49:33 +0000 2017"
            ]
          },
          "metadata": {
            "tags": []
          },
          "execution_count": 30
        }
      ]
    },
    {
      "cell_type": "code",
      "metadata": {
        "id": "o6kPlX8k93hU",
        "colab_type": "code",
        "colab": {}
      },
      "source": [
        "#I will store the dataframe that i created from twitter in a csv file to save \n",
        "#time next time i open this notebook so that i don't have \n",
        "#to run the previous steps each time\n",
        "ret_fav_count.to_csv('ret_fav_count.csv',index=False)"
      ],
      "execution_count": 0,
      "outputs": []
    },
    {
      "cell_type": "markdown",
      "metadata": {
        "id": "hmuXJpq8inTX",
        "colab_type": "text"
      },
      "source": [
        "Now I will assess our third source of data by checking its numbers of rows and columns and getting information about columns types and missing values and checking for duplicated rows and inspecting the file on google sheets for further inspection"
      ]
    },
    {
      "cell_type": "code",
      "metadata": {
        "id": "jBIvRHFoDiyy",
        "colab_type": "code",
        "outputId": "1ff9709c-35f0-405c-cf85-7d10b5ef5d69",
        "colab": {
          "base_uri": "https://localhost:8080/",
          "height": 204
        }
      },
      "source": [
        "ret_fav_count.head()"
      ],
      "execution_count": 33,
      "outputs": [
        {
          "output_type": "execute_result",
          "data": {
            "text/html": [
              "<div>\n",
              "<style scoped>\n",
              "    .dataframe tbody tr th:only-of-type {\n",
              "        vertical-align: middle;\n",
              "    }\n",
              "\n",
              "    .dataframe tbody tr th {\n",
              "        vertical-align: top;\n",
              "    }\n",
              "\n",
              "    .dataframe thead th {\n",
              "        text-align: right;\n",
              "    }\n",
              "</style>\n",
              "<table border=\"1\" class=\"dataframe\">\n",
              "  <thead>\n",
              "    <tr style=\"text-align: right;\">\n",
              "      <th></th>\n",
              "      <th>tweet_id</th>\n",
              "      <th>favorites</th>\n",
              "      <th>retweets</th>\n",
              "      <th>timestamp</th>\n",
              "    </tr>\n",
              "  </thead>\n",
              "  <tbody>\n",
              "    <tr>\n",
              "      <th>0</th>\n",
              "      <td>892420643555336193</td>\n",
              "      <td>36550</td>\n",
              "      <td>7783</td>\n",
              "      <td>Tue Aug 01 16:23:56 +0000 2017</td>\n",
              "    </tr>\n",
              "    <tr>\n",
              "      <th>1</th>\n",
              "      <td>892177421306343426</td>\n",
              "      <td>31477</td>\n",
              "      <td>5765</td>\n",
              "      <td>Tue Aug 01 00:17:27 +0000 2017</td>\n",
              "    </tr>\n",
              "    <tr>\n",
              "      <th>2</th>\n",
              "      <td>891815181378084864</td>\n",
              "      <td>23734</td>\n",
              "      <td>3816</td>\n",
              "      <td>Mon Jul 31 00:18:03 +0000 2017</td>\n",
              "    </tr>\n",
              "    <tr>\n",
              "      <th>3</th>\n",
              "      <td>891689557279858688</td>\n",
              "      <td>39859</td>\n",
              "      <td>7947</td>\n",
              "      <td>Sun Jul 30 15:58:51 +0000 2017</td>\n",
              "    </tr>\n",
              "    <tr>\n",
              "      <th>4</th>\n",
              "      <td>891327558926688256</td>\n",
              "      <td>38069</td>\n",
              "      <td>8584</td>\n",
              "      <td>Sat Jul 29 16:00:24 +0000 2017</td>\n",
              "    </tr>\n",
              "  </tbody>\n",
              "</table>\n",
              "</div>"
            ],
            "text/plain": [
              "             tweet_id  favorites  retweets                       timestamp\n",
              "0  892420643555336193      36550      7783  Tue Aug 01 16:23:56 +0000 2017\n",
              "1  892177421306343426      31477      5765  Tue Aug 01 00:17:27 +0000 2017\n",
              "2  891815181378084864      23734      3816  Mon Jul 31 00:18:03 +0000 2017\n",
              "3  891689557279858688      39859      7947  Sun Jul 30 15:58:51 +0000 2017\n",
              "4  891327558926688256      38069      8584  Sat Jul 29 16:00:24 +0000 2017"
            ]
          },
          "metadata": {
            "tags": []
          },
          "execution_count": 33
        }
      ]
    },
    {
      "cell_type": "code",
      "metadata": {
        "id": "nl858BANJDzF",
        "colab_type": "code",
        "outputId": "0b48be0b-4c96-49c3-8ee8-b30b96c47c82",
        "colab": {
          "base_uri": "https://localhost:8080/",
          "height": 34
        }
      },
      "source": [
        "#number of rows and columns in our datafrmae\n",
        "ret_fav_count.shape"
      ],
      "execution_count": 35,
      "outputs": [
        {
          "output_type": "execute_result",
          "data": {
            "text/plain": [
              "(2331, 4)"
            ]
          },
          "metadata": {
            "tags": []
          },
          "execution_count": 35
        }
      ]
    },
    {
      "cell_type": "markdown",
      "metadata": {
        "id": "xVfFlulUjvhh",
        "colab_type": "text"
      },
      "source": [
        "Now lets see the information about the columns"
      ]
    },
    {
      "cell_type": "code",
      "metadata": {
        "id": "Ti_H06joj3xh",
        "colab_type": "code",
        "colab": {
          "base_uri": "https://localhost:8080/",
          "height": 170
        },
        "outputId": "5701f122-ce17-4f3d-8b0b-e74be4f1c753"
      },
      "source": [
        "ret_fav_count.info()"
      ],
      "execution_count": 37,
      "outputs": [
        {
          "output_type": "stream",
          "text": [
            "<class 'pandas.core.frame.DataFrame'>\n",
            "RangeIndex: 2331 entries, 0 to 2330\n",
            "Data columns (total 4 columns):\n",
            "tweet_id     2331 non-null int64\n",
            "favorites    2331 non-null int64\n",
            "retweets     2331 non-null int64\n",
            "timestamp    2331 non-null object\n",
            "dtypes: int64(3), object(1)\n",
            "memory usage: 73.0+ KB\n"
          ],
          "name": "stdout"
        }
      ]
    },
    {
      "cell_type": "markdown",
      "metadata": {
        "id": "9DljqwIDkaLA",
        "colab_type": "text"
      },
      "source": [
        "I don't have duplicated rows in this dataframe"
      ]
    },
    {
      "cell_type": "code",
      "metadata": {
        "id": "gs9QQO9mkSb1",
        "colab_type": "code",
        "colab": {
          "base_uri": "https://localhost:8080/",
          "height": 34
        },
        "outputId": "b6a6d60c-a6da-4bc7-e2df-fc931bd331ac"
      },
      "source": [
        "ret_fav_count.duplicated().all()"
      ],
      "execution_count": 38,
      "outputs": [
        {
          "output_type": "execute_result",
          "data": {
            "text/plain": [
              "False"
            ]
          },
          "metadata": {
            "tags": []
          },
          "execution_count": 38
        }
      ]
    },
    {
      "cell_type": "code",
      "metadata": {
        "id": "NGn-rb2ekiAO",
        "colab_type": "code",
        "colab": {}
      },
      "source": [
        ""
      ],
      "execution_count": 0,
      "outputs": []
    },
    {
      "cell_type": "markdown",
      "metadata": {
        "id": "Hi8XcOS7J5bp",
        "colab_type": "text"
      },
      "source": [
        "# Assessing\n",
        "## Quality\n",
        "- timestamp in twitter_archive is of type object and not timedate\n",
        "- 'in_reply_to_status_id', 'in_reply_to_user_id','retweeted_status_id', 'retweeted_status_user_id', 'retweeted_status_timestamp' columns in twitter_archive are all missing values and are of no signicficance to our analysis \n",
        "- None values in name column in twitter_archive instead of np.nan\n",
        "- 'a' values in name column in twitter_archive instead of np.nan\n",
        "- None values in dogs stages are not interpreted as np.nan in twitter_archive\n",
        "- dogs' breeds are not consistent ( some are capital and some are not) in image_prediction dataframe\n",
        "- timestamp should be treated as timestamp not object type\n",
        "- 'p1' column name in image_prediction dataframe is not a suitable name to indicate that this column is dog breed predicted. It is a confusing name\n",
        "- 'p2' is a confusing name and not indicating dog breed indincated\n",
        "- 'p2-dog' is a confusing name to indicate that it is the probability of being a dog or not\n",
        "- Do i need all the columns in image_prediction data frame\n",
        "- image_prediction assumed that some images don't belong to dogs and interpreted other stuff than dogs and which is not true \n",
        "- timestamp in ret_fav_count dataframe of object type \n",
        "## Tidiness\n",
        "- 3 tables that have common columns \n",
        "- doggo, floofer, pupper, puppo should be stacked in one column"
      ]
    },
    {
      "cell_type": "markdown",
      "metadata": {
        "id": "5I4MLtAMkp0t",
        "colab_type": "text"
      },
      "source": [
        "# Cleaning and Testing Step"
      ]
    },
    {
      "cell_type": "markdown",
      "metadata": {
        "id": "7xE9_StTkzu4",
        "colab_type": "text"
      },
      "source": [
        "I will first create three copies of our three dataframes to start the cleaning process without missing with the original dataframe"
      ]
    },
    {
      "cell_type": "code",
      "metadata": {
        "id": "WN1a1-BeJyhC",
        "colab_type": "code",
        "colab": {}
      },
      "source": [
        "#making new copies of our dataframes to start the cleaning process\n",
        "twitter_archive_clean=twitter_archive.copy()\n",
        "image_prediction_clean=image_prediction.copy()\n",
        "ret_fav_count_clean=ret_fav_count.copy()"
      ],
      "execution_count": 0,
      "outputs": []
    },
    {
      "cell_type": "markdown",
      "metadata": {
        "id": "TSXgAGtolsrv",
        "colab_type": "text"
      },
      "source": [
        "### 1- change timestamp in twitter_archive is from type object to type timedate"
      ]
    },
    {
      "cell_type": "code",
      "metadata": {
        "id": "xUyhrx7pQs-P",
        "colab_type": "code",
        "colab": {}
      },
      "source": [
        "#converting timestamp type from object to datetime\n",
        "twitter_archive_clean['timestamp']=pd.to_datetime(twitter_archive_clean['timestamp'])"
      ],
      "execution_count": 0,
      "outputs": []
    },
    {
      "cell_type": "markdown",
      "metadata": {
        "id": "HYysUDZ1m-SA",
        "colab_type": "text"
      },
      "source": [
        "Test"
      ]
    },
    {
      "cell_type": "code",
      "metadata": {
        "id": "9TIQniL9Rb5Q",
        "colab_type": "code",
        "outputId": "60103047-83f5-4bfc-9041-6513ec2d2e66",
        "colab": {
          "base_uri": "https://localhost:8080/",
          "height": 34
        }
      },
      "source": [
        "#test our cleaning step\n",
        "twitter_archive_clean.timestamp.dtypes"
      ],
      "execution_count": 107,
      "outputs": [
        {
          "output_type": "execute_result",
          "data": {
            "text/plain": [
              "datetime64[ns, UTC]"
            ]
          },
          "metadata": {
            "tags": []
          },
          "execution_count": 107
        }
      ]
    },
    {
      "cell_type": "markdown",
      "metadata": {
        "id": "E6UgeOHPmO7n",
        "colab_type": "text"
      },
      "source": [
        "### 2- drop 'in_reply_to_status_id', 'in_reply_to_user_id','retweeted_status_id', 'retweeted_status_user_id', 'retweeted_status_timestamp' columns in twitter_archive as they are all missing values and are of no signicficance to our analysis"
      ]
    },
    {
      "cell_type": "code",
      "metadata": {
        "id": "bUXPxCVmSBbT",
        "colab_type": "code",
        "outputId": "52ad4a6e-72fa-4089-f4de-9dd43f883533",
        "colab": {
          "base_uri": "https://localhost:8080/",
          "height": 102
        }
      },
      "source": [
        "twitter_archive_clean.columns"
      ],
      "execution_count": 108,
      "outputs": [
        {
          "output_type": "execute_result",
          "data": {
            "text/plain": [
              "Index(['tweet_id', 'in_reply_to_status_id', 'in_reply_to_user_id', 'timestamp',\n",
              "       'source', 'text', 'retweeted_status_id', 'retweeted_status_user_id',\n",
              "       'retweeted_status_timestamp', 'expanded_urls', 'rating_numerator',\n",
              "       'rating_denominator', 'name', 'doggo', 'floofer', 'pupper', 'puppo'],\n",
              "      dtype='object')"
            ]
          },
          "metadata": {
            "tags": []
          },
          "execution_count": 108
        }
      ]
    },
    {
      "cell_type": "code",
      "metadata": {
        "id": "T88BEBcsSbz-",
        "colab_type": "code",
        "colab": {}
      },
      "source": [
        "twitter_archive_clean=twitter_archive_clean.drop(['in_reply_to_status_id', 'in_reply_to_user_id','retweeted_status_id', 'retweeted_status_user_id',\n",
        "       'retweeted_status_timestamp'],axis=1)"
      ],
      "execution_count": 0,
      "outputs": []
    },
    {
      "cell_type": "markdown",
      "metadata": {
        "id": "meWAzeznmxXy",
        "colab_type": "text"
      },
      "source": [
        "Test"
      ]
    },
    {
      "cell_type": "code",
      "metadata": {
        "id": "QmdnPQ5YS35Y",
        "colab_type": "code",
        "outputId": "1c8220b4-cc7a-4dc9-9374-87fb0a8b6bfa",
        "colab": {
          "base_uri": "https://localhost:8080/",
          "height": 85
        }
      },
      "source": [
        "twitter_archive_clean.columns"
      ],
      "execution_count": 110,
      "outputs": [
        {
          "output_type": "execute_result",
          "data": {
            "text/plain": [
              "Index(['tweet_id', 'timestamp', 'source', 'text', 'expanded_urls',\n",
              "       'rating_numerator', 'rating_denominator', 'name', 'doggo', 'floofer',\n",
              "       'pupper', 'puppo'],\n",
              "      dtype='object')"
            ]
          },
          "metadata": {
            "tags": []
          },
          "execution_count": 110
        }
      ]
    },
    {
      "cell_type": "markdown",
      "metadata": {
        "id": "8DXHUzA9nTxd",
        "colab_type": "text"
      },
      "source": [
        "### 3- Replace None values in name column in twitter_archive with np.nan"
      ]
    },
    {
      "cell_type": "code",
      "metadata": {
        "id": "D6FlAxyPS76d",
        "colab_type": "code",
        "outputId": "f84d25a7-5781-4af9-8172-372fd38d6128",
        "colab": {
          "base_uri": "https://localhost:8080/",
          "height": 34
        }
      },
      "source": [
        "#Although they are 745 missing names in name columns but python can't detect them as they are written as None\n",
        "twitter_archive_clean.name.isnull().all()"
      ],
      "execution_count": 111,
      "outputs": [
        {
          "output_type": "execute_result",
          "data": {
            "text/plain": [
              "False"
            ]
          },
          "metadata": {
            "tags": []
          },
          "execution_count": 111
        }
      ]
    },
    {
      "cell_type": "code",
      "metadata": {
        "id": "Rsw5eThjThu9",
        "colab_type": "code",
        "outputId": "224587ff-a06e-45d7-f320-95aa4e8f7a15",
        "colab": {
          "base_uri": "https://localhost:8080/",
          "height": 221
        }
      },
      "source": [
        "twitter_archive_clean.name.value_counts()"
      ],
      "execution_count": 112,
      "outputs": [
        {
          "output_type": "execute_result",
          "data": {
            "text/plain": [
              "None       745\n",
              "a           55\n",
              "Charlie     12\n",
              "Oliver      11\n",
              "Cooper      11\n",
              "          ... \n",
              "Eugene       1\n",
              "Dwight       1\n",
              "Sailer       1\n",
              "Banjo        1\n",
              "Crimson      1\n",
              "Name: name, Length: 957, dtype: int64"
            ]
          },
          "metadata": {
            "tags": []
          },
          "execution_count": 112
        }
      ]
    },
    {
      "cell_type": "code",
      "metadata": {
        "id": "AtZ2n1PiTp_v",
        "colab_type": "code",
        "colab": {}
      },
      "source": [
        "twitter_archive_clean.name=twitter_archive_clean.name.replace('None',np.nan)"
      ],
      "execution_count": 0,
      "outputs": []
    },
    {
      "cell_type": "markdown",
      "metadata": {
        "id": "_SveKTPnnwvy",
        "colab_type": "text"
      },
      "source": [
        "Test"
      ]
    },
    {
      "cell_type": "code",
      "metadata": {
        "id": "je07yTXYUHOI",
        "colab_type": "code",
        "outputId": "adbc6bdb-4f77-4da6-aa7b-ac7e292b48a0",
        "colab": {
          "base_uri": "https://localhost:8080/",
          "height": 221
        }
      },
      "source": [
        "twitter_archive_clean.name.value_counts()"
      ],
      "execution_count": 114,
      "outputs": [
        {
          "output_type": "execute_result",
          "data": {
            "text/plain": [
              "a          55\n",
              "Charlie    12\n",
              "Lucy       11\n",
              "Oliver     11\n",
              "Cooper     11\n",
              "           ..\n",
              "Eugene      1\n",
              "Dwight      1\n",
              "Sailer      1\n",
              "Banjo       1\n",
              "Crimson     1\n",
              "Name: name, Length: 956, dtype: int64"
            ]
          },
          "metadata": {
            "tags": []
          },
          "execution_count": 114
        }
      ]
    },
    {
      "cell_type": "code",
      "metadata": {
        "id": "5-nxmlgeYhIW",
        "colab_type": "code",
        "colab": {}
      },
      "source": [
        ""
      ],
      "execution_count": 0,
      "outputs": []
    },
    {
      "cell_type": "markdown",
      "metadata": {
        "id": "ZJA6U0XpoDzW",
        "colab_type": "text"
      },
      "source": [
        "### 3- Replace 'a' values in name column in twitter_archive with of np.nan"
      ]
    },
    {
      "cell_type": "code",
      "metadata": {
        "id": "P4PpwYb5owQu",
        "colab_type": "code",
        "colab": {}
      },
      "source": [
        "twitter_archive_clean.name=twitter_archive_clean.name.replace('a',np.nan)"
      ],
      "execution_count": 0,
      "outputs": []
    },
    {
      "cell_type": "markdown",
      "metadata": {
        "id": "YylT1-mcpVGg",
        "colab_type": "text"
      },
      "source": [
        "Test"
      ]
    },
    {
      "cell_type": "code",
      "metadata": {
        "id": "fPRlUSUfpTWR",
        "colab_type": "code",
        "colab": {
          "base_uri": "https://localhost:8080/",
          "height": 221
        },
        "outputId": "0f247e0c-e321-4491-bd22-7b858c8e6c1d"
      },
      "source": [
        "twitter_archive_clean.name.value_counts()"
      ],
      "execution_count": 116,
      "outputs": [
        {
          "output_type": "execute_result",
          "data": {
            "text/plain": [
              "Charlie    12\n",
              "Lucy       11\n",
              "Oliver     11\n",
              "Cooper     11\n",
              "Penny      10\n",
              "           ..\n",
              "Daniel      1\n",
              "Eugene      1\n",
              "Dwight      1\n",
              "Sailer      1\n",
              "Crimson     1\n",
              "Name: name, Length: 955, dtype: int64"
            ]
          },
          "metadata": {
            "tags": []
          },
          "execution_count": 116
        }
      ]
    },
    {
      "cell_type": "markdown",
      "metadata": {
        "id": "Z5_bRtKPpfgU",
        "colab_type": "text"
      },
      "source": [
        "### 4- Replace None values in doggo column with np.nan in twitter_archive"
      ]
    },
    {
      "cell_type": "code",
      "metadata": {
        "id": "fgrebdl6pc2B",
        "colab_type": "code",
        "colab": {}
      },
      "source": [
        "twitter_archive_clean.doggo=twitter_archive_clean.doggo.replace('None',np.nan)"
      ],
      "execution_count": 0,
      "outputs": []
    },
    {
      "cell_type": "markdown",
      "metadata": {
        "id": "MN6k-szwssX5",
        "colab_type": "text"
      },
      "source": [
        "Test"
      ]
    },
    {
      "cell_type": "code",
      "metadata": {
        "id": "fZKeGJhysT2r",
        "colab_type": "code",
        "colab": {
          "base_uri": "https://localhost:8080/",
          "height": 221
        },
        "outputId": "842ea350-4020-4184-a711-36ac1e814053"
      },
      "source": [
        "twitter_archive_clean.doggo"
      ],
      "execution_count": 118,
      "outputs": [
        {
          "output_type": "execute_result",
          "data": {
            "text/plain": [
              "0       NaN\n",
              "1       NaN\n",
              "2       NaN\n",
              "3       NaN\n",
              "4       NaN\n",
              "       ... \n",
              "2351    NaN\n",
              "2352    NaN\n",
              "2353    NaN\n",
              "2354    NaN\n",
              "2355    NaN\n",
              "Name: doggo, Length: 2356, dtype: object"
            ]
          },
          "metadata": {
            "tags": []
          },
          "execution_count": 118
        }
      ]
    },
    {
      "cell_type": "markdown",
      "metadata": {
        "id": "Q4-5PlZrs08_",
        "colab_type": "text"
      },
      "source": [
        "### 5- Replace None values in floofer column in twitter_archive data frame with np.nan"
      ]
    },
    {
      "cell_type": "code",
      "metadata": {
        "id": "mjrzArbxsa-D",
        "colab_type": "code",
        "colab": {
          "base_uri": "https://localhost:8080/",
          "height": 68
        },
        "outputId": "baa7fc50-0546-44e1-d31a-625254cd2084"
      },
      "source": [
        "twitter_archive_clean.floofer.value_counts()"
      ],
      "execution_count": 119,
      "outputs": [
        {
          "output_type": "execute_result",
          "data": {
            "text/plain": [
              "None       2346\n",
              "floofer      10\n",
              "Name: floofer, dtype: int64"
            ]
          },
          "metadata": {
            "tags": []
          },
          "execution_count": 119
        }
      ]
    },
    {
      "cell_type": "code",
      "metadata": {
        "id": "1Z8cT71stH3J",
        "colab_type": "code",
        "colab": {}
      },
      "source": [
        "twitter_archive_clean.floofer=twitter_archive_clean.floofer.replace('None',np.nan)"
      ],
      "execution_count": 0,
      "outputs": []
    },
    {
      "cell_type": "markdown",
      "metadata": {
        "id": "cYW-Su2DtYK9",
        "colab_type": "text"
      },
      "source": [
        "Test"
      ]
    },
    {
      "cell_type": "code",
      "metadata": {
        "id": "_ah6yjngtWnH",
        "colab_type": "code",
        "colab": {
          "base_uri": "https://localhost:8080/",
          "height": 51
        },
        "outputId": "b017ac75-8b0e-4659-8cde-b45f01dc896f"
      },
      "source": [
        "twitter_archive_clean.floofer.value_counts()"
      ],
      "execution_count": 121,
      "outputs": [
        {
          "output_type": "execute_result",
          "data": {
            "text/plain": [
              "floofer    10\n",
              "Name: floofer, dtype: int64"
            ]
          },
          "metadata": {
            "tags": []
          },
          "execution_count": 121
        }
      ]
    },
    {
      "cell_type": "markdown",
      "metadata": {
        "id": "UQKGAIFWt6t9",
        "colab_type": "text"
      },
      "source": [
        "### 6- Replace None values in pupper coloumn with np.nan"
      ]
    },
    {
      "cell_type": "code",
      "metadata": {
        "id": "7mD2VdiKthdH",
        "colab_type": "code",
        "colab": {
          "base_uri": "https://localhost:8080/",
          "height": 68
        },
        "outputId": "616297fa-200d-4bd3-b580-a597bf6be662"
      },
      "source": [
        "twitter_archive_clean.pupper.value_counts()"
      ],
      "execution_count": 122,
      "outputs": [
        {
          "output_type": "execute_result",
          "data": {
            "text/plain": [
              "None      2099\n",
              "pupper     257\n",
              "Name: pupper, dtype: int64"
            ]
          },
          "metadata": {
            "tags": []
          },
          "execution_count": 122
        }
      ]
    },
    {
      "cell_type": "code",
      "metadata": {
        "id": "yawltQG9uKE7",
        "colab_type": "code",
        "colab": {}
      },
      "source": [
        "twitter_archive_clean.pupper=twitter_archive_clean.pupper.replace('None',np.nan)"
      ],
      "execution_count": 0,
      "outputs": []
    },
    {
      "cell_type": "markdown",
      "metadata": {
        "id": "UJhMmw_puf57",
        "colab_type": "text"
      },
      "source": [
        "Test"
      ]
    },
    {
      "cell_type": "code",
      "metadata": {
        "id": "DJL2mO3guZIA",
        "colab_type": "code",
        "colab": {
          "base_uri": "https://localhost:8080/",
          "height": 51
        },
        "outputId": "85f39351-8c57-4b21-e5b0-117021fc4c3c"
      },
      "source": [
        "twitter_archive_clean.pupper.value_counts()"
      ],
      "execution_count": 124,
      "outputs": [
        {
          "output_type": "execute_result",
          "data": {
            "text/plain": [
              "pupper    257\n",
              "Name: pupper, dtype: int64"
            ]
          },
          "metadata": {
            "tags": []
          },
          "execution_count": 124
        }
      ]
    },
    {
      "cell_type": "markdown",
      "metadata": {
        "id": "vvk39Tl_ujT2",
        "colab_type": "text"
      },
      "source": [
        "### 7- Replace None values in puppo column with np.nan"
      ]
    },
    {
      "cell_type": "code",
      "metadata": {
        "id": "SdOxgPiGucMC",
        "colab_type": "code",
        "colab": {
          "base_uri": "https://localhost:8080/",
          "height": 68
        },
        "outputId": "b6ea30c5-f62c-48c9-83a6-1ca73a1305d3"
      },
      "source": [
        "twitter_archive_clean.puppo.value_counts()"
      ],
      "execution_count": 125,
      "outputs": [
        {
          "output_type": "execute_result",
          "data": {
            "text/plain": [
              "None     2326\n",
              "puppo      30\n",
              "Name: puppo, dtype: int64"
            ]
          },
          "metadata": {
            "tags": []
          },
          "execution_count": 125
        }
      ]
    },
    {
      "cell_type": "code",
      "metadata": {
        "id": "TgD3P9fyvJHh",
        "colab_type": "code",
        "colab": {}
      },
      "source": [
        "twitter_archive_clean.puppo=twitter_archive_clean.puppo.replace('None',np.nan)"
      ],
      "execution_count": 0,
      "outputs": []
    },
    {
      "cell_type": "markdown",
      "metadata": {
        "id": "s1UhbNGFvVg6",
        "colab_type": "text"
      },
      "source": [
        "Test"
      ]
    },
    {
      "cell_type": "code",
      "metadata": {
        "id": "VXmPJzEWvUXW",
        "colab_type": "code",
        "colab": {
          "base_uri": "https://localhost:8080/",
          "height": 51
        },
        "outputId": "ae6ba371-2d23-4ce8-bfd4-854b5298b127"
      },
      "source": [
        "twitter_archive_clean.puppo.value_counts()"
      ],
      "execution_count": 127,
      "outputs": [
        {
          "output_type": "execute_result",
          "data": {
            "text/plain": [
              "puppo    30\n",
              "Name: puppo, dtype: int64"
            ]
          },
          "metadata": {
            "tags": []
          },
          "execution_count": 127
        }
      ]
    },
    {
      "cell_type": "markdown",
      "metadata": {
        "id": "zOeEyhh9vgLg",
        "colab_type": "text"
      },
      "source": [
        "### 8- make breed name consistent with lower case only( some are capital and some are not) in image_prediction dataframe"
      ]
    },
    {
      "cell_type": "code",
      "metadata": {
        "id": "NRYWEM4Avd1o",
        "colab_type": "code",
        "colab": {
          "base_uri": "https://localhost:8080/",
          "height": 374
        },
        "outputId": "22f49deb-d3c4-48d9-b7b1-cab8088510b9"
      },
      "source": [
        "image_prediction_clean.p1.head(20)"
      ],
      "execution_count": 128,
      "outputs": [
        {
          "output_type": "execute_result",
          "data": {
            "text/plain": [
              "0     Welsh_springer_spaniel\n",
              "1                    redbone\n",
              "2            German_shepherd\n",
              "3        Rhodesian_ridgeback\n",
              "4         miniature_pinscher\n",
              "5       Bernese_mountain_dog\n",
              "6                 box_turtle\n",
              "7                       chow\n",
              "8              shopping_cart\n",
              "9           miniature_poodle\n",
              "10          golden_retriever\n",
              "11             Gordon_setter\n",
              "12              Walker_hound\n",
              "13                       pug\n",
              "14                bloodhound\n",
              "15                     Lhasa\n",
              "16            English_setter\n",
              "17                       hen\n",
              "18          desktop_computer\n",
              "19         Italian_greyhound\n",
              "Name: p1, dtype: object"
            ]
          },
          "metadata": {
            "tags": []
          },
          "execution_count": 128
        }
      ]
    },
    {
      "cell_type": "code",
      "metadata": {
        "id": "2zu2Mf4JwASP",
        "colab_type": "code",
        "colab": {}
      },
      "source": [
        "image_prediction_clean.p1=image_prediction_clean.p1.str.lower()"
      ],
      "execution_count": 0,
      "outputs": []
    },
    {
      "cell_type": "markdown",
      "metadata": {
        "id": "NSL-fiUzwUJM",
        "colab_type": "text"
      },
      "source": [
        "Test"
      ]
    },
    {
      "cell_type": "code",
      "metadata": {
        "id": "WwCQz939wL2g",
        "colab_type": "code",
        "colab": {
          "base_uri": "https://localhost:8080/",
          "height": 374
        },
        "outputId": "c3fa9be9-39f2-4afa-c55f-9a5736808898"
      },
      "source": [
        "image_prediction_clean.p1.head(20)"
      ],
      "execution_count": 130,
      "outputs": [
        {
          "output_type": "execute_result",
          "data": {
            "text/plain": [
              "0     welsh_springer_spaniel\n",
              "1                    redbone\n",
              "2            german_shepherd\n",
              "3        rhodesian_ridgeback\n",
              "4         miniature_pinscher\n",
              "5       bernese_mountain_dog\n",
              "6                 box_turtle\n",
              "7                       chow\n",
              "8              shopping_cart\n",
              "9           miniature_poodle\n",
              "10          golden_retriever\n",
              "11             gordon_setter\n",
              "12              walker_hound\n",
              "13                       pug\n",
              "14                bloodhound\n",
              "15                     lhasa\n",
              "16            english_setter\n",
              "17                       hen\n",
              "18          desktop_computer\n",
              "19         italian_greyhound\n",
              "Name: p1, dtype: object"
            ]
          },
          "metadata": {
            "tags": []
          },
          "execution_count": 130
        }
      ]
    },
    {
      "cell_type": "markdown",
      "metadata": {
        "id": "jp9rYWFewdcj",
        "colab_type": "text"
      },
      "source": [
        "### 9- change 'p1' column name in image_prediction dataframe which is not a suitable name to indicate that this column is dog breed predicted. It is a confusing name so I will replace with breed_prediction_1"
      ]
    },
    {
      "cell_type": "code",
      "metadata": {
        "id": "Ispf1NN8xexP",
        "colab_type": "code",
        "colab": {
          "base_uri": "https://localhost:8080/",
          "height": 68
        },
        "outputId": "ced69ca4-5714-4d72-830e-dd7598d1583b"
      },
      "source": [
        "image_prediction_clean.columns"
      ],
      "execution_count": 131,
      "outputs": [
        {
          "output_type": "execute_result",
          "data": {
            "text/plain": [
              "Index(['tweet_id', 'jpg_url', 'img_num', 'p1', 'p1_conf', 'p1_dog', 'p2',\n",
              "       'p2_conf', 'p2_dog', 'p3', 'p3_conf', 'p3_dog'],\n",
              "      dtype='object')"
            ]
          },
          "metadata": {
            "tags": []
          },
          "execution_count": 131
        }
      ]
    },
    {
      "cell_type": "code",
      "metadata": {
        "id": "L4TwZGROwR8m",
        "colab_type": "code",
        "colab": {}
      },
      "source": [
        "image_prediction_clean=image_prediction_clean.rename(columns={'p1':'dog_breed'})"
      ],
      "execution_count": 0,
      "outputs": []
    },
    {
      "cell_type": "code",
      "metadata": {
        "id": "P5e8NqmPxZi4",
        "colab_type": "code",
        "colab": {
          "base_uri": "https://localhost:8080/",
          "height": 68
        },
        "outputId": "2987c2ff-783e-4875-ce80-3824872c7d4a"
      },
      "source": [
        "image_prediction_clean.columns"
      ],
      "execution_count": 133,
      "outputs": [
        {
          "output_type": "execute_result",
          "data": {
            "text/plain": [
              "Index(['tweet_id', 'jpg_url', 'img_num', 'dog_breed', 'p1_conf', 'p1_dog',\n",
              "       'p2', 'p2_conf', 'p2_dog', 'p3', 'p3_conf', 'p3_dog'],\n",
              "      dtype='object')"
            ]
          },
          "metadata": {
            "tags": []
          },
          "execution_count": 133
        }
      ]
    },
    {
      "cell_type": "markdown",
      "metadata": {
        "id": "cVJ-lJE80JFC",
        "colab_type": "text"
      },
      "source": [
        "### 10- Drop columns ['p2','p2_conf','p2_dog','p3','p3_conf','p3_dog'], since by inspection on google sheets, theses columns are prediction other stuff than dogs so they are not reliable to our project as by random inspection all tweets contained dogs picture and we are only interesting in dogs breeds in this dataframe so they are quality data for me and i will drop these columns"
      ]
    },
    {
      "cell_type": "code",
      "metadata": {
        "id": "Qo0TiBJvyplz",
        "colab_type": "code",
        "colab": {}
      },
      "source": [
        "image_prediction_clean=image_prediction_clean.drop(['p2','p2_conf','p2_dog','p3','p3_conf','p3_dog'],axis=1)"
      ],
      "execution_count": 0,
      "outputs": []
    },
    {
      "cell_type": "markdown",
      "metadata": {
        "id": "mQH2i3fX1SBf",
        "colab_type": "text"
      },
      "source": [
        "Test"
      ]
    },
    {
      "cell_type": "code",
      "metadata": {
        "id": "XpCzlDJ_1QMn",
        "colab_type": "code",
        "colab": {
          "base_uri": "https://localhost:8080/",
          "height": 34
        },
        "outputId": "faf10690-b309-44a4-e1ec-5a5935725730"
      },
      "source": [
        "image_prediction_clean.columns"
      ],
      "execution_count": 135,
      "outputs": [
        {
          "output_type": "execute_result",
          "data": {
            "text/plain": [
              "Index(['tweet_id', 'jpg_url', 'img_num', 'dog_breed', 'p1_conf', 'p1_dog'], dtype='object')"
            ]
          },
          "metadata": {
            "tags": []
          },
          "execution_count": 135
        }
      ]
    },
    {
      "cell_type": "markdown",
      "metadata": {
        "id": "ITPKiMF62bCh",
        "colab_type": "text"
      },
      "source": [
        "### 11- Change ['p1_conf','p1_dog'] to ['prediction_confidence','dog'] respectively"
      ]
    },
    {
      "cell_type": "code",
      "metadata": {
        "id": "48WIvB_g1ban",
        "colab_type": "code",
        "colab": {}
      },
      "source": [
        "image_prediction_clean=image_prediction_clean.rename(columns={'p1_conf':'prediction_confidence','p1_dog':'dog'})"
      ],
      "execution_count": 0,
      "outputs": []
    },
    {
      "cell_type": "markdown",
      "metadata": {
        "id": "0CrT6pZ13cLg",
        "colab_type": "text"
      },
      "source": [
        "Test"
      ]
    },
    {
      "cell_type": "code",
      "metadata": {
        "id": "OyB7IELV3bCx",
        "colab_type": "code",
        "colab": {
          "base_uri": "https://localhost:8080/",
          "height": 68
        },
        "outputId": "5497efc7-e865-44d6-89c7-84639c4e4774"
      },
      "source": [
        "image_prediction_clean.columns"
      ],
      "execution_count": 137,
      "outputs": [
        {
          "output_type": "execute_result",
          "data": {
            "text/plain": [
              "Index(['tweet_id', 'jpg_url', 'img_num', 'dog_breed', 'prediction_confidence',\n",
              "       'dog'],\n",
              "      dtype='object')"
            ]
          },
          "metadata": {
            "tags": []
          },
          "execution_count": 137
        }
      ]
    },
    {
      "cell_type": "markdown",
      "metadata": {
        "id": "eUNYjk913qN8",
        "colab_type": "text"
      },
      "source": [
        "### 12- change the values in breed column that do not belong to dogs to np.nan\n",
        "image_prediction assumed that some images don't belong to dogs and interpreted other stuff than dogs and which is not true"
      ]
    },
    {
      "cell_type": "code",
      "metadata": {
        "id": "WShGMMok3hXd",
        "colab_type": "code",
        "colab": {
          "base_uri": "https://localhost:8080/",
          "height": 419
        },
        "outputId": "35ded580-f73b-4d54-81d3-1e4ddbb57d45"
      },
      "source": [
        "image_prediction_clean.query('dog==False')"
      ],
      "execution_count": 138,
      "outputs": [
        {
          "output_type": "execute_result",
          "data": {
            "text/html": [
              "<div>\n",
              "<style scoped>\n",
              "    .dataframe tbody tr th:only-of-type {\n",
              "        vertical-align: middle;\n",
              "    }\n",
              "\n",
              "    .dataframe tbody tr th {\n",
              "        vertical-align: top;\n",
              "    }\n",
              "\n",
              "    .dataframe thead th {\n",
              "        text-align: right;\n",
              "    }\n",
              "</style>\n",
              "<table border=\"1\" class=\"dataframe\">\n",
              "  <thead>\n",
              "    <tr style=\"text-align: right;\">\n",
              "      <th></th>\n",
              "      <th>tweet_id</th>\n",
              "      <th>jpg_url</th>\n",
              "      <th>img_num</th>\n",
              "      <th>dog_breed</th>\n",
              "      <th>prediction_confidence</th>\n",
              "      <th>dog</th>\n",
              "    </tr>\n",
              "  </thead>\n",
              "  <tbody>\n",
              "    <tr>\n",
              "      <th>6</th>\n",
              "      <td>666051853826850816</td>\n",
              "      <td>https://pbs.twimg.com/media/CT5KoJ1WoAAJash.jpg</td>\n",
              "      <td>1</td>\n",
              "      <td>box_turtle</td>\n",
              "      <td>0.933012</td>\n",
              "      <td>False</td>\n",
              "    </tr>\n",
              "    <tr>\n",
              "      <th>8</th>\n",
              "      <td>666057090499244032</td>\n",
              "      <td>https://pbs.twimg.com/media/CT5PY90WoAAQGLo.jpg</td>\n",
              "      <td>1</td>\n",
              "      <td>shopping_cart</td>\n",
              "      <td>0.962465</td>\n",
              "      <td>False</td>\n",
              "    </tr>\n",
              "    <tr>\n",
              "      <th>17</th>\n",
              "      <td>666104133288665088</td>\n",
              "      <td>https://pbs.twimg.com/media/CT56LSZWoAAlJj2.jpg</td>\n",
              "      <td>1</td>\n",
              "      <td>hen</td>\n",
              "      <td>0.965932</td>\n",
              "      <td>False</td>\n",
              "    </tr>\n",
              "    <tr>\n",
              "      <th>18</th>\n",
              "      <td>666268910803644416</td>\n",
              "      <td>https://pbs.twimg.com/media/CT8QCd1WEAADXws.jpg</td>\n",
              "      <td>1</td>\n",
              "      <td>desktop_computer</td>\n",
              "      <td>0.086502</td>\n",
              "      <td>False</td>\n",
              "    </tr>\n",
              "    <tr>\n",
              "      <th>21</th>\n",
              "      <td>666293911632134144</td>\n",
              "      <td>https://pbs.twimg.com/media/CT8mx7KW4AEQu8N.jpg</td>\n",
              "      <td>1</td>\n",
              "      <td>three-toed_sloth</td>\n",
              "      <td>0.914671</td>\n",
              "      <td>False</td>\n",
              "    </tr>\n",
              "    <tr>\n",
              "      <th>...</th>\n",
              "      <td>...</td>\n",
              "      <td>...</td>\n",
              "      <td>...</td>\n",
              "      <td>...</td>\n",
              "      <td>...</td>\n",
              "      <td>...</td>\n",
              "    </tr>\n",
              "    <tr>\n",
              "      <th>2026</th>\n",
              "      <td>882045870035918850</td>\n",
              "      <td>https://pbs.twimg.com/media/DD2oCl2WAAEI_4a.jpg</td>\n",
              "      <td>1</td>\n",
              "      <td>web_site</td>\n",
              "      <td>0.949591</td>\n",
              "      <td>False</td>\n",
              "    </tr>\n",
              "    <tr>\n",
              "      <th>2046</th>\n",
              "      <td>886680336477933568</td>\n",
              "      <td>https://pbs.twimg.com/media/DE4fEDzWAAAyHMM.jpg</td>\n",
              "      <td>1</td>\n",
              "      <td>convertible</td>\n",
              "      <td>0.738995</td>\n",
              "      <td>False</td>\n",
              "    </tr>\n",
              "    <tr>\n",
              "      <th>2052</th>\n",
              "      <td>887517139158093824</td>\n",
              "      <td>https://pbs.twimg.com/ext_tw_video_thumb/88751...</td>\n",
              "      <td>1</td>\n",
              "      <td>limousine</td>\n",
              "      <td>0.130432</td>\n",
              "      <td>False</td>\n",
              "    </tr>\n",
              "    <tr>\n",
              "      <th>2071</th>\n",
              "      <td>891689557279858688</td>\n",
              "      <td>https://pbs.twimg.com/media/DF_q7IAWsAEuuN8.jpg</td>\n",
              "      <td>1</td>\n",
              "      <td>paper_towel</td>\n",
              "      <td>0.170278</td>\n",
              "      <td>False</td>\n",
              "    </tr>\n",
              "    <tr>\n",
              "      <th>2074</th>\n",
              "      <td>892420643555336193</td>\n",
              "      <td>https://pbs.twimg.com/media/DGKD1-bXoAAIAUK.jpg</td>\n",
              "      <td>1</td>\n",
              "      <td>orange</td>\n",
              "      <td>0.097049</td>\n",
              "      <td>False</td>\n",
              "    </tr>\n",
              "  </tbody>\n",
              "</table>\n",
              "<p>543 rows × 6 columns</p>\n",
              "</div>"
            ],
            "text/plain": [
              "                tweet_id  ...    dog\n",
              "6     666051853826850816  ...  False\n",
              "8     666057090499244032  ...  False\n",
              "17    666104133288665088  ...  False\n",
              "18    666268910803644416  ...  False\n",
              "21    666293911632134144  ...  False\n",
              "...                  ...  ...    ...\n",
              "2026  882045870035918850  ...  False\n",
              "2046  886680336477933568  ...  False\n",
              "2052  887517139158093824  ...  False\n",
              "2071  891689557279858688  ...  False\n",
              "2074  892420643555336193  ...  False\n",
              "\n",
              "[543 rows x 6 columns]"
            ]
          },
          "metadata": {
            "tags": []
          },
          "execution_count": 138
        }
      ]
    },
    {
      "cell_type": "markdown",
      "metadata": {
        "id": "Z1h8WrUF4iUr",
        "colab_type": "text"
      },
      "source": [
        "by random inspection of these urls, I found that they contained dogs picture and the model failed to predict them so I need to change these breed values to np.nan"
      ]
    },
    {
      "cell_type": "code",
      "metadata": {
        "id": "0FpIsmCZ4fya",
        "colab_type": "code",
        "colab": {}
      },
      "source": [
        "not_breed=list(image_prediction_clean.query('dog==False')['dog_breed'])"
      ],
      "execution_count": 0,
      "outputs": []
    },
    {
      "cell_type": "code",
      "metadata": {
        "id": "hSbaRYGd5GLF",
        "colab_type": "code",
        "colab": {}
      },
      "source": [
        "image_prediction_clean['dog_breed']=image_prediction_clean['dog_breed'].replace(not_breed,np.nan)"
      ],
      "execution_count": 0,
      "outputs": []
    },
    {
      "cell_type": "markdown",
      "metadata": {
        "id": "KjkvHtFf8TOE",
        "colab_type": "text"
      },
      "source": [
        "Test"
      ]
    },
    {
      "cell_type": "code",
      "metadata": {
        "id": "W_e22Fno5p0z",
        "colab_type": "code",
        "colab": {
          "base_uri": "https://localhost:8080/",
          "height": 419
        },
        "outputId": "378c87b5-7b67-4801-adbb-6e0ddf983f97"
      },
      "source": [
        "image_prediction_clean.query('dog==False')"
      ],
      "execution_count": 141,
      "outputs": [
        {
          "output_type": "execute_result",
          "data": {
            "text/html": [
              "<div>\n",
              "<style scoped>\n",
              "    .dataframe tbody tr th:only-of-type {\n",
              "        vertical-align: middle;\n",
              "    }\n",
              "\n",
              "    .dataframe tbody tr th {\n",
              "        vertical-align: top;\n",
              "    }\n",
              "\n",
              "    .dataframe thead th {\n",
              "        text-align: right;\n",
              "    }\n",
              "</style>\n",
              "<table border=\"1\" class=\"dataframe\">\n",
              "  <thead>\n",
              "    <tr style=\"text-align: right;\">\n",
              "      <th></th>\n",
              "      <th>tweet_id</th>\n",
              "      <th>jpg_url</th>\n",
              "      <th>img_num</th>\n",
              "      <th>dog_breed</th>\n",
              "      <th>prediction_confidence</th>\n",
              "      <th>dog</th>\n",
              "    </tr>\n",
              "  </thead>\n",
              "  <tbody>\n",
              "    <tr>\n",
              "      <th>6</th>\n",
              "      <td>666051853826850816</td>\n",
              "      <td>https://pbs.twimg.com/media/CT5KoJ1WoAAJash.jpg</td>\n",
              "      <td>1</td>\n",
              "      <td>NaN</td>\n",
              "      <td>0.933012</td>\n",
              "      <td>False</td>\n",
              "    </tr>\n",
              "    <tr>\n",
              "      <th>8</th>\n",
              "      <td>666057090499244032</td>\n",
              "      <td>https://pbs.twimg.com/media/CT5PY90WoAAQGLo.jpg</td>\n",
              "      <td>1</td>\n",
              "      <td>NaN</td>\n",
              "      <td>0.962465</td>\n",
              "      <td>False</td>\n",
              "    </tr>\n",
              "    <tr>\n",
              "      <th>17</th>\n",
              "      <td>666104133288665088</td>\n",
              "      <td>https://pbs.twimg.com/media/CT56LSZWoAAlJj2.jpg</td>\n",
              "      <td>1</td>\n",
              "      <td>NaN</td>\n",
              "      <td>0.965932</td>\n",
              "      <td>False</td>\n",
              "    </tr>\n",
              "    <tr>\n",
              "      <th>18</th>\n",
              "      <td>666268910803644416</td>\n",
              "      <td>https://pbs.twimg.com/media/CT8QCd1WEAADXws.jpg</td>\n",
              "      <td>1</td>\n",
              "      <td>NaN</td>\n",
              "      <td>0.086502</td>\n",
              "      <td>False</td>\n",
              "    </tr>\n",
              "    <tr>\n",
              "      <th>21</th>\n",
              "      <td>666293911632134144</td>\n",
              "      <td>https://pbs.twimg.com/media/CT8mx7KW4AEQu8N.jpg</td>\n",
              "      <td>1</td>\n",
              "      <td>NaN</td>\n",
              "      <td>0.914671</td>\n",
              "      <td>False</td>\n",
              "    </tr>\n",
              "    <tr>\n",
              "      <th>...</th>\n",
              "      <td>...</td>\n",
              "      <td>...</td>\n",
              "      <td>...</td>\n",
              "      <td>...</td>\n",
              "      <td>...</td>\n",
              "      <td>...</td>\n",
              "    </tr>\n",
              "    <tr>\n",
              "      <th>2026</th>\n",
              "      <td>882045870035918850</td>\n",
              "      <td>https://pbs.twimg.com/media/DD2oCl2WAAEI_4a.jpg</td>\n",
              "      <td>1</td>\n",
              "      <td>NaN</td>\n",
              "      <td>0.949591</td>\n",
              "      <td>False</td>\n",
              "    </tr>\n",
              "    <tr>\n",
              "      <th>2046</th>\n",
              "      <td>886680336477933568</td>\n",
              "      <td>https://pbs.twimg.com/media/DE4fEDzWAAAyHMM.jpg</td>\n",
              "      <td>1</td>\n",
              "      <td>NaN</td>\n",
              "      <td>0.738995</td>\n",
              "      <td>False</td>\n",
              "    </tr>\n",
              "    <tr>\n",
              "      <th>2052</th>\n",
              "      <td>887517139158093824</td>\n",
              "      <td>https://pbs.twimg.com/ext_tw_video_thumb/88751...</td>\n",
              "      <td>1</td>\n",
              "      <td>NaN</td>\n",
              "      <td>0.130432</td>\n",
              "      <td>False</td>\n",
              "    </tr>\n",
              "    <tr>\n",
              "      <th>2071</th>\n",
              "      <td>891689557279858688</td>\n",
              "      <td>https://pbs.twimg.com/media/DF_q7IAWsAEuuN8.jpg</td>\n",
              "      <td>1</td>\n",
              "      <td>NaN</td>\n",
              "      <td>0.170278</td>\n",
              "      <td>False</td>\n",
              "    </tr>\n",
              "    <tr>\n",
              "      <th>2074</th>\n",
              "      <td>892420643555336193</td>\n",
              "      <td>https://pbs.twimg.com/media/DGKD1-bXoAAIAUK.jpg</td>\n",
              "      <td>1</td>\n",
              "      <td>NaN</td>\n",
              "      <td>0.097049</td>\n",
              "      <td>False</td>\n",
              "    </tr>\n",
              "  </tbody>\n",
              "</table>\n",
              "<p>543 rows × 6 columns</p>\n",
              "</div>"
            ],
            "text/plain": [
              "                tweet_id  ...    dog\n",
              "6     666051853826850816  ...  False\n",
              "8     666057090499244032  ...  False\n",
              "17    666104133288665088  ...  False\n",
              "18    666268910803644416  ...  False\n",
              "21    666293911632134144  ...  False\n",
              "...                  ...  ...    ...\n",
              "2026  882045870035918850  ...  False\n",
              "2046  886680336477933568  ...  False\n",
              "2052  887517139158093824  ...  False\n",
              "2071  891689557279858688  ...  False\n",
              "2074  892420643555336193  ...  False\n",
              "\n",
              "[543 rows x 6 columns]"
            ]
          },
          "metadata": {
            "tags": []
          },
          "execution_count": 141
        }
      ]
    },
    {
      "cell_type": "markdown",
      "metadata": {
        "id": "nxLYNZv-8n_1",
        "colab_type": "text"
      },
      "source": [
        "### 13- Drop dog column now that we don't need it anymore"
      ]
    },
    {
      "cell_type": "code",
      "metadata": {
        "id": "dZlnlc8W8bJJ",
        "colab_type": "code",
        "colab": {}
      },
      "source": [
        "image_prediction_clean=image_prediction_clean.drop(['dog'],axis=1)"
      ],
      "execution_count": 0,
      "outputs": []
    },
    {
      "cell_type": "markdown",
      "metadata": {
        "id": "o0EPV2la865C",
        "colab_type": "text"
      },
      "source": [
        "Test"
      ]
    },
    {
      "cell_type": "code",
      "metadata": {
        "id": "rQrS3twj85V3",
        "colab_type": "code",
        "colab": {
          "base_uri": "https://localhost:8080/",
          "height": 34
        },
        "outputId": "f324dcf6-c794-4f33-b02b-114f4461de8c"
      },
      "source": [
        "image_prediction_clean.columns"
      ],
      "execution_count": 143,
      "outputs": [
        {
          "output_type": "execute_result",
          "data": {
            "text/plain": [
              "Index(['tweet_id', 'jpg_url', 'img_num', 'dog_breed', 'prediction_confidence'], dtype='object')"
            ]
          },
          "metadata": {
            "tags": []
          },
          "execution_count": 143
        }
      ]
    },
    {
      "cell_type": "markdown",
      "metadata": {
        "id": "6uEtRk6a9Gsf",
        "colab_type": "text"
      },
      "source": [
        "### 14- Change 'name' column name to 'dog_name' to avoid confusion"
      ]
    },
    {
      "cell_type": "code",
      "metadata": {
        "id": "USvt38mtE6Rk",
        "colab_type": "code",
        "colab": {}
      },
      "source": [
        "twitter_archive_clean=twitter_archive_clean.rename(columns={'name':'dog_name'})"
      ],
      "execution_count": 0,
      "outputs": []
    },
    {
      "cell_type": "markdown",
      "metadata": {
        "id": "AzF5WJLgFOLo",
        "colab_type": "text"
      },
      "source": [
        "Test"
      ]
    },
    {
      "cell_type": "code",
      "metadata": {
        "id": "z4pEBQX_FSvD",
        "colab_type": "code",
        "colab": {
          "base_uri": "https://localhost:8080/",
          "height": 85
        },
        "outputId": "146e0fc8-cf9d-4c86-8e68-75cb064ed6da"
      },
      "source": [
        "twitter_archive_clean.columns"
      ],
      "execution_count": 145,
      "outputs": [
        {
          "output_type": "execute_result",
          "data": {
            "text/plain": [
              "Index(['tweet_id', 'timestamp', 'source', 'text', 'expanded_urls',\n",
              "       'rating_numerator', 'rating_denominator', 'dog_name', 'doggo',\n",
              "       'floofer', 'pupper', 'puppo'],\n",
              "      dtype='object')"
            ]
          },
          "metadata": {
            "tags": []
          },
          "execution_count": 145
        }
      ]
    },
    {
      "cell_type": "markdown",
      "metadata": {
        "id": "COXaux2ODEF4",
        "colab_type": "text"
      },
      "source": [
        "### 15- change timestamp type from object to datetime in ret_fav_count dataframe"
      ]
    },
    {
      "cell_type": "code",
      "metadata": {
        "id": "HKko2YwK9AP4",
        "colab_type": "code",
        "colab": {}
      },
      "source": [
        "ret_fav_count['timestamp']=pd.to_datetime(ret_fav_count['timestamp'])"
      ],
      "execution_count": 0,
      "outputs": []
    },
    {
      "cell_type": "markdown",
      "metadata": {
        "id": "-y5pK6mmECq8",
        "colab_type": "text"
      },
      "source": [
        "Test"
      ]
    },
    {
      "cell_type": "code",
      "metadata": {
        "id": "Dgov2siWEBJ0",
        "colab_type": "code",
        "colab": {
          "base_uri": "https://localhost:8080/",
          "height": 34
        },
        "outputId": "80663e74-d981-4f78-989b-2a8b186da7f1"
      },
      "source": [
        "ret_fav_count.timestamp.dtypes"
      ],
      "execution_count": 147,
      "outputs": [
        {
          "output_type": "execute_result",
          "data": {
            "text/plain": [
              "datetime64[ns, UTC]"
            ]
          },
          "metadata": {
            "tags": []
          },
          "execution_count": 147
        }
      ]
    },
    {
      "cell_type": "markdown",
      "metadata": {
        "id": "PV5bTkrOYqIk",
        "colab_type": "text"
      },
      "source": [
        "### 16- Adding a new rating_value column in twitter_archive dataframe\n",
        "I did this step because i found that many users did not folow the standard denominator of 10 and they used their own ratio score so either loose all these data or create a new ratio value column and depend on it instead of depending on the rating_numerator because for example 210/190 can be reasonably compared to 14/10 but to compare 210 to 14 is not fair and misleading"
      ]
    },
    {
      "cell_type": "code",
      "metadata": {
        "id": "2CNc19wvTVMQ",
        "colab_type": "code",
        "colab": {
          "base_uri": "https://localhost:8080/",
          "height": 714
        },
        "outputId": "dd306bcc-b8c7-4334-f92e-763c75d022c3"
      },
      "source": [
        "twitter_archive_clean.rating_numerator.value_counts()"
      ],
      "execution_count": 148,
      "outputs": [
        {
          "output_type": "execute_result",
          "data": {
            "text/plain": [
              "12      558\n",
              "11      464\n",
              "10      461\n",
              "13      351\n",
              "9       158\n",
              "8       102\n",
              "7        55\n",
              "14       54\n",
              "5        37\n",
              "6        32\n",
              "3        19\n",
              "4        17\n",
              "1         9\n",
              "2         9\n",
              "420       2\n",
              "0         2\n",
              "15        2\n",
              "75        2\n",
              "80        1\n",
              "20        1\n",
              "24        1\n",
              "26        1\n",
              "44        1\n",
              "50        1\n",
              "60        1\n",
              "165       1\n",
              "84        1\n",
              "88        1\n",
              "144       1\n",
              "182       1\n",
              "143       1\n",
              "666       1\n",
              "960       1\n",
              "1776      1\n",
              "17        1\n",
              "27        1\n",
              "45        1\n",
              "99        1\n",
              "121       1\n",
              "204       1\n",
              "Name: rating_numerator, dtype: int64"
            ]
          },
          "metadata": {
            "tags": []
          },
          "execution_count": 148
        }
      ]
    },
    {
      "cell_type": "code",
      "metadata": {
        "id": "b5fALPaYW316",
        "colab_type": "code",
        "colab": {
          "base_uri": "https://localhost:8080/",
          "height": 824
        },
        "outputId": "d81e5a08-048b-4cec-d003-849ab8816d6e"
      },
      "source": [
        "#You can see that the extreme values are not due to typos or wrong data extraction \n",
        "df2= twitter_archive_clean.query('rating_numerator >= 20')\n",
        "df2[['tweet_id','text','rating_numerator','rating_denominator']]"
      ],
      "execution_count": 154,
      "outputs": [
        {
          "output_type": "execute_result",
          "data": {
            "text/html": [
              "<div>\n",
              "<style scoped>\n",
              "    .dataframe tbody tr th:only-of-type {\n",
              "        vertical-align: middle;\n",
              "    }\n",
              "\n",
              "    .dataframe tbody tr th {\n",
              "        vertical-align: top;\n",
              "    }\n",
              "\n",
              "    .dataframe thead th {\n",
              "        text-align: right;\n",
              "    }\n",
              "</style>\n",
              "<table border=\"1\" class=\"dataframe\">\n",
              "  <thead>\n",
              "    <tr style=\"text-align: right;\">\n",
              "      <th></th>\n",
              "      <th>tweet_id</th>\n",
              "      <th>text</th>\n",
              "      <th>rating_numerator</th>\n",
              "      <th>rating_denominator</th>\n",
              "    </tr>\n",
              "  </thead>\n",
              "  <tbody>\n",
              "    <tr>\n",
              "      <th>188</th>\n",
              "      <td>855862651834028034</td>\n",
              "      <td>@dhmontgomery We also gave snoop dogg a 420/10...</td>\n",
              "      <td>420</td>\n",
              "      <td>10</td>\n",
              "    </tr>\n",
              "    <tr>\n",
              "      <th>189</th>\n",
              "      <td>855860136149123072</td>\n",
              "      <td>@s8n You tried very hard to portray this good ...</td>\n",
              "      <td>666</td>\n",
              "      <td>10</td>\n",
              "    </tr>\n",
              "    <tr>\n",
              "      <th>290</th>\n",
              "      <td>838150277551247360</td>\n",
              "      <td>@markhoppus 182/10</td>\n",
              "      <td>182</td>\n",
              "      <td>10</td>\n",
              "    </tr>\n",
              "    <tr>\n",
              "      <th>313</th>\n",
              "      <td>835246439529840640</td>\n",
              "      <td>@jonnysun @Lin_Manuel ok jomny I know you're e...</td>\n",
              "      <td>960</td>\n",
              "      <td>0</td>\n",
              "    </tr>\n",
              "    <tr>\n",
              "      <th>340</th>\n",
              "      <td>832215909146226688</td>\n",
              "      <td>RT @dog_rates: This is Logan, the Chow who liv...</td>\n",
              "      <td>75</td>\n",
              "      <td>10</td>\n",
              "    </tr>\n",
              "    <tr>\n",
              "      <th>433</th>\n",
              "      <td>820690176645140481</td>\n",
              "      <td>The floofs have been released I repeat the flo...</td>\n",
              "      <td>84</td>\n",
              "      <td>70</td>\n",
              "    </tr>\n",
              "    <tr>\n",
              "      <th>516</th>\n",
              "      <td>810984652412424192</td>\n",
              "      <td>Meet Sam. She smiles 24/7 &amp;amp; secretly aspir...</td>\n",
              "      <td>24</td>\n",
              "      <td>7</td>\n",
              "    </tr>\n",
              "    <tr>\n",
              "      <th>695</th>\n",
              "      <td>786709082849828864</td>\n",
              "      <td>This is Logan, the Chow who lived. He solemnly...</td>\n",
              "      <td>75</td>\n",
              "      <td>10</td>\n",
              "    </tr>\n",
              "    <tr>\n",
              "      <th>763</th>\n",
              "      <td>778027034220126208</td>\n",
              "      <td>This is Sophie. She's a Jubilant Bush Pupper. ...</td>\n",
              "      <td>27</td>\n",
              "      <td>10</td>\n",
              "    </tr>\n",
              "    <tr>\n",
              "      <th>902</th>\n",
              "      <td>758467244762497024</td>\n",
              "      <td>Why does this never happen at my front door......</td>\n",
              "      <td>165</td>\n",
              "      <td>150</td>\n",
              "    </tr>\n",
              "    <tr>\n",
              "      <th>979</th>\n",
              "      <td>749981277374128128</td>\n",
              "      <td>This is Atticus. He's quite simply America af....</td>\n",
              "      <td>1776</td>\n",
              "      <td>10</td>\n",
              "    </tr>\n",
              "    <tr>\n",
              "      <th>1120</th>\n",
              "      <td>731156023742988288</td>\n",
              "      <td>Say hello to this unbelievably well behaved sq...</td>\n",
              "      <td>204</td>\n",
              "      <td>170</td>\n",
              "    </tr>\n",
              "    <tr>\n",
              "      <th>1202</th>\n",
              "      <td>716439118184652801</td>\n",
              "      <td>This is Bluebert. He just saw that both #Final...</td>\n",
              "      <td>50</td>\n",
              "      <td>50</td>\n",
              "    </tr>\n",
              "    <tr>\n",
              "      <th>1228</th>\n",
              "      <td>713900603437621249</td>\n",
              "      <td>Happy Saturday here's 9 puppers on a bench. 99...</td>\n",
              "      <td>99</td>\n",
              "      <td>90</td>\n",
              "    </tr>\n",
              "    <tr>\n",
              "      <th>1254</th>\n",
              "      <td>710658690886586372</td>\n",
              "      <td>Here's a brigade of puppers. All look very pre...</td>\n",
              "      <td>80</td>\n",
              "      <td>80</td>\n",
              "    </tr>\n",
              "    <tr>\n",
              "      <th>1274</th>\n",
              "      <td>709198395643068416</td>\n",
              "      <td>From left to right:\\nCletus, Jerome, Alejandro...</td>\n",
              "      <td>45</td>\n",
              "      <td>50</td>\n",
              "    </tr>\n",
              "    <tr>\n",
              "      <th>1351</th>\n",
              "      <td>704054845121142784</td>\n",
              "      <td>Here is a whole flock of puppers.  60/50 I'll ...</td>\n",
              "      <td>60</td>\n",
              "      <td>50</td>\n",
              "    </tr>\n",
              "    <tr>\n",
              "      <th>1433</th>\n",
              "      <td>697463031882764288</td>\n",
              "      <td>Happy Wednesday here's a bucket of pups. 44/40...</td>\n",
              "      <td>44</td>\n",
              "      <td>40</td>\n",
              "    </tr>\n",
              "    <tr>\n",
              "      <th>1634</th>\n",
              "      <td>684225744407494656</td>\n",
              "      <td>Two sneaky puppers were not initially seen, mo...</td>\n",
              "      <td>143</td>\n",
              "      <td>130</td>\n",
              "    </tr>\n",
              "    <tr>\n",
              "      <th>1635</th>\n",
              "      <td>684222868335505415</td>\n",
              "      <td>Someone help the girl is being mugged. Several...</td>\n",
              "      <td>121</td>\n",
              "      <td>110</td>\n",
              "    </tr>\n",
              "    <tr>\n",
              "      <th>1663</th>\n",
              "      <td>682808988178739200</td>\n",
              "      <td>I'm aware that I could've said 20/16, but here...</td>\n",
              "      <td>20</td>\n",
              "      <td>16</td>\n",
              "    </tr>\n",
              "    <tr>\n",
              "      <th>1712</th>\n",
              "      <td>680494726643068929</td>\n",
              "      <td>Here we have uncovered an entire battalion of ...</td>\n",
              "      <td>26</td>\n",
              "      <td>10</td>\n",
              "    </tr>\n",
              "    <tr>\n",
              "      <th>1779</th>\n",
              "      <td>677716515794329600</td>\n",
              "      <td>IT'S PUPPERGEDDON. Total of 144/120 ...I think...</td>\n",
              "      <td>144</td>\n",
              "      <td>120</td>\n",
              "    </tr>\n",
              "    <tr>\n",
              "      <th>1843</th>\n",
              "      <td>675853064436391936</td>\n",
              "      <td>Here we have an entire platoon of puppers. Tot...</td>\n",
              "      <td>88</td>\n",
              "      <td>80</td>\n",
              "    </tr>\n",
              "    <tr>\n",
              "      <th>2074</th>\n",
              "      <td>670842764863651840</td>\n",
              "      <td>After so many requests... here you go.\\n\\nGood...</td>\n",
              "      <td>420</td>\n",
              "      <td>10</td>\n",
              "    </tr>\n",
              "  </tbody>\n",
              "</table>\n",
              "</div>"
            ],
            "text/plain": [
              "                tweet_id  ... rating_denominator\n",
              "188   855862651834028034  ...                 10\n",
              "189   855860136149123072  ...                 10\n",
              "290   838150277551247360  ...                 10\n",
              "313   835246439529840640  ...                  0\n",
              "340   832215909146226688  ...                 10\n",
              "433   820690176645140481  ...                 70\n",
              "516   810984652412424192  ...                  7\n",
              "695   786709082849828864  ...                 10\n",
              "763   778027034220126208  ...                 10\n",
              "902   758467244762497024  ...                150\n",
              "979   749981277374128128  ...                 10\n",
              "1120  731156023742988288  ...                170\n",
              "1202  716439118184652801  ...                 50\n",
              "1228  713900603437621249  ...                 90\n",
              "1254  710658690886586372  ...                 80\n",
              "1274  709198395643068416  ...                 50\n",
              "1351  704054845121142784  ...                 50\n",
              "1433  697463031882764288  ...                 40\n",
              "1634  684225744407494656  ...                130\n",
              "1635  684222868335505415  ...                110\n",
              "1663  682808988178739200  ...                 16\n",
              "1712  680494726643068929  ...                 10\n",
              "1779  677716515794329600  ...                120\n",
              "1843  675853064436391936  ...                 80\n",
              "2074  670842764863651840  ...                 10\n",
              "\n",
              "[25 rows x 4 columns]"
            ]
          },
          "metadata": {
            "tags": []
          },
          "execution_count": 154
        }
      ]
    },
    {
      "cell_type": "code",
      "metadata": {
        "id": "zQX0xzFIYEH9",
        "colab_type": "code",
        "colab": {
          "base_uri": "https://localhost:8080/",
          "height": 119
        },
        "outputId": "f4b3c2b4-68e2-45ea-c8bd-a1adb5d0376e"
      },
      "source": [
        "twitter_archive_clean['rating_value']=twitter_archive_clean['rating_numerator']/twitter_archive_clean['rating_denominator']\n",
        "twitter_archive_clean['rating_value'].sample(5)"
      ],
      "execution_count": 155,
      "outputs": [
        {
          "output_type": "execute_result",
          "data": {
            "text/plain": [
              "1440    1.2\n",
              "1982    1.1\n",
              "1455    1.0\n",
              "1075    1.2\n",
              "1710    0.8\n",
              "Name: rating_value, dtype: float64"
            ]
          },
          "metadata": {
            "tags": []
          },
          "execution_count": 155
        }
      ]
    },
    {
      "cell_type": "markdown",
      "metadata": {
        "id": "ka3gnThhLDcz",
        "colab_type": "text"
      },
      "source": [
        "## Clean step2\n",
        "### Tidiness\n",
        "### Stack dog stages in one column"
      ]
    },
    {
      "cell_type": "code",
      "metadata": {
        "id": "uRH4stVrL8Kh",
        "colab_type": "code",
        "colab": {
          "base_uri": "https://localhost:8080/",
          "height": 85
        },
        "outputId": "f10b8f85-14ef-47d1-e29c-3acc0de2fb36"
      },
      "source": [
        "twitter_archive_clean.columns"
      ],
      "execution_count": 156,
      "outputs": [
        {
          "output_type": "execute_result",
          "data": {
            "text/plain": [
              "Index(['tweet_id', 'timestamp', 'source', 'text', 'expanded_urls',\n",
              "       'rating_numerator', 'rating_denominator', 'dog_name', 'doggo',\n",
              "       'floofer', 'pupper', 'puppo', 'rating_value'],\n",
              "      dtype='object')"
            ]
          },
          "metadata": {
            "tags": []
          },
          "execution_count": 156
        }
      ]
    },
    {
      "cell_type": "code",
      "metadata": {
        "id": "yGBUKxHhEMAp",
        "colab_type": "code",
        "colab": {}
      },
      "source": [
        "#this code did not work for me and created a 4 times bigger dataframe that i could not handle so i had to think of another solution\n",
        "#twitter_archive_clean=pd.melt(twitter_archive_clean,id_vars=['tweet_id', 'timestamp', 'source', 'text', 'expanded_urls','rating_numerator', 'rating_denominator', 'dog_name'],value_vars=['doggo',\n",
        "#'floofer', 'pupper', 'puppo'],var_name='dog_stage')"
      ],
      "execution_count": 0,
      "outputs": []
    },
    {
      "cell_type": "markdown",
      "metadata": {
        "id": "-HjJxRKdRVlx",
        "colab_type": "text"
      },
      "source": [
        "### This cleaning step combines both a quality cleaning issue and a tidiness issue"
      ]
    },
    {
      "cell_type": "markdown",
      "metadata": {
        "id": "V8vuDwYjSbTy",
        "colab_type": "text"
      },
      "source": [
        "the documentation in this website helped me\n",
        "https://pandas.pydata.org/pandas-docs/stable/reference/api/pandas.Series.str.cat.html"
      ]
    },
    {
      "cell_type": "code",
      "metadata": {
        "id": "Be4KAnNmONtH",
        "colab_type": "code",
        "colab": {}
      },
      "source": [
        "dog_stage = ['doggo','pupper', 'floofer', 'puppo' ]\n",
        "for i in dog_stage:\n",
        "        twitter_archive_clean[i] = twitter_archive_clean[i].replace('None', '')\n",
        "#concat the four strings together\n",
        "twitter_archive_clean['stage'] = twitter_archive_clean.doggo.str.cat(twitter_archive_clean.floofer).str.cat(twitter_archive_clean.pupper).str.cat(twitter_archive_clean.puppo)\n",
        "\n",
        "twitter_archive_clean = twitter_archive_clean.drop(['doggo','floofer','pupper','puppo'], axis = 1)\n",
        "\n",
        "\n",
        "twitter_archive_clean['stage'] = twitter_archive_clean['stage'].replace('', np.nan)"
      ],
      "execution_count": 0,
      "outputs": []
    },
    {
      "cell_type": "markdown",
      "metadata": {
        "id": "xQgxGEmyaQZi",
        "colab_type": "text"
      },
      "source": [
        "Test"
      ]
    },
    {
      "cell_type": "code",
      "metadata": {
        "id": "P26HKZHgaO6P",
        "colab_type": "code",
        "colab": {
          "base_uri": "https://localhost:8080/",
          "height": 85
        },
        "outputId": "22a4abef-c252-4c7b-b193-31d654421b66"
      },
      "source": [
        "twitter_archive_clean.columns"
      ],
      "execution_count": 158,
      "outputs": [
        {
          "output_type": "execute_result",
          "data": {
            "text/plain": [
              "Index(['tweet_id', 'timestamp', 'source', 'text', 'expanded_urls',\n",
              "       'rating_numerator', 'rating_denominator', 'dog_name', 'rating_value',\n",
              "       'stage'],\n",
              "      dtype='object')"
            ]
          },
          "metadata": {
            "tags": []
          },
          "execution_count": 158
        }
      ]
    },
    {
      "cell_type": "code",
      "metadata": {
        "id": "aQz94xYZadAh",
        "colab_type": "code",
        "colab": {
          "base_uri": "https://localhost:8080/",
          "height": 530
        },
        "outputId": "3e7dc3eb-20f1-40f4-c013-060af06f269a"
      },
      "source": [
        "twitter_archive_clean.sample(5)"
      ],
      "execution_count": 159,
      "outputs": [
        {
          "output_type": "execute_result",
          "data": {
            "text/html": [
              "<div>\n",
              "<style scoped>\n",
              "    .dataframe tbody tr th:only-of-type {\n",
              "        vertical-align: middle;\n",
              "    }\n",
              "\n",
              "    .dataframe tbody tr th {\n",
              "        vertical-align: top;\n",
              "    }\n",
              "\n",
              "    .dataframe thead th {\n",
              "        text-align: right;\n",
              "    }\n",
              "</style>\n",
              "<table border=\"1\" class=\"dataframe\">\n",
              "  <thead>\n",
              "    <tr style=\"text-align: right;\">\n",
              "      <th></th>\n",
              "      <th>tweet_id</th>\n",
              "      <th>timestamp</th>\n",
              "      <th>source</th>\n",
              "      <th>text</th>\n",
              "      <th>expanded_urls</th>\n",
              "      <th>rating_numerator</th>\n",
              "      <th>rating_denominator</th>\n",
              "      <th>dog_name</th>\n",
              "      <th>rating_value</th>\n",
              "      <th>stage</th>\n",
              "    </tr>\n",
              "  </thead>\n",
              "  <tbody>\n",
              "    <tr>\n",
              "      <th>1127</th>\n",
              "      <td>729838605770891264</td>\n",
              "      <td>2016-05-10 01:00:58+00:00</td>\n",
              "      <td>&lt;a href=\"http://twitter.com/download/iphone\" r...</td>\n",
              "      <td>\"Challenge completed\" \\n(pupgraded to 12/10) h...</td>\n",
              "      <td>https://twitter.com/dog_rates/status/729838605...</td>\n",
              "      <td>12</td>\n",
              "      <td>10</td>\n",
              "      <td>NaN</td>\n",
              "      <td>1.2</td>\n",
              "      <td>NaN</td>\n",
              "    </tr>\n",
              "    <tr>\n",
              "      <th>162</th>\n",
              "      <td>860524505164394496</td>\n",
              "      <td>2017-05-05 16:00:04+00:00</td>\n",
              "      <td>&lt;a href=\"http://twitter.com/download/iphone\" r...</td>\n",
              "      <td>This is Carl. He likes to dance. Doesn't care ...</td>\n",
              "      <td>https://twitter.com/dog_rates/status/860524505...</td>\n",
              "      <td>13</td>\n",
              "      <td>10</td>\n",
              "      <td>Carl</td>\n",
              "      <td>1.3</td>\n",
              "      <td>NaN</td>\n",
              "    </tr>\n",
              "    <tr>\n",
              "      <th>773</th>\n",
              "      <td>776249906839351296</td>\n",
              "      <td>2016-09-15 02:42:54+00:00</td>\n",
              "      <td>&lt;a href=\"http://twitter.com/download/iphone\" r...</td>\n",
              "      <td>RT @dog_rates: We only rate dogs. Pls stop sen...</td>\n",
              "      <td>https://twitter.com/dog_rates/status/700747788...</td>\n",
              "      <td>11</td>\n",
              "      <td>10</td>\n",
              "      <td>very</td>\n",
              "      <td>1.1</td>\n",
              "      <td>NaN</td>\n",
              "    </tr>\n",
              "    <tr>\n",
              "      <th>988</th>\n",
              "      <td>748977405889503236</td>\n",
              "      <td>2016-07-01 20:31:43+00:00</td>\n",
              "      <td>&lt;a href=\"http://twitter.com/download/iphone\" r...</td>\n",
              "      <td>What jokester sent in a pic without a dog in i...</td>\n",
              "      <td>https://twitter.com/dog_rates/status/748977405...</td>\n",
              "      <td>10</td>\n",
              "      <td>10</td>\n",
              "      <td>not</td>\n",
              "      <td>1.0</td>\n",
              "      <td>NaN</td>\n",
              "    </tr>\n",
              "    <tr>\n",
              "      <th>252</th>\n",
              "      <td>844973813909606400</td>\n",
              "      <td>2017-03-23 18:07:10+00:00</td>\n",
              "      <td>&lt;a href=\"http://twitter.com/download/iphone\" r...</td>\n",
              "      <td>This is Brady. He's a recovering alcoholic. De...</td>\n",
              "      <td>https://twitter.com/dog_rates/status/844973813...</td>\n",
              "      <td>12</td>\n",
              "      <td>10</td>\n",
              "      <td>Brady</td>\n",
              "      <td>1.2</td>\n",
              "      <td>NaN</td>\n",
              "    </tr>\n",
              "  </tbody>\n",
              "</table>\n",
              "</div>"
            ],
            "text/plain": [
              "                tweet_id                 timestamp  ... rating_value stage\n",
              "1127  729838605770891264 2016-05-10 01:00:58+00:00  ...          1.2   NaN\n",
              "162   860524505164394496 2017-05-05 16:00:04+00:00  ...          1.3   NaN\n",
              "773   776249906839351296 2016-09-15 02:42:54+00:00  ...          1.1   NaN\n",
              "988   748977405889503236 2016-07-01 20:31:43+00:00  ...          1.0   NaN\n",
              "252   844973813909606400 2017-03-23 18:07:10+00:00  ...          1.2   NaN\n",
              "\n",
              "[5 rows x 10 columns]"
            ]
          },
          "metadata": {
            "tags": []
          },
          "execution_count": 159
        }
      ]
    },
    {
      "cell_type": "code",
      "metadata": {
        "id": "S4PBTgjVag7l",
        "colab_type": "code",
        "colab": {}
      },
      "source": [
        "twitter_archive_master=pd.merge(left=twitter_archive_clean,right=image_prediction_clean,on='tweet_id')"
      ],
      "execution_count": 0,
      "outputs": []
    },
    {
      "cell_type": "code",
      "metadata": {
        "id": "41Mq4RCHbUcF",
        "colab_type": "code",
        "colab": {}
      },
      "source": [
        "twitter_archive_master=pd.merge(left=twitter_archive_master,right=ret_fav_count_clean, on='tweet_id')"
      ],
      "execution_count": 0,
      "outputs": []
    },
    {
      "cell_type": "code",
      "metadata": {
        "id": "n35WC1yJcWmv",
        "colab_type": "code",
        "colab": {
          "base_uri": "https://localhost:8080/",
          "height": 1000
        },
        "outputId": "3b18535a-6ef4-4e20-f64d-efe2fbfd7dd8"
      },
      "source": [
        "twitter_archive_master.sample(10)"
      ],
      "execution_count": 170,
      "outputs": [
        {
          "output_type": "execute_result",
          "data": {
            "text/html": [
              "<div>\n",
              "<style scoped>\n",
              "    .dataframe tbody tr th:only-of-type {\n",
              "        vertical-align: middle;\n",
              "    }\n",
              "\n",
              "    .dataframe tbody tr th {\n",
              "        vertical-align: top;\n",
              "    }\n",
              "\n",
              "    .dataframe thead th {\n",
              "        text-align: right;\n",
              "    }\n",
              "</style>\n",
              "<table border=\"1\" class=\"dataframe\">\n",
              "  <thead>\n",
              "    <tr style=\"text-align: right;\">\n",
              "      <th></th>\n",
              "      <th>tweet_id</th>\n",
              "      <th>timestamp_x</th>\n",
              "      <th>source</th>\n",
              "      <th>text</th>\n",
              "      <th>expanded_urls</th>\n",
              "      <th>rating_numerator</th>\n",
              "      <th>rating_denominator</th>\n",
              "      <th>dog_name</th>\n",
              "      <th>rating_value</th>\n",
              "      <th>stage</th>\n",
              "      <th>jpg_url</th>\n",
              "      <th>img_num</th>\n",
              "      <th>dog_breed</th>\n",
              "      <th>prediction_confidence</th>\n",
              "      <th>favorites</th>\n",
              "      <th>retweets</th>\n",
              "      <th>timestamp_y</th>\n",
              "    </tr>\n",
              "  </thead>\n",
              "  <tbody>\n",
              "    <tr>\n",
              "      <th>632</th>\n",
              "      <td>773191612633579521</td>\n",
              "      <td>2016-09-06 16:10:20+00:00</td>\n",
              "      <td>&lt;a href=\"http://twitter.com/download/iphone\" r...</td>\n",
              "      <td>This is Grey. He's the dogtor in charge of you...</td>\n",
              "      <td>https://twitter.com/dog_rates/status/773191612...</td>\n",
              "      <td>12</td>\n",
              "      <td>10</td>\n",
              "      <td>Grey</td>\n",
              "      <td>1.2</td>\n",
              "      <td>NaN</td>\n",
              "      <td>https://pbs.twimg.com/media/CrrtqjdXEAINleR.jpg</td>\n",
              "      <td>1</td>\n",
              "      <td>blenheim_spaniel</td>\n",
              "      <td>0.427766</td>\n",
              "      <td>10221</td>\n",
              "      <td>4242</td>\n",
              "      <td>2016-09-06 16:10:20+00:00</td>\n",
              "    </tr>\n",
              "    <tr>\n",
              "      <th>550</th>\n",
              "      <td>786595970293370880</td>\n",
              "      <td>2016-10-13 15:54:28+00:00</td>\n",
              "      <td>&lt;a href=\"http://twitter.com/download/iphone\" r...</td>\n",
              "      <td>This is Dale. He's a real spookster. Did me qu...</td>\n",
              "      <td>https://twitter.com/dog_rates/status/786595970...</td>\n",
              "      <td>11</td>\n",
              "      <td>10</td>\n",
              "      <td>Dale</td>\n",
              "      <td>1.1</td>\n",
              "      <td>NaN</td>\n",
              "      <td>https://pbs.twimg.com/media/CuqM0fVWAAAboKR.jpg</td>\n",
              "      <td>1</td>\n",
              "      <td>pembroke</td>\n",
              "      <td>0.709512</td>\n",
              "      <td>9699</td>\n",
              "      <td>3212</td>\n",
              "      <td>2016-10-13 15:54:28+00:00</td>\n",
              "    </tr>\n",
              "    <tr>\n",
              "      <th>1299</th>\n",
              "      <td>688828561667567616</td>\n",
              "      <td>2016-01-17 21:01:41+00:00</td>\n",
              "      <td>&lt;a href=\"http://twitter.com/download/iphone\" r...</td>\n",
              "      <td>Say hello to Brad. His car probably has a spoi...</td>\n",
              "      <td>https://twitter.com/dog_rates/status/688828561...</td>\n",
              "      <td>9</td>\n",
              "      <td>10</td>\n",
              "      <td>Brad</td>\n",
              "      <td>0.9</td>\n",
              "      <td>NaN</td>\n",
              "      <td>https://pbs.twimg.com/media/CY816snW8AYltrQ.jpg</td>\n",
              "      <td>1</td>\n",
              "      <td>cardigan</td>\n",
              "      <td>0.614231</td>\n",
              "      <td>1393</td>\n",
              "      <td>372</td>\n",
              "      <td>2016-01-17 21:01:41+00:00</td>\n",
              "    </tr>\n",
              "    <tr>\n",
              "      <th>294</th>\n",
              "      <td>827600520311402496</td>\n",
              "      <td>2017-02-03 19:31:54+00:00</td>\n",
              "      <td>&lt;a href=\"http://twitter.com/download/iphone\" r...</td>\n",
              "      <td>Meet Tucker. It's his birthday. He's pupset wi...</td>\n",
              "      <td>https://twitter.com/dog_rates/status/827600520...</td>\n",
              "      <td>13</td>\n",
              "      <td>10</td>\n",
              "      <td>Tucker</td>\n",
              "      <td>1.3</td>\n",
              "      <td>NaN</td>\n",
              "      <td>https://pbs.twimg.com/media/C3w6RYbWQAAEQ25.jpg</td>\n",
              "      <td>1</td>\n",
              "      <td>pembroke</td>\n",
              "      <td>0.325638</td>\n",
              "      <td>7559</td>\n",
              "      <td>960</td>\n",
              "      <td>2017-02-03 19:31:54+00:00</td>\n",
              "    </tr>\n",
              "    <tr>\n",
              "      <th>1535</th>\n",
              "      <td>676588346097852417</td>\n",
              "      <td>2015-12-15 02:23:26+00:00</td>\n",
              "      <td>&lt;a href=\"http://twitter.com/download/iphone\" r...</td>\n",
              "      <td>This is Bubbles. He kinda resembles a fish. Al...</td>\n",
              "      <td>https://twitter.com/dog_rates/status/676588346...</td>\n",
              "      <td>5</td>\n",
              "      <td>10</td>\n",
              "      <td>Bubbles</td>\n",
              "      <td>0.5</td>\n",
              "      <td>NaN</td>\n",
              "      <td>https://pbs.twimg.com/media/CWO5gmCUYAAX4WA.jpg</td>\n",
              "      <td>1</td>\n",
              "      <td>boston_bull</td>\n",
              "      <td>0.976577</td>\n",
              "      <td>2300</td>\n",
              "      <td>776</td>\n",
              "      <td>2015-12-15 02:23:26+00:00</td>\n",
              "    </tr>\n",
              "    <tr>\n",
              "      <th>1808</th>\n",
              "      <td>670691627984359425</td>\n",
              "      <td>2015-11-28 19:51:59+00:00</td>\n",
              "      <td>&lt;a href=\"http://twitter.com/download/iphone\" r...</td>\n",
              "      <td>This is Ester. He has a cocaine problem. This ...</td>\n",
              "      <td>https://twitter.com/dog_rates/status/670691627...</td>\n",
              "      <td>8</td>\n",
              "      <td>10</td>\n",
              "      <td>Ester</td>\n",
              "      <td>0.8</td>\n",
              "      <td>NaN</td>\n",
              "      <td>https://pbs.twimg.com/media/CU7GehOUYAA9nn-.jpg</td>\n",
              "      <td>1</td>\n",
              "      <td>shetland_sheepdog</td>\n",
              "      <td>0.071124</td>\n",
              "      <td>579</td>\n",
              "      <td>234</td>\n",
              "      <td>2015-11-28 19:51:59+00:00</td>\n",
              "    </tr>\n",
              "    <tr>\n",
              "      <th>1711</th>\n",
              "      <td>672475084225949696</td>\n",
              "      <td>2015-12-03 17:58:48+00:00</td>\n",
              "      <td>&lt;a href=\"http://twitter.com/download/iphone\" r...</td>\n",
              "      <td>This is Buddy. He's photogenic af. Loves to se...</td>\n",
              "      <td>https://twitter.com/dog_rates/status/672475084...</td>\n",
              "      <td>8</td>\n",
              "      <td>10</td>\n",
              "      <td>Buddy</td>\n",
              "      <td>0.8</td>\n",
              "      <td>NaN</td>\n",
              "      <td>https://pbs.twimg.com/media/CVUchRHXAAE4rtp.jpg</td>\n",
              "      <td>1</td>\n",
              "      <td>NaN</td>\n",
              "      <td>0.879286</td>\n",
              "      <td>1406</td>\n",
              "      <td>680</td>\n",
              "      <td>2015-12-03 17:58:48+00:00</td>\n",
              "    </tr>\n",
              "    <tr>\n",
              "      <th>1406</th>\n",
              "      <td>682047327939461121</td>\n",
              "      <td>2015-12-30 03:55:29+00:00</td>\n",
              "      <td>&lt;a href=\"http://twitter.com/download/iphone\" r...</td>\n",
              "      <td>We normally don't rate bears but this one seem...</td>\n",
              "      <td>https://twitter.com/dog_rates/status/682047327...</td>\n",
              "      <td>10</td>\n",
              "      <td>10</td>\n",
              "      <td>NaN</td>\n",
              "      <td>1.0</td>\n",
              "      <td>NaN</td>\n",
              "      <td>https://pbs.twimg.com/media/CXcebTeWsAUQJ-J.jpg</td>\n",
              "      <td>1</td>\n",
              "      <td>NaN</td>\n",
              "      <td>0.364095</td>\n",
              "      <td>3217</td>\n",
              "      <td>940</td>\n",
              "      <td>2015-12-30 03:55:29+00:00</td>\n",
              "    </tr>\n",
              "    <tr>\n",
              "      <th>78</th>\n",
              "      <td>874296783580663808</td>\n",
              "      <td>2017-06-12 16:06:11+00:00</td>\n",
              "      <td>&lt;a href=\"http://twitter.com/download/iphone\" r...</td>\n",
              "      <td>This is Jed. He may be the fanciest pupper in ...</td>\n",
              "      <td>https://twitter.com/dog_rates/status/874296783...</td>\n",
              "      <td>13</td>\n",
              "      <td>10</td>\n",
              "      <td>Jed</td>\n",
              "      <td>1.3</td>\n",
              "      <td>NaN</td>\n",
              "      <td>https://pbs.twimg.com/media/DCIgSR0XgAANEOY.jpg</td>\n",
              "      <td>1</td>\n",
              "      <td>cocker_spaniel</td>\n",
              "      <td>0.437216</td>\n",
              "      <td>24731</td>\n",
              "      <td>3807</td>\n",
              "      <td>2017-06-12 16:06:11+00:00</td>\n",
              "    </tr>\n",
              "    <tr>\n",
              "      <th>471</th>\n",
              "      <td>798673117451325440</td>\n",
              "      <td>2016-11-15 23:44:44+00:00</td>\n",
              "      <td>&lt;a href=\"http://twitter.com/download/iphone\" r...</td>\n",
              "      <td>RT @dog_rates: I shall call him squishy and he...</td>\n",
              "      <td>https://twitter.com/dog_rates/status/675501075...</td>\n",
              "      <td>13</td>\n",
              "      <td>10</td>\n",
              "      <td>NaN</td>\n",
              "      <td>1.3</td>\n",
              "      <td>NaN</td>\n",
              "      <td>https://pbs.twimg.com/media/CV_cnjHWUAADc-c.jpg</td>\n",
              "      <td>1</td>\n",
              "      <td>NaN</td>\n",
              "      <td>0.806757</td>\n",
              "      <td>0</td>\n",
              "      <td>5736</td>\n",
              "      <td>2016-11-15 23:44:44+00:00</td>\n",
              "    </tr>\n",
              "  </tbody>\n",
              "</table>\n",
              "</div>"
            ],
            "text/plain": [
              "                tweet_id  ...               timestamp_y\n",
              "632   773191612633579521  ... 2016-09-06 16:10:20+00:00\n",
              "550   786595970293370880  ... 2016-10-13 15:54:28+00:00\n",
              "1299  688828561667567616  ... 2016-01-17 21:01:41+00:00\n",
              "294   827600520311402496  ... 2017-02-03 19:31:54+00:00\n",
              "1535  676588346097852417  ... 2015-12-15 02:23:26+00:00\n",
              "1808  670691627984359425  ... 2015-11-28 19:51:59+00:00\n",
              "1711  672475084225949696  ... 2015-12-03 17:58:48+00:00\n",
              "1406  682047327939461121  ... 2015-12-30 03:55:29+00:00\n",
              "78    874296783580663808  ... 2017-06-12 16:06:11+00:00\n",
              "471   798673117451325440  ... 2016-11-15 23:44:44+00:00\n",
              "\n",
              "[10 rows x 17 columns]"
            ]
          },
          "metadata": {
            "tags": []
          },
          "execution_count": 170
        }
      ]
    },
    {
      "cell_type": "code",
      "metadata": {
        "id": "N22oCV_8cZff",
        "colab_type": "code",
        "colab": {
          "base_uri": "https://localhost:8080/",
          "height": 34
        },
        "outputId": "c076e4a5-1d8f-4005-cc65-a294d9285cc1"
      },
      "source": [
        "twitter_archive_master.shape"
      ],
      "execution_count": 171,
      "outputs": [
        {
          "output_type": "execute_result",
          "data": {
            "text/plain": [
              "(2059, 17)"
            ]
          },
          "metadata": {
            "tags": []
          },
          "execution_count": 171
        }
      ]
    },
    {
      "cell_type": "markdown",
      "metadata": {
        "id": "G4bZ9ZYAee0r",
        "colab_type": "text"
      },
      "source": [
        "### Reassess \n",
        "### I will rearrange columns for better convenience "
      ]
    },
    {
      "cell_type": "code",
      "metadata": {
        "id": "qn8GIMvQddBp",
        "colab_type": "code",
        "colab": {
          "base_uri": "https://localhost:8080/",
          "height": 102
        },
        "outputId": "58f5ab2c-0145-480e-d7ef-66ecdf3e0c38"
      },
      "source": [
        "twitter_archive_master.columns"
      ],
      "execution_count": 172,
      "outputs": [
        {
          "output_type": "execute_result",
          "data": {
            "text/plain": [
              "Index(['tweet_id', 'timestamp_x', 'source', 'text', 'expanded_urls',\n",
              "       'rating_numerator', 'rating_denominator', 'dog_name', 'rating_value',\n",
              "       'stage', 'jpg_url', 'img_num', 'dog_breed', 'prediction_confidence',\n",
              "       'favorites', 'retweets', 'timestamp_y'],\n",
              "      dtype='object')"
            ]
          },
          "metadata": {
            "tags": []
          },
          "execution_count": 172
        }
      ]
    },
    {
      "cell_type": "code",
      "metadata": {
        "id": "ZhH83LtMebYy",
        "colab_type": "code",
        "colab": {
          "base_uri": "https://localhost:8080/",
          "height": 889
        },
        "outputId": "f6745ad5-7da9-4a2a-a28d-3fb5c6807cdc"
      },
      "source": [
        "twitter_archive_master=twitter_archive_master[['tweet_id','favorites', 'retweets','dog_name','dog_breed','stage','rating_numerator', 'rating_denominator','rating_value', 'source', 'text', 'expanded_urls', 'jpg_url', 'img_num', 'prediction_confidence', 'timestamp_y','timestamp_x']]\n",
        "twitter_archive_master.sample(10)"
      ],
      "execution_count": 174,
      "outputs": [
        {
          "output_type": "execute_result",
          "data": {
            "text/html": [
              "<div>\n",
              "<style scoped>\n",
              "    .dataframe tbody tr th:only-of-type {\n",
              "        vertical-align: middle;\n",
              "    }\n",
              "\n",
              "    .dataframe tbody tr th {\n",
              "        vertical-align: top;\n",
              "    }\n",
              "\n",
              "    .dataframe thead th {\n",
              "        text-align: right;\n",
              "    }\n",
              "</style>\n",
              "<table border=\"1\" class=\"dataframe\">\n",
              "  <thead>\n",
              "    <tr style=\"text-align: right;\">\n",
              "      <th></th>\n",
              "      <th>tweet_id</th>\n",
              "      <th>favorites</th>\n",
              "      <th>retweets</th>\n",
              "      <th>dog_name</th>\n",
              "      <th>dog_breed</th>\n",
              "      <th>stage</th>\n",
              "      <th>rating_numerator</th>\n",
              "      <th>rating_denominator</th>\n",
              "      <th>rating_value</th>\n",
              "      <th>source</th>\n",
              "      <th>text</th>\n",
              "      <th>expanded_urls</th>\n",
              "      <th>jpg_url</th>\n",
              "      <th>img_num</th>\n",
              "      <th>prediction_confidence</th>\n",
              "      <th>timestamp_y</th>\n",
              "      <th>timestamp_x</th>\n",
              "    </tr>\n",
              "  </thead>\n",
              "  <tbody>\n",
              "    <tr>\n",
              "      <th>1212</th>\n",
              "      <td>695409464418041856</td>\n",
              "      <td>8735</td>\n",
              "      <td>3596</td>\n",
              "      <td>Bob</td>\n",
              "      <td>pug</td>\n",
              "      <td>NaN</td>\n",
              "      <td>10</td>\n",
              "      <td>10</td>\n",
              "      <td>1.0</td>\n",
              "      <td>&lt;a href=\"http://twitter.com/download/iphone\" r...</td>\n",
              "      <td>This is Bob. He just got back from his job int...</td>\n",
              "      <td>https://twitter.com/dog_rates/status/695409464...</td>\n",
              "      <td>https://pbs.twimg.com/media/CaaXN5LUYAEzAh-.jpg</td>\n",
              "      <td>1</td>\n",
              "      <td>0.997445</td>\n",
              "      <td>2016-02-05 00:51:51+00:00</td>\n",
              "      <td>2016-02-05 00:51:51+00:00</td>\n",
              "    </tr>\n",
              "    <tr>\n",
              "      <th>1293</th>\n",
              "      <td>689154315265683456</td>\n",
              "      <td>3100</td>\n",
              "      <td>1007</td>\n",
              "      <td>NaN</td>\n",
              "      <td>cocker_spaniel</td>\n",
              "      <td>NaN</td>\n",
              "      <td>9</td>\n",
              "      <td>10</td>\n",
              "      <td>0.9</td>\n",
              "      <td>&lt;a href=\"http://twitter.com/download/iphone\" r...</td>\n",
              "      <td>We normally don't rate birds but I feel bad co...</td>\n",
              "      <td>https://twitter.com/dog_rates/status/689154315...</td>\n",
              "      <td>https://pbs.twimg.com/media/CZBeMMVUwAEdVqI.jpg</td>\n",
              "      <td>1</td>\n",
              "      <td>0.816044</td>\n",
              "      <td>2016-01-18 18:36:07+00:00</td>\n",
              "      <td>2016-01-18 18:36:07+00:00</td>\n",
              "    </tr>\n",
              "    <tr>\n",
              "      <th>548</th>\n",
              "      <td>786709082849828864</td>\n",
              "      <td>18759</td>\n",
              "      <td>6303</td>\n",
              "      <td>Logan</td>\n",
              "      <td>pomeranian</td>\n",
              "      <td>NaN</td>\n",
              "      <td>75</td>\n",
              "      <td>10</td>\n",
              "      <td>7.5</td>\n",
              "      <td>&lt;a href=\"http://twitter.com/download/iphone\" r...</td>\n",
              "      <td>This is Logan, the Chow who lived. He solemnly...</td>\n",
              "      <td>https://twitter.com/dog_rates/status/786709082...</td>\n",
              "      <td>https://pbs.twimg.com/media/CurzvFTXgAA2_AP.jpg</td>\n",
              "      <td>1</td>\n",
              "      <td>0.467321</td>\n",
              "      <td>2016-10-13 23:23:56+00:00</td>\n",
              "      <td>2016-10-13 23:23:56+00:00</td>\n",
              "    </tr>\n",
              "    <tr>\n",
              "      <th>69</th>\n",
              "      <td>877316821321428993</td>\n",
              "      <td>25969</td>\n",
              "      <td>4797</td>\n",
              "      <td>Dante</td>\n",
              "      <td>saluki</td>\n",
              "      <td>NaN</td>\n",
              "      <td>13</td>\n",
              "      <td>10</td>\n",
              "      <td>1.3</td>\n",
              "      <td>&lt;a href=\"http://twitter.com/download/iphone\" r...</td>\n",
              "      <td>Meet Dante. At first he wasn't a fan of his ne...</td>\n",
              "      <td>https://twitter.com/dog_rates/status/877316821...</td>\n",
              "      <td>https://pbs.twimg.com/media/DCza_vtXkAQXGpC.jpg</td>\n",
              "      <td>1</td>\n",
              "      <td>0.509967</td>\n",
              "      <td>2017-06-21 00:06:44+00:00</td>\n",
              "      <td>2017-06-21 00:06:44+00:00</td>\n",
              "    </tr>\n",
              "    <tr>\n",
              "      <th>874</th>\n",
              "      <td>738885046782832640</td>\n",
              "      <td>3798</td>\n",
              "      <td>1149</td>\n",
              "      <td>Charles</td>\n",
              "      <td>NaN</td>\n",
              "      <td>NaN</td>\n",
              "      <td>11</td>\n",
              "      <td>10</td>\n",
              "      <td>1.1</td>\n",
              "      <td>&lt;a href=\"http://twitter.com/download/iphone\" r...</td>\n",
              "      <td>This is Charles. He's a Nova Scotian Towel Pou...</td>\n",
              "      <td>https://twitter.com/dog_rates/status/738885046...</td>\n",
              "      <td>https://pbs.twimg.com/media/CkEMBz9WYAAGLaa.jpg</td>\n",
              "      <td>1</td>\n",
              "      <td>0.878320</td>\n",
              "      <td>2016-06-04 00:08:17+00:00</td>\n",
              "      <td>2016-06-04 00:08:17+00:00</td>\n",
              "    </tr>\n",
              "    <tr>\n",
              "      <th>1007</th>\n",
              "      <td>714141408463036416</td>\n",
              "      <td>4335</td>\n",
              "      <td>1405</td>\n",
              "      <td>NaN</td>\n",
              "      <td>labrador_retriever</td>\n",
              "      <td>NaN</td>\n",
              "      <td>10</td>\n",
              "      <td>10</td>\n",
              "      <td>1.0</td>\n",
              "      <td>&lt;a href=\"http://twitter.com/download/iphone\" r...</td>\n",
              "      <td>I know we only rate dogs, but since it's Easte...</td>\n",
              "      <td>https://twitter.com/dog_rates/status/714141408...</td>\n",
              "      <td>https://pbs.twimg.com/media/Cekj0qwXEAAHcS6.jpg</td>\n",
              "      <td>1</td>\n",
              "      <td>0.586951</td>\n",
              "      <td>2016-03-27 17:25:54+00:00</td>\n",
              "      <td>2016-03-27 17:25:54+00:00</td>\n",
              "    </tr>\n",
              "    <tr>\n",
              "      <th>1423</th>\n",
              "      <td>681242418453299201</td>\n",
              "      <td>1498</td>\n",
              "      <td>533</td>\n",
              "      <td>Champ</td>\n",
              "      <td>NaN</td>\n",
              "      <td>NaN</td>\n",
              "      <td>10</td>\n",
              "      <td>10</td>\n",
              "      <td>1.0</td>\n",
              "      <td>&lt;a href=\"http://twitter.com/download/iphone\" r...</td>\n",
              "      <td>This is Champ. He's being sacrificed to the Az...</td>\n",
              "      <td>https://twitter.com/dog_rates/status/681242418...</td>\n",
              "      <td>https://pbs.twimg.com/media/CXRCXesVAAArSXt.jpg</td>\n",
              "      <td>1</td>\n",
              "      <td>0.255934</td>\n",
              "      <td>2015-12-27 22:37:04+00:00</td>\n",
              "      <td>2015-12-27 22:37:04+00:00</td>\n",
              "    </tr>\n",
              "    <tr>\n",
              "      <th>1853</th>\n",
              "      <td>669923323644657664</td>\n",
              "      <td>228</td>\n",
              "      <td>53</td>\n",
              "      <td>NaN</td>\n",
              "      <td>NaN</td>\n",
              "      <td>NaN</td>\n",
              "      <td>10</td>\n",
              "      <td>10</td>\n",
              "      <td>1.0</td>\n",
              "      <td>&lt;a href=\"http://twitter.com/download/iphone\" r...</td>\n",
              "      <td>This is a spotted Lipitor Rumpelstiltskin name...</td>\n",
              "      <td>https://twitter.com/dog_rates/status/669923323...</td>\n",
              "      <td>https://pbs.twimg.com/media/CUwLtPeU8AAfAb2.jpg</td>\n",
              "      <td>1</td>\n",
              "      <td>0.343063</td>\n",
              "      <td>2015-11-26 16:59:01+00:00</td>\n",
              "      <td>2015-11-26 16:59:01+00:00</td>\n",
              "    </tr>\n",
              "    <tr>\n",
              "      <th>641</th>\n",
              "      <td>772102971039580160</td>\n",
              "      <td>4087</td>\n",
              "      <td>956</td>\n",
              "      <td>Penny</td>\n",
              "      <td>pembroke</td>\n",
              "      <td>NaN</td>\n",
              "      <td>11</td>\n",
              "      <td>10</td>\n",
              "      <td>1.1</td>\n",
              "      <td>&lt;a href=\"http://twitter.com/download/iphone\" r...</td>\n",
              "      <td>This is Penny. She's an OU cheerleader. About ...</td>\n",
              "      <td>https://twitter.com/dog_rates/status/772102971...</td>\n",
              "      <td>https://pbs.twimg.com/media/CrcPjh0WcAA_SPT.jpg</td>\n",
              "      <td>1</td>\n",
              "      <td>0.541780</td>\n",
              "      <td>2016-09-03 16:04:27+00:00</td>\n",
              "      <td>2016-09-03 16:04:27+00:00</td>\n",
              "    </tr>\n",
              "    <tr>\n",
              "      <th>1120</th>\n",
              "      <td>703769065844768768</td>\n",
              "      <td>3304</td>\n",
              "      <td>1151</td>\n",
              "      <td>NaN</td>\n",
              "      <td>boxer</td>\n",
              "      <td>NaN</td>\n",
              "      <td>10</td>\n",
              "      <td>10</td>\n",
              "      <td>1.0</td>\n",
              "      <td>&lt;a href=\"http://twitter.com/download/iphone\" r...</td>\n",
              "      <td>When you're trying to watch your favorite tv s...</td>\n",
              "      <td>https://twitter.com/dog_rates/status/703769065...</td>\n",
              "      <td>https://pbs.twimg.com/media/CcRKOzyXEAQO_HN.jpg</td>\n",
              "      <td>2</td>\n",
              "      <td>0.838994</td>\n",
              "      <td>2016-02-28 02:29:55+00:00</td>\n",
              "      <td>2016-02-28 02:29:55+00:00</td>\n",
              "    </tr>\n",
              "  </tbody>\n",
              "</table>\n",
              "</div>"
            ],
            "text/plain": [
              "                tweet_id  ...               timestamp_x\n",
              "1212  695409464418041856  ... 2016-02-05 00:51:51+00:00\n",
              "1293  689154315265683456  ... 2016-01-18 18:36:07+00:00\n",
              "548   786709082849828864  ... 2016-10-13 23:23:56+00:00\n",
              "69    877316821321428993  ... 2017-06-21 00:06:44+00:00\n",
              "874   738885046782832640  ... 2016-06-04 00:08:17+00:00\n",
              "1007  714141408463036416  ... 2016-03-27 17:25:54+00:00\n",
              "1423  681242418453299201  ... 2015-12-27 22:37:04+00:00\n",
              "1853  669923323644657664  ... 2015-11-26 16:59:01+00:00\n",
              "641   772102971039580160  ... 2016-09-03 16:04:27+00:00\n",
              "1120  703769065844768768  ... 2016-02-28 02:29:55+00:00\n",
              "\n",
              "[10 rows x 17 columns]"
            ]
          },
          "metadata": {
            "tags": []
          },
          "execution_count": 174
        }
      ]
    },
    {
      "cell_type": "code",
      "metadata": {
        "id": "u_9dXkf2s8ty",
        "colab_type": "code",
        "colab": {
          "base_uri": "https://localhost:8080/",
          "height": 34
        },
        "outputId": "12b8c552-a8a0-455e-903d-a20ee4e799f1"
      },
      "source": [
        "twitter_archive_master.rating_value.isnull().all()"
      ],
      "execution_count": 223,
      "outputs": [
        {
          "output_type": "execute_result",
          "data": {
            "text/plain": [
              "False"
            ]
          },
          "metadata": {
            "tags": []
          },
          "execution_count": 223
        }
      ]
    },
    {
      "cell_type": "markdown",
      "metadata": {
        "id": "4j1MMCR7gnPN",
        "colab_type": "text"
      },
      "source": [
        "### Storing\n",
        "I will store the twitter_archive_master as a csv file and also a database table"
      ]
    },
    {
      "cell_type": "code",
      "metadata": {
        "id": "rW-Sdqn5gScb",
        "colab_type": "code",
        "colab": {}
      },
      "source": [
        "twitter_archive_master.to_csv('twitter_archive_master.csv',index=False)"
      ],
      "execution_count": 0,
      "outputs": []
    },
    {
      "cell_type": "code",
      "metadata": {
        "id": "jb9boW9KhKyj",
        "colab_type": "code",
        "colab": {}
      },
      "source": [
        "from sqlalchemy import create_engine"
      ],
      "execution_count": 0,
      "outputs": []
    },
    {
      "cell_type": "code",
      "metadata": {
        "id": "GhiuQ9QninRj",
        "colab_type": "code",
        "colab": {}
      },
      "source": [
        "engine = create_engine('sqlite:///twitter_archive_master.db')"
      ],
      "execution_count": 0,
      "outputs": []
    },
    {
      "cell_type": "code",
      "metadata": {
        "id": "aMG0DSHHizVf",
        "colab_type": "code",
        "colab": {}
      },
      "source": [
        "twitter_archive_master.to_sql('master',engine,index=False)"
      ],
      "execution_count": 0,
      "outputs": []
    },
    {
      "cell_type": "markdown",
      "metadata": {
        "id": "qVFjZ_zDj8cT",
        "colab_type": "text"
      },
      "source": [
        "# Analysis and Visualizations"
      ]
    },
    {
      "cell_type": "code",
      "metadata": {
        "id": "8ihFXmLVlgDF",
        "colab_type": "code",
        "colab": {
          "base_uri": "https://localhost:8080/",
          "height": 442
        },
        "outputId": "134cd3b7-a1be-43e8-82da-67676cf52fad"
      },
      "source": [
        "twitter_archive_master.rating_value.value_counts()"
      ],
      "execution_count": 189,
      "outputs": [
        {
          "output_type": "execute_result",
          "data": {
            "text/plain": [
              "1.200000      475\n",
              "1.000000      429\n",
              "1.100000      419\n",
              "1.300000      275\n",
              "0.900000      151\n",
              "0.800000       95\n",
              "0.700000       51\n",
              "1.400000       38\n",
              "0.500000       35\n",
              "0.600000       32\n",
              "0.300000       19\n",
              "0.400000       15\n",
              "0.200000       10\n",
              "0.100000        4\n",
              "0.000000        2\n",
              "0.818182        1\n",
              "2.700000        1\n",
              "3.428571        1\n",
              "0.636364        1\n",
              "177.600000      1\n",
              "2.600000        1\n",
              "42.000000       1\n",
              "7.500000        1\n",
              "1.500000        1\n",
              "Name: rating_value, dtype: int64"
            ]
          },
          "metadata": {
            "tags": []
          },
          "execution_count": 189
        }
      ]
    },
    {
      "cell_type": "code",
      "metadata": {
        "id": "nmnAtF4lmovU",
        "colab_type": "code",
        "colab": {
          "base_uri": "https://localhost:8080/",
          "height": 34
        },
        "outputId": "194b4483-78fc-4c8e-e510-e697ea6ba378"
      },
      "source": [
        "twitter_archive_master.query('rating_value > 1.5').tweet_id.index"
      ],
      "execution_count": 200,
      "outputs": [
        {
          "output_type": "execute_result",
          "data": {
            "text/plain": [
              "Int64Index([406, 548, 603, 789, 1438, 1781], dtype='int64')"
            ]
          },
          "metadata": {
            "tags": []
          },
          "execution_count": 200
        }
      ]
    },
    {
      "cell_type": "code",
      "metadata": {
        "id": "cPmwq92wl3nR",
        "colab_type": "code",
        "colab": {}
      },
      "source": [
        "twitter_archive_master=twitter_archive_master.drop([406, 548, 603, 789, 1438, 1781],axis=0)"
      ],
      "execution_count": 0,
      "outputs": []
    },
    {
      "cell_type": "code",
      "metadata": {
        "id": "8VWE42K8jIbF",
        "colab_type": "code",
        "colab": {
          "base_uri": "https://localhost:8080/",
          "height": 894
        },
        "outputId": "22369614-8af2-4bcc-e91e-75ca74233ec5"
      },
      "source": [
        "twitter_archive_master.plot(x='favorites',y='rating_value',kind='line',figsize=(15,15))"
      ],
      "execution_count": 203,
      "outputs": [
        {
          "output_type": "execute_result",
          "data": {
            "text/plain": [
              "<matplotlib.axes._subplots.AxesSubplot at 0x7fb1330747b8>"
            ]
          },
          "metadata": {
            "tags": []
          },
          "execution_count": 203
        },
        {
          "output_type": "display_data",
          "data": {
            "image/png": "[encoded data removed]",
            "text/plain": [
              "<Figure size 1080x1080 with 1 Axes>"
            ]
          },
          "metadata": {
            "tags": []
          }
        }
      ]
    },
    {
      "cell_type": "code",
      "metadata": {
        "id": "3cBtjUk_kpMj",
        "colab_type": "code",
        "colab": {
          "base_uri": "https://localhost:8080/",
          "height": 894
        },
        "outputId": "e4fc088b-e90e-49dd-a106-d6aae352ec5b"
      },
      "source": [
        "twitter_archive_master.plot(x='retweets',y='rating_value',kind='line',figsize=(15,15))"
      ],
      "execution_count": 204,
      "outputs": [
        {
          "output_type": "execute_result",
          "data": {
            "text/plain": [
              "<matplotlib.axes._subplots.AxesSubplot at 0x7fb1330f8b70>"
            ]
          },
          "metadata": {
            "tags": []
          },
          "execution_count": 204
        },
        {
          "output_type": "display_data",
          "data": {
            "image/png": "[encoded data removed]",
            "text/plain": [
              "<Figure size 1080x1080 with 1 Axes>"
            ]
          },
          "metadata": {
            "tags": []
          }
        }
      ]
    },
    {
      "cell_type": "code",
      "metadata": {
        "id": "S1NCUwHepvju",
        "colab_type": "code",
        "colab": {
          "base_uri": "https://localhost:8080/",
          "height": 965
        },
        "outputId": "e3d11ae3-43e1-4591-9b04-33bc030719ec"
      },
      "source": [
        "twitter_archive_master.plot(x='favorites',y='retweets',kind='scatter',figsize=(15,15));"
      ],
      "execution_count": 214,
      "outputs": [
        {
          "output_type": "stream",
          "text": [
            "/usr/local/lib/python3.6/dist-packages/pandas/plotting/_matplotlib/core.py:420: FutureWarning: Converting timezone-aware DatetimeArray to timezone-naive ndarray with 'datetime64[ns]' dtype. In the future, this will return an ndarray with 'object' dtype where each element is a 'pandas.Timestamp' with the correct 'tz'.\n",
            "\tTo accept the future behavior, pass 'dtype=object'.\n",
            "\tTo keep the old behavior, pass 'dtype=\"datetime64[ns]\"'.\n",
            "  numeric_data[col] = np.asarray(numeric_data[col])\n"
          ],
          "name": "stderr"
        },
        {
          "output_type": "display_data",
          "data": {
            "image/png": "[encoded data removed]",
            "text/plain": [
              "<Figure size 1080x1080 with 1 Axes>"
            ]
          },
          "metadata": {
            "tags": []
          }
        }
      ]
    }
  ]
}