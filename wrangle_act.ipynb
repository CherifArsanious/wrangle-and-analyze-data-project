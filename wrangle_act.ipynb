{
  "nbformat": 4,
  "nbformat_minor": 0,
  "metadata": {
    "colab": {
      "name": "wrangle_act.ipynb",
      "provenance": [],
      "authorship_tag": "ABX9TyM1wSF2M1ee4qBGXfDYJlHp",
      "include_colab_link": true
    },
    "kernelspec": {
      "name": "python3",
      "display_name": "Python 3"
    }
  },
  "cells": [
    {
      "cell_type": "markdown",
      "metadata": {
        "id": "view-in-github",
        "colab_type": "text"
      },
      "source": [
        "<a href=\"https://colab.research.google.com/github/CherifArsanious/wrangle-and-analyze-data-project/blob/master/wrangle_act.ipynb\" target=\"_parent\"><img src=\"https://colab.research.google.com/assets/colab-badge.svg\" alt=\"Open In Colab\"/></a>"
      ]
    },
    {
      "cell_type": "markdown",
      "metadata": {
        "id": "J5Kqqiz8cfSO",
        "colab_type": "text"
      },
      "source": [
        "# Data-Analysis-NanoDegree-Udacity-Project-4\n",
        "## Wrangle-and-Analyze-Data\n",
        "## Project-done-by-Cherif.Arsanious"
      ]
    },
    {
      "cell_type": "markdown",
      "metadata": {
        "id": "2wvFO_ZLdIa9",
        "colab_type": "text"
      },
      "source": [
        "## Project-Overview\n",
        "This project is divided into 3 parts \n",
        "\n",
        "1- Wrangle Data\n",
        "\n",
        "I have to gather data from a csv file prepared by the instructor, a tsv file from a url using the requests library and gather data from twitter api using tweepy. I have to assess the collected data and clean them from dirty and messy data and test to make sure of my cleaning process\n",
        "\n",
        "2- Storing, analyzing, and visualizing my wrangled data\n",
        "\n",
        "3- Make 2 reports on my data wrangling efforts and my data analyses and visualizations efforts"
      ]
    },
    {
      "cell_type": "markdown",
      "metadata": {
        "id": "r3Q3cmsnfh_3",
        "colab_type": "text"
      },
      "source": [
        "First step in my wrangle effort is to import the required libraries that will help me to gather, assess and clean the data"
      ]
    },
    {
      "cell_type": "code",
      "metadata": {
        "id": "Y8qqRAIUesYb",
        "colab_type": "code",
        "colab": {}
      },
      "source": [
        "#First I will import the necessary libraries to start my project\n",
        "import pandas as pd\n",
        "import numpy as np\n",
        "import matplotlib.pyplot as plt\n",
        "%matplotlib inline\n",
        "import requests\n",
        "import tweepy\n",
        "import json"
      ],
      "execution_count": 0,
      "outputs": []
    },
    {
      "cell_type": "code",
      "metadata": {
        "id": "BRn4XrG1a600",
        "colab_type": "code",
        "outputId": "90b289cd-2927-4829-bccb-c9cca30de5ce",
        "colab": {
          "base_uri": "https://localhost:8080/",
          "height": 119
        }
      },
      "source": [
        "#I should get the needed files that contains my csv and tsv file\n",
        "!git clone https://github.com/CherifArsanious/wrangle-and-analyze-data-project.git"
      ],
      "execution_count": 2,
      "outputs": [
        {
          "output_type": "stream",
          "text": [
            "Cloning into 'wrangle-and-analyze-data-project'...\n",
            "remote: Enumerating objects: 66, done.\u001b[K\n",
            "remote: Counting objects: 100% (66/66), done.\u001b[K\n",
            "remote: Compressing objects: 100% (66/66), done.\u001b[K\n",
            "remote: Total 66 (delta 38), reused 0 (delta 0), pack-reused 0\u001b[K\n",
            "Unpacking objects: 100% (66/66), done.\n"
          ],
          "name": "stdout"
        }
      ]
    },
    {
      "cell_type": "markdown",
      "metadata": {
        "id": "dyReQwBqGed8",
        "colab_type": "text"
      },
      "source": [
        "# Gather"
      ]
    },
    {
      "cell_type": "markdown",
      "metadata": {
        "id": "EdBMRyYVPjM5",
        "colab_type": "text"
      },
      "source": [
        "## Our first source of data is twitter_archive.csv file\n",
        "That file was ready available on Udacity platform and just needed to be imported through the right libraries"
      ]
    },
    {
      "cell_type": "code",
      "metadata": {
        "id": "-lS3zoCzcdgU",
        "colab_type": "code",
        "outputId": "8bc06d5d-af31-4687-84c0-bc040ba731a4",
        "colab": {
          "base_uri": "https://localhost:8080/",
          "height": 202
        }
      },
      "source": [
        "twitter_archive=pd.read_csv('wrangle-and-analyze-data-project/twitter-archive-enhanced.csv')\n",
        "twitter_archive.head(1)"
      ],
      "execution_count": 3,
      "outputs": [
        {
          "output_type": "execute_result",
          "data": {
            "text/html": [
              "<div>\n",
              "<style scoped>\n",
              "    .dataframe tbody tr th:only-of-type {\n",
              "        vertical-align: middle;\n",
              "    }\n",
              "\n",
              "    .dataframe tbody tr th {\n",
              "        vertical-align: top;\n",
              "    }\n",
              "\n",
              "    .dataframe thead th {\n",
              "        text-align: right;\n",
              "    }\n",
              "</style>\n",
              "<table border=\"1\" class=\"dataframe\">\n",
              "  <thead>\n",
              "    <tr style=\"text-align: right;\">\n",
              "      <th></th>\n",
              "      <th>tweet_id</th>\n",
              "      <th>in_reply_to_status_id</th>\n",
              "      <th>in_reply_to_user_id</th>\n",
              "      <th>timestamp</th>\n",
              "      <th>source</th>\n",
              "      <th>text</th>\n",
              "      <th>retweeted_status_id</th>\n",
              "      <th>retweeted_status_user_id</th>\n",
              "      <th>retweeted_status_timestamp</th>\n",
              "      <th>expanded_urls</th>\n",
              "      <th>rating_numerator</th>\n",
              "      <th>rating_denominator</th>\n",
              "      <th>name</th>\n",
              "      <th>doggo</th>\n",
              "      <th>floofer</th>\n",
              "      <th>pupper</th>\n",
              "      <th>puppo</th>\n",
              "    </tr>\n",
              "  </thead>\n",
              "  <tbody>\n",
              "    <tr>\n",
              "      <th>0</th>\n",
              "      <td>892420643555336193</td>\n",
              "      <td>NaN</td>\n",
              "      <td>NaN</td>\n",
              "      <td>2017-08-01 16:23:56 +0000</td>\n",
              "      <td>&lt;a href=\"http://twitter.com/download/iphone\" r...</td>\n",
              "      <td>This is Phineas. He's a mystical boy. Only eve...</td>\n",
              "      <td>NaN</td>\n",
              "      <td>NaN</td>\n",
              "      <td>NaN</td>\n",
              "      <td>https://twitter.com/dog_rates/status/892420643...</td>\n",
              "      <td>13</td>\n",
              "      <td>10</td>\n",
              "      <td>Phineas</td>\n",
              "      <td>None</td>\n",
              "      <td>None</td>\n",
              "      <td>None</td>\n",
              "      <td>None</td>\n",
              "    </tr>\n",
              "  </tbody>\n",
              "</table>\n",
              "</div>"
            ],
            "text/plain": [
              "             tweet_id  in_reply_to_status_id  ...  pupper puppo\n",
              "0  892420643555336193                    NaN  ...    None  None\n",
              "\n",
              "[1 rows x 17 columns]"
            ]
          },
          "metadata": {
            "tags": []
          },
          "execution_count": 3
        }
      ]
    },
    {
      "cell_type": "code",
      "metadata": {
        "id": "kxdCQ-XqOq1H",
        "colab_type": "code",
        "outputId": "71d4a8cf-c36c-464e-9ec9-168382f6651d",
        "colab": {
          "base_uri": "https://localhost:8080/",
          "height": 202
        }
      },
      "source": [
        "twitter_archive.tail(1)"
      ],
      "execution_count": 4,
      "outputs": [
        {
          "output_type": "execute_result",
          "data": {
            "text/html": [
              "<div>\n",
              "<style scoped>\n",
              "    .dataframe tbody tr th:only-of-type {\n",
              "        vertical-align: middle;\n",
              "    }\n",
              "\n",
              "    .dataframe tbody tr th {\n",
              "        vertical-align: top;\n",
              "    }\n",
              "\n",
              "    .dataframe thead th {\n",
              "        text-align: right;\n",
              "    }\n",
              "</style>\n",
              "<table border=\"1\" class=\"dataframe\">\n",
              "  <thead>\n",
              "    <tr style=\"text-align: right;\">\n",
              "      <th></th>\n",
              "      <th>tweet_id</th>\n",
              "      <th>in_reply_to_status_id</th>\n",
              "      <th>in_reply_to_user_id</th>\n",
              "      <th>timestamp</th>\n",
              "      <th>source</th>\n",
              "      <th>text</th>\n",
              "      <th>retweeted_status_id</th>\n",
              "      <th>retweeted_status_user_id</th>\n",
              "      <th>retweeted_status_timestamp</th>\n",
              "      <th>expanded_urls</th>\n",
              "      <th>rating_numerator</th>\n",
              "      <th>rating_denominator</th>\n",
              "      <th>name</th>\n",
              "      <th>doggo</th>\n",
              "      <th>floofer</th>\n",
              "      <th>pupper</th>\n",
              "      <th>puppo</th>\n",
              "    </tr>\n",
              "  </thead>\n",
              "  <tbody>\n",
              "    <tr>\n",
              "      <th>2355</th>\n",
              "      <td>666020888022790149</td>\n",
              "      <td>NaN</td>\n",
              "      <td>NaN</td>\n",
              "      <td>2015-11-15 22:32:08 +0000</td>\n",
              "      <td>&lt;a href=\"http://twitter.com/download/iphone\" r...</td>\n",
              "      <td>Here we have a Japanese Irish Setter. Lost eye...</td>\n",
              "      <td>NaN</td>\n",
              "      <td>NaN</td>\n",
              "      <td>NaN</td>\n",
              "      <td>https://twitter.com/dog_rates/status/666020888...</td>\n",
              "      <td>8</td>\n",
              "      <td>10</td>\n",
              "      <td>None</td>\n",
              "      <td>None</td>\n",
              "      <td>None</td>\n",
              "      <td>None</td>\n",
              "      <td>None</td>\n",
              "    </tr>\n",
              "  </tbody>\n",
              "</table>\n",
              "</div>"
            ],
            "text/plain": [
              "                tweet_id  in_reply_to_status_id  ...  pupper puppo\n",
              "2355  666020888022790149                    NaN  ...    None  None\n",
              "\n",
              "[1 rows x 17 columns]"
            ]
          },
          "metadata": {
            "tags": []
          },
          "execution_count": 4
        }
      ]
    },
    {
      "cell_type": "markdown",
      "metadata": {
        "id": "KWvr3n7SOxgn",
        "colab_type": "text"
      },
      "source": [
        "Our data extends from 15-11-2015 to 1-8-2017 time frame"
      ]
    },
    {
      "cell_type": "markdown",
      "metadata": {
        "id": "k7Md6YEyNZIR",
        "colab_type": "text"
      },
      "source": [
        "Lets check the number of rows and columns in our dataframe"
      ]
    },
    {
      "cell_type": "code",
      "metadata": {
        "id": "JvNwCyCELSHo",
        "colab_type": "code",
        "outputId": "d42d0fee-4c88-4375-d17b-278f95ad80f7",
        "colab": {
          "base_uri": "https://localhost:8080/",
          "height": 34
        }
      },
      "source": [
        "#numbers of rows and columns in our dataframe\n",
        "print('number of rows:{} and number of columns:{}'.format(twitter_archive.shape[0],twitter_archive.shape[1]))"
      ],
      "execution_count": 5,
      "outputs": [
        {
          "output_type": "stream",
          "text": [
            "number of rows:2356 and number of columns:17\n"
          ],
          "name": "stdout"
        }
      ]
    },
    {
      "cell_type": "markdown",
      "metadata": {
        "id": "wazwt_GoNvqV",
        "colab_type": "text"
      },
      "source": [
        "ok, I will check now more information about the 17 columns"
      ]
    },
    {
      "cell_type": "code",
      "metadata": {
        "id": "BXESkvosLXbJ",
        "colab_type": "code",
        "outputId": "ac5426f3-c09a-44b7-d05d-6b28d2ec5d62",
        "colab": {
          "base_uri": "https://localhost:8080/",
          "height": 391
        }
      },
      "source": [
        "#information about our columns and missing values\n",
        "twitter_archive.info()"
      ],
      "execution_count": 6,
      "outputs": [
        {
          "output_type": "stream",
          "text": [
            "<class 'pandas.core.frame.DataFrame'>\n",
            "RangeIndex: 2356 entries, 0 to 2355\n",
            "Data columns (total 17 columns):\n",
            "tweet_id                      2356 non-null int64\n",
            "in_reply_to_status_id         78 non-null float64\n",
            "in_reply_to_user_id           78 non-null float64\n",
            "timestamp                     2356 non-null object\n",
            "source                        2356 non-null object\n",
            "text                          2356 non-null object\n",
            "retweeted_status_id           181 non-null float64\n",
            "retweeted_status_user_id      181 non-null float64\n",
            "retweeted_status_timestamp    181 non-null object\n",
            "expanded_urls                 2297 non-null object\n",
            "rating_numerator              2356 non-null int64\n",
            "rating_denominator            2356 non-null int64\n",
            "name                          2356 non-null object\n",
            "doggo                         2356 non-null object\n",
            "floofer                       2356 non-null object\n",
            "pupper                        2356 non-null object\n",
            "puppo                         2356 non-null object\n",
            "dtypes: float64(4), int64(3), object(10)\n",
            "memory usage: 313.0+ KB\n"
          ],
          "name": "stdout"
        }
      ]
    },
    {
      "cell_type": "markdown",
      "metadata": {
        "id": "Sxel7-nkP5ui",
        "colab_type": "text"
      },
      "source": [
        "Now i will check if there are duplicated rows in our dataframe"
      ]
    },
    {
      "cell_type": "code",
      "metadata": {
        "id": "LkfpK1EcQAYX",
        "colab_type": "code",
        "outputId": "5804c0f2-a543-461b-f14f-a20a804fa1d9",
        "colab": {
          "base_uri": "https://localhost:8080/",
          "height": 34
        }
      },
      "source": [
        "twitter_archive.duplicated().all()"
      ],
      "execution_count": 7,
      "outputs": [
        {
          "output_type": "execute_result",
          "data": {
            "text/plain": [
              "False"
            ]
          },
          "metadata": {
            "tags": []
          },
          "execution_count": 7
        }
      ]
    },
    {
      "cell_type": "code",
      "metadata": {
        "id": "bGerAQSteW9A",
        "colab_type": "code",
        "outputId": "90a0bb59-2159-48e8-b8d9-7e605dd5ecaa",
        "colab": {
          "base_uri": "https://localhost:8080/",
          "height": 297
        }
      },
      "source": [
        "twitter_archive.describe()"
      ],
      "execution_count": 8,
      "outputs": [
        {
          "output_type": "execute_result",
          "data": {
            "text/html": [
              "<div>\n",
              "<style scoped>\n",
              "    .dataframe tbody tr th:only-of-type {\n",
              "        vertical-align: middle;\n",
              "    }\n",
              "\n",
              "    .dataframe tbody tr th {\n",
              "        vertical-align: top;\n",
              "    }\n",
              "\n",
              "    .dataframe thead th {\n",
              "        text-align: right;\n",
              "    }\n",
              "</style>\n",
              "<table border=\"1\" class=\"dataframe\">\n",
              "  <thead>\n",
              "    <tr style=\"text-align: right;\">\n",
              "      <th></th>\n",
              "      <th>tweet_id</th>\n",
              "      <th>in_reply_to_status_id</th>\n",
              "      <th>in_reply_to_user_id</th>\n",
              "      <th>retweeted_status_id</th>\n",
              "      <th>retweeted_status_user_id</th>\n",
              "      <th>rating_numerator</th>\n",
              "      <th>rating_denominator</th>\n",
              "    </tr>\n",
              "  </thead>\n",
              "  <tbody>\n",
              "    <tr>\n",
              "      <th>count</th>\n",
              "      <td>2.356000e+03</td>\n",
              "      <td>7.800000e+01</td>\n",
              "      <td>7.800000e+01</td>\n",
              "      <td>1.810000e+02</td>\n",
              "      <td>1.810000e+02</td>\n",
              "      <td>2356.000000</td>\n",
              "      <td>2356.000000</td>\n",
              "    </tr>\n",
              "    <tr>\n",
              "      <th>mean</th>\n",
              "      <td>7.427716e+17</td>\n",
              "      <td>7.455079e+17</td>\n",
              "      <td>2.014171e+16</td>\n",
              "      <td>7.720400e+17</td>\n",
              "      <td>1.241698e+16</td>\n",
              "      <td>13.126486</td>\n",
              "      <td>10.455433</td>\n",
              "    </tr>\n",
              "    <tr>\n",
              "      <th>std</th>\n",
              "      <td>6.856705e+16</td>\n",
              "      <td>7.582492e+16</td>\n",
              "      <td>1.252797e+17</td>\n",
              "      <td>6.236928e+16</td>\n",
              "      <td>9.599254e+16</td>\n",
              "      <td>45.876648</td>\n",
              "      <td>6.745237</td>\n",
              "    </tr>\n",
              "    <tr>\n",
              "      <th>min</th>\n",
              "      <td>6.660209e+17</td>\n",
              "      <td>6.658147e+17</td>\n",
              "      <td>1.185634e+07</td>\n",
              "      <td>6.661041e+17</td>\n",
              "      <td>7.832140e+05</td>\n",
              "      <td>0.000000</td>\n",
              "      <td>0.000000</td>\n",
              "    </tr>\n",
              "    <tr>\n",
              "      <th>25%</th>\n",
              "      <td>6.783989e+17</td>\n",
              "      <td>6.757419e+17</td>\n",
              "      <td>3.086374e+08</td>\n",
              "      <td>7.186315e+17</td>\n",
              "      <td>4.196984e+09</td>\n",
              "      <td>10.000000</td>\n",
              "      <td>10.000000</td>\n",
              "    </tr>\n",
              "    <tr>\n",
              "      <th>50%</th>\n",
              "      <td>7.196279e+17</td>\n",
              "      <td>7.038708e+17</td>\n",
              "      <td>4.196984e+09</td>\n",
              "      <td>7.804657e+17</td>\n",
              "      <td>4.196984e+09</td>\n",
              "      <td>11.000000</td>\n",
              "      <td>10.000000</td>\n",
              "    </tr>\n",
              "    <tr>\n",
              "      <th>75%</th>\n",
              "      <td>7.993373e+17</td>\n",
              "      <td>8.257804e+17</td>\n",
              "      <td>4.196984e+09</td>\n",
              "      <td>8.203146e+17</td>\n",
              "      <td>4.196984e+09</td>\n",
              "      <td>12.000000</td>\n",
              "      <td>10.000000</td>\n",
              "    </tr>\n",
              "    <tr>\n",
              "      <th>max</th>\n",
              "      <td>8.924206e+17</td>\n",
              "      <td>8.862664e+17</td>\n",
              "      <td>8.405479e+17</td>\n",
              "      <td>8.874740e+17</td>\n",
              "      <td>7.874618e+17</td>\n",
              "      <td>1776.000000</td>\n",
              "      <td>170.000000</td>\n",
              "    </tr>\n",
              "  </tbody>\n",
              "</table>\n",
              "</div>"
            ],
            "text/plain": [
              "           tweet_id  ...  rating_denominator\n",
              "count  2.356000e+03  ...         2356.000000\n",
              "mean   7.427716e+17  ...           10.455433\n",
              "std    6.856705e+16  ...            6.745237\n",
              "min    6.660209e+17  ...            0.000000\n",
              "25%    6.783989e+17  ...           10.000000\n",
              "50%    7.196279e+17  ...           10.000000\n",
              "75%    7.993373e+17  ...           10.000000\n",
              "max    8.924206e+17  ...          170.000000\n",
              "\n",
              "[8 rows x 7 columns]"
            ]
          },
          "metadata": {
            "tags": []
          },
          "execution_count": 8
        }
      ]
    },
    {
      "cell_type": "code",
      "metadata": {
        "id": "P-MZwuK-eehr",
        "colab_type": "code",
        "outputId": "de0a5da5-13bf-4a28-c903-403b1cf858b8",
        "colab": {
          "base_uri": "https://localhost:8080/",
          "height": 297
        }
      },
      "source": [
        "twitter_archive[['rating_numerator','rating_denominator']].describe()"
      ],
      "execution_count": 9,
      "outputs": [
        {
          "output_type": "execute_result",
          "data": {
            "text/html": [
              "<div>\n",
              "<style scoped>\n",
              "    .dataframe tbody tr th:only-of-type {\n",
              "        vertical-align: middle;\n",
              "    }\n",
              "\n",
              "    .dataframe tbody tr th {\n",
              "        vertical-align: top;\n",
              "    }\n",
              "\n",
              "    .dataframe thead th {\n",
              "        text-align: right;\n",
              "    }\n",
              "</style>\n",
              "<table border=\"1\" class=\"dataframe\">\n",
              "  <thead>\n",
              "    <tr style=\"text-align: right;\">\n",
              "      <th></th>\n",
              "      <th>rating_numerator</th>\n",
              "      <th>rating_denominator</th>\n",
              "    </tr>\n",
              "  </thead>\n",
              "  <tbody>\n",
              "    <tr>\n",
              "      <th>count</th>\n",
              "      <td>2356.000000</td>\n",
              "      <td>2356.000000</td>\n",
              "    </tr>\n",
              "    <tr>\n",
              "      <th>mean</th>\n",
              "      <td>13.126486</td>\n",
              "      <td>10.455433</td>\n",
              "    </tr>\n",
              "    <tr>\n",
              "      <th>std</th>\n",
              "      <td>45.876648</td>\n",
              "      <td>6.745237</td>\n",
              "    </tr>\n",
              "    <tr>\n",
              "      <th>min</th>\n",
              "      <td>0.000000</td>\n",
              "      <td>0.000000</td>\n",
              "    </tr>\n",
              "    <tr>\n",
              "      <th>25%</th>\n",
              "      <td>10.000000</td>\n",
              "      <td>10.000000</td>\n",
              "    </tr>\n",
              "    <tr>\n",
              "      <th>50%</th>\n",
              "      <td>11.000000</td>\n",
              "      <td>10.000000</td>\n",
              "    </tr>\n",
              "    <tr>\n",
              "      <th>75%</th>\n",
              "      <td>12.000000</td>\n",
              "      <td>10.000000</td>\n",
              "    </tr>\n",
              "    <tr>\n",
              "      <th>max</th>\n",
              "      <td>1776.000000</td>\n",
              "      <td>170.000000</td>\n",
              "    </tr>\n",
              "  </tbody>\n",
              "</table>\n",
              "</div>"
            ],
            "text/plain": [
              "       rating_numerator  rating_denominator\n",
              "count       2356.000000         2356.000000\n",
              "mean          13.126486           10.455433\n",
              "std           45.876648            6.745237\n",
              "min            0.000000            0.000000\n",
              "25%           10.000000           10.000000\n",
              "50%           11.000000           10.000000\n",
              "75%           12.000000           10.000000\n",
              "max         1776.000000          170.000000"
            ]
          },
          "metadata": {
            "tags": []
          },
          "execution_count": 9
        }
      ]
    },
    {
      "cell_type": "markdown",
      "metadata": {
        "id": "dzHEGlmc2cEV",
        "colab_type": "text"
      },
      "source": [
        "running the describe function on the rating numerator and rating denominator showed that the min in both columns is 0 which is weird that some rating were 0s and the maximum rating_numerator is 1776 which is most certainly could affect our anaylsis and be misleading, and the same goes for the 170 in the denominator rating."
      ]
    },
    {
      "cell_type": "code",
      "metadata": {
        "id": "2Q5ZvUR9ez1u",
        "colab_type": "code",
        "outputId": "6099ee24-77b6-485f-bb88-f47afff42a9b",
        "colab": {
          "base_uri": "https://localhost:8080/",
          "height": 284
        }
      },
      "source": [
        "twitter_archive.query('rating_numerator==0')"
      ],
      "execution_count": 10,
      "outputs": [
        {
          "output_type": "execute_result",
          "data": {
            "text/html": [
              "<div>\n",
              "<style scoped>\n",
              "    .dataframe tbody tr th:only-of-type {\n",
              "        vertical-align: middle;\n",
              "    }\n",
              "\n",
              "    .dataframe tbody tr th {\n",
              "        vertical-align: top;\n",
              "    }\n",
              "\n",
              "    .dataframe thead th {\n",
              "        text-align: right;\n",
              "    }\n",
              "</style>\n",
              "<table border=\"1\" class=\"dataframe\">\n",
              "  <thead>\n",
              "    <tr style=\"text-align: right;\">\n",
              "      <th></th>\n",
              "      <th>tweet_id</th>\n",
              "      <th>in_reply_to_status_id</th>\n",
              "      <th>in_reply_to_user_id</th>\n",
              "      <th>timestamp</th>\n",
              "      <th>source</th>\n",
              "      <th>text</th>\n",
              "      <th>retweeted_status_id</th>\n",
              "      <th>retweeted_status_user_id</th>\n",
              "      <th>retweeted_status_timestamp</th>\n",
              "      <th>expanded_urls</th>\n",
              "      <th>rating_numerator</th>\n",
              "      <th>rating_denominator</th>\n",
              "      <th>name</th>\n",
              "      <th>doggo</th>\n",
              "      <th>floofer</th>\n",
              "      <th>pupper</th>\n",
              "      <th>puppo</th>\n",
              "    </tr>\n",
              "  </thead>\n",
              "  <tbody>\n",
              "    <tr>\n",
              "      <th>315</th>\n",
              "      <td>835152434251116546</td>\n",
              "      <td>NaN</td>\n",
              "      <td>NaN</td>\n",
              "      <td>2017-02-24 15:40:31 +0000</td>\n",
              "      <td>&lt;a href=\"http://twitter.com/download/iphone\" r...</td>\n",
              "      <td>When you're so blinded by your systematic plag...</td>\n",
              "      <td>NaN</td>\n",
              "      <td>NaN</td>\n",
              "      <td>NaN</td>\n",
              "      <td>https://twitter.com/dog_rates/status/835152434...</td>\n",
              "      <td>0</td>\n",
              "      <td>10</td>\n",
              "      <td>None</td>\n",
              "      <td>None</td>\n",
              "      <td>None</td>\n",
              "      <td>None</td>\n",
              "      <td>None</td>\n",
              "    </tr>\n",
              "    <tr>\n",
              "      <th>1016</th>\n",
              "      <td>746906459439529985</td>\n",
              "      <td>7.468859e+17</td>\n",
              "      <td>4.196984e+09</td>\n",
              "      <td>2016-06-26 03:22:31 +0000</td>\n",
              "      <td>&lt;a href=\"http://twitter.com/download/iphone\" r...</td>\n",
              "      <td>PUPDATE: can't see any. Even if I could, I cou...</td>\n",
              "      <td>NaN</td>\n",
              "      <td>NaN</td>\n",
              "      <td>NaN</td>\n",
              "      <td>https://twitter.com/dog_rates/status/746906459...</td>\n",
              "      <td>0</td>\n",
              "      <td>10</td>\n",
              "      <td>None</td>\n",
              "      <td>None</td>\n",
              "      <td>None</td>\n",
              "      <td>None</td>\n",
              "      <td>None</td>\n",
              "    </tr>\n",
              "  </tbody>\n",
              "</table>\n",
              "</div>"
            ],
            "text/plain": [
              "                tweet_id  in_reply_to_status_id  ...  pupper puppo\n",
              "315   835152434251116546                    NaN  ...    None  None\n",
              "1016  746906459439529985           7.468859e+17  ...    None  None\n",
              "\n",
              "[2 rows x 17 columns]"
            ]
          },
          "metadata": {
            "tags": []
          },
          "execution_count": 10
        }
      ]
    },
    {
      "cell_type": "code",
      "metadata": {
        "id": "I9h65_uY3ONC",
        "colab_type": "code",
        "outputId": "0413cae5-86e9-4802-9287-dc67f1e618d7",
        "colab": {
          "base_uri": "https://localhost:8080/",
          "height": 202
        }
      },
      "source": [
        "twitter_archive.query('rating_numerator==1776')"
      ],
      "execution_count": 11,
      "outputs": [
        {
          "output_type": "execute_result",
          "data": {
            "text/html": [
              "<div>\n",
              "<style scoped>\n",
              "    .dataframe tbody tr th:only-of-type {\n",
              "        vertical-align: middle;\n",
              "    }\n",
              "\n",
              "    .dataframe tbody tr th {\n",
              "        vertical-align: top;\n",
              "    }\n",
              "\n",
              "    .dataframe thead th {\n",
              "        text-align: right;\n",
              "    }\n",
              "</style>\n",
              "<table border=\"1\" class=\"dataframe\">\n",
              "  <thead>\n",
              "    <tr style=\"text-align: right;\">\n",
              "      <th></th>\n",
              "      <th>tweet_id</th>\n",
              "      <th>in_reply_to_status_id</th>\n",
              "      <th>in_reply_to_user_id</th>\n",
              "      <th>timestamp</th>\n",
              "      <th>source</th>\n",
              "      <th>text</th>\n",
              "      <th>retweeted_status_id</th>\n",
              "      <th>retweeted_status_user_id</th>\n",
              "      <th>retweeted_status_timestamp</th>\n",
              "      <th>expanded_urls</th>\n",
              "      <th>rating_numerator</th>\n",
              "      <th>rating_denominator</th>\n",
              "      <th>name</th>\n",
              "      <th>doggo</th>\n",
              "      <th>floofer</th>\n",
              "      <th>pupper</th>\n",
              "      <th>puppo</th>\n",
              "    </tr>\n",
              "  </thead>\n",
              "  <tbody>\n",
              "    <tr>\n",
              "      <th>979</th>\n",
              "      <td>749981277374128128</td>\n",
              "      <td>NaN</td>\n",
              "      <td>NaN</td>\n",
              "      <td>2016-07-04 15:00:45 +0000</td>\n",
              "      <td>&lt;a href=\"https://about.twitter.com/products/tw...</td>\n",
              "      <td>This is Atticus. He's quite simply America af....</td>\n",
              "      <td>NaN</td>\n",
              "      <td>NaN</td>\n",
              "      <td>NaN</td>\n",
              "      <td>https://twitter.com/dog_rates/status/749981277...</td>\n",
              "      <td>1776</td>\n",
              "      <td>10</td>\n",
              "      <td>Atticus</td>\n",
              "      <td>None</td>\n",
              "      <td>None</td>\n",
              "      <td>None</td>\n",
              "      <td>None</td>\n",
              "    </tr>\n",
              "  </tbody>\n",
              "</table>\n",
              "</div>"
            ],
            "text/plain": [
              "               tweet_id  in_reply_to_status_id  ...  pupper puppo\n",
              "979  749981277374128128                    NaN  ...    None  None\n",
              "\n",
              "[1 rows x 17 columns]"
            ]
          },
          "metadata": {
            "tags": []
          },
          "execution_count": 11
        }
      ]
    },
    {
      "cell_type": "code",
      "metadata": {
        "id": "QgAlmzese_jD",
        "colab_type": "code",
        "outputId": "ad121b8d-3f12-4730-ae3d-06db8d09bb2b",
        "colab": {
          "base_uri": "https://localhost:8080/",
          "height": 168
        }
      },
      "source": [
        "twitter_archive.query('rating_denominator==0')"
      ],
      "execution_count": 12,
      "outputs": [
        {
          "output_type": "execute_result",
          "data": {
            "text/html": [
              "<div>\n",
              "<style scoped>\n",
              "    .dataframe tbody tr th:only-of-type {\n",
              "        vertical-align: middle;\n",
              "    }\n",
              "\n",
              "    .dataframe tbody tr th {\n",
              "        vertical-align: top;\n",
              "    }\n",
              "\n",
              "    .dataframe thead th {\n",
              "        text-align: right;\n",
              "    }\n",
              "</style>\n",
              "<table border=\"1\" class=\"dataframe\">\n",
              "  <thead>\n",
              "    <tr style=\"text-align: right;\">\n",
              "      <th></th>\n",
              "      <th>tweet_id</th>\n",
              "      <th>in_reply_to_status_id</th>\n",
              "      <th>in_reply_to_user_id</th>\n",
              "      <th>timestamp</th>\n",
              "      <th>source</th>\n",
              "      <th>text</th>\n",
              "      <th>retweeted_status_id</th>\n",
              "      <th>retweeted_status_user_id</th>\n",
              "      <th>retweeted_status_timestamp</th>\n",
              "      <th>expanded_urls</th>\n",
              "      <th>rating_numerator</th>\n",
              "      <th>rating_denominator</th>\n",
              "      <th>name</th>\n",
              "      <th>doggo</th>\n",
              "      <th>floofer</th>\n",
              "      <th>pupper</th>\n",
              "      <th>puppo</th>\n",
              "    </tr>\n",
              "  </thead>\n",
              "  <tbody>\n",
              "    <tr>\n",
              "      <th>313</th>\n",
              "      <td>835246439529840640</td>\n",
              "      <td>8.352460e+17</td>\n",
              "      <td>26259576.0</td>\n",
              "      <td>2017-02-24 21:54:03 +0000</td>\n",
              "      <td>&lt;a href=\"http://twitter.com/download/iphone\" r...</td>\n",
              "      <td>@jonnysun @Lin_Manuel ok jomny I know you're e...</td>\n",
              "      <td>NaN</td>\n",
              "      <td>NaN</td>\n",
              "      <td>NaN</td>\n",
              "      <td>NaN</td>\n",
              "      <td>960</td>\n",
              "      <td>0</td>\n",
              "      <td>None</td>\n",
              "      <td>None</td>\n",
              "      <td>None</td>\n",
              "      <td>None</td>\n",
              "      <td>None</td>\n",
              "    </tr>\n",
              "  </tbody>\n",
              "</table>\n",
              "</div>"
            ],
            "text/plain": [
              "               tweet_id  in_reply_to_status_id  ...  pupper puppo\n",
              "313  835246439529840640           8.352460e+17  ...    None  None\n",
              "\n",
              "[1 rows x 17 columns]"
            ]
          },
          "metadata": {
            "tags": []
          },
          "execution_count": 12
        }
      ]
    },
    {
      "cell_type": "code",
      "metadata": {
        "id": "gFujU-O9dB4I",
        "colab_type": "code",
        "outputId": "e30bb556-d1a6-495d-c8cf-239de23162ca",
        "colab": {
          "base_uri": "https://localhost:8080/",
          "height": 221
        }
      },
      "source": [
        "twitter_archive.name.value_counts()"
      ],
      "execution_count": 13,
      "outputs": [
        {
          "output_type": "execute_result",
          "data": {
            "text/plain": [
              "None        745\n",
              "a            55\n",
              "Charlie      12\n",
              "Cooper       11\n",
              "Lucy         11\n",
              "           ... \n",
              "Cilantro      1\n",
              "Dex           1\n",
              "Snicku        1\n",
              "Harry         1\n",
              "Angel         1\n",
              "Name: name, Length: 957, dtype: int64"
            ]
          },
          "metadata": {
            "tags": []
          },
          "execution_count": 13
        }
      ]
    },
    {
      "cell_type": "markdown",
      "metadata": {
        "id": "cYlVry8aUxWV",
        "colab_type": "text"
      },
      "source": [
        "The task is to deal with original tweets only but i have 181 retweets and 78 reolies to tweets"
      ]
    },
    {
      "cell_type": "code",
      "metadata": {
        "id": "ZnnWU4K4Z19e",
        "colab_type": "code",
        "colab": {}
      },
      "source": [
        "# i found that value != np.nan doest work in the queries syntax and using value == value is an acceptable syntax for the same purpose"
      ],
      "execution_count": 0,
      "outputs": []
    },
    {
      "cell_type": "markdown",
      "metadata": {
        "id": "tPlQj0dAaQ1G",
        "colab_type": "text"
      },
      "source": [
        "we have 181 retweets and i found their index"
      ]
    },
    {
      "cell_type": "code",
      "metadata": {
        "id": "QTs1PE9ES2ec",
        "colab_type": "code",
        "colab": {}
      },
      "source": [
        "retweets_index=twitter_archive.query('retweeted_status_id == retweeted_status_id').index"
      ],
      "execution_count": 0,
      "outputs": []
    },
    {
      "cell_type": "markdown",
      "metadata": {
        "id": "rexSTqQXacSv",
        "colab_type": "text"
      },
      "source": [
        "we have 78 replies to orignial tweets and i found their index"
      ]
    },
    {
      "cell_type": "code",
      "metadata": {
        "id": "lmv5x3JaabCS",
        "colab_type": "code",
        "colab": {}
      },
      "source": [
        "in_reply_index=twitter_archive.query('in_reply_to_status_id == in_reply_to_status_id').index"
      ],
      "execution_count": 0,
      "outputs": []
    },
    {
      "cell_type": "markdown",
      "metadata": {
        "id": "3x0_0nJlbm-H",
        "colab_type": "text"
      },
      "source": [
        "I have 59 missing values in expanded_urls and i found their index"
      ]
    },
    {
      "cell_type": "code",
      "metadata": {
        "id": "nD5yNLwPb_ke",
        "colab_type": "code",
        "colab": {}
      },
      "source": [
        "expanded_urls_index=twitter_archive.query('expanded_urls != expanded_urls').index"
      ],
      "execution_count": 0,
      "outputs": []
    },
    {
      "cell_type": "markdown",
      "metadata": {
        "id": "oXV4HqtJPAob",
        "colab_type": "text"
      },
      "source": [
        "## Our second source of data is image_prediction.tsv file \n",
        "That file was ready to be downloaded through Udacity platform but it was asked to do this task through requests library so i did it by both ways"
      ]
    },
    {
      "cell_type": "code",
      "metadata": {
        "id": "pCz3mJ5LgS4m",
        "colab_type": "code",
        "outputId": "c2d0edcc-decd-4575-a58b-52f2ca217ed3",
        "colab": {
          "base_uri": "https://localhost:8080/",
          "height": 100
        }
      },
      "source": [
        "#The image prediction file was already available in Udacity resources platform and needed only to be imported\n",
        "image_prediction=pd.read_csv('wrangle-and-analyze-data-project/image-predictions.tsv',sep='\\t')\n",
        "image_prediction.head(1)"
      ],
      "execution_count": 18,
      "outputs": [
        {
          "output_type": "execute_result",
          "data": {
            "text/html": [
              "<div>\n",
              "<style scoped>\n",
              "    .dataframe tbody tr th:only-of-type {\n",
              "        vertical-align: middle;\n",
              "    }\n",
              "\n",
              "    .dataframe tbody tr th {\n",
              "        vertical-align: top;\n",
              "    }\n",
              "\n",
              "    .dataframe thead th {\n",
              "        text-align: right;\n",
              "    }\n",
              "</style>\n",
              "<table border=\"1\" class=\"dataframe\">\n",
              "  <thead>\n",
              "    <tr style=\"text-align: right;\">\n",
              "      <th></th>\n",
              "      <th>tweet_id</th>\n",
              "      <th>jpg_url</th>\n",
              "      <th>img_num</th>\n",
              "      <th>p1</th>\n",
              "      <th>p1_conf</th>\n",
              "      <th>p1_dog</th>\n",
              "      <th>p2</th>\n",
              "      <th>p2_conf</th>\n",
              "      <th>p2_dog</th>\n",
              "      <th>p3</th>\n",
              "      <th>p3_conf</th>\n",
              "      <th>p3_dog</th>\n",
              "    </tr>\n",
              "  </thead>\n",
              "  <tbody>\n",
              "    <tr>\n",
              "      <th>0</th>\n",
              "      <td>666020888022790149</td>\n",
              "      <td>https://pbs.twimg.com/media/CT4udn0WwAA0aMy.jpg</td>\n",
              "      <td>1</td>\n",
              "      <td>Welsh_springer_spaniel</td>\n",
              "      <td>0.465074</td>\n",
              "      <td>True</td>\n",
              "      <td>collie</td>\n",
              "      <td>0.156665</td>\n",
              "      <td>True</td>\n",
              "      <td>Shetland_sheepdog</td>\n",
              "      <td>0.061428</td>\n",
              "      <td>True</td>\n",
              "    </tr>\n",
              "  </tbody>\n",
              "</table>\n",
              "</div>"
            ],
            "text/plain": [
              "             tweet_id  ... p3_dog\n",
              "0  666020888022790149  ...   True\n",
              "\n",
              "[1 rows x 12 columns]"
            ]
          },
          "metadata": {
            "tags": []
          },
          "execution_count": 18
        }
      ]
    },
    {
      "cell_type": "markdown",
      "metadata": {
        "id": "cplHIrRTVTHg",
        "colab_type": "text"
      },
      "source": [
        "The other way to import the image_prediction file by requests library"
      ]
    },
    {
      "cell_type": "code",
      "metadata": {
        "id": "LIsVCTvrg8zK",
        "colab_type": "code",
        "colab": {}
      },
      "source": [
        "r=requests.get('https://d17h27t6h515a5.cloudfront.net/topher/2017/August/599fd2ad_image-predictions/image-predictions.tsv').content"
      ],
      "execution_count": 0,
      "outputs": []
    },
    {
      "cell_type": "code",
      "metadata": {
        "id": "88ENguvjv4Ui",
        "colab_type": "code",
        "colab": {}
      },
      "source": [
        "import io\n",
        "df = pd.read_csv(io.StringIO(r.decode('utf-8')),sep='\\t')"
      ],
      "execution_count": 0,
      "outputs": []
    },
    {
      "cell_type": "code",
      "metadata": {
        "id": "fAwRUWYtxURy",
        "colab_type": "code",
        "outputId": "6892b97e-d07c-4bbc-cba2-5d9cba751c71",
        "colab": {
          "base_uri": "https://localhost:8080/",
          "height": 224
        }
      },
      "source": [
        "df.head()"
      ],
      "execution_count": 21,
      "outputs": [
        {
          "output_type": "execute_result",
          "data": {
            "text/html": [
              "<div>\n",
              "<style scoped>\n",
              "    .dataframe tbody tr th:only-of-type {\n",
              "        vertical-align: middle;\n",
              "    }\n",
              "\n",
              "    .dataframe tbody tr th {\n",
              "        vertical-align: top;\n",
              "    }\n",
              "\n",
              "    .dataframe thead th {\n",
              "        text-align: right;\n",
              "    }\n",
              "</style>\n",
              "<table border=\"1\" class=\"dataframe\">\n",
              "  <thead>\n",
              "    <tr style=\"text-align: right;\">\n",
              "      <th></th>\n",
              "      <th>tweet_id</th>\n",
              "      <th>jpg_url</th>\n",
              "      <th>img_num</th>\n",
              "      <th>p1</th>\n",
              "      <th>p1_conf</th>\n",
              "      <th>p1_dog</th>\n",
              "      <th>p2</th>\n",
              "      <th>p2_conf</th>\n",
              "      <th>p2_dog</th>\n",
              "      <th>p3</th>\n",
              "      <th>p3_conf</th>\n",
              "      <th>p3_dog</th>\n",
              "    </tr>\n",
              "  </thead>\n",
              "  <tbody>\n",
              "    <tr>\n",
              "      <th>0</th>\n",
              "      <td>666020888022790149</td>\n",
              "      <td>https://pbs.twimg.com/media/CT4udn0WwAA0aMy.jpg</td>\n",
              "      <td>1</td>\n",
              "      <td>Welsh_springer_spaniel</td>\n",
              "      <td>0.465074</td>\n",
              "      <td>True</td>\n",
              "      <td>collie</td>\n",
              "      <td>0.156665</td>\n",
              "      <td>True</td>\n",
              "      <td>Shetland_sheepdog</td>\n",
              "      <td>0.061428</td>\n",
              "      <td>True</td>\n",
              "    </tr>\n",
              "    <tr>\n",
              "      <th>1</th>\n",
              "      <td>666029285002620928</td>\n",
              "      <td>https://pbs.twimg.com/media/CT42GRgUYAA5iDo.jpg</td>\n",
              "      <td>1</td>\n",
              "      <td>redbone</td>\n",
              "      <td>0.506826</td>\n",
              "      <td>True</td>\n",
              "      <td>miniature_pinscher</td>\n",
              "      <td>0.074192</td>\n",
              "      <td>True</td>\n",
              "      <td>Rhodesian_ridgeback</td>\n",
              "      <td>0.072010</td>\n",
              "      <td>True</td>\n",
              "    </tr>\n",
              "    <tr>\n",
              "      <th>2</th>\n",
              "      <td>666033412701032449</td>\n",
              "      <td>https://pbs.twimg.com/media/CT4521TWwAEvMyu.jpg</td>\n",
              "      <td>1</td>\n",
              "      <td>German_shepherd</td>\n",
              "      <td>0.596461</td>\n",
              "      <td>True</td>\n",
              "      <td>malinois</td>\n",
              "      <td>0.138584</td>\n",
              "      <td>True</td>\n",
              "      <td>bloodhound</td>\n",
              "      <td>0.116197</td>\n",
              "      <td>True</td>\n",
              "    </tr>\n",
              "    <tr>\n",
              "      <th>3</th>\n",
              "      <td>666044226329800704</td>\n",
              "      <td>https://pbs.twimg.com/media/CT5Dr8HUEAA-lEu.jpg</td>\n",
              "      <td>1</td>\n",
              "      <td>Rhodesian_ridgeback</td>\n",
              "      <td>0.408143</td>\n",
              "      <td>True</td>\n",
              "      <td>redbone</td>\n",
              "      <td>0.360687</td>\n",
              "      <td>True</td>\n",
              "      <td>miniature_pinscher</td>\n",
              "      <td>0.222752</td>\n",
              "      <td>True</td>\n",
              "    </tr>\n",
              "    <tr>\n",
              "      <th>4</th>\n",
              "      <td>666049248165822465</td>\n",
              "      <td>https://pbs.twimg.com/media/CT5IQmsXIAAKY4A.jpg</td>\n",
              "      <td>1</td>\n",
              "      <td>miniature_pinscher</td>\n",
              "      <td>0.560311</td>\n",
              "      <td>True</td>\n",
              "      <td>Rottweiler</td>\n",
              "      <td>0.243682</td>\n",
              "      <td>True</td>\n",
              "      <td>Doberman</td>\n",
              "      <td>0.154629</td>\n",
              "      <td>True</td>\n",
              "    </tr>\n",
              "  </tbody>\n",
              "</table>\n",
              "</div>"
            ],
            "text/plain": [
              "             tweet_id  ... p3_dog\n",
              "0  666020888022790149  ...   True\n",
              "1  666029285002620928  ...   True\n",
              "2  666033412701032449  ...   True\n",
              "3  666044226329800704  ...   True\n",
              "4  666049248165822465  ...   True\n",
              "\n",
              "[5 rows x 12 columns]"
            ]
          },
          "metadata": {
            "tags": []
          },
          "execution_count": 21
        }
      ]
    },
    {
      "cell_type": "markdown",
      "metadata": {
        "id": "9lLrOvwvVlwU",
        "colab_type": "text"
      },
      "source": [
        "As usual I will start by checking the number of rows and columns and some initial information about the columns and missing values "
      ]
    },
    {
      "cell_type": "code",
      "metadata": {
        "id": "CzVOnHS5VjwD",
        "colab_type": "code",
        "outputId": "a0d99852-f8be-4a15-90a4-36176c51e4f2",
        "colab": {
          "base_uri": "https://localhost:8080/",
          "height": 80
        }
      },
      "source": [
        "image_prediction.tail(1)"
      ],
      "execution_count": 22,
      "outputs": [
        {
          "output_type": "execute_result",
          "data": {
            "text/html": [
              "<div>\n",
              "<style scoped>\n",
              "    .dataframe tbody tr th:only-of-type {\n",
              "        vertical-align: middle;\n",
              "    }\n",
              "\n",
              "    .dataframe tbody tr th {\n",
              "        vertical-align: top;\n",
              "    }\n",
              "\n",
              "    .dataframe thead th {\n",
              "        text-align: right;\n",
              "    }\n",
              "</style>\n",
              "<table border=\"1\" class=\"dataframe\">\n",
              "  <thead>\n",
              "    <tr style=\"text-align: right;\">\n",
              "      <th></th>\n",
              "      <th>tweet_id</th>\n",
              "      <th>jpg_url</th>\n",
              "      <th>img_num</th>\n",
              "      <th>p1</th>\n",
              "      <th>p1_conf</th>\n",
              "      <th>p1_dog</th>\n",
              "      <th>p2</th>\n",
              "      <th>p2_conf</th>\n",
              "      <th>p2_dog</th>\n",
              "      <th>p3</th>\n",
              "      <th>p3_conf</th>\n",
              "      <th>p3_dog</th>\n",
              "    </tr>\n",
              "  </thead>\n",
              "  <tbody>\n",
              "    <tr>\n",
              "      <th>2074</th>\n",
              "      <td>892420643555336193</td>\n",
              "      <td>https://pbs.twimg.com/media/DGKD1-bXoAAIAUK.jpg</td>\n",
              "      <td>1</td>\n",
              "      <td>orange</td>\n",
              "      <td>0.097049</td>\n",
              "      <td>False</td>\n",
              "      <td>bagel</td>\n",
              "      <td>0.085851</td>\n",
              "      <td>False</td>\n",
              "      <td>banana</td>\n",
              "      <td>0.07611</td>\n",
              "      <td>False</td>\n",
              "    </tr>\n",
              "  </tbody>\n",
              "</table>\n",
              "</div>"
            ],
            "text/plain": [
              "                tweet_id  ... p3_dog\n",
              "2074  892420643555336193  ...  False\n",
              "\n",
              "[1 rows x 12 columns]"
            ]
          },
          "metadata": {
            "tags": []
          },
          "execution_count": 22
        }
      ]
    },
    {
      "cell_type": "code",
      "metadata": {
        "id": "AuqyIKRaWUlL",
        "colab_type": "code",
        "outputId": "51d8f7cc-18f4-45c3-8aa6-71b0bd4aff2e",
        "colab": {
          "base_uri": "https://localhost:8080/",
          "height": 34
        }
      },
      "source": [
        "#number of rows and columns in our dataframe\n",
        "image_prediction.shape"
      ],
      "execution_count": 23,
      "outputs": [
        {
          "output_type": "execute_result",
          "data": {
            "text/plain": [
              "(2075, 12)"
            ]
          },
          "metadata": {
            "tags": []
          },
          "execution_count": 23
        }
      ]
    },
    {
      "cell_type": "markdown",
      "metadata": {
        "id": "hS7c38gUYFhe",
        "colab_type": "text"
      },
      "source": [
        "Let's check about duplicated rows and it appears that there are no duplicated rows"
      ]
    },
    {
      "cell_type": "code",
      "metadata": {
        "id": "Cyut-T3AX97f",
        "colab_type": "code",
        "outputId": "5ec05844-591c-4aa6-a108-d26f7f12c63f",
        "colab": {
          "base_uri": "https://localhost:8080/",
          "height": 34
        }
      },
      "source": [
        "image_prediction.duplicated().all()"
      ],
      "execution_count": 24,
      "outputs": [
        {
          "output_type": "execute_result",
          "data": {
            "text/plain": [
              "False"
            ]
          },
          "metadata": {
            "tags": []
          },
          "execution_count": 24
        }
      ]
    },
    {
      "cell_type": "markdown",
      "metadata": {
        "id": "LwU5XRxTURQV",
        "colab_type": "text"
      },
      "source": [
        "Ok I will start by checking the rows that predicted other stuff than dogs and open their urls to check if these tweets contained dogs pictures or not as based on that I will keep these rows or remove them, and after checking these rows by random check, I found out that these tweets do contain dogs and the model wrongly interpreted them as other stuff"
      ]
    },
    {
      "cell_type": "code",
      "metadata": {
        "id": "bF85qTKJN7AX",
        "colab_type": "code",
        "outputId": "e7d690f5-8b79-4ba5-c33d-2551d50c2f62",
        "colab": {
          "base_uri": "https://localhost:8080/",
          "height": 439
        }
      },
      "source": [
        "image_prediction.query('p1_dog==False')"
      ],
      "execution_count": 25,
      "outputs": [
        {
          "output_type": "execute_result",
          "data": {
            "text/html": [
              "<div>\n",
              "<style scoped>\n",
              "    .dataframe tbody tr th:only-of-type {\n",
              "        vertical-align: middle;\n",
              "    }\n",
              "\n",
              "    .dataframe tbody tr th {\n",
              "        vertical-align: top;\n",
              "    }\n",
              "\n",
              "    .dataframe thead th {\n",
              "        text-align: right;\n",
              "    }\n",
              "</style>\n",
              "<table border=\"1\" class=\"dataframe\">\n",
              "  <thead>\n",
              "    <tr style=\"text-align: right;\">\n",
              "      <th></th>\n",
              "      <th>tweet_id</th>\n",
              "      <th>jpg_url</th>\n",
              "      <th>img_num</th>\n",
              "      <th>p1</th>\n",
              "      <th>p1_conf</th>\n",
              "      <th>p1_dog</th>\n",
              "      <th>p2</th>\n",
              "      <th>p2_conf</th>\n",
              "      <th>p2_dog</th>\n",
              "      <th>p3</th>\n",
              "      <th>p3_conf</th>\n",
              "      <th>p3_dog</th>\n",
              "    </tr>\n",
              "  </thead>\n",
              "  <tbody>\n",
              "    <tr>\n",
              "      <th>6</th>\n",
              "      <td>666051853826850816</td>\n",
              "      <td>https://pbs.twimg.com/media/CT5KoJ1WoAAJash.jpg</td>\n",
              "      <td>1</td>\n",
              "      <td>box_turtle</td>\n",
              "      <td>0.933012</td>\n",
              "      <td>False</td>\n",
              "      <td>mud_turtle</td>\n",
              "      <td>0.045885</td>\n",
              "      <td>False</td>\n",
              "      <td>terrapin</td>\n",
              "      <td>0.017885</td>\n",
              "      <td>False</td>\n",
              "    </tr>\n",
              "    <tr>\n",
              "      <th>8</th>\n",
              "      <td>666057090499244032</td>\n",
              "      <td>https://pbs.twimg.com/media/CT5PY90WoAAQGLo.jpg</td>\n",
              "      <td>1</td>\n",
              "      <td>shopping_cart</td>\n",
              "      <td>0.962465</td>\n",
              "      <td>False</td>\n",
              "      <td>shopping_basket</td>\n",
              "      <td>0.014594</td>\n",
              "      <td>False</td>\n",
              "      <td>golden_retriever</td>\n",
              "      <td>0.007959</td>\n",
              "      <td>True</td>\n",
              "    </tr>\n",
              "    <tr>\n",
              "      <th>17</th>\n",
              "      <td>666104133288665088</td>\n",
              "      <td>https://pbs.twimg.com/media/CT56LSZWoAAlJj2.jpg</td>\n",
              "      <td>1</td>\n",
              "      <td>hen</td>\n",
              "      <td>0.965932</td>\n",
              "      <td>False</td>\n",
              "      <td>cock</td>\n",
              "      <td>0.033919</td>\n",
              "      <td>False</td>\n",
              "      <td>partridge</td>\n",
              "      <td>0.000052</td>\n",
              "      <td>False</td>\n",
              "    </tr>\n",
              "    <tr>\n",
              "      <th>18</th>\n",
              "      <td>666268910803644416</td>\n",
              "      <td>https://pbs.twimg.com/media/CT8QCd1WEAADXws.jpg</td>\n",
              "      <td>1</td>\n",
              "      <td>desktop_computer</td>\n",
              "      <td>0.086502</td>\n",
              "      <td>False</td>\n",
              "      <td>desk</td>\n",
              "      <td>0.085547</td>\n",
              "      <td>False</td>\n",
              "      <td>bookcase</td>\n",
              "      <td>0.079480</td>\n",
              "      <td>False</td>\n",
              "    </tr>\n",
              "    <tr>\n",
              "      <th>21</th>\n",
              "      <td>666293911632134144</td>\n",
              "      <td>https://pbs.twimg.com/media/CT8mx7KW4AEQu8N.jpg</td>\n",
              "      <td>1</td>\n",
              "      <td>three-toed_sloth</td>\n",
              "      <td>0.914671</td>\n",
              "      <td>False</td>\n",
              "      <td>otter</td>\n",
              "      <td>0.015250</td>\n",
              "      <td>False</td>\n",
              "      <td>great_grey_owl</td>\n",
              "      <td>0.013207</td>\n",
              "      <td>False</td>\n",
              "    </tr>\n",
              "    <tr>\n",
              "      <th>...</th>\n",
              "      <td>...</td>\n",
              "      <td>...</td>\n",
              "      <td>...</td>\n",
              "      <td>...</td>\n",
              "      <td>...</td>\n",
              "      <td>...</td>\n",
              "      <td>...</td>\n",
              "      <td>...</td>\n",
              "      <td>...</td>\n",
              "      <td>...</td>\n",
              "      <td>...</td>\n",
              "      <td>...</td>\n",
              "    </tr>\n",
              "    <tr>\n",
              "      <th>2026</th>\n",
              "      <td>882045870035918850</td>\n",
              "      <td>https://pbs.twimg.com/media/DD2oCl2WAAEI_4a.jpg</td>\n",
              "      <td>1</td>\n",
              "      <td>web_site</td>\n",
              "      <td>0.949591</td>\n",
              "      <td>False</td>\n",
              "      <td>dhole</td>\n",
              "      <td>0.017326</td>\n",
              "      <td>False</td>\n",
              "      <td>golden_retriever</td>\n",
              "      <td>0.006941</td>\n",
              "      <td>True</td>\n",
              "    </tr>\n",
              "    <tr>\n",
              "      <th>2046</th>\n",
              "      <td>886680336477933568</td>\n",
              "      <td>https://pbs.twimg.com/media/DE4fEDzWAAAyHMM.jpg</td>\n",
              "      <td>1</td>\n",
              "      <td>convertible</td>\n",
              "      <td>0.738995</td>\n",
              "      <td>False</td>\n",
              "      <td>sports_car</td>\n",
              "      <td>0.139952</td>\n",
              "      <td>False</td>\n",
              "      <td>car_wheel</td>\n",
              "      <td>0.044173</td>\n",
              "      <td>False</td>\n",
              "    </tr>\n",
              "    <tr>\n",
              "      <th>2052</th>\n",
              "      <td>887517139158093824</td>\n",
              "      <td>https://pbs.twimg.com/ext_tw_video_thumb/88751...</td>\n",
              "      <td>1</td>\n",
              "      <td>limousine</td>\n",
              "      <td>0.130432</td>\n",
              "      <td>False</td>\n",
              "      <td>tow_truck</td>\n",
              "      <td>0.029175</td>\n",
              "      <td>False</td>\n",
              "      <td>shopping_cart</td>\n",
              "      <td>0.026321</td>\n",
              "      <td>False</td>\n",
              "    </tr>\n",
              "    <tr>\n",
              "      <th>2071</th>\n",
              "      <td>891689557279858688</td>\n",
              "      <td>https://pbs.twimg.com/media/DF_q7IAWsAEuuN8.jpg</td>\n",
              "      <td>1</td>\n",
              "      <td>paper_towel</td>\n",
              "      <td>0.170278</td>\n",
              "      <td>False</td>\n",
              "      <td>Labrador_retriever</td>\n",
              "      <td>0.168086</td>\n",
              "      <td>True</td>\n",
              "      <td>spatula</td>\n",
              "      <td>0.040836</td>\n",
              "      <td>False</td>\n",
              "    </tr>\n",
              "    <tr>\n",
              "      <th>2074</th>\n",
              "      <td>892420643555336193</td>\n",
              "      <td>https://pbs.twimg.com/media/DGKD1-bXoAAIAUK.jpg</td>\n",
              "      <td>1</td>\n",
              "      <td>orange</td>\n",
              "      <td>0.097049</td>\n",
              "      <td>False</td>\n",
              "      <td>bagel</td>\n",
              "      <td>0.085851</td>\n",
              "      <td>False</td>\n",
              "      <td>banana</td>\n",
              "      <td>0.076110</td>\n",
              "      <td>False</td>\n",
              "    </tr>\n",
              "  </tbody>\n",
              "</table>\n",
              "<p>543 rows × 12 columns</p>\n",
              "</div>"
            ],
            "text/plain": [
              "                tweet_id  ... p3_dog\n",
              "6     666051853826850816  ...  False\n",
              "8     666057090499244032  ...   True\n",
              "17    666104133288665088  ...  False\n",
              "18    666268910803644416  ...  False\n",
              "21    666293911632134144  ...  False\n",
              "...                  ...  ...    ...\n",
              "2026  882045870035918850  ...   True\n",
              "2046  886680336477933568  ...  False\n",
              "2052  887517139158093824  ...  False\n",
              "2071  891689557279858688  ...  False\n",
              "2074  892420643555336193  ...  False\n",
              "\n",
              "[543 rows x 12 columns]"
            ]
          },
          "metadata": {
            "tags": []
          },
          "execution_count": 25
        }
      ]
    },
    {
      "cell_type": "markdown",
      "metadata": {
        "id": "Sgr8wD1GY_K8",
        "colab_type": "text"
      },
      "source": [
        "## Our third source of data is the twitter api\n",
        "I will use the twitter api itself to collect two additional columns required in this project(retweet_count, favorite_count). I created a develpoment account on twitter and requested access to their api and was granted access. After that I used twwepy library to download tweets json content to a text file and then read them line by line and create my third dataframe which is ret_fav_count."
      ]
    },
    {
      "cell_type": "markdown",
      "metadata": {
        "id": "RfcdV8M9Z7mL",
        "colab_type": "text"
      },
      "source": [
        "Using my granted access token to access the twitter api"
      ]
    },
    {
      "cell_type": "code",
      "metadata": {
        "id": "4Iv1YWTLyRMF",
        "colab_type": "code",
        "colab": {
          "base_uri": "https://localhost:8080/",
          "height": 34
        },
        "outputId": "f7b0e482-4170-46f2-9f52-ab65ee89d50f"
      },
      "source": [
        "''' Code was masked as I was asked to not include my twitter access tokens '''\n",
        "#auth=tweepy.OAuthHandler()\n",
        "#auth.set_access_token(,)\n",
        "#api=tweepy.API(auth,wait_on_rate_limit=True,wait_on_rate_limit_notify=True)"
      ],
      "execution_count": 28,
      "outputs": [
        {
          "output_type": "execute_result",
          "data": {
            "text/plain": [
              "' Code was masked as I was asked to not include my twitter access tokens '"
            ]
          },
          "metadata": {
            "tags": []
          },
          "execution_count": 28
        }
      ]
    },
    {
      "cell_type": "code",
      "metadata": {
        "id": "Lspui2lZ-JBq",
        "colab_type": "code",
        "outputId": "82fb4b97-a212-407c-b67a-e73137c82fbf",
        "colab": {
          "base_uri": "https://localhost:8080/",
          "height": 54
        }
      },
      "source": [
        "tweet=api.get_status(666049248165822465,tweet_mode='extended')\n",
        "#i will check the different attributes \n",
        "tweet"
      ],
      "execution_count": 0,
      "outputs": [
        {
          "output_type": "execute_result",
          "data": {
            "text/plain": [
              "Status(_api=<tweepy.api.API object at 0x7f91b8d9fe80>, _json={'created_at': 'Mon Nov 16 00:24:50 +0000 2015', 'id': 666049248165822465, 'id_str': '666049248165822465', 'full_text': 'Here we have a 1949 1st generation vulpix. Enjoys sweat tea and Fox News. Cannot be phased. 5/10 https://t.co/4B7cOc1EDq', 'truncated': False, 'display_text_range': [0, 120], 'entities': {'hashtags': [], 'symbols': [], 'user_mentions': [], 'urls': [], 'media': [{'id': 666049244999131136, 'id_str': '666049244999131136', 'indices': [97, 120], 'media_url': 'http://pbs.twimg.com/media/CT5IQmsXIAAKY4A.jpg', 'media_url_https': 'https://pbs.twimg.com/media/CT5IQmsXIAAKY4A.jpg', 'url': 'https://t.co/4B7cOc1EDq', 'display_url': 'pic.twitter.com/4B7cOc1EDq', 'expanded_url': 'https://twitter.com/dog_rates/status/666049248165822465/photo/1', 'type': 'photo', 'sizes': {'thumb': {'w': 150, 'h': 150, 'resize': 'crop'}, 'small': {'w': 510, 'h': 680, 'resize': 'fit'}, 'large': {'w': 768, 'h': 1024, 'resize': 'fit'}, 'medium': {'w': 768, 'h': 1024, 'resize': 'fit'}}}]}, 'extended_entities': {'media': [{'id': 666049244999131136, 'id_str': '666049244999131136', 'indices': [97, 120], 'media_url': 'http://pbs.twimg.com/media/CT5IQmsXIAAKY4A.jpg', 'media_url_https': 'https://pbs.twimg.com/media/CT5IQmsXIAAKY4A.jpg', 'url': 'https://t.co/4B7cOc1EDq', 'display_url': 'pic.twitter.com/4B7cOc1EDq', 'expanded_url': 'https://twitter.com/dog_rates/status/666049248165822465/photo/1', 'type': 'photo', 'sizes': {'thumb': {'w': 150, 'h': 150, 'resize': 'crop'}, 'small': {'w': 510, 'h': 680, 'resize': 'fit'}, 'large': {'w': 768, 'h': 1024, 'resize': 'fit'}, 'medium': {'w': 768, 'h': 1024, 'resize': 'fit'}}}]}, 'source': '<a href=\"http://twitter.com/download/iphone\" rel=\"nofollow\">Twitter for iPhone</a>', 'in_reply_to_status_id': None, 'in_reply_to_status_id_str': None, 'in_reply_to_user_id': None, 'in_reply_to_user_id_str': None, 'in_reply_to_screen_name': None, 'user': {'id': 4196983835, 'id_str': '4196983835', 'name': 'WeRateDogs®', 'screen_name': 'dog_rates', 'location': '「 DM YOUR DOGS 」', 'description': 'Your Only Source For Professional Dog Ratings Instagram and Facebook ➪ WeRateDogs partnerships@weratedogs.com ⠀⠀⠀⠀⠀⠀⠀⠀⠀⠀⠀⠀', 'url': 'https://t.co/N7sNNHSfPq', 'entities': {'url': {'urls': [{'url': 'https://t.co/N7sNNHSfPq', 'expanded_url': 'http://weratedogs.com', 'display_url': 'weratedogs.com', 'indices': [0, 23]}]}, 'description': {'urls': []}}, 'protected': False, 'followers_count': 8689792, 'friends_count': 15, 'listed_count': 7023, 'created_at': 'Sun Nov 15 21:41:29 +0000 2015', 'favourites_count': 144643, 'utc_offset': None, 'time_zone': None, 'geo_enabled': True, 'verified': True, 'statuses_count': 11674, 'lang': None, 'contributors_enabled': False, 'is_translator': False, 'is_translation_enabled': False, 'profile_background_color': '000000', 'profile_background_image_url': 'http://abs.twimg.com/images/themes/theme1/bg.png', 'profile_background_image_url_https': 'https://abs.twimg.com/images/themes/theme1/bg.png', 'profile_background_tile': False, 'profile_image_url': 'http://pbs.twimg.com/profile_images/1218319284557905920/ntuD-LOA_normal.jpg', 'profile_image_url_https': 'https://pbs.twimg.com/profile_images/1218319284557905920/ntuD-LOA_normal.jpg', 'profile_banner_url': 'https://pbs.twimg.com/profile_banners/4196983835/1575511391', 'profile_link_color': 'F5ABB5', 'profile_sidebar_border_color': '000000', 'profile_sidebar_fill_color': '000000', 'profile_text_color': '000000', 'profile_use_background_image': False, 'has_extended_profile': False, 'default_profile': False, 'default_profile_image': False, 'following': True, 'follow_request_sent': False, 'notifications': False, 'translator_type': 'none'}, 'geo': None, 'coordinates': None, 'place': None, 'contributors': None, 'is_quote_status': False, 'retweet_count': 41, 'favorite_count': 99, 'favorited': False, 'retweeted': False, 'possibly_sensitive': False, 'possibly_sensitive_appealable': False, 'lang': 'en'}, created_at=datetime.datetime(2015, 11, 16, 0, 24, 50), id=666049248165822465, id_str='666049248165822465', full_text='Here we have a 1949 1st generation vulpix. Enjoys sweat tea and Fox News. Cannot be phased. 5/10 https://t.co/4B7cOc1EDq', truncated=False, display_text_range=[0, 120], entities={'hashtags': [], 'symbols': [], 'user_mentions': [], 'urls': [], 'media': [{'id': 666049244999131136, 'id_str': '666049244999131136', 'indices': [97, 120], 'media_url': 'http://pbs.twimg.com/media/CT5IQmsXIAAKY4A.jpg', 'media_url_https': 'https://pbs.twimg.com/media/CT5IQmsXIAAKY4A.jpg', 'url': 'https://t.co/4B7cOc1EDq', 'display_url': 'pic.twitter.com/4B7cOc1EDq', 'expanded_url': 'https://twitter.com/dog_rates/status/666049248165822465/photo/1', 'type': 'photo', 'sizes': {'thumb': {'w': 150, 'h': 150, 'resize': 'crop'}, 'small': {'w': 510, 'h': 680, 'resize': 'fit'}, 'large': {'w': 768, 'h': 1024, 'resize': 'fit'}, 'medium': {'w': 768, 'h': 1024, 'resize': 'fit'}}}]}, extended_entities={'media': [{'id': 666049244999131136, 'id_str': '666049244999131136', 'indices': [97, 120], 'media_url': 'http://pbs.twimg.com/media/CT5IQmsXIAAKY4A.jpg', 'media_url_https': 'https://pbs.twimg.com/media/CT5IQmsXIAAKY4A.jpg', 'url': 'https://t.co/4B7cOc1EDq', 'display_url': 'pic.twitter.com/4B7cOc1EDq', 'expanded_url': 'https://twitter.com/dog_rates/status/666049248165822465/photo/1', 'type': 'photo', 'sizes': {'thumb': {'w': 150, 'h': 150, 'resize': 'crop'}, 'small': {'w': 510, 'h': 680, 'resize': 'fit'}, 'large': {'w': 768, 'h': 1024, 'resize': 'fit'}, 'medium': {'w': 768, 'h': 1024, 'resize': 'fit'}}}]}, source='Twitter for iPhone', source_url='http://twitter.com/download/iphone', in_reply_to_status_id=None, in_reply_to_status_id_str=None, in_reply_to_user_id=None, in_reply_to_user_id_str=None, in_reply_to_screen_name=None, author=User(_api=<tweepy.api.API object at 0x7f91b8d9fe80>, _json={'id': 4196983835, 'id_str': '4196983835', 'name': 'WeRateDogs®', 'screen_name': 'dog_rates', 'location': '「 DM YOUR DOGS 」', 'description': 'Your Only Source For Professional Dog Ratings Instagram and Facebook ➪ WeRateDogs partnerships@weratedogs.com ⠀⠀⠀⠀⠀⠀⠀⠀⠀⠀⠀⠀', 'url': 'https://t.co/N7sNNHSfPq', 'entities': {'url': {'urls': [{'url': 'https://t.co/N7sNNHSfPq', 'expanded_url': 'http://weratedogs.com', 'display_url': 'weratedogs.com', 'indices': [0, 23]}]}, 'description': {'urls': []}}, 'protected': False, 'followers_count': 8689792, 'friends_count': 15, 'listed_count': 7023, 'created_at': 'Sun Nov 15 21:41:29 +0000 2015', 'favourites_count': 144643, 'utc_offset': None, 'time_zone': None, 'geo_enabled': True, 'verified': True, 'statuses_count': 11674, 'lang': None, 'contributors_enabled': False, 'is_translator': False, 'is_translation_enabled': False, 'profile_background_color': '000000', 'profile_background_image_url': 'http://abs.twimg.com/images/themes/theme1/bg.png', 'profile_background_image_url_https': 'https://abs.twimg.com/images/themes/theme1/bg.png', 'profile_background_tile': False, 'profile_image_url': 'http://pbs.twimg.com/profile_images/1218319284557905920/ntuD-LOA_normal.jpg', 'profile_image_url_https': 'https://pbs.twimg.com/profile_images/1218319284557905920/ntuD-LOA_normal.jpg', 'profile_banner_url': 'https://pbs.twimg.com/profile_banners/4196983835/1575511391', 'profile_link_color': 'F5ABB5', 'profile_sidebar_border_color': '000000', 'profile_sidebar_fill_color': '000000', 'profile_text_color': '000000', 'profile_use_background_image': False, 'has_extended_profile': False, 'default_profile': False, 'default_profile_image': False, 'following': True, 'follow_request_sent': False, 'notifications': False, 'translator_type': 'none'}, id=4196983835, id_str='4196983835', name='WeRateDogs®', screen_name='dog_rates', location='「 DM YOUR DOGS 」', description='Your Only Source For Professional Dog Ratings Instagram and Facebook ➪ WeRateDogs partnerships@weratedogs.com ⠀⠀⠀⠀⠀⠀⠀⠀⠀⠀⠀⠀', url='https://t.co/N7sNNHSfPq', entities={'url': {'urls': [{'url': 'https://t.co/N7sNNHSfPq', 'expanded_url': 'http://weratedogs.com', 'display_url': 'weratedogs.com', 'indices': [0, 23]}]}, 'description': {'urls': []}}, protected=False, followers_count=8689792, friends_count=15, listed_count=7023, created_at=datetime.datetime(2015, 11, 15, 21, 41, 29), favourites_count=144643, utc_offset=None, time_zone=None, geo_enabled=True, verified=True, statuses_count=11674, lang=None, contributors_enabled=False, is_translator=False, is_translation_enabled=False, profile_background_color='000000', profile_background_image_url='http://abs.twimg.com/images/themes/theme1/bg.png', profile_background_image_url_https='https://abs.twimg.com/images/themes/theme1/bg.png', profile_background_tile=False, profile_image_url='http://pbs.twimg.com/profile_images/1218319284557905920/ntuD-LOA_normal.jpg', profile_image_url_https='https://pbs.twimg.com/profile_images/1218319284557905920/ntuD-LOA_normal.jpg', profile_banner_url='https://pbs.twimg.com/profile_banners/4196983835/1575511391', profile_link_color='F5ABB5', profile_sidebar_border_color='000000', profile_sidebar_fill_color='000000', profile_text_color='000000', profile_use_background_image=False, has_extended_profile=False, default_profile=False, default_profile_image=False, following=True, follow_request_sent=False, notifications=False, translator_type='none'), user=User(_api=<tweepy.api.API object at 0x7f91b8d9fe80>, _json={'id': 4196983835, 'id_str': '4196983835', 'name': 'WeRateDogs®', 'screen_name': 'dog_rates', 'location': '「 DM YOUR DOGS 」', 'description': 'Your Only Source For Professional Dog Ratings Instagram and Facebook ➪ WeRateDogs partnerships@weratedogs.com ⠀⠀⠀⠀⠀⠀⠀⠀⠀⠀⠀⠀', 'url': 'https://t.co/N7sNNHSfPq', 'entities': {'url': {'urls': [{'url': 'https://t.co/N7sNNHSfPq', 'expanded_url': 'http://weratedogs.com', 'display_url': 'weratedogs.com', 'indices': [0, 23]}]}, 'description': {'urls': []}}, 'protected': False, 'followers_count': 8689792, 'friends_count': 15, 'listed_count': 7023, 'created_at': 'Sun Nov 15 21:41:29 +0000 2015', 'favourites_count': 144643, 'utc_offset': None, 'time_zone': None, 'geo_enabled': True, 'verified': True, 'statuses_count': 11674, 'lang': None, 'contributors_enabled': False, 'is_translator': False, 'is_translation_enabled': False, 'profile_background_color': '000000', 'profile_background_image_url': 'http://abs.twimg.com/images/themes/theme1/bg.png', 'profile_background_image_url_https': 'https://abs.twimg.com/images/themes/theme1/bg.png', 'profile_background_tile': False, 'profile_image_url': 'http://pbs.twimg.com/profile_images/1218319284557905920/ntuD-LOA_normal.jpg', 'profile_image_url_https': 'https://pbs.twimg.com/profile_images/1218319284557905920/ntuD-LOA_normal.jpg', 'profile_banner_url': 'https://pbs.twimg.com/profile_banners/4196983835/1575511391', 'profile_link_color': 'F5ABB5', 'profile_sidebar_border_color': '000000', 'profile_sidebar_fill_color': '000000', 'profile_text_color': '000000', 'profile_use_background_image': False, 'has_extended_profile': False, 'default_profile': False, 'default_profile_image': False, 'following': True, 'follow_request_sent': False, 'notifications': False, 'translator_type': 'none'}, id=4196983835, id_str='4196983835', name='WeRateDogs®', screen_name='dog_rates', location='「 DM YOUR DOGS 」', description='Your Only Source For Professional Dog Ratings Instagram and Facebook ➪ WeRateDogs partnerships@weratedogs.com ⠀⠀⠀⠀⠀⠀⠀⠀⠀⠀⠀⠀', url='https://t.co/N7sNNHSfPq', entities={'url': {'urls': [{'url': 'https://t.co/N7sNNHSfPq', 'expanded_url': 'http://weratedogs.com', 'display_url': 'weratedogs.com', 'indices': [0, 23]}]}, 'description': {'urls': []}}, protected=False, followers_count=8689792, friends_count=15, listed_count=7023, created_at=datetime.datetime(2015, 11, 15, 21, 41, 29), favourites_count=144643, utc_offset=None, time_zone=None, geo_enabled=True, verified=True, statuses_count=11674, lang=None, contributors_enabled=False, is_translator=False, is_translation_enabled=False, profile_background_color='000000', profile_background_image_url='http://abs.twimg.com/images/themes/theme1/bg.png', profile_background_image_url_https='https://abs.twimg.com/images/themes/theme1/bg.png', profile_background_tile=False, profile_image_url='http://pbs.twimg.com/profile_images/1218319284557905920/ntuD-LOA_normal.jpg', profile_image_url_https='https://pbs.twimg.com/profile_images/1218319284557905920/ntuD-LOA_normal.jpg', profile_banner_url='https://pbs.twimg.com/profile_banners/4196983835/1575511391', profile_link_color='F5ABB5', profile_sidebar_border_color='000000', profile_sidebar_fill_color='000000', profile_text_color='000000', profile_use_background_image=False, has_extended_profile=False, default_profile=False, default_profile_image=False, following=True, follow_request_sent=False, notifications=False, translator_type='none'), geo=None, coordinates=None, place=None, contributors=None, is_quote_status=False, retweet_count=41, favorite_count=99, favorited=False, retweeted=False, possibly_sensitive=False, possibly_sensitive_appealable=False, lang='en')"
            ]
          },
          "metadata": {
            "tags": []
          },
          "execution_count": 82
        }
      ]
    },
    {
      "cell_type": "code",
      "metadata": {
        "id": "iiV_KA3GAF-H",
        "colab_type": "code",
        "outputId": "521db262-0d57-4eba-f137-f7f27965cf2e",
        "colab": {
          "base_uri": "https://localhost:8080/",
          "height": 54
        }
      },
      "source": [
        "#getting to know the json attributes\n",
        "print(tweet._json)"
      ],
      "execution_count": 0,
      "outputs": [
        {
          "output_type": "stream",
          "text": [
            "{'created_at': 'Mon Nov 16 00:24:50 +0000 2015', 'id': 666049248165822465, 'id_str': '666049248165822465', 'full_text': 'Here we have a 1949 1st generation vulpix. Enjoys sweat tea and Fox News. Cannot be phased. 5/10 https://t.co/4B7cOc1EDq', 'truncated': False, 'display_text_range': [0, 120], 'entities': {'hashtags': [], 'symbols': [], 'user_mentions': [], 'urls': [], 'media': [{'id': 666049244999131136, 'id_str': '666049244999131136', 'indices': [97, 120], 'media_url': 'http://pbs.twimg.com/media/CT5IQmsXIAAKY4A.jpg', 'media_url_https': 'https://pbs.twimg.com/media/CT5IQmsXIAAKY4A.jpg', 'url': 'https://t.co/4B7cOc1EDq', 'display_url': 'pic.twitter.com/4B7cOc1EDq', 'expanded_url': 'https://twitter.com/dog_rates/status/666049248165822465/photo/1', 'type': 'photo', 'sizes': {'thumb': {'w': 150, 'h': 150, 'resize': 'crop'}, 'small': {'w': 510, 'h': 680, 'resize': 'fit'}, 'large': {'w': 768, 'h': 1024, 'resize': 'fit'}, 'medium': {'w': 768, 'h': 1024, 'resize': 'fit'}}}]}, 'extended_entities': {'media': [{'id': 666049244999131136, 'id_str': '666049244999131136', 'indices': [97, 120], 'media_url': 'http://pbs.twimg.com/media/CT5IQmsXIAAKY4A.jpg', 'media_url_https': 'https://pbs.twimg.com/media/CT5IQmsXIAAKY4A.jpg', 'url': 'https://t.co/4B7cOc1EDq', 'display_url': 'pic.twitter.com/4B7cOc1EDq', 'expanded_url': 'https://twitter.com/dog_rates/status/666049248165822465/photo/1', 'type': 'photo', 'sizes': {'thumb': {'w': 150, 'h': 150, 'resize': 'crop'}, 'small': {'w': 510, 'h': 680, 'resize': 'fit'}, 'large': {'w': 768, 'h': 1024, 'resize': 'fit'}, 'medium': {'w': 768, 'h': 1024, 'resize': 'fit'}}}]}, 'source': '<a href=\"http://twitter.com/download/iphone\" rel=\"nofollow\">Twitter for iPhone</a>', 'in_reply_to_status_id': None, 'in_reply_to_status_id_str': None, 'in_reply_to_user_id': None, 'in_reply_to_user_id_str': None, 'in_reply_to_screen_name': None, 'user': {'id': 4196983835, 'id_str': '4196983835', 'name': 'WeRateDogs®', 'screen_name': 'dog_rates', 'location': '「 DM YOUR DOGS 」', 'description': 'Your Only Source For Professional Dog Ratings Instagram and Facebook ➪ WeRateDogs partnerships@weratedogs.com ⠀⠀⠀⠀⠀⠀⠀⠀⠀⠀⠀⠀', 'url': 'https://t.co/N7sNNHSfPq', 'entities': {'url': {'urls': [{'url': 'https://t.co/N7sNNHSfPq', 'expanded_url': 'http://weratedogs.com', 'display_url': 'weratedogs.com', 'indices': [0, 23]}]}, 'description': {'urls': []}}, 'protected': False, 'followers_count': 8689792, 'friends_count': 15, 'listed_count': 7023, 'created_at': 'Sun Nov 15 21:41:29 +0000 2015', 'favourites_count': 144643, 'utc_offset': None, 'time_zone': None, 'geo_enabled': True, 'verified': True, 'statuses_count': 11674, 'lang': None, 'contributors_enabled': False, 'is_translator': False, 'is_translation_enabled': False, 'profile_background_color': '000000', 'profile_background_image_url': 'http://abs.twimg.com/images/themes/theme1/bg.png', 'profile_background_image_url_https': 'https://abs.twimg.com/images/themes/theme1/bg.png', 'profile_background_tile': False, 'profile_image_url': 'http://pbs.twimg.com/profile_images/1218319284557905920/ntuD-LOA_normal.jpg', 'profile_image_url_https': 'https://pbs.twimg.com/profile_images/1218319284557905920/ntuD-LOA_normal.jpg', 'profile_banner_url': 'https://pbs.twimg.com/profile_banners/4196983835/1575511391', 'profile_link_color': 'F5ABB5', 'profile_sidebar_border_color': '000000', 'profile_sidebar_fill_color': '000000', 'profile_text_color': '000000', 'profile_use_background_image': False, 'has_extended_profile': False, 'default_profile': False, 'default_profile_image': False, 'following': True, 'follow_request_sent': False, 'notifications': False, 'translator_type': 'none'}, 'geo': None, 'coordinates': None, 'place': None, 'contributors': None, 'is_quote_status': False, 'retweet_count': 41, 'favorite_count': 99, 'favorited': False, 'retweeted': False, 'possibly_sensitive': False, 'possibly_sensitive_appealable': False, 'lang': 'en'}\n"
          ],
          "name": "stdout"
        }
      ]
    },
    {
      "cell_type": "code",
      "metadata": {
        "id": "c8CbsNSN_Mhs",
        "colab_type": "code",
        "outputId": "e02ee392-9446-4ca8-9a71-fbd66267153d",
        "colab": {
          "base_uri": "https://localhost:8080/",
          "height": 34
        }
      },
      "source": [
        "tweet._json['id']"
      ],
      "execution_count": 0,
      "outputs": [
        {
          "output_type": "execute_result",
          "data": {
            "text/plain": [
              "666049248165822465"
            ]
          },
          "metadata": {
            "tags": []
          },
          "execution_count": 84
        }
      ]
    },
    {
      "cell_type": "code",
      "metadata": {
        "id": "KVyNJt3yEbRq",
        "colab_type": "code",
        "outputId": "688ca5a2-aa69-4063-8b51-b5b2031f3517",
        "colab": {
          "base_uri": "https://localhost:8080/",
          "height": 34
        }
      },
      "source": [
        "tweet._json['favorite_count']"
      ],
      "execution_count": 0,
      "outputs": [
        {
          "output_type": "execute_result",
          "data": {
            "text/plain": [
              "99"
            ]
          },
          "metadata": {
            "tags": []
          },
          "execution_count": 85
        }
      ]
    },
    {
      "cell_type": "code",
      "metadata": {
        "id": "z9HrLIZeFm_z",
        "colab_type": "code",
        "outputId": "d43e2131-bfeb-4575-cab8-b7870d8ae131",
        "colab": {
          "base_uri": "https://localhost:8080/",
          "height": 34
        }
      },
      "source": [
        "tweet._json['retweet_count']"
      ],
      "execution_count": 0,
      "outputs": [
        {
          "output_type": "execute_result",
          "data": {
            "text/plain": [
              "41"
            ]
          },
          "metadata": {
            "tags": []
          },
          "execution_count": 86
        }
      ]
    },
    {
      "cell_type": "markdown",
      "metadata": {
        "id": "ZYngx7vtaVtD",
        "colab_type": "text"
      },
      "source": [
        "Okay now that i am familiar with the twitter api attributes, I will do the big step of importing all the tweets json content in a 'tweet_json.txt'\n",
        "\n",
        "After consulting the udacity help communities and mentor community and many trial and error from my side, i finally reached this code."
      ]
    },
    {
      "cell_type": "code",
      "metadata": {
        "id": "H9QJv27cUBnb",
        "colab_type": "code",
        "colab": {}
      },
      "source": [
        "#This code will not run before entering valid access token key in the previous code cell.!!!!!\n",
        "#I will create a tweet_json.txt where i will store the tweets json content in it\n",
        "fails_dict={}\n",
        "with open('tweet_json.txt', 'w') as outfile:\n",
        "    for i,id in enumerate(twitter_archive['tweet_id']):\n",
        "        try:\n",
        "            tweet = api.get_status(id,tweet_mode='extended')\n",
        "            json.dump(tweet._json, outfile)\n",
        "            outfile.write('\\n')\n",
        "            print(i,'success')\n",
        "        except tweepy.TweepError as e:\n",
        "            print('Fail')\n",
        "            fails_dict[id]=e\n",
        "            pass"
      ],
      "execution_count": 0,
      "outputs": []
    },
    {
      "cell_type": "code",
      "metadata": {
        "id": "ThcvYKzhvf3O",
        "colab_type": "code",
        "outputId": "89b2ef82-71fa-4f5e-c351-8eb0efebb747",
        "colab": {
          "base_uri": "https://localhost:8080/",
          "height": 80
        }
      },
      "source": [
        "required_columns = []\n",
        "with open('tweet_json.txt') as json_file:\n",
        "    for line in json_file:\n",
        "        python_format = json.loads(line)\n",
        "        required_columns.append({'tweet_id':python_format['id'],\n",
        "                              'favorites':python_format['favorite_count'],\n",
        "                              'retweets':python_format['retweet_count'],\n",
        "                              'timestamp':python_format['created_at']})\n",
        "ret_fav_count=pd.DataFrame(required_columns,columns=['tweet_id','favorites','retweets','timestamp'])\n",
        "ret_fav_count.head(1)"
      ],
      "execution_count": 29,
      "outputs": [
        {
          "output_type": "execute_result",
          "data": {
            "text/html": [
              "<div>\n",
              "<style scoped>\n",
              "    .dataframe tbody tr th:only-of-type {\n",
              "        vertical-align: middle;\n",
              "    }\n",
              "\n",
              "    .dataframe tbody tr th {\n",
              "        vertical-align: top;\n",
              "    }\n",
              "\n",
              "    .dataframe thead th {\n",
              "        text-align: right;\n",
              "    }\n",
              "</style>\n",
              "<table border=\"1\" class=\"dataframe\">\n",
              "  <thead>\n",
              "    <tr style=\"text-align: right;\">\n",
              "      <th></th>\n",
              "      <th>tweet_id</th>\n",
              "      <th>favorites</th>\n",
              "      <th>retweets</th>\n",
              "      <th>timestamp</th>\n",
              "    </tr>\n",
              "  </thead>\n",
              "  <tbody>\n",
              "    <tr>\n",
              "      <th>0</th>\n",
              "      <td>892420643555336193</td>\n",
              "      <td>36549</td>\n",
              "      <td>7783</td>\n",
              "      <td>Tue Aug 01 16:23:56 +0000 2017</td>\n",
              "    </tr>\n",
              "  </tbody>\n",
              "</table>\n",
              "</div>"
            ],
            "text/plain": [
              "             tweet_id  favorites  retweets                       timestamp\n",
              "0  892420643555336193      36549      7783  Tue Aug 01 16:23:56 +0000 2017"
            ]
          },
          "metadata": {
            "tags": []
          },
          "execution_count": 29
        }
      ]
    },
    {
      "cell_type": "code",
      "metadata": {
        "id": "o6kPlX8k93hU",
        "colab_type": "code",
        "colab": {}
      },
      "source": [
        "#I will store the dataframe that i created from twitter in a csv file to save \n",
        "#time next time i open this notebook so that i don't have \n",
        "#to run the previous steps each time\n",
        "ret_fav_count.to_csv('ret_fav_count.csv',index=False)"
      ],
      "execution_count": 0,
      "outputs": []
    },
    {
      "cell_type": "markdown",
      "metadata": {
        "id": "hmuXJpq8inTX",
        "colab_type": "text"
      },
      "source": [
        "Now I will assess our third source of data by checking its numbers of rows and columns and getting information about columns types and missing values and checking for duplicated rows and inspecting the file on google sheets for further inspection"
      ]
    },
    {
      "cell_type": "code",
      "metadata": {
        "id": "jBIvRHFoDiyy",
        "colab_type": "code",
        "outputId": "5373b24b-58ef-42ee-fc98-88a7fcb4c536",
        "colab": {
          "base_uri": "https://localhost:8080/",
          "height": 204
        }
      },
      "source": [
        "ret_fav_count.head()"
      ],
      "execution_count": 33,
      "outputs": [
        {
          "output_type": "execute_result",
          "data": {
            "text/html": [
              "<div>\n",
              "<style scoped>\n",
              "    .dataframe tbody tr th:only-of-type {\n",
              "        vertical-align: middle;\n",
              "    }\n",
              "\n",
              "    .dataframe tbody tr th {\n",
              "        vertical-align: top;\n",
              "    }\n",
              "\n",
              "    .dataframe thead th {\n",
              "        text-align: right;\n",
              "    }\n",
              "</style>\n",
              "<table border=\"1\" class=\"dataframe\">\n",
              "  <thead>\n",
              "    <tr style=\"text-align: right;\">\n",
              "      <th></th>\n",
              "      <th>tweet_id</th>\n",
              "      <th>favorites</th>\n",
              "      <th>retweets</th>\n",
              "      <th>timestamp</th>\n",
              "    </tr>\n",
              "  </thead>\n",
              "  <tbody>\n",
              "    <tr>\n",
              "      <th>0</th>\n",
              "      <td>892420643555336193</td>\n",
              "      <td>36549</td>\n",
              "      <td>7783</td>\n",
              "      <td>Tue Aug 01 16:23:56 +0000 2017</td>\n",
              "    </tr>\n",
              "    <tr>\n",
              "      <th>1</th>\n",
              "      <td>892177421306343426</td>\n",
              "      <td>31477</td>\n",
              "      <td>5766</td>\n",
              "      <td>Tue Aug 01 00:17:27 +0000 2017</td>\n",
              "    </tr>\n",
              "    <tr>\n",
              "      <th>2</th>\n",
              "      <td>891815181378084864</td>\n",
              "      <td>23733</td>\n",
              "      <td>3816</td>\n",
              "      <td>Mon Jul 31 00:18:03 +0000 2017</td>\n",
              "    </tr>\n",
              "    <tr>\n",
              "      <th>3</th>\n",
              "      <td>891689557279858688</td>\n",
              "      <td>39862</td>\n",
              "      <td>7947</td>\n",
              "      <td>Sun Jul 30 15:58:51 +0000 2017</td>\n",
              "    </tr>\n",
              "    <tr>\n",
              "      <th>4</th>\n",
              "      <td>891327558926688256</td>\n",
              "      <td>38086</td>\n",
              "      <td>8586</td>\n",
              "      <td>Sat Jul 29 16:00:24 +0000 2017</td>\n",
              "    </tr>\n",
              "  </tbody>\n",
              "</table>\n",
              "</div>"
            ],
            "text/plain": [
              "             tweet_id  favorites  retweets                       timestamp\n",
              "0  892420643555336193      36549      7783  Tue Aug 01 16:23:56 +0000 2017\n",
              "1  892177421306343426      31477      5766  Tue Aug 01 00:17:27 +0000 2017\n",
              "2  891815181378084864      23733      3816  Mon Jul 31 00:18:03 +0000 2017\n",
              "3  891689557279858688      39862      7947  Sun Jul 30 15:58:51 +0000 2017\n",
              "4  891327558926688256      38086      8586  Sat Jul 29 16:00:24 +0000 2017"
            ]
          },
          "metadata": {
            "tags": []
          },
          "execution_count": 33
        }
      ]
    },
    {
      "cell_type": "code",
      "metadata": {
        "id": "nl858BANJDzF",
        "colab_type": "code",
        "outputId": "328dd160-ee29-4a7b-af39-82b648f7f94c",
        "colab": {
          "base_uri": "https://localhost:8080/",
          "height": 34
        }
      },
      "source": [
        "#number of rows and columns in our datafrmae\n",
        "ret_fav_count.shape"
      ],
      "execution_count": 34,
      "outputs": [
        {
          "output_type": "execute_result",
          "data": {
            "text/plain": [
              "(2331, 4)"
            ]
          },
          "metadata": {
            "tags": []
          },
          "execution_count": 34
        }
      ]
    },
    {
      "cell_type": "markdown",
      "metadata": {
        "id": "xVfFlulUjvhh",
        "colab_type": "text"
      },
      "source": [
        "Now lets see the information about the columns"
      ]
    },
    {
      "cell_type": "code",
      "metadata": {
        "id": "Ti_H06joj3xh",
        "colab_type": "code",
        "outputId": "6c7a44ef-96e7-4cb5-aa41-8d074785de91",
        "colab": {
          "base_uri": "https://localhost:8080/",
          "height": 170
        }
      },
      "source": [
        "ret_fav_count.info()"
      ],
      "execution_count": 35,
      "outputs": [
        {
          "output_type": "stream",
          "text": [
            "<class 'pandas.core.frame.DataFrame'>\n",
            "RangeIndex: 2331 entries, 0 to 2330\n",
            "Data columns (total 4 columns):\n",
            "tweet_id     2331 non-null int64\n",
            "favorites    2331 non-null int64\n",
            "retweets     2331 non-null int64\n",
            "timestamp    2331 non-null object\n",
            "dtypes: int64(3), object(1)\n",
            "memory usage: 73.0+ KB\n"
          ],
          "name": "stdout"
        }
      ]
    },
    {
      "cell_type": "markdown",
      "metadata": {
        "id": "9DljqwIDkaLA",
        "colab_type": "text"
      },
      "source": [
        "I don't have duplicated rows in this dataframe"
      ]
    },
    {
      "cell_type": "code",
      "metadata": {
        "id": "gs9QQO9mkSb1",
        "colab_type": "code",
        "outputId": "84608f7e-ef22-40e2-a873-e354c512bf5f",
        "colab": {
          "base_uri": "https://localhost:8080/",
          "height": 34
        }
      },
      "source": [
        "ret_fav_count.duplicated().all()"
      ],
      "execution_count": 36,
      "outputs": [
        {
          "output_type": "execute_result",
          "data": {
            "text/plain": [
              "False"
            ]
          },
          "metadata": {
            "tags": []
          },
          "execution_count": 36
        }
      ]
    },
    {
      "cell_type": "markdown",
      "metadata": {
        "id": "Hi8XcOS7J5bp",
        "colab_type": "text"
      },
      "source": [
        "# Assessing\n",
        "## Quality\n",
        "- timestamp in twitter_archive is of type object and not timedate\n",
        "- 'in_reply_to_status_id', 'in_reply_to_user_id','retweeted_status_id', 'retweeted_status_user_id', 'retweeted_status_timestamp' columns in twitter_archive are all missing values and are of no signicficance to our analysis \n",
        "- None values in name column in twitter_archive instead of np.nan\n",
        "- 'a' values in name column in twitter_archive instead of np.nan\n",
        "- None values in dogs stages are not interpreted as np.nan in twitter_archive\n",
        "- dogs' breeds are not consistent ( some are capital and some are not) in image_prediction dataframe\n",
        "- timestamp should be treated as timestamp not object type\n",
        "- 'p1' column name in image_prediction dataframe is not a suitable name to indicate that this column is dog breed predicted. It is a confusing name\n",
        "- 'p2' is a confusing name and not indicating dog breed indincated\n",
        "- 'p2-dog' is a confusing name to indicate that it is the probability of being a dog or not\n",
        "- Do i need all the columns in image_prediction data frame\n",
        "- image_prediction assumed that some images don't belong to dogs and interpreted other stuff than dogs and which is not true \n",
        "- timestamp in ret_fav_count dataframe of object type \n",
        "- 181 retweets found and not original tweets\n",
        "- 78 reply to tweets and not original tweets\n",
        "- 59 missing values in expanded urls \n",
        "- extreme min and max values in numerator and denominator ratings\n",
        "## Tidiness\n",
        "- 3 tables that have common columns \n",
        "- doggo, floofer, pupper, puppo should be stacked in one column"
      ]
    },
    {
      "cell_type": "markdown",
      "metadata": {
        "id": "5I4MLtAMkp0t",
        "colab_type": "text"
      },
      "source": [
        "# Cleaning and Testing Step"
      ]
    },
    {
      "cell_type": "markdown",
      "metadata": {
        "id": "7xE9_StTkzu4",
        "colab_type": "text"
      },
      "source": [
        "I will first create three copies of our three dataframes to start the cleaning process without missing with the original dataframe"
      ]
    },
    {
      "cell_type": "code",
      "metadata": {
        "id": "WN1a1-BeJyhC",
        "colab_type": "code",
        "colab": {}
      },
      "source": [
        "#making new copies of our dataframes to start the cleaning process\n",
        "twitter_archive_clean=twitter_archive.copy()\n",
        "image_prediction_clean=image_prediction.copy()\n",
        "ret_fav_count_clean=ret_fav_count.copy()"
      ],
      "execution_count": 0,
      "outputs": []
    },
    {
      "cell_type": "markdown",
      "metadata": {
        "id": "TSXgAGtolsrv",
        "colab_type": "text"
      },
      "source": [
        "### 1-Change timestamp in twitter_archive is from type object to type timedate"
      ]
    },
    {
      "cell_type": "code",
      "metadata": {
        "id": "xUyhrx7pQs-P",
        "colab_type": "code",
        "colab": {}
      },
      "source": [
        "#converting timestamp type from object to datetime\n",
        "twitter_archive_clean['timestamp']=pd.to_datetime(twitter_archive_clean['timestamp'])"
      ],
      "execution_count": 0,
      "outputs": []
    },
    {
      "cell_type": "markdown",
      "metadata": {
        "id": "HYysUDZ1m-SA",
        "colab_type": "text"
      },
      "source": [
        "Test"
      ]
    },
    {
      "cell_type": "code",
      "metadata": {
        "id": "9TIQniL9Rb5Q",
        "colab_type": "code",
        "outputId": "72a328c4-27d1-4964-cce2-9eec36580660",
        "colab": {
          "base_uri": "https://localhost:8080/",
          "height": 34
        }
      },
      "source": [
        "#test our cleaning step\n",
        "twitter_archive_clean.timestamp.dtypes"
      ],
      "execution_count": 39,
      "outputs": [
        {
          "output_type": "execute_result",
          "data": {
            "text/plain": [
              "datetime64[ns, UTC]"
            ]
          },
          "metadata": {
            "tags": []
          },
          "execution_count": 39
        }
      ]
    },
    {
      "cell_type": "markdown",
      "metadata": {
        "id": "prEcabKsM8vv",
        "colab_type": "text"
      },
      "source": [
        "### 2-Drop rows where expanded_urls are missing"
      ]
    },
    {
      "cell_type": "code",
      "metadata": {
        "id": "WwvKEIJpNSvB",
        "colab_type": "code",
        "colab": {}
      },
      "source": [
        "expanded_urls_index=twitter_archive_clean.query('expanded_urls != expanded_urls').index\n",
        "twitter_archive_clean=twitter_archive_clean.drop(expanded_urls_index,axis=0)"
      ],
      "execution_count": 0,
      "outputs": []
    },
    {
      "cell_type": "markdown",
      "metadata": {
        "id": "HKwPV0ZXN7gi",
        "colab_type": "text"
      },
      "source": [
        "### 3-Drop 181 rows where there are retweets since we are only interested in orginal tweets"
      ]
    },
    {
      "cell_type": "code",
      "metadata": {
        "id": "41S-3qeoN6D0",
        "colab_type": "code",
        "colab": {}
      },
      "source": [
        "retweets_index=twitter_archive_clean.query('retweeted_status_id == retweeted_status_id').index\n",
        "twitter_archive_clean=twitter_archive_clean.drop(retweets_index,axis=0)"
      ],
      "execution_count": 0,
      "outputs": []
    },
    {
      "cell_type": "markdown",
      "metadata": {
        "id": "5WYkV-wSOk9e",
        "colab_type": "text"
      },
      "source": [
        "### 4-Drop 78 rows where there are replies to tweets since we are only interested in original tweets"
      ]
    },
    {
      "cell_type": "code",
      "metadata": {
        "id": "azyfAoIBN5_x",
        "colab_type": "code",
        "colab": {}
      },
      "source": [
        "in_reply_index=twitter_archive_clean.query('in_reply_to_status_id == in_reply_to_status_id').index\n",
        "twitter_archive_clean=twitter_archive_clean.drop(in_reply_index,axis=0)"
      ],
      "execution_count": 0,
      "outputs": []
    },
    {
      "cell_type": "markdown",
      "metadata": {
        "id": "H6Kv0n0iPkj4",
        "colab_type": "text"
      },
      "source": [
        "Test"
      ]
    },
    {
      "cell_type": "code",
      "metadata": {
        "id": "3vO-DEbrPmvP",
        "colab_type": "code",
        "outputId": "dd64c1b3-ca19-4c1b-e8e4-6edf87e6411b",
        "colab": {
          "base_uri": "https://localhost:8080/",
          "height": 391
        }
      },
      "source": [
        "twitter_archive_clean.info()"
      ],
      "execution_count": 43,
      "outputs": [
        {
          "output_type": "stream",
          "text": [
            "<class 'pandas.core.frame.DataFrame'>\n",
            "Int64Index: 2094 entries, 0 to 2355\n",
            "Data columns (total 17 columns):\n",
            "tweet_id                      2094 non-null int64\n",
            "in_reply_to_status_id         0 non-null float64\n",
            "in_reply_to_user_id           0 non-null float64\n",
            "timestamp                     2094 non-null datetime64[ns, UTC]\n",
            "source                        2094 non-null object\n",
            "text                          2094 non-null object\n",
            "retweeted_status_id           0 non-null float64\n",
            "retweeted_status_user_id      0 non-null float64\n",
            "retweeted_status_timestamp    0 non-null object\n",
            "expanded_urls                 2094 non-null object\n",
            "rating_numerator              2094 non-null int64\n",
            "rating_denominator            2094 non-null int64\n",
            "name                          2094 non-null object\n",
            "doggo                         2094 non-null object\n",
            "floofer                       2094 non-null object\n",
            "pupper                        2094 non-null object\n",
            "puppo                         2094 non-null object\n",
            "dtypes: datetime64[ns, UTC](1), float64(4), int64(3), object(9)\n",
            "memory usage: 294.5+ KB\n"
          ],
          "name": "stdout"
        }
      ]
    },
    {
      "cell_type": "markdown",
      "metadata": {
        "id": "E6UgeOHPmO7n",
        "colab_type": "text"
      },
      "source": [
        "### 5-Drop 'in_reply_to_status_id', 'in_reply_to_user_id','retweeted_status_id', 'retweeted_status_user_id', 'retweeted_status_timestamp' columns in twitter_archive as they are all missing values and are of no signicficance to our analysis as we are only interested in original tweets"
      ]
    },
    {
      "cell_type": "code",
      "metadata": {
        "id": "bUXPxCVmSBbT",
        "colab_type": "code",
        "outputId": "4c0a44ad-9938-421f-cf64-01a5de674fbc",
        "colab": {
          "base_uri": "https://localhost:8080/",
          "height": 102
        }
      },
      "source": [
        "twitter_archive_clean.columns"
      ],
      "execution_count": 44,
      "outputs": [
        {
          "output_type": "execute_result",
          "data": {
            "text/plain": [
              "Index(['tweet_id', 'in_reply_to_status_id', 'in_reply_to_user_id', 'timestamp',\n",
              "       'source', 'text', 'retweeted_status_id', 'retweeted_status_user_id',\n",
              "       'retweeted_status_timestamp', 'expanded_urls', 'rating_numerator',\n",
              "       'rating_denominator', 'name', 'doggo', 'floofer', 'pupper', 'puppo'],\n",
              "      dtype='object')"
            ]
          },
          "metadata": {
            "tags": []
          },
          "execution_count": 44
        }
      ]
    },
    {
      "cell_type": "code",
      "metadata": {
        "id": "T88BEBcsSbz-",
        "colab_type": "code",
        "colab": {}
      },
      "source": [
        "twitter_archive_clean=twitter_archive_clean.drop(['in_reply_to_status_id', 'in_reply_to_user_id','retweeted_status_id', 'retweeted_status_user_id',\n",
        "       'retweeted_status_timestamp'],axis=1)"
      ],
      "execution_count": 0,
      "outputs": []
    },
    {
      "cell_type": "markdown",
      "metadata": {
        "id": "meWAzeznmxXy",
        "colab_type": "text"
      },
      "source": [
        "Test"
      ]
    },
    {
      "cell_type": "code",
      "metadata": {
        "id": "QmdnPQ5YS35Y",
        "colab_type": "code",
        "outputId": "b66c8ab7-0c40-4f0f-d254-4d4291ba9ba8",
        "colab": {
          "base_uri": "https://localhost:8080/",
          "height": 85
        }
      },
      "source": [
        "twitter_archive_clean.columns"
      ],
      "execution_count": 46,
      "outputs": [
        {
          "output_type": "execute_result",
          "data": {
            "text/plain": [
              "Index(['tweet_id', 'timestamp', 'source', 'text', 'expanded_urls',\n",
              "       'rating_numerator', 'rating_denominator', 'name', 'doggo', 'floofer',\n",
              "       'pupper', 'puppo'],\n",
              "      dtype='object')"
            ]
          },
          "metadata": {
            "tags": []
          },
          "execution_count": 46
        }
      ]
    },
    {
      "cell_type": "markdown",
      "metadata": {
        "id": "8DXHUzA9nTxd",
        "colab_type": "text"
      },
      "source": [
        "### 6-Replace None values in name column in twitter_archive with np.nan"
      ]
    },
    {
      "cell_type": "code",
      "metadata": {
        "id": "D6FlAxyPS76d",
        "colab_type": "code",
        "outputId": "50a1f8b3-58e1-4de5-febe-89073c52ca5e",
        "colab": {
          "base_uri": "https://localhost:8080/",
          "height": 34
        }
      },
      "source": [
        "#Although they are 745 missing names in name columns but python can't detect them as they are written as None\n",
        "twitter_archive_clean.name.isnull().all()"
      ],
      "execution_count": 47,
      "outputs": [
        {
          "output_type": "execute_result",
          "data": {
            "text/plain": [
              "False"
            ]
          },
          "metadata": {
            "tags": []
          },
          "execution_count": 47
        }
      ]
    },
    {
      "cell_type": "code",
      "metadata": {
        "id": "Rsw5eThjThu9",
        "colab_type": "code",
        "outputId": "c2365bba-143f-47c1-ecba-70b8c59340b0",
        "colab": {
          "base_uri": "https://localhost:8080/",
          "height": 221
        }
      },
      "source": [
        "twitter_archive_clean.name.value_counts()"
      ],
      "execution_count": 48,
      "outputs": [
        {
          "output_type": "execute_result",
          "data": {
            "text/plain": [
              "None        600\n",
              "a            55\n",
              "Charlie      11\n",
              "Lucy         11\n",
              "Oliver       10\n",
              "           ... \n",
              "Griswold      1\n",
              "Moofasa       1\n",
              "Nimbus        1\n",
              "Murphy        1\n",
              "Angel         1\n",
              "Name: name, Length: 955, dtype: int64"
            ]
          },
          "metadata": {
            "tags": []
          },
          "execution_count": 48
        }
      ]
    },
    {
      "cell_type": "code",
      "metadata": {
        "id": "AtZ2n1PiTp_v",
        "colab_type": "code",
        "colab": {}
      },
      "source": [
        "twitter_archive_clean.name=twitter_archive_clean.name.replace('None',np.nan)"
      ],
      "execution_count": 0,
      "outputs": []
    },
    {
      "cell_type": "markdown",
      "metadata": {
        "id": "_SveKTPnnwvy",
        "colab_type": "text"
      },
      "source": [
        "Test"
      ]
    },
    {
      "cell_type": "code",
      "metadata": {
        "id": "je07yTXYUHOI",
        "colab_type": "code",
        "outputId": "bb45ca23-6b71-4e98-98fa-3e9ca7da42d9",
        "colab": {
          "base_uri": "https://localhost:8080/",
          "height": 221
        }
      },
      "source": [
        "twitter_archive_clean.name.value_counts()"
      ],
      "execution_count": 50,
      "outputs": [
        {
          "output_type": "execute_result",
          "data": {
            "text/plain": [
              "a           55\n",
              "Lucy        11\n",
              "Charlie     11\n",
              "Cooper      10\n",
              "Oliver      10\n",
              "            ..\n",
              "Huck         1\n",
              "Griswold     1\n",
              "Moofasa      1\n",
              "Nimbus       1\n",
              "Angel        1\n",
              "Name: name, Length: 954, dtype: int64"
            ]
          },
          "metadata": {
            "tags": []
          },
          "execution_count": 50
        }
      ]
    },
    {
      "cell_type": "markdown",
      "metadata": {
        "id": "ZJA6U0XpoDzW",
        "colab_type": "text"
      },
      "source": [
        "### 7-Replace 'a' values in name column in twitter_archive with of np.nan"
      ]
    },
    {
      "cell_type": "code",
      "metadata": {
        "id": "P4PpwYb5owQu",
        "colab_type": "code",
        "colab": {}
      },
      "source": [
        "twitter_archive_clean.name=twitter_archive_clean.name.replace('a',np.nan)"
      ],
      "execution_count": 0,
      "outputs": []
    },
    {
      "cell_type": "markdown",
      "metadata": {
        "id": "YylT1-mcpVGg",
        "colab_type": "text"
      },
      "source": [
        "Test"
      ]
    },
    {
      "cell_type": "code",
      "metadata": {
        "id": "fPRlUSUfpTWR",
        "colab_type": "code",
        "outputId": "96b3d9e7-8f10-46f0-dc37-9100b4f1bab6",
        "colab": {
          "base_uri": "https://localhost:8080/",
          "height": 221
        }
      },
      "source": [
        "twitter_archive_clean.name.value_counts()"
      ],
      "execution_count": 52,
      "outputs": [
        {
          "output_type": "execute_result",
          "data": {
            "text/plain": [
              "Lucy        11\n",
              "Charlie     11\n",
              "Oliver      10\n",
              "Cooper      10\n",
              "Tucker       9\n",
              "            ..\n",
              "Huck         1\n",
              "Griswold     1\n",
              "Moofasa      1\n",
              "Nimbus       1\n",
              "Angel        1\n",
              "Name: name, Length: 953, dtype: int64"
            ]
          },
          "metadata": {
            "tags": []
          },
          "execution_count": 52
        }
      ]
    },
    {
      "cell_type": "markdown",
      "metadata": {
        "id": "zOeEyhh9vgLg",
        "colab_type": "text"
      },
      "source": [
        "### 8- make breed name consistent with lower case only( some are capital and some are not) in image_prediction dataframe"
      ]
    },
    {
      "cell_type": "code",
      "metadata": {
        "id": "NRYWEM4Avd1o",
        "colab_type": "code",
        "outputId": "7c55765b-b86a-46a4-8192-f233d9e15fbc",
        "colab": {
          "base_uri": "https://localhost:8080/",
          "height": 374
        }
      },
      "source": [
        "image_prediction_clean.p1.head(20)"
      ],
      "execution_count": 53,
      "outputs": [
        {
          "output_type": "execute_result",
          "data": {
            "text/plain": [
              "0     Welsh_springer_spaniel\n",
              "1                    redbone\n",
              "2            German_shepherd\n",
              "3        Rhodesian_ridgeback\n",
              "4         miniature_pinscher\n",
              "5       Bernese_mountain_dog\n",
              "6                 box_turtle\n",
              "7                       chow\n",
              "8              shopping_cart\n",
              "9           miniature_poodle\n",
              "10          golden_retriever\n",
              "11             Gordon_setter\n",
              "12              Walker_hound\n",
              "13                       pug\n",
              "14                bloodhound\n",
              "15                     Lhasa\n",
              "16            English_setter\n",
              "17                       hen\n",
              "18          desktop_computer\n",
              "19         Italian_greyhound\n",
              "Name: p1, dtype: object"
            ]
          },
          "metadata": {
            "tags": []
          },
          "execution_count": 53
        }
      ]
    },
    {
      "cell_type": "code",
      "metadata": {
        "id": "2zu2Mf4JwASP",
        "colab_type": "code",
        "colab": {}
      },
      "source": [
        "image_prediction_clean.p1=image_prediction_clean.p1.str.lower()"
      ],
      "execution_count": 0,
      "outputs": []
    },
    {
      "cell_type": "markdown",
      "metadata": {
        "id": "NSL-fiUzwUJM",
        "colab_type": "text"
      },
      "source": [
        "Test"
      ]
    },
    {
      "cell_type": "code",
      "metadata": {
        "id": "WwCQz939wL2g",
        "colab_type": "code",
        "outputId": "9d280313-6b68-4628-bb15-e499e4416db2",
        "colab": {
          "base_uri": "https://localhost:8080/",
          "height": 374
        }
      },
      "source": [
        "image_prediction_clean.p1.head(20)"
      ],
      "execution_count": 55,
      "outputs": [
        {
          "output_type": "execute_result",
          "data": {
            "text/plain": [
              "0     welsh_springer_spaniel\n",
              "1                    redbone\n",
              "2            german_shepherd\n",
              "3        rhodesian_ridgeback\n",
              "4         miniature_pinscher\n",
              "5       bernese_mountain_dog\n",
              "6                 box_turtle\n",
              "7                       chow\n",
              "8              shopping_cart\n",
              "9           miniature_poodle\n",
              "10          golden_retriever\n",
              "11             gordon_setter\n",
              "12              walker_hound\n",
              "13                       pug\n",
              "14                bloodhound\n",
              "15                     lhasa\n",
              "16            english_setter\n",
              "17                       hen\n",
              "18          desktop_computer\n",
              "19         italian_greyhound\n",
              "Name: p1, dtype: object"
            ]
          },
          "metadata": {
            "tags": []
          },
          "execution_count": 55
        }
      ]
    },
    {
      "cell_type": "markdown",
      "metadata": {
        "id": "jp9rYWFewdcj",
        "colab_type": "text"
      },
      "source": [
        "### 9- change 'p1' column name in image_prediction dataframe which is not a suitable name to indicate that this column is dog breed predicted. It is a confusing name so I will replace with dog_breed"
      ]
    },
    {
      "cell_type": "code",
      "metadata": {
        "id": "Ispf1NN8xexP",
        "colab_type": "code",
        "outputId": "258a56d1-a482-4968-e305-ae894ba7b32c",
        "colab": {
          "base_uri": "https://localhost:8080/",
          "height": 68
        }
      },
      "source": [
        "image_prediction_clean.columns"
      ],
      "execution_count": 56,
      "outputs": [
        {
          "output_type": "execute_result",
          "data": {
            "text/plain": [
              "Index(['tweet_id', 'jpg_url', 'img_num', 'p1', 'p1_conf', 'p1_dog', 'p2',\n",
              "       'p2_conf', 'p2_dog', 'p3', 'p3_conf', 'p3_dog'],\n",
              "      dtype='object')"
            ]
          },
          "metadata": {
            "tags": []
          },
          "execution_count": 56
        }
      ]
    },
    {
      "cell_type": "code",
      "metadata": {
        "id": "L4TwZGROwR8m",
        "colab_type": "code",
        "colab": {}
      },
      "source": [
        "image_prediction_clean=image_prediction_clean.rename(columns={'p1':'dog_breed'})"
      ],
      "execution_count": 0,
      "outputs": []
    },
    {
      "cell_type": "markdown",
      "metadata": {
        "id": "4dp7tdVTRng8",
        "colab_type": "text"
      },
      "source": [
        "Test"
      ]
    },
    {
      "cell_type": "code",
      "metadata": {
        "id": "P5e8NqmPxZi4",
        "colab_type": "code",
        "outputId": "b91daeab-3501-4d34-963e-29a5def2e734",
        "colab": {
          "base_uri": "https://localhost:8080/",
          "height": 68
        }
      },
      "source": [
        "image_prediction_clean.columns"
      ],
      "execution_count": 58,
      "outputs": [
        {
          "output_type": "execute_result",
          "data": {
            "text/plain": [
              "Index(['tweet_id', 'jpg_url', 'img_num', 'dog_breed', 'p1_conf', 'p1_dog',\n",
              "       'p2', 'p2_conf', 'p2_dog', 'p3', 'p3_conf', 'p3_dog'],\n",
              "      dtype='object')"
            ]
          },
          "metadata": {
            "tags": []
          },
          "execution_count": 58
        }
      ]
    },
    {
      "cell_type": "markdown",
      "metadata": {
        "id": "cVJ-lJE80JFC",
        "colab_type": "text"
      },
      "source": [
        "### 10- Drop columns ['p2','p2_conf','p2_dog','p3','p3_conf','p3_dog']\n",
        "by inspection on google sheets, theses columns have predicted other stuff than dogs so they are not reliable to our project as by random inspection all tweets contained dogs picture and we are only interesting in dogs breeds in this dataframe so they are quality issues for me and i will drop these columns"
      ]
    },
    {
      "cell_type": "code",
      "metadata": {
        "id": "Qo0TiBJvyplz",
        "colab_type": "code",
        "colab": {}
      },
      "source": [
        "image_prediction_clean=image_prediction_clean.drop(['p2','p2_conf','p2_dog','p3','p3_conf','p3_dog'],axis=1)"
      ],
      "execution_count": 0,
      "outputs": []
    },
    {
      "cell_type": "markdown",
      "metadata": {
        "id": "mQH2i3fX1SBf",
        "colab_type": "text"
      },
      "source": [
        "Test"
      ]
    },
    {
      "cell_type": "code",
      "metadata": {
        "id": "XpCzlDJ_1QMn",
        "colab_type": "code",
        "outputId": "27a5d453-83c5-4a56-d549-b8b481ee6efb",
        "colab": {
          "base_uri": "https://localhost:8080/",
          "height": 34
        }
      },
      "source": [
        "image_prediction_clean.columns"
      ],
      "execution_count": 60,
      "outputs": [
        {
          "output_type": "execute_result",
          "data": {
            "text/plain": [
              "Index(['tweet_id', 'jpg_url', 'img_num', 'dog_breed', 'p1_conf', 'p1_dog'], dtype='object')"
            ]
          },
          "metadata": {
            "tags": []
          },
          "execution_count": 60
        }
      ]
    },
    {
      "cell_type": "markdown",
      "metadata": {
        "id": "ITPKiMF62bCh",
        "colab_type": "text"
      },
      "source": [
        "### 11- Change ['p1_conf','p1_dog'] to ['prediction_confidence','dog'] respectively"
      ]
    },
    {
      "cell_type": "code",
      "metadata": {
        "id": "48WIvB_g1ban",
        "colab_type": "code",
        "colab": {}
      },
      "source": [
        "image_prediction_clean=image_prediction_clean.rename(columns={'p1_conf':'prediction_confidence','p1_dog':'dog'})"
      ],
      "execution_count": 0,
      "outputs": []
    },
    {
      "cell_type": "markdown",
      "metadata": {
        "id": "0CrT6pZ13cLg",
        "colab_type": "text"
      },
      "source": [
        "Test"
      ]
    },
    {
      "cell_type": "code",
      "metadata": {
        "id": "OyB7IELV3bCx",
        "colab_type": "code",
        "outputId": "2e34b000-a808-44aa-9ec3-281499219975",
        "colab": {
          "base_uri": "https://localhost:8080/",
          "height": 68
        }
      },
      "source": [
        "image_prediction_clean.columns"
      ],
      "execution_count": 62,
      "outputs": [
        {
          "output_type": "execute_result",
          "data": {
            "text/plain": [
              "Index(['tweet_id', 'jpg_url', 'img_num', 'dog_breed', 'prediction_confidence',\n",
              "       'dog'],\n",
              "      dtype='object')"
            ]
          },
          "metadata": {
            "tags": []
          },
          "execution_count": 62
        }
      ]
    },
    {
      "cell_type": "markdown",
      "metadata": {
        "id": "eUNYjk913qN8",
        "colab_type": "text"
      },
      "source": [
        "### 12- change the values in breed column that do not belong to dogs to np.nan\n",
        "image_prediction assumed that some images don't belong to dogs and interpreted other stuff than dogs and which is not true"
      ]
    },
    {
      "cell_type": "code",
      "metadata": {
        "id": "WShGMMok3hXd",
        "colab_type": "code",
        "outputId": "4021359b-05d3-4536-d946-bef6ad54e31e",
        "colab": {
          "base_uri": "https://localhost:8080/",
          "height": 419
        }
      },
      "source": [
        "image_prediction_clean.query('dog==False')"
      ],
      "execution_count": 63,
      "outputs": [
        {
          "output_type": "execute_result",
          "data": {
            "text/html": [
              "<div>\n",
              "<style scoped>\n",
              "    .dataframe tbody tr th:only-of-type {\n",
              "        vertical-align: middle;\n",
              "    }\n",
              "\n",
              "    .dataframe tbody tr th {\n",
              "        vertical-align: top;\n",
              "    }\n",
              "\n",
              "    .dataframe thead th {\n",
              "        text-align: right;\n",
              "    }\n",
              "</style>\n",
              "<table border=\"1\" class=\"dataframe\">\n",
              "  <thead>\n",
              "    <tr style=\"text-align: right;\">\n",
              "      <th></th>\n",
              "      <th>tweet_id</th>\n",
              "      <th>jpg_url</th>\n",
              "      <th>img_num</th>\n",
              "      <th>dog_breed</th>\n",
              "      <th>prediction_confidence</th>\n",
              "      <th>dog</th>\n",
              "    </tr>\n",
              "  </thead>\n",
              "  <tbody>\n",
              "    <tr>\n",
              "      <th>6</th>\n",
              "      <td>666051853826850816</td>\n",
              "      <td>https://pbs.twimg.com/media/CT5KoJ1WoAAJash.jpg</td>\n",
              "      <td>1</td>\n",
              "      <td>box_turtle</td>\n",
              "      <td>0.933012</td>\n",
              "      <td>False</td>\n",
              "    </tr>\n",
              "    <tr>\n",
              "      <th>8</th>\n",
              "      <td>666057090499244032</td>\n",
              "      <td>https://pbs.twimg.com/media/CT5PY90WoAAQGLo.jpg</td>\n",
              "      <td>1</td>\n",
              "      <td>shopping_cart</td>\n",
              "      <td>0.962465</td>\n",
              "      <td>False</td>\n",
              "    </tr>\n",
              "    <tr>\n",
              "      <th>17</th>\n",
              "      <td>666104133288665088</td>\n",
              "      <td>https://pbs.twimg.com/media/CT56LSZWoAAlJj2.jpg</td>\n",
              "      <td>1</td>\n",
              "      <td>hen</td>\n",
              "      <td>0.965932</td>\n",
              "      <td>False</td>\n",
              "    </tr>\n",
              "    <tr>\n",
              "      <th>18</th>\n",
              "      <td>666268910803644416</td>\n",
              "      <td>https://pbs.twimg.com/media/CT8QCd1WEAADXws.jpg</td>\n",
              "      <td>1</td>\n",
              "      <td>desktop_computer</td>\n",
              "      <td>0.086502</td>\n",
              "      <td>False</td>\n",
              "    </tr>\n",
              "    <tr>\n",
              "      <th>21</th>\n",
              "      <td>666293911632134144</td>\n",
              "      <td>https://pbs.twimg.com/media/CT8mx7KW4AEQu8N.jpg</td>\n",
              "      <td>1</td>\n",
              "      <td>three-toed_sloth</td>\n",
              "      <td>0.914671</td>\n",
              "      <td>False</td>\n",
              "    </tr>\n",
              "    <tr>\n",
              "      <th>...</th>\n",
              "      <td>...</td>\n",
              "      <td>...</td>\n",
              "      <td>...</td>\n",
              "      <td>...</td>\n",
              "      <td>...</td>\n",
              "      <td>...</td>\n",
              "    </tr>\n",
              "    <tr>\n",
              "      <th>2026</th>\n",
              "      <td>882045870035918850</td>\n",
              "      <td>https://pbs.twimg.com/media/DD2oCl2WAAEI_4a.jpg</td>\n",
              "      <td>1</td>\n",
              "      <td>web_site</td>\n",
              "      <td>0.949591</td>\n",
              "      <td>False</td>\n",
              "    </tr>\n",
              "    <tr>\n",
              "      <th>2046</th>\n",
              "      <td>886680336477933568</td>\n",
              "      <td>https://pbs.twimg.com/media/DE4fEDzWAAAyHMM.jpg</td>\n",
              "      <td>1</td>\n",
              "      <td>convertible</td>\n",
              "      <td>0.738995</td>\n",
              "      <td>False</td>\n",
              "    </tr>\n",
              "    <tr>\n",
              "      <th>2052</th>\n",
              "      <td>887517139158093824</td>\n",
              "      <td>https://pbs.twimg.com/ext_tw_video_thumb/88751...</td>\n",
              "      <td>1</td>\n",
              "      <td>limousine</td>\n",
              "      <td>0.130432</td>\n",
              "      <td>False</td>\n",
              "    </tr>\n",
              "    <tr>\n",
              "      <th>2071</th>\n",
              "      <td>891689557279858688</td>\n",
              "      <td>https://pbs.twimg.com/media/DF_q7IAWsAEuuN8.jpg</td>\n",
              "      <td>1</td>\n",
              "      <td>paper_towel</td>\n",
              "      <td>0.170278</td>\n",
              "      <td>False</td>\n",
              "    </tr>\n",
              "    <tr>\n",
              "      <th>2074</th>\n",
              "      <td>892420643555336193</td>\n",
              "      <td>https://pbs.twimg.com/media/DGKD1-bXoAAIAUK.jpg</td>\n",
              "      <td>1</td>\n",
              "      <td>orange</td>\n",
              "      <td>0.097049</td>\n",
              "      <td>False</td>\n",
              "    </tr>\n",
              "  </tbody>\n",
              "</table>\n",
              "<p>543 rows × 6 columns</p>\n",
              "</div>"
            ],
            "text/plain": [
              "                tweet_id  ...    dog\n",
              "6     666051853826850816  ...  False\n",
              "8     666057090499244032  ...  False\n",
              "17    666104133288665088  ...  False\n",
              "18    666268910803644416  ...  False\n",
              "21    666293911632134144  ...  False\n",
              "...                  ...  ...    ...\n",
              "2026  882045870035918850  ...  False\n",
              "2046  886680336477933568  ...  False\n",
              "2052  887517139158093824  ...  False\n",
              "2071  891689557279858688  ...  False\n",
              "2074  892420643555336193  ...  False\n",
              "\n",
              "[543 rows x 6 columns]"
            ]
          },
          "metadata": {
            "tags": []
          },
          "execution_count": 63
        }
      ]
    },
    {
      "cell_type": "markdown",
      "metadata": {
        "id": "Z1h8WrUF4iUr",
        "colab_type": "text"
      },
      "source": [
        "by random inspection of these urls, I found that they contained dogs picture and the model failed to predict them so I need to change these breed values to np.nan"
      ]
    },
    {
      "cell_type": "code",
      "metadata": {
        "id": "0FpIsmCZ4fya",
        "colab_type": "code",
        "colab": {}
      },
      "source": [
        "not_breed=list(image_prediction_clean.query('dog==False')['dog_breed'])"
      ],
      "execution_count": 0,
      "outputs": []
    },
    {
      "cell_type": "code",
      "metadata": {
        "id": "hSbaRYGd5GLF",
        "colab_type": "code",
        "colab": {}
      },
      "source": [
        "image_prediction_clean['dog_breed']=image_prediction_clean['dog_breed'].replace(not_breed,np.nan)"
      ],
      "execution_count": 0,
      "outputs": []
    },
    {
      "cell_type": "markdown",
      "metadata": {
        "id": "KjkvHtFf8TOE",
        "colab_type": "text"
      },
      "source": [
        "Test"
      ]
    },
    {
      "cell_type": "code",
      "metadata": {
        "id": "W_e22Fno5p0z",
        "colab_type": "code",
        "outputId": "1bfd3821-bf89-4015-f94d-2ea0a4e6a08a",
        "colab": {
          "base_uri": "https://localhost:8080/",
          "height": 419
        }
      },
      "source": [
        "image_prediction_clean.query('dog==False')"
      ],
      "execution_count": 66,
      "outputs": [
        {
          "output_type": "execute_result",
          "data": {
            "text/html": [
              "<div>\n",
              "<style scoped>\n",
              "    .dataframe tbody tr th:only-of-type {\n",
              "        vertical-align: middle;\n",
              "    }\n",
              "\n",
              "    .dataframe tbody tr th {\n",
              "        vertical-align: top;\n",
              "    }\n",
              "\n",
              "    .dataframe thead th {\n",
              "        text-align: right;\n",
              "    }\n",
              "</style>\n",
              "<table border=\"1\" class=\"dataframe\">\n",
              "  <thead>\n",
              "    <tr style=\"text-align: right;\">\n",
              "      <th></th>\n",
              "      <th>tweet_id</th>\n",
              "      <th>jpg_url</th>\n",
              "      <th>img_num</th>\n",
              "      <th>dog_breed</th>\n",
              "      <th>prediction_confidence</th>\n",
              "      <th>dog</th>\n",
              "    </tr>\n",
              "  </thead>\n",
              "  <tbody>\n",
              "    <tr>\n",
              "      <th>6</th>\n",
              "      <td>666051853826850816</td>\n",
              "      <td>https://pbs.twimg.com/media/CT5KoJ1WoAAJash.jpg</td>\n",
              "      <td>1</td>\n",
              "      <td>NaN</td>\n",
              "      <td>0.933012</td>\n",
              "      <td>False</td>\n",
              "    </tr>\n",
              "    <tr>\n",
              "      <th>8</th>\n",
              "      <td>666057090499244032</td>\n",
              "      <td>https://pbs.twimg.com/media/CT5PY90WoAAQGLo.jpg</td>\n",
              "      <td>1</td>\n",
              "      <td>NaN</td>\n",
              "      <td>0.962465</td>\n",
              "      <td>False</td>\n",
              "    </tr>\n",
              "    <tr>\n",
              "      <th>17</th>\n",
              "      <td>666104133288665088</td>\n",
              "      <td>https://pbs.twimg.com/media/CT56LSZWoAAlJj2.jpg</td>\n",
              "      <td>1</td>\n",
              "      <td>NaN</td>\n",
              "      <td>0.965932</td>\n",
              "      <td>False</td>\n",
              "    </tr>\n",
              "    <tr>\n",
              "      <th>18</th>\n",
              "      <td>666268910803644416</td>\n",
              "      <td>https://pbs.twimg.com/media/CT8QCd1WEAADXws.jpg</td>\n",
              "      <td>1</td>\n",
              "      <td>NaN</td>\n",
              "      <td>0.086502</td>\n",
              "      <td>False</td>\n",
              "    </tr>\n",
              "    <tr>\n",
              "      <th>21</th>\n",
              "      <td>666293911632134144</td>\n",
              "      <td>https://pbs.twimg.com/media/CT8mx7KW4AEQu8N.jpg</td>\n",
              "      <td>1</td>\n",
              "      <td>NaN</td>\n",
              "      <td>0.914671</td>\n",
              "      <td>False</td>\n",
              "    </tr>\n",
              "    <tr>\n",
              "      <th>...</th>\n",
              "      <td>...</td>\n",
              "      <td>...</td>\n",
              "      <td>...</td>\n",
              "      <td>...</td>\n",
              "      <td>...</td>\n",
              "      <td>...</td>\n",
              "    </tr>\n",
              "    <tr>\n",
              "      <th>2026</th>\n",
              "      <td>882045870035918850</td>\n",
              "      <td>https://pbs.twimg.com/media/DD2oCl2WAAEI_4a.jpg</td>\n",
              "      <td>1</td>\n",
              "      <td>NaN</td>\n",
              "      <td>0.949591</td>\n",
              "      <td>False</td>\n",
              "    </tr>\n",
              "    <tr>\n",
              "      <th>2046</th>\n",
              "      <td>886680336477933568</td>\n",
              "      <td>https://pbs.twimg.com/media/DE4fEDzWAAAyHMM.jpg</td>\n",
              "      <td>1</td>\n",
              "      <td>NaN</td>\n",
              "      <td>0.738995</td>\n",
              "      <td>False</td>\n",
              "    </tr>\n",
              "    <tr>\n",
              "      <th>2052</th>\n",
              "      <td>887517139158093824</td>\n",
              "      <td>https://pbs.twimg.com/ext_tw_video_thumb/88751...</td>\n",
              "      <td>1</td>\n",
              "      <td>NaN</td>\n",
              "      <td>0.130432</td>\n",
              "      <td>False</td>\n",
              "    </tr>\n",
              "    <tr>\n",
              "      <th>2071</th>\n",
              "      <td>891689557279858688</td>\n",
              "      <td>https://pbs.twimg.com/media/DF_q7IAWsAEuuN8.jpg</td>\n",
              "      <td>1</td>\n",
              "      <td>NaN</td>\n",
              "      <td>0.170278</td>\n",
              "      <td>False</td>\n",
              "    </tr>\n",
              "    <tr>\n",
              "      <th>2074</th>\n",
              "      <td>892420643555336193</td>\n",
              "      <td>https://pbs.twimg.com/media/DGKD1-bXoAAIAUK.jpg</td>\n",
              "      <td>1</td>\n",
              "      <td>NaN</td>\n",
              "      <td>0.097049</td>\n",
              "      <td>False</td>\n",
              "    </tr>\n",
              "  </tbody>\n",
              "</table>\n",
              "<p>543 rows × 6 columns</p>\n",
              "</div>"
            ],
            "text/plain": [
              "                tweet_id  ...    dog\n",
              "6     666051853826850816  ...  False\n",
              "8     666057090499244032  ...  False\n",
              "17    666104133288665088  ...  False\n",
              "18    666268910803644416  ...  False\n",
              "21    666293911632134144  ...  False\n",
              "...                  ...  ...    ...\n",
              "2026  882045870035918850  ...  False\n",
              "2046  886680336477933568  ...  False\n",
              "2052  887517139158093824  ...  False\n",
              "2071  891689557279858688  ...  False\n",
              "2074  892420643555336193  ...  False\n",
              "\n",
              "[543 rows x 6 columns]"
            ]
          },
          "metadata": {
            "tags": []
          },
          "execution_count": 66
        }
      ]
    },
    {
      "cell_type": "markdown",
      "metadata": {
        "id": "nxLYNZv-8n_1",
        "colab_type": "text"
      },
      "source": [
        "### 13- Drop dog column now that we don't need it anymore"
      ]
    },
    {
      "cell_type": "code",
      "metadata": {
        "id": "dZlnlc8W8bJJ",
        "colab_type": "code",
        "colab": {}
      },
      "source": [
        "image_prediction_clean=image_prediction_clean.drop(['dog'],axis=1)"
      ],
      "execution_count": 0,
      "outputs": []
    },
    {
      "cell_type": "markdown",
      "metadata": {
        "id": "o0EPV2la865C",
        "colab_type": "text"
      },
      "source": [
        "Test"
      ]
    },
    {
      "cell_type": "code",
      "metadata": {
        "id": "rQrS3twj85V3",
        "colab_type": "code",
        "outputId": "77565729-e499-492e-b9c3-7fadc404d8ef",
        "colab": {
          "base_uri": "https://localhost:8080/",
          "height": 34
        }
      },
      "source": [
        "image_prediction_clean.columns"
      ],
      "execution_count": 68,
      "outputs": [
        {
          "output_type": "execute_result",
          "data": {
            "text/plain": [
              "Index(['tweet_id', 'jpg_url', 'img_num', 'dog_breed', 'prediction_confidence'], dtype='object')"
            ]
          },
          "metadata": {
            "tags": []
          },
          "execution_count": 68
        }
      ]
    },
    {
      "cell_type": "markdown",
      "metadata": {
        "id": "6uEtRk6a9Gsf",
        "colab_type": "text"
      },
      "source": [
        "### 14- Change 'name' column name to 'dog_name' to avoid confusion"
      ]
    },
    {
      "cell_type": "code",
      "metadata": {
        "id": "USvt38mtE6Rk",
        "colab_type": "code",
        "colab": {}
      },
      "source": [
        "twitter_archive_clean=twitter_archive_clean.rename(columns={'name':'dog_name'})"
      ],
      "execution_count": 0,
      "outputs": []
    },
    {
      "cell_type": "markdown",
      "metadata": {
        "id": "AzF5WJLgFOLo",
        "colab_type": "text"
      },
      "source": [
        "Test"
      ]
    },
    {
      "cell_type": "code",
      "metadata": {
        "id": "z4pEBQX_FSvD",
        "colab_type": "code",
        "outputId": "bbf0e1cb-13e5-49d3-8b35-a3bd4a016e89",
        "colab": {
          "base_uri": "https://localhost:8080/",
          "height": 85
        }
      },
      "source": [
        "twitter_archive_clean.columns"
      ],
      "execution_count": 70,
      "outputs": [
        {
          "output_type": "execute_result",
          "data": {
            "text/plain": [
              "Index(['tweet_id', 'timestamp', 'source', 'text', 'expanded_urls',\n",
              "       'rating_numerator', 'rating_denominator', 'dog_name', 'doggo',\n",
              "       'floofer', 'pupper', 'puppo'],\n",
              "      dtype='object')"
            ]
          },
          "metadata": {
            "tags": []
          },
          "execution_count": 70
        }
      ]
    },
    {
      "cell_type": "markdown",
      "metadata": {
        "id": "COXaux2ODEF4",
        "colab_type": "text"
      },
      "source": [
        "### 15- change timestamp type from object to datetime in ret_fav_count dataframe"
      ]
    },
    {
      "cell_type": "code",
      "metadata": {
        "id": "HKko2YwK9AP4",
        "colab_type": "code",
        "colab": {}
      },
      "source": [
        "ret_fav_count['timestamp']=pd.to_datetime(ret_fav_count['timestamp'])"
      ],
      "execution_count": 0,
      "outputs": []
    },
    {
      "cell_type": "markdown",
      "metadata": {
        "id": "-y5pK6mmECq8",
        "colab_type": "text"
      },
      "source": [
        "Test"
      ]
    },
    {
      "cell_type": "code",
      "metadata": {
        "id": "Dgov2siWEBJ0",
        "colab_type": "code",
        "outputId": "ca4a748b-5d92-4174-bc3b-e78cb7fca4bf",
        "colab": {
          "base_uri": "https://localhost:8080/",
          "height": 34
        }
      },
      "source": [
        "ret_fav_count.timestamp.dtypes"
      ],
      "execution_count": 72,
      "outputs": [
        {
          "output_type": "execute_result",
          "data": {
            "text/plain": [
              "datetime64[ns, UTC]"
            ]
          },
          "metadata": {
            "tags": []
          },
          "execution_count": 72
        }
      ]
    },
    {
      "cell_type": "markdown",
      "metadata": {
        "id": "Y43HjjRQSjdG",
        "colab_type": "text"
      },
      "source": [
        "### 16-Drop rows where denominator are not equal to our standard 10"
      ]
    },
    {
      "cell_type": "code",
      "metadata": {
        "id": "Lvwu5saBS_vd",
        "colab_type": "code",
        "outputId": "508d65bd-1e7f-42de-ee62-823dc3f42fa9",
        "colab": {
          "base_uri": "https://localhost:8080/",
          "height": 297
        }
      },
      "source": [
        "twitter_archive_clean[['rating_numerator','rating_denominator']].describe()"
      ],
      "execution_count": 73,
      "outputs": [
        {
          "output_type": "execute_result",
          "data": {
            "text/html": [
              "<div>\n",
              "<style scoped>\n",
              "    .dataframe tbody tr th:only-of-type {\n",
              "        vertical-align: middle;\n",
              "    }\n",
              "\n",
              "    .dataframe tbody tr th {\n",
              "        vertical-align: top;\n",
              "    }\n",
              "\n",
              "    .dataframe thead th {\n",
              "        text-align: right;\n",
              "    }\n",
              "</style>\n",
              "<table border=\"1\" class=\"dataframe\">\n",
              "  <thead>\n",
              "    <tr style=\"text-align: right;\">\n",
              "      <th></th>\n",
              "      <th>rating_numerator</th>\n",
              "      <th>rating_denominator</th>\n",
              "    </tr>\n",
              "  </thead>\n",
              "  <tbody>\n",
              "    <tr>\n",
              "      <th>count</th>\n",
              "      <td>2094.000000</td>\n",
              "      <td>2094.000000</td>\n",
              "    </tr>\n",
              "    <tr>\n",
              "      <th>mean</th>\n",
              "      <td>12.191500</td>\n",
              "      <td>10.449379</td>\n",
              "    </tr>\n",
              "    <tr>\n",
              "      <th>std</th>\n",
              "      <td>40.393858</td>\n",
              "      <td>6.649800</td>\n",
              "    </tr>\n",
              "    <tr>\n",
              "      <th>min</th>\n",
              "      <td>0.000000</td>\n",
              "      <td>2.000000</td>\n",
              "    </tr>\n",
              "    <tr>\n",
              "      <th>25%</th>\n",
              "      <td>10.000000</td>\n",
              "      <td>10.000000</td>\n",
              "    </tr>\n",
              "    <tr>\n",
              "      <th>50%</th>\n",
              "      <td>11.000000</td>\n",
              "      <td>10.000000</td>\n",
              "    </tr>\n",
              "    <tr>\n",
              "      <th>75%</th>\n",
              "      <td>12.000000</td>\n",
              "      <td>10.000000</td>\n",
              "    </tr>\n",
              "    <tr>\n",
              "      <th>max</th>\n",
              "      <td>1776.000000</td>\n",
              "      <td>170.000000</td>\n",
              "    </tr>\n",
              "  </tbody>\n",
              "</table>\n",
              "</div>"
            ],
            "text/plain": [
              "       rating_numerator  rating_denominator\n",
              "count       2094.000000         2094.000000\n",
              "mean          12.191500           10.449379\n",
              "std           40.393858            6.649800\n",
              "min            0.000000            2.000000\n",
              "25%           10.000000           10.000000\n",
              "50%           11.000000           10.000000\n",
              "75%           12.000000           10.000000\n",
              "max         1776.000000          170.000000"
            ]
          },
          "metadata": {
            "tags": []
          },
          "execution_count": 73
        }
      ]
    },
    {
      "cell_type": "code",
      "metadata": {
        "id": "w47T81AlSiUz",
        "colab_type": "code",
        "colab": {}
      },
      "source": [
        "twitter_archive_clean=twitter_archive_clean.drop(twitter_archive_clean.query('rating_denominator!=10').index,axis=0)"
      ],
      "execution_count": 0,
      "outputs": []
    },
    {
      "cell_type": "markdown",
      "metadata": {
        "id": "Bvnjl-nBUA4o",
        "colab_type": "text"
      },
      "source": [
        "### 17-Drop rows where rating_numerator are equal to 0 or those whose have rating above 20"
      ]
    },
    {
      "cell_type": "code",
      "metadata": {
        "id": "nHGMUR9dUZ1B",
        "colab_type": "code",
        "colab": {}
      },
      "source": [
        "twitter_archive_clean=twitter_archive_clean.drop(twitter_archive_clean.query('rating_numerator == 0').index,axis=0)"
      ],
      "execution_count": 0,
      "outputs": []
    },
    {
      "cell_type": "code",
      "metadata": {
        "id": "V0ucTMurUoMG",
        "colab_type": "code",
        "colab": {}
      },
      "source": [
        "twitter_archive_clean=twitter_archive_clean.drop(twitter_archive_clean.query('rating_numerator >= 20').index,axis=0)"
      ],
      "execution_count": 0,
      "outputs": []
    },
    {
      "cell_type": "markdown",
      "metadata": {
        "id": "nqshgqnUUwa_",
        "colab_type": "text"
      },
      "source": [
        "Test"
      ]
    },
    {
      "cell_type": "code",
      "metadata": {
        "id": "mlVrSQZ-UyQi",
        "colab_type": "code",
        "outputId": "768fd453-66ac-4347-894c-da30f0bffa02",
        "colab": {
          "base_uri": "https://localhost:8080/",
          "height": 297
        }
      },
      "source": [
        "twitter_archive_clean[['rating_numerator','rating_denominator']].describe()"
      ],
      "execution_count": 77,
      "outputs": [
        {
          "output_type": "execute_result",
          "data": {
            "text/html": [
              "<div>\n",
              "<style scoped>\n",
              "    .dataframe tbody tr th:only-of-type {\n",
              "        vertical-align: middle;\n",
              "    }\n",
              "\n",
              "    .dataframe tbody tr th {\n",
              "        vertical-align: top;\n",
              "    }\n",
              "\n",
              "    .dataframe thead th {\n",
              "        text-align: right;\n",
              "    }\n",
              "</style>\n",
              "<table border=\"1\" class=\"dataframe\">\n",
              "  <thead>\n",
              "    <tr style=\"text-align: right;\">\n",
              "      <th></th>\n",
              "      <th>rating_numerator</th>\n",
              "      <th>rating_denominator</th>\n",
              "    </tr>\n",
              "  </thead>\n",
              "  <tbody>\n",
              "    <tr>\n",
              "      <th>count</th>\n",
              "      <td>2071.000000</td>\n",
              "      <td>2071.0</td>\n",
              "    </tr>\n",
              "    <tr>\n",
              "      <th>mean</th>\n",
              "      <td>10.611299</td>\n",
              "      <td>10.0</td>\n",
              "    </tr>\n",
              "    <tr>\n",
              "      <th>std</th>\n",
              "      <td>2.142969</td>\n",
              "      <td>0.0</td>\n",
              "    </tr>\n",
              "    <tr>\n",
              "      <th>min</th>\n",
              "      <td>1.000000</td>\n",
              "      <td>10.0</td>\n",
              "    </tr>\n",
              "    <tr>\n",
              "      <th>25%</th>\n",
              "      <td>10.000000</td>\n",
              "      <td>10.0</td>\n",
              "    </tr>\n",
              "    <tr>\n",
              "      <th>50%</th>\n",
              "      <td>11.000000</td>\n",
              "      <td>10.0</td>\n",
              "    </tr>\n",
              "    <tr>\n",
              "      <th>75%</th>\n",
              "      <td>12.000000</td>\n",
              "      <td>10.0</td>\n",
              "    </tr>\n",
              "    <tr>\n",
              "      <th>max</th>\n",
              "      <td>14.000000</td>\n",
              "      <td>10.0</td>\n",
              "    </tr>\n",
              "  </tbody>\n",
              "</table>\n",
              "</div>"
            ],
            "text/plain": [
              "       rating_numerator  rating_denominator\n",
              "count       2071.000000              2071.0\n",
              "mean          10.611299                10.0\n",
              "std            2.142969                 0.0\n",
              "min            1.000000                10.0\n",
              "25%           10.000000                10.0\n",
              "50%           11.000000                10.0\n",
              "75%           12.000000                10.0\n",
              "max           14.000000                10.0"
            ]
          },
          "metadata": {
            "tags": []
          },
          "execution_count": 77
        }
      ]
    },
    {
      "cell_type": "markdown",
      "metadata": {
        "id": "ka3gnThhLDcz",
        "colab_type": "text"
      },
      "source": [
        "## Clean step2\n",
        "### Tidiness\n",
        "### 1-Stack dog stages in one column"
      ]
    },
    {
      "cell_type": "code",
      "metadata": {
        "id": "uRH4stVrL8Kh",
        "colab_type": "code",
        "outputId": "50170dd6-7ceb-4741-ec0c-9a8052485d43",
        "colab": {
          "base_uri": "https://localhost:8080/",
          "height": 85
        }
      },
      "source": [
        "twitter_archive_clean.columns"
      ],
      "execution_count": 78,
      "outputs": [
        {
          "output_type": "execute_result",
          "data": {
            "text/plain": [
              "Index(['tweet_id', 'timestamp', 'source', 'text', 'expanded_urls',\n",
              "       'rating_numerator', 'rating_denominator', 'dog_name', 'doggo',\n",
              "       'floofer', 'pupper', 'puppo'],\n",
              "      dtype='object')"
            ]
          },
          "metadata": {
            "tags": []
          },
          "execution_count": 78
        }
      ]
    },
    {
      "cell_type": "code",
      "metadata": {
        "id": "yGBUKxHhEMAp",
        "colab_type": "code",
        "colab": {}
      },
      "source": [
        "#the code did not work for me and created a 4 times bigger dataframe that i could not handle so i had to think of another solution\n",
        "#twitter_archive_clean=pd.melt(twitter_archive_clean,id_vars=['tweet_id', 'timestamp', 'source', 'text', 'expanded_urls','rating_numerator', 'rating_denominator', 'dog_name'],value_vars=['doggo',\n",
        "#'floofer', 'pupper', 'puppo'],var_name='dog_stage')"
      ],
      "execution_count": 0,
      "outputs": []
    },
    {
      "cell_type": "markdown",
      "metadata": {
        "id": "-HjJxRKdRVlx",
        "colab_type": "text"
      },
      "source": [
        "### This cleaning step combines both a quality cleaning issue and a tidiness issue"
      ]
    },
    {
      "cell_type": "markdown",
      "metadata": {
        "id": "V8vuDwYjSbTy",
        "colab_type": "text"
      },
      "source": [
        "the documentation in this website helped me\n",
        "https://pandas.pydata.org/pandas-docs/stable/reference/api/pandas.Series.str.cat.html"
      ]
    },
    {
      "cell_type": "code",
      "metadata": {
        "id": "Be4KAnNmONtH",
        "colab_type": "code",
        "colab": {}
      },
      "source": [
        "dog_stage = ['doggo','pupper', 'floofer', 'puppo' ]\n",
        "for i in dog_stage:\n",
        "        twitter_archive_clean[i] = twitter_archive_clean[i].replace('None', '')\n",
        "#concat the four strings together\n",
        "twitter_archive_clean['stage'] = twitter_archive_clean.doggo.str.cat(twitter_archive_clean.floofer).str.cat(twitter_archive_clean.pupper).str.cat(twitter_archive_clean.puppo)\n",
        "\n",
        "twitter_archive_clean = twitter_archive_clean.drop(['doggo','floofer','pupper','puppo'], axis = 1)\n",
        "\n",
        "\n",
        "twitter_archive_clean['stage'] = twitter_archive_clean['stage'].replace('', np.nan)"
      ],
      "execution_count": 0,
      "outputs": []
    },
    {
      "cell_type": "markdown",
      "metadata": {
        "id": "xQgxGEmyaQZi",
        "colab_type": "text"
      },
      "source": [
        "Test"
      ]
    },
    {
      "cell_type": "code",
      "metadata": {
        "id": "P26HKZHgaO6P",
        "colab_type": "code",
        "outputId": "f1c99681-9f83-4af2-c01b-45f23cccc171",
        "colab": {
          "base_uri": "https://localhost:8080/",
          "height": 68
        }
      },
      "source": [
        "twitter_archive_clean.columns"
      ],
      "execution_count": 81,
      "outputs": [
        {
          "output_type": "execute_result",
          "data": {
            "text/plain": [
              "Index(['tweet_id', 'timestamp', 'source', 'text', 'expanded_urls',\n",
              "       'rating_numerator', 'rating_denominator', 'dog_name', 'stage'],\n",
              "      dtype='object')"
            ]
          },
          "metadata": {
            "tags": []
          },
          "execution_count": 81
        }
      ]
    },
    {
      "cell_type": "code",
      "metadata": {
        "id": "aQz94xYZadAh",
        "colab_type": "code",
        "outputId": "171a70f4-b0ea-4fe3-c118-8054cc0929c6",
        "colab": {
          "base_uri": "https://localhost:8080/",
          "height": 462
        }
      },
      "source": [
        "twitter_archive_clean.sample(5)"
      ],
      "execution_count": 82,
      "outputs": [
        {
          "output_type": "execute_result",
          "data": {
            "text/html": [
              "<div>\n",
              "<style scoped>\n",
              "    .dataframe tbody tr th:only-of-type {\n",
              "        vertical-align: middle;\n",
              "    }\n",
              "\n",
              "    .dataframe tbody tr th {\n",
              "        vertical-align: top;\n",
              "    }\n",
              "\n",
              "    .dataframe thead th {\n",
              "        text-align: right;\n",
              "    }\n",
              "</style>\n",
              "<table border=\"1\" class=\"dataframe\">\n",
              "  <thead>\n",
              "    <tr style=\"text-align: right;\">\n",
              "      <th></th>\n",
              "      <th>tweet_id</th>\n",
              "      <th>timestamp</th>\n",
              "      <th>source</th>\n",
              "      <th>text</th>\n",
              "      <th>expanded_urls</th>\n",
              "      <th>rating_numerator</th>\n",
              "      <th>rating_denominator</th>\n",
              "      <th>dog_name</th>\n",
              "      <th>stage</th>\n",
              "    </tr>\n",
              "  </thead>\n",
              "  <tbody>\n",
              "    <tr>\n",
              "      <th>242</th>\n",
              "      <td>846153765933735936</td>\n",
              "      <td>2017-03-27 00:15:53+00:00</td>\n",
              "      <td>&lt;a href=\"http://twitter.com/download/iphone\" r...</td>\n",
              "      <td>This is Vixen. He really likes bananas. Steals...</td>\n",
              "      <td>https://twitter.com/dog_rates/status/846153765...</td>\n",
              "      <td>13</td>\n",
              "      <td>10</td>\n",
              "      <td>Vixen</td>\n",
              "      <td>NaN</td>\n",
              "    </tr>\n",
              "    <tr>\n",
              "      <th>1256</th>\n",
              "      <td>710588934686908417</td>\n",
              "      <td>2016-03-17 22:09:38+00:00</td>\n",
              "      <td>&lt;a href=\"http://twitter.com/download/iphone\" r...</td>\n",
              "      <td>This is Beemo. He's a Chubberflop mix. 12/10 w...</td>\n",
              "      <td>https://twitter.com/dog_rates/status/710588934...</td>\n",
              "      <td>12</td>\n",
              "      <td>10</td>\n",
              "      <td>Beemo</td>\n",
              "      <td>NaN</td>\n",
              "    </tr>\n",
              "    <tr>\n",
              "      <th>1615</th>\n",
              "      <td>685268753634967552</td>\n",
              "      <td>2016-01-08 01:16:17+00:00</td>\n",
              "      <td>&lt;a href=\"http://twitter.com/download/iphone\" r...</td>\n",
              "      <td>This is Hubertson. He's a Carmel Haberdashery....</td>\n",
              "      <td>https://twitter.com/dog_rates/status/685268753...</td>\n",
              "      <td>10</td>\n",
              "      <td>10</td>\n",
              "      <td>Hubertson</td>\n",
              "      <td>pupper</td>\n",
              "    </tr>\n",
              "    <tr>\n",
              "      <th>1594</th>\n",
              "      <td>686377065986265092</td>\n",
              "      <td>2016-01-11 02:40:19+00:00</td>\n",
              "      <td>&lt;a href=\"http://twitter.com/download/iphone\" r...</td>\n",
              "      <td>Meet Birf. He thinks he's gone blind. 10/10 ve...</td>\n",
              "      <td>https://twitter.com/dog_rates/status/686377065...</td>\n",
              "      <td>10</td>\n",
              "      <td>10</td>\n",
              "      <td>Birf</td>\n",
              "      <td>pupper</td>\n",
              "    </tr>\n",
              "    <tr>\n",
              "      <th>1893</th>\n",
              "      <td>674752233200820224</td>\n",
              "      <td>2015-12-10 00:47:23+00:00</td>\n",
              "      <td>&lt;a href=\"http://twitter.com/download/iphone\" r...</td>\n",
              "      <td>Everyone please just appreciate how perfect th...</td>\n",
              "      <td>https://twitter.com/dog_rates/status/674752233...</td>\n",
              "      <td>12</td>\n",
              "      <td>10</td>\n",
              "      <td>NaN</td>\n",
              "      <td>NaN</td>\n",
              "    </tr>\n",
              "  </tbody>\n",
              "</table>\n",
              "</div>"
            ],
            "text/plain": [
              "                tweet_id                 timestamp  ...   dog_name   stage\n",
              "242   846153765933735936 2017-03-27 00:15:53+00:00  ...      Vixen     NaN\n",
              "1256  710588934686908417 2016-03-17 22:09:38+00:00  ...      Beemo     NaN\n",
              "1615  685268753634967552 2016-01-08 01:16:17+00:00  ...  Hubertson  pupper\n",
              "1594  686377065986265092 2016-01-11 02:40:19+00:00  ...       Birf  pupper\n",
              "1893  674752233200820224 2015-12-10 00:47:23+00:00  ...        NaN     NaN\n",
              "\n",
              "[5 rows x 9 columns]"
            ]
          },
          "metadata": {
            "tags": []
          },
          "execution_count": 82
        }
      ]
    },
    {
      "cell_type": "markdown",
      "metadata": {
        "id": "Xg3sr8zHVUyC",
        "colab_type": "text"
      },
      "source": [
        "### 2-Merge the three dataframes together in a master one"
      ]
    },
    {
      "cell_type": "code",
      "metadata": {
        "id": "S4PBTgjVag7l",
        "colab_type": "code",
        "colab": {}
      },
      "source": [
        "twitter_archive_master=pd.merge(left=twitter_archive_clean,right=image_prediction_clean,on='tweet_id')"
      ],
      "execution_count": 0,
      "outputs": []
    },
    {
      "cell_type": "code",
      "metadata": {
        "id": "41Mq4RCHbUcF",
        "colab_type": "code",
        "colab": {}
      },
      "source": [
        "twitter_archive_master=pd.merge(left=twitter_archive_master,right=ret_fav_count_clean, on='tweet_id')"
      ],
      "execution_count": 0,
      "outputs": []
    },
    {
      "cell_type": "code",
      "metadata": {
        "id": "n35WC1yJcWmv",
        "colab_type": "code",
        "outputId": "d9620965-605a-4158-c7a5-4ffd60dfe3d8",
        "colab": {
          "base_uri": "https://localhost:8080/",
          "height": 335
        }
      },
      "source": [
        "twitter_archive_master.head(2)"
      ],
      "execution_count": 85,
      "outputs": [
        {
          "output_type": "execute_result",
          "data": {
            "text/html": [
              "<div>\n",
              "<style scoped>\n",
              "    .dataframe tbody tr th:only-of-type {\n",
              "        vertical-align: middle;\n",
              "    }\n",
              "\n",
              "    .dataframe tbody tr th {\n",
              "        vertical-align: top;\n",
              "    }\n",
              "\n",
              "    .dataframe thead th {\n",
              "        text-align: right;\n",
              "    }\n",
              "</style>\n",
              "<table border=\"1\" class=\"dataframe\">\n",
              "  <thead>\n",
              "    <tr style=\"text-align: right;\">\n",
              "      <th></th>\n",
              "      <th>tweet_id</th>\n",
              "      <th>timestamp_x</th>\n",
              "      <th>source</th>\n",
              "      <th>text</th>\n",
              "      <th>expanded_urls</th>\n",
              "      <th>rating_numerator</th>\n",
              "      <th>rating_denominator</th>\n",
              "      <th>dog_name</th>\n",
              "      <th>stage</th>\n",
              "      <th>jpg_url</th>\n",
              "      <th>img_num</th>\n",
              "      <th>dog_breed</th>\n",
              "      <th>prediction_confidence</th>\n",
              "      <th>favorites</th>\n",
              "      <th>retweets</th>\n",
              "      <th>timestamp_y</th>\n",
              "    </tr>\n",
              "  </thead>\n",
              "  <tbody>\n",
              "    <tr>\n",
              "      <th>0</th>\n",
              "      <td>892420643555336193</td>\n",
              "      <td>2017-08-01 16:23:56+00:00</td>\n",
              "      <td>&lt;a href=\"http://twitter.com/download/iphone\" r...</td>\n",
              "      <td>This is Phineas. He's a mystical boy. Only eve...</td>\n",
              "      <td>https://twitter.com/dog_rates/status/892420643...</td>\n",
              "      <td>13</td>\n",
              "      <td>10</td>\n",
              "      <td>Phineas</td>\n",
              "      <td>NaN</td>\n",
              "      <td>https://pbs.twimg.com/media/DGKD1-bXoAAIAUK.jpg</td>\n",
              "      <td>1</td>\n",
              "      <td>NaN</td>\n",
              "      <td>0.097049</td>\n",
              "      <td>36549</td>\n",
              "      <td>7783</td>\n",
              "      <td>Tue Aug 01 16:23:56 +0000 2017</td>\n",
              "    </tr>\n",
              "    <tr>\n",
              "      <th>1</th>\n",
              "      <td>892177421306343426</td>\n",
              "      <td>2017-08-01 00:17:27+00:00</td>\n",
              "      <td>&lt;a href=\"http://twitter.com/download/iphone\" r...</td>\n",
              "      <td>This is Tilly. She's just checking pup on you....</td>\n",
              "      <td>https://twitter.com/dog_rates/status/892177421...</td>\n",
              "      <td>13</td>\n",
              "      <td>10</td>\n",
              "      <td>Tilly</td>\n",
              "      <td>NaN</td>\n",
              "      <td>https://pbs.twimg.com/media/DGGmoV4XsAAUL6n.jpg</td>\n",
              "      <td>1</td>\n",
              "      <td>chihuahua</td>\n",
              "      <td>0.323581</td>\n",
              "      <td>31477</td>\n",
              "      <td>5766</td>\n",
              "      <td>Tue Aug 01 00:17:27 +0000 2017</td>\n",
              "    </tr>\n",
              "  </tbody>\n",
              "</table>\n",
              "</div>"
            ],
            "text/plain": [
              "             tweet_id  ...                     timestamp_y\n",
              "0  892420643555336193  ...  Tue Aug 01 16:23:56 +0000 2017\n",
              "1  892177421306343426  ...  Tue Aug 01 00:17:27 +0000 2017\n",
              "\n",
              "[2 rows x 16 columns]"
            ]
          },
          "metadata": {
            "tags": []
          },
          "execution_count": 85
        }
      ]
    },
    {
      "cell_type": "code",
      "metadata": {
        "id": "N22oCV_8cZff",
        "colab_type": "code",
        "outputId": "13c89639-20ce-4f62-ceea-d5be25d200e5",
        "colab": {
          "base_uri": "https://localhost:8080/",
          "height": 34
        }
      },
      "source": [
        "twitter_archive_master.shape"
      ],
      "execution_count": 86,
      "outputs": [
        {
          "output_type": "execute_result",
          "data": {
            "text/plain": [
              "(1941, 16)"
            ]
          },
          "metadata": {
            "tags": []
          },
          "execution_count": 86
        }
      ]
    },
    {
      "cell_type": "markdown",
      "metadata": {
        "id": "G4bZ9ZYAee0r",
        "colab_type": "text"
      },
      "source": [
        "\n",
        "### I will rearrange columns for better convenience "
      ]
    },
    {
      "cell_type": "code",
      "metadata": {
        "id": "qn8GIMvQddBp",
        "colab_type": "code",
        "outputId": "9d299252-974a-4517-c525-43796bf479a8",
        "colab": {
          "base_uri": "https://localhost:8080/",
          "height": 102
        }
      },
      "source": [
        "twitter_archive_master.columns"
      ],
      "execution_count": 87,
      "outputs": [
        {
          "output_type": "execute_result",
          "data": {
            "text/plain": [
              "Index(['tweet_id', 'timestamp_x', 'source', 'text', 'expanded_urls',\n",
              "       'rating_numerator', 'rating_denominator', 'dog_name', 'stage',\n",
              "       'jpg_url', 'img_num', 'dog_breed', 'prediction_confidence', 'favorites',\n",
              "       'retweets', 'timestamp_y'],\n",
              "      dtype='object')"
            ]
          },
          "metadata": {
            "tags": []
          },
          "execution_count": 87
        }
      ]
    },
    {
      "cell_type": "code",
      "metadata": {
        "id": "ZhH83LtMebYy",
        "colab_type": "code",
        "outputId": "ba884bf7-6ac2-45ec-f0ae-a96210ad25a8",
        "colab": {
          "base_uri": "https://localhost:8080/",
          "height": 1000
        }
      },
      "source": [
        "twitter_archive_master=twitter_archive_master[['tweet_id','favorites', 'retweets','dog_name','dog_breed','stage','rating_numerator', 'rating_denominator', 'source', 'text', 'expanded_urls', 'jpg_url', 'img_num', 'prediction_confidence', 'timestamp_y','timestamp_x']]\n",
        "twitter_archive_master.sample(10)"
      ],
      "execution_count": 88,
      "outputs": [
        {
          "output_type": "execute_result",
          "data": {
            "text/html": [
              "<div>\n",
              "<style scoped>\n",
              "    .dataframe tbody tr th:only-of-type {\n",
              "        vertical-align: middle;\n",
              "    }\n",
              "\n",
              "    .dataframe tbody tr th {\n",
              "        vertical-align: top;\n",
              "    }\n",
              "\n",
              "    .dataframe thead th {\n",
              "        text-align: right;\n",
              "    }\n",
              "</style>\n",
              "<table border=\"1\" class=\"dataframe\">\n",
              "  <thead>\n",
              "    <tr style=\"text-align: right;\">\n",
              "      <th></th>\n",
              "      <th>tweet_id</th>\n",
              "      <th>favorites</th>\n",
              "      <th>retweets</th>\n",
              "      <th>dog_name</th>\n",
              "      <th>dog_breed</th>\n",
              "      <th>stage</th>\n",
              "      <th>rating_numerator</th>\n",
              "      <th>rating_denominator</th>\n",
              "      <th>source</th>\n",
              "      <th>text</th>\n",
              "      <th>expanded_urls</th>\n",
              "      <th>jpg_url</th>\n",
              "      <th>img_num</th>\n",
              "      <th>prediction_confidence</th>\n",
              "      <th>timestamp_y</th>\n",
              "      <th>timestamp_x</th>\n",
              "    </tr>\n",
              "  </thead>\n",
              "  <tbody>\n",
              "    <tr>\n",
              "      <th>979</th>\n",
              "      <td>707969809498152960</td>\n",
              "      <td>2722</td>\n",
              "      <td>971</td>\n",
              "      <td>Rufus</td>\n",
              "      <td>toy_poodle</td>\n",
              "      <td>NaN</td>\n",
              "      <td>11</td>\n",
              "      <td>10</td>\n",
              "      <td>&lt;a href=\"http://twitter.com/download/iphone\" r...</td>\n",
              "      <td>Meet Rufus. He's a Honeysuckle Firefox. Curly ...</td>\n",
              "      <td>https://twitter.com/dog_rates/status/707969809...</td>\n",
              "      <td>https://pbs.twimg.com/media/CdM2xRpXEAUsR4k.jpg</td>\n",
              "      <td>1</td>\n",
              "      <td>0.908491</td>\n",
              "      <td>Thu Mar 10 16:42:10 +0000 2016</td>\n",
              "      <td>2016-03-10 16:42:10+00:00</td>\n",
              "    </tr>\n",
              "    <tr>\n",
              "      <th>1224</th>\n",
              "      <td>687102708889812993</td>\n",
              "      <td>2361</td>\n",
              "      <td>987</td>\n",
              "      <td>NaN</td>\n",
              "      <td>NaN</td>\n",
              "      <td>NaN</td>\n",
              "      <td>5</td>\n",
              "      <td>10</td>\n",
              "      <td>&lt;a href=\"http://twitter.com/download/iphone\" r...</td>\n",
              "      <td>Army of water dogs here. None of them know whe...</td>\n",
              "      <td>https://twitter.com/dog_rates/status/687102708...</td>\n",
              "      <td>https://pbs.twimg.com/media/CYkURJjW8AEamoI.jpg</td>\n",
              "      <td>1</td>\n",
              "      <td>0.992069</td>\n",
              "      <td>Wed Jan 13 02:43:46 +0000 2016</td>\n",
              "      <td>2016-01-13 02:43:46+00:00</td>\n",
              "    </tr>\n",
              "    <tr>\n",
              "      <th>1137</th>\n",
              "      <td>693231807727280129</td>\n",
              "      <td>2887</td>\n",
              "      <td>741</td>\n",
              "      <td>Bodie</td>\n",
              "      <td>vizsla</td>\n",
              "      <td>NaN</td>\n",
              "      <td>9</td>\n",
              "      <td>10</td>\n",
              "      <td>&lt;a href=\"http://twitter.com/download/iphone\" r...</td>\n",
              "      <td>This is Bodie. He's not proud of what he did, ...</td>\n",
              "      <td>https://twitter.com/dog_rates/status/693231807...</td>\n",
              "      <td>https://pbs.twimg.com/media/CZ7aplIUsAAq-8s.jpg</td>\n",
              "      <td>1</td>\n",
              "      <td>0.876413</td>\n",
              "      <td>Sat Jan 30 00:38:37 +0000 2016</td>\n",
              "      <td>2016-01-30 00:38:37+00:00</td>\n",
              "    </tr>\n",
              "    <tr>\n",
              "      <th>1741</th>\n",
              "      <td>669749430875258880</td>\n",
              "      <td>257</td>\n",
              "      <td>64</td>\n",
              "      <td>Clarence</td>\n",
              "      <td>NaN</td>\n",
              "      <td>NaN</td>\n",
              "      <td>8</td>\n",
              "      <td>10</td>\n",
              "      <td>&lt;a href=\"http://twitter.com/download/iphone\" r...</td>\n",
              "      <td>Say hello to Clarence. Clarence thought he saw...</td>\n",
              "      <td>https://twitter.com/dog_rates/status/669749430...</td>\n",
              "      <td>https://pbs.twimg.com/media/CUttjYtWcAAdPgI.jpg</td>\n",
              "      <td>1</td>\n",
              "      <td>0.245794</td>\n",
              "      <td>Thu Nov 26 05:28:02 +0000 2015</td>\n",
              "      <td>2015-11-26 05:28:02+00:00</td>\n",
              "    </tr>\n",
              "    <tr>\n",
              "      <th>1407</th>\n",
              "      <td>677328882937298944</td>\n",
              "      <td>3615</td>\n",
              "      <td>1497</td>\n",
              "      <td>Derek</td>\n",
              "      <td>NaN</td>\n",
              "      <td>NaN</td>\n",
              "      <td>10</td>\n",
              "      <td>10</td>\n",
              "      <td>&lt;a href=\"http://twitter.com/download/iphone\" r...</td>\n",
              "      <td>This is Derek. All the dogs adore Derek. He's ...</td>\n",
              "      <td>https://twitter.com/dog_rates/status/677328882...</td>\n",
              "      <td>https://pbs.twimg.com/media/CWZbBlAUsAAjRg5.jpg</td>\n",
              "      <td>1</td>\n",
              "      <td>0.424250</td>\n",
              "      <td>Thu Dec 17 03:26:04 +0000 2015</td>\n",
              "      <td>2015-12-17 03:26:04+00:00</td>\n",
              "    </tr>\n",
              "    <tr>\n",
              "      <th>1004</th>\n",
              "      <td>706166467411222528</td>\n",
              "      <td>5187</td>\n",
              "      <td>1612</td>\n",
              "      <td>Dexter</td>\n",
              "      <td>samoyed</td>\n",
              "      <td>NaN</td>\n",
              "      <td>7</td>\n",
              "      <td>10</td>\n",
              "      <td>&lt;a href=\"http://twitter.com/download/iphone\" r...</td>\n",
              "      <td>This is Dexter. He's a shy pup. Doesn't bark m...</td>\n",
              "      <td>https://twitter.com/dog_rates/status/706166467...</td>\n",
              "      <td>https://pbs.twimg.com/media/CczOp_OWoAAo5zR.jpg</td>\n",
              "      <td>1</td>\n",
              "      <td>0.430418</td>\n",
              "      <td>Sat Mar 05 17:16:20 +0000 2016</td>\n",
              "      <td>2016-03-05 17:16:20+00:00</td>\n",
              "    </tr>\n",
              "    <tr>\n",
              "      <th>1883</th>\n",
              "      <td>667090893657276420</td>\n",
              "      <td>321</td>\n",
              "      <td>119</td>\n",
              "      <td>Clybe</td>\n",
              "      <td>chihuahua</td>\n",
              "      <td>NaN</td>\n",
              "      <td>7</td>\n",
              "      <td>10</td>\n",
              "      <td>&lt;a href=\"http://twitter.com/download/iphone\" r...</td>\n",
              "      <td>This is Clybe. He is an Anemone Valdez. One ea...</td>\n",
              "      <td>https://twitter.com/dog_rates/status/667090893...</td>\n",
              "      <td>https://pbs.twimg.com/media/CUH7oLuUsAELWib.jpg</td>\n",
              "      <td>1</td>\n",
              "      <td>0.959514</td>\n",
              "      <td>Wed Nov 18 21:23:57 +0000 2015</td>\n",
              "      <td>2015-11-18 21:23:57+00:00</td>\n",
              "    </tr>\n",
              "    <tr>\n",
              "      <th>399</th>\n",
              "      <td>805207613751304193</td>\n",
              "      <td>8044</td>\n",
              "      <td>1776</td>\n",
              "      <td>Shooter</td>\n",
              "      <td>pembroke</td>\n",
              "      <td>NaN</td>\n",
              "      <td>12</td>\n",
              "      <td>10</td>\n",
              "      <td>&lt;a href=\"http://twitter.com/download/iphone\" r...</td>\n",
              "      <td>This is Shooter. He's doing quite the snowy zo...</td>\n",
              "      <td>https://twitter.com/dog_rates/status/805207613...</td>\n",
              "      <td>https://pbs.twimg.com/media/CyysDQlVIAAYgrl.jpg</td>\n",
              "      <td>1</td>\n",
              "      <td>0.244705</td>\n",
              "      <td>Sun Dec 04 00:30:29 +0000 2016</td>\n",
              "      <td>2016-12-04 00:30:29+00:00</td>\n",
              "    </tr>\n",
              "    <tr>\n",
              "      <th>1616</th>\n",
              "      <td>672095186491711488</td>\n",
              "      <td>982</td>\n",
              "      <td>360</td>\n",
              "      <td>Tuco</td>\n",
              "      <td>pug</td>\n",
              "      <td>NaN</td>\n",
              "      <td>9</td>\n",
              "      <td>10</td>\n",
              "      <td>&lt;a href=\"http://twitter.com/download/iphone\" r...</td>\n",
              "      <td>This is Tuco. That's the toast that killed his...</td>\n",
              "      <td>https://twitter.com/dog_rates/status/672095186...</td>\n",
              "      <td>https://pbs.twimg.com/media/CVPDAR9XIAAm8QB.jpg</td>\n",
              "      <td>1</td>\n",
              "      <td>0.794087</td>\n",
              "      <td>Wed Dec 02 16:49:14 +0000 2015</td>\n",
              "      <td>2015-12-02 16:49:14+00:00</td>\n",
              "    </tr>\n",
              "    <tr>\n",
              "      <th>1360</th>\n",
              "      <td>679503373272485890</td>\n",
              "      <td>3175</td>\n",
              "      <td>1474</td>\n",
              "      <td>Dwight</td>\n",
              "      <td>NaN</td>\n",
              "      <td>pupper</td>\n",
              "      <td>8</td>\n",
              "      <td>10</td>\n",
              "      <td>&lt;a href=\"http://twitter.com/download/iphone\" r...</td>\n",
              "      <td>This is Dwight. He's a pointy pupper. Very doc...</td>\n",
              "      <td>https://twitter.com/dog_rates/status/679503373...</td>\n",
              "      <td>https://pbs.twimg.com/media/CW4UtmYWsAAEjqA.jpg</td>\n",
              "      <td>1</td>\n",
              "      <td>0.999846</td>\n",
              "      <td>Wed Dec 23 03:26:43 +0000 2015</td>\n",
              "      <td>2015-12-23 03:26:43+00:00</td>\n",
              "    </tr>\n",
              "  </tbody>\n",
              "</table>\n",
              "</div>"
            ],
            "text/plain": [
              "                tweet_id  ...               timestamp_x\n",
              "979   707969809498152960  ... 2016-03-10 16:42:10+00:00\n",
              "1224  687102708889812993  ... 2016-01-13 02:43:46+00:00\n",
              "1137  693231807727280129  ... 2016-01-30 00:38:37+00:00\n",
              "1741  669749430875258880  ... 2015-11-26 05:28:02+00:00\n",
              "1407  677328882937298944  ... 2015-12-17 03:26:04+00:00\n",
              "1004  706166467411222528  ... 2016-03-05 17:16:20+00:00\n",
              "1883  667090893657276420  ... 2015-11-18 21:23:57+00:00\n",
              "399   805207613751304193  ... 2016-12-04 00:30:29+00:00\n",
              "1616  672095186491711488  ... 2015-12-02 16:49:14+00:00\n",
              "1360  679503373272485890  ... 2015-12-23 03:26:43+00:00\n",
              "\n",
              "[10 rows x 16 columns]"
            ]
          },
          "metadata": {
            "tags": []
          },
          "execution_count": 88
        }
      ]
    },
    {
      "cell_type": "markdown",
      "metadata": {
        "id": "4j1MMCR7gnPN",
        "colab_type": "text"
      },
      "source": [
        "### Storing\n",
        "I will store the twitter_archive_master as a csv file and also a database table"
      ]
    },
    {
      "cell_type": "code",
      "metadata": {
        "id": "rW-Sdqn5gScb",
        "colab_type": "code",
        "colab": {}
      },
      "source": [
        "twitter_archive_master.to_csv('twitter_archive_master.csv',index=False)"
      ],
      "execution_count": 0,
      "outputs": []
    },
    {
      "cell_type": "code",
      "metadata": {
        "id": "jb9boW9KhKyj",
        "colab_type": "code",
        "colab": {}
      },
      "source": [
        "from sqlalchemy import create_engine"
      ],
      "execution_count": 0,
      "outputs": []
    },
    {
      "cell_type": "code",
      "metadata": {
        "id": "GhiuQ9QninRj",
        "colab_type": "code",
        "colab": {}
      },
      "source": [
        "engine = create_engine('sqlite:///twitter_archive_master.db')"
      ],
      "execution_count": 0,
      "outputs": []
    },
    {
      "cell_type": "code",
      "metadata": {
        "id": "aMG0DSHHizVf",
        "colab_type": "code",
        "colab": {}
      },
      "source": [
        "twitter_archive_master.to_sql('master',engine,index=False)"
      ],
      "execution_count": 0,
      "outputs": []
    },
    {
      "cell_type": "markdown",
      "metadata": {
        "id": "qVFjZ_zDj8cT",
        "colab_type": "text"
      },
      "source": [
        "# Analysis and Visualizations"
      ]
    },
    {
      "cell_type": "markdown",
      "metadata": {
        "id": "AV0xK8DumB4N",
        "colab_type": "text"
      },
      "source": [
        "After gathering, assessing, cleaning and storing our data. It is time now to do some analysis and visualization to have some usefull insights on our data about the twitter account WeRateDogs. \n",
        "\n",
        "By running the describe method, I observed the following thing:\n",
        "\n",
        "- Favorites (or like) column has a minimum of 72 likes and it goes to tweet_id 666102155909144576 and this tweet also received the lowest retweet of 11 retweets only. The dog is english_setter and actually it did get a high rating of 11/10. Favorites column has a mean of 8400 likes. It has a maximum of 157953 and it goes to to tweet_id 744234799360020481 and also this tweet recieved the highest retweets number of 78695. The highest likes went to a labrador_retriever in doggo stage with a rating of 13/10\n",
        "\n",
        "- The highest rating in our wrangled data is 14/10 and it belongs to 33 tweets. The lowest rating was 1/10 and it went to 4 tweets (The tweets_id of the the lowest and hightest ratings are found in the code cells). The average rating is 10/10 but by running the value_counts() on the rating_numerator I found that 12/10 is the mode rating with a frequency of 444 tweets. The top 3 breeds that received the highest rating are pembroke(4)\n",
        "french_bulldog(2),and golden_retriever(2)\n",
        "\n",
        "By running the corr() method on the twitter_archive_master data frame, I observed:\n",
        "- Weak postive pearson correlation between retweets count and rating_numerator with a value 0.29. This suggests that a high rating dog by the account admin doesn't guarantee that the followers will retweet these posts and the other way arround\n",
        "- Moderate postive pearson correlation between favourites count and rating_numerator with a value 0.39. This suggests that a high rating dog by the account admin doesn't guarantee that the followers will like these posts and the other way arround\n",
        "\n",
        "By plotting a scatter plot between retweets count and favourites counts:\n",
        "- There is a strong positive pearson correlation between favourites count and retweets counts with peasron correlation of 0.929. This indicates only a relational but says not about causation, I can imply that one caused the other. \n"
      ]
    },
    {
      "cell_type": "code",
      "metadata": {
        "id": "2thEBoo-mf4F",
        "colab_type": "code",
        "colab": {
          "base_uri": "https://localhost:8080/",
          "height": 297
        },
        "outputId": "68352019-bb57-472e-8ce4-4e9722859b45"
      },
      "source": [
        "#Using describe() method to analyze our data\n",
        "twitter_archive_master.describe()"
      ],
      "execution_count": 145,
      "outputs": [
        {
          "output_type": "execute_result",
          "data": {
            "text/html": [
              "<div>\n",
              "<style scoped>\n",
              "    .dataframe tbody tr th:only-of-type {\n",
              "        vertical-align: middle;\n",
              "    }\n",
              "\n",
              "    .dataframe tbody tr th {\n",
              "        vertical-align: top;\n",
              "    }\n",
              "\n",
              "    .dataframe thead th {\n",
              "        text-align: right;\n",
              "    }\n",
              "</style>\n",
              "<table border=\"1\" class=\"dataframe\">\n",
              "  <thead>\n",
              "    <tr style=\"text-align: right;\">\n",
              "      <th></th>\n",
              "      <th>tweet_id</th>\n",
              "      <th>favorites</th>\n",
              "      <th>retweets</th>\n",
              "      <th>rating_numerator</th>\n",
              "      <th>rating_denominator</th>\n",
              "      <th>img_num</th>\n",
              "      <th>prediction_confidence</th>\n",
              "    </tr>\n",
              "  </thead>\n",
              "  <tbody>\n",
              "    <tr>\n",
              "      <th>count</th>\n",
              "      <td>1.941000e+03</td>\n",
              "      <td>1941.000000</td>\n",
              "      <td>1941.000000</td>\n",
              "      <td>1941.000000</td>\n",
              "      <td>1941.0</td>\n",
              "      <td>1941.000000</td>\n",
              "      <td>1941.000000</td>\n",
              "    </tr>\n",
              "    <tr>\n",
              "      <th>mean</th>\n",
              "      <td>7.359180e+17</td>\n",
              "      <td>8399.435343</td>\n",
              "      <td>2492.583205</td>\n",
              "      <td>10.537352</td>\n",
              "      <td>10.0</td>\n",
              "      <td>1.201958</td>\n",
              "      <td>0.593486</td>\n",
              "    </tr>\n",
              "    <tr>\n",
              "      <th>std</th>\n",
              "      <td>6.762265e+16</td>\n",
              "      <td>12372.113161</td>\n",
              "      <td>4468.137245</td>\n",
              "      <td>2.162537</td>\n",
              "      <td>0.0</td>\n",
              "      <td>0.559286</td>\n",
              "      <td>0.272239</td>\n",
              "    </tr>\n",
              "    <tr>\n",
              "      <th>min</th>\n",
              "      <td>6.660209e+17</td>\n",
              "      <td>72.000000</td>\n",
              "      <td>11.000000</td>\n",
              "      <td>1.000000</td>\n",
              "      <td>10.0</td>\n",
              "      <td>1.000000</td>\n",
              "      <td>0.044333</td>\n",
              "    </tr>\n",
              "    <tr>\n",
              "      <th>25%</th>\n",
              "      <td>6.757816e+17</td>\n",
              "      <td>1785.000000</td>\n",
              "      <td>556.000000</td>\n",
              "      <td>10.000000</td>\n",
              "      <td>10.0</td>\n",
              "      <td>1.000000</td>\n",
              "      <td>0.360428</td>\n",
              "    </tr>\n",
              "    <tr>\n",
              "      <th>50%</th>\n",
              "      <td>7.084699e+17</td>\n",
              "      <td>3799.000000</td>\n",
              "      <td>1204.000000</td>\n",
              "      <td>11.000000</td>\n",
              "      <td>10.0</td>\n",
              "      <td>1.000000</td>\n",
              "      <td>0.587342</td>\n",
              "    </tr>\n",
              "    <tr>\n",
              "      <th>75%</th>\n",
              "      <td>7.881506e+17</td>\n",
              "      <td>10451.000000</td>\n",
              "      <td>2850.000000</td>\n",
              "      <td>12.000000</td>\n",
              "      <td>10.0</td>\n",
              "      <td>1.000000</td>\n",
              "      <td>0.845256</td>\n",
              "    </tr>\n",
              "    <tr>\n",
              "      <th>max</th>\n",
              "      <td>8.924206e+17</td>\n",
              "      <td>157953.000000</td>\n",
              "      <td>78695.000000</td>\n",
              "      <td>14.000000</td>\n",
              "      <td>10.0</td>\n",
              "      <td>4.000000</td>\n",
              "      <td>1.000000</td>\n",
              "    </tr>\n",
              "  </tbody>\n",
              "</table>\n",
              "</div>"
            ],
            "text/plain": [
              "           tweet_id      favorites  ...      img_num  prediction_confidence\n",
              "count  1.941000e+03    1941.000000  ...  1941.000000            1941.000000\n",
              "mean   7.359180e+17    8399.435343  ...     1.201958               0.593486\n",
              "std    6.762265e+16   12372.113161  ...     0.559286               0.272239\n",
              "min    6.660209e+17      72.000000  ...     1.000000               0.044333\n",
              "25%    6.757816e+17    1785.000000  ...     1.000000               0.360428\n",
              "50%    7.084699e+17    3799.000000  ...     1.000000               0.587342\n",
              "75%    7.881506e+17   10451.000000  ...     1.000000               0.845256\n",
              "max    8.924206e+17  157953.000000  ...     4.000000               1.000000\n",
              "\n",
              "[8 rows x 7 columns]"
            ]
          },
          "metadata": {
            "tags": []
          },
          "execution_count": 145
        }
      ]
    },
    {
      "cell_type": "code",
      "metadata": {
        "id": "KTXeqUyqnRLg",
        "colab_type": "code",
        "colab": {
          "base_uri": "https://localhost:8080/",
          "height": 253
        },
        "outputId": "279eaf93-dafd-4769-ad41-ea895feb40f7"
      },
      "source": [
        "twitter_archive_master.query('favorites==72')"
      ],
      "execution_count": 151,
      "outputs": [
        {
          "output_type": "execute_result",
          "data": {
            "text/html": [
              "<div>\n",
              "<style scoped>\n",
              "    .dataframe tbody tr th:only-of-type {\n",
              "        vertical-align: middle;\n",
              "    }\n",
              "\n",
              "    .dataframe tbody tr th {\n",
              "        vertical-align: top;\n",
              "    }\n",
              "\n",
              "    .dataframe thead th {\n",
              "        text-align: right;\n",
              "    }\n",
              "</style>\n",
              "<table border=\"1\" class=\"dataframe\">\n",
              "  <thead>\n",
              "    <tr style=\"text-align: right;\">\n",
              "      <th></th>\n",
              "      <th>tweet_id</th>\n",
              "      <th>favorites</th>\n",
              "      <th>retweets</th>\n",
              "      <th>dog_name</th>\n",
              "      <th>dog_breed</th>\n",
              "      <th>stage</th>\n",
              "      <th>rating_numerator</th>\n",
              "      <th>rating_denominator</th>\n",
              "      <th>source</th>\n",
              "      <th>text</th>\n",
              "      <th>expanded_urls</th>\n",
              "      <th>jpg_url</th>\n",
              "      <th>img_num</th>\n",
              "      <th>prediction_confidence</th>\n",
              "      <th>timestamp_y</th>\n",
              "      <th>timestamp_x</th>\n",
              "    </tr>\n",
              "  </thead>\n",
              "  <tbody>\n",
              "    <tr>\n",
              "      <th>1924</th>\n",
              "      <td>666102155909144576</td>\n",
              "      <td>72</td>\n",
              "      <td>11</td>\n",
              "      <td>NaN</td>\n",
              "      <td>english_setter</td>\n",
              "      <td>NaN</td>\n",
              "      <td>11</td>\n",
              "      <td>10</td>\n",
              "      <td>&lt;a href=\"http://twitter.com/download/iphone\" r...</td>\n",
              "      <td>Oh my. Here you are seeing an Adobe Setter giv...</td>\n",
              "      <td>https://twitter.com/dog_rates/status/666102155...</td>\n",
              "      <td>https://pbs.twimg.com/media/CT54YGiWUAEZnoK.jpg</td>\n",
              "      <td>1</td>\n",
              "      <td>0.298617</td>\n",
              "      <td>Mon Nov 16 03:55:04 +0000 2015</td>\n",
              "      <td>2015-11-16 03:55:04+00:00</td>\n",
              "    </tr>\n",
              "  </tbody>\n",
              "</table>\n",
              "</div>"
            ],
            "text/plain": [
              "                tweet_id  ...               timestamp_x\n",
              "1924  666102155909144576  ... 2015-11-16 03:55:04+00:00\n",
              "\n",
              "[1 rows x 16 columns]"
            ]
          },
          "metadata": {
            "tags": []
          },
          "execution_count": 151
        }
      ]
    },
    {
      "cell_type": "code",
      "metadata": {
        "id": "_sesifFoo4fZ",
        "colab_type": "code",
        "colab": {
          "base_uri": "https://localhost:8080/",
          "height": 185
        },
        "outputId": "cc74e3a2-9f74-45bb-ae46-870cf96b3687"
      },
      "source": [
        "twitter_archive_master.query('favorites==157953')"
      ],
      "execution_count": 152,
      "outputs": [
        {
          "output_type": "execute_result",
          "data": {
            "text/html": [
              "<div>\n",
              "<style scoped>\n",
              "    .dataframe tbody tr th:only-of-type {\n",
              "        vertical-align: middle;\n",
              "    }\n",
              "\n",
              "    .dataframe tbody tr th {\n",
              "        vertical-align: top;\n",
              "    }\n",
              "\n",
              "    .dataframe thead th {\n",
              "        text-align: right;\n",
              "    }\n",
              "</style>\n",
              "<table border=\"1\" class=\"dataframe\">\n",
              "  <thead>\n",
              "    <tr style=\"text-align: right;\">\n",
              "      <th></th>\n",
              "      <th>tweet_id</th>\n",
              "      <th>favorites</th>\n",
              "      <th>retweets</th>\n",
              "      <th>dog_name</th>\n",
              "      <th>dog_breed</th>\n",
              "      <th>stage</th>\n",
              "      <th>rating_numerator</th>\n",
              "      <th>rating_denominator</th>\n",
              "      <th>source</th>\n",
              "      <th>text</th>\n",
              "      <th>expanded_urls</th>\n",
              "      <th>jpg_url</th>\n",
              "      <th>img_num</th>\n",
              "      <th>prediction_confidence</th>\n",
              "      <th>timestamp_y</th>\n",
              "      <th>timestamp_x</th>\n",
              "    </tr>\n",
              "  </thead>\n",
              "  <tbody>\n",
              "    <tr>\n",
              "      <th>756</th>\n",
              "      <td>744234799360020481</td>\n",
              "      <td>157953</td>\n",
              "      <td>78695</td>\n",
              "      <td>NaN</td>\n",
              "      <td>labrador_retriever</td>\n",
              "      <td>doggo</td>\n",
              "      <td>13</td>\n",
              "      <td>10</td>\n",
              "      <td>&lt;a href=\"http://twitter.com/download/iphone\" r...</td>\n",
              "      <td>Here's a doggo realizing you can stand in a po...</td>\n",
              "      <td>https://twitter.com/dog_rates/status/744234799...</td>\n",
              "      <td>https://pbs.twimg.com/ext_tw_video_thumb/74423...</td>\n",
              "      <td>1</td>\n",
              "      <td>0.825333</td>\n",
              "      <td>Sat Jun 18 18:26:18 +0000 2016</td>\n",
              "      <td>2016-06-18 18:26:18+00:00</td>\n",
              "    </tr>\n",
              "  </tbody>\n",
              "</table>\n",
              "</div>"
            ],
            "text/plain": [
              "               tweet_id  ...               timestamp_x\n",
              "756  744234799360020481  ... 2016-06-18 18:26:18+00:00\n",
              "\n",
              "[1 rows x 16 columns]"
            ]
          },
          "metadata": {
            "tags": []
          },
          "execution_count": 152
        }
      ]
    },
    {
      "cell_type": "code",
      "metadata": {
        "id": "msXlfjRnqAu6",
        "colab_type": "code",
        "colab": {
          "base_uri": "https://localhost:8080/",
          "height": 578
        },
        "outputId": "04b16968-f255-41a9-ff72-f90d63f3056c"
      },
      "source": [
        "list(twitter_archive_master.query('rating_numerator==14')['tweet_id'])"
      ],
      "execution_count": 153,
      "outputs": [
        {
          "output_type": "execute_result",
          "data": {
            "text/plain": [
              "[890240255349198849,\n",
              " 887517139158093824,\n",
              " 884441805382717440,\n",
              " 881536004380872706,\n",
              " 878057613040115712,\n",
              " 870063196459192321,\n",
              " 868880397819494401,\n",
              " 864873206498414592,\n",
              " 860184849394610176,\n",
              " 856282028240666624,\n",
              " 854120357044912130,\n",
              " 852226086759018497,\n",
              " 851464819735769094,\n",
              " 841439858740625411,\n",
              " 832273440279240704,\n",
              " 831911600680497154,\n",
              " 828650029636317184,\n",
              " 828381636999917570,\n",
              " 825535076884762624,\n",
              " 822462944365645825,\n",
              " 821407182352777218,\n",
              " 820314633777061888,\n",
              " 819006400881917954,\n",
              " 819004803107983360,\n",
              " 813812741911748608,\n",
              " 807621403335917568,\n",
              " 794205286408003585,\n",
              " 778408200802557953,\n",
              " 774314403806253056,\n",
              " 762035686371364864,\n",
              " 755206590534418437,\n",
              " 742465774154047488,\n",
              " 685547936038666240]"
            ]
          },
          "metadata": {
            "tags": []
          },
          "execution_count": 153
        }
      ]
    },
    {
      "cell_type": "code",
      "metadata": {
        "id": "61b4FZaJt7Jh",
        "colab_type": "code",
        "colab": {
          "base_uri": "https://localhost:8080/",
          "height": 272
        },
        "outputId": "083078ea-8e78-4950-fdfd-03ca8e34e41f"
      },
      "source": [
        "twitter_archive_master.query('rating_numerator==14')['dog_breed'].value_counts()"
      ],
      "execution_count": 154,
      "outputs": [
        {
          "output_type": "execute_result",
          "data": {
            "text/plain": [
              "pembroke                   4\n",
              "french_bulldog             2\n",
              "golden_retriever           2\n",
              "pomeranian                 1\n",
              "chihuahua                  1\n",
              "gordon_setter              1\n",
              "samoyed                    1\n",
              "bloodhound                 1\n",
              "black-and-tan_coonhound    1\n",
              "eskimo_dog                 1\n",
              "rottweiler                 1\n",
              "standard_poodle            1\n",
              "bedlington_terrier         1\n",
              "irish_setter               1\n",
              "Name: dog_breed, dtype: int64"
            ]
          },
          "metadata": {
            "tags": []
          },
          "execution_count": 154
        }
      ]
    },
    {
      "cell_type": "code",
      "metadata": {
        "id": "8ihFXmLVlgDF",
        "colab_type": "code",
        "outputId": "92563a4f-1c55-48ee-93cc-837c8dbcd935",
        "colab": {
          "base_uri": "https://localhost:8080/",
          "height": 272
        }
      },
      "source": [
        "twitter_archive_master.rating_numerator.value_counts()"
      ],
      "execution_count": 155,
      "outputs": [
        {
          "output_type": "execute_result",
          "data": {
            "text/plain": [
              "12    444\n",
              "10    416\n",
              "11    392\n",
              "13    249\n",
              "9     149\n",
              "8      95\n",
              "7      51\n",
              "14     33\n",
              "5      33\n",
              "6      32\n",
              "3      19\n",
              "4      15\n",
              "2       9\n",
              "1       4\n",
              "Name: rating_numerator, dtype: int64"
            ]
          },
          "metadata": {
            "tags": []
          },
          "execution_count": 155
        }
      ]
    },
    {
      "cell_type": "code",
      "metadata": {
        "id": "euUVIRdGW6py",
        "colab_type": "code",
        "outputId": "946181be-93b2-4b44-8e10-790b88bbfb64",
        "colab": {
          "base_uri": "https://localhost:8080/",
          "height": 323
        }
      },
      "source": [
        "twitter_archive_master.rating_numerator.value_counts().plot(kind='bar')\n",
        "plt.xlabel('Rating_Numerator',fontsize=15)\n",
        "plt.ylabel('Frequency',fontsize=15)\n",
        "plt.title('Distribution of Dogs Ratings',fontsize=15)"
      ],
      "execution_count": 105,
      "outputs": [
        {
          "output_type": "execute_result",
          "data": {
            "text/plain": [
              "Text(0.5, 1.0, 'Distribution of Dogs Ratings')"
            ]
          },
          "metadata": {
            "tags": []
          },
          "execution_count": 105
        },
        {
          "output_type": "display_data",
          "data": {
            "image/png": "[encoded data removed]",
            "text/plain": [
              "<Figure size 432x288 with 1 Axes>"
            ]
          },
          "metadata": {
            "tags": []
          }
        }
      ]
    },
    {
      "cell_type": "code",
      "metadata": {
        "id": "rYzQBKNU4Gto",
        "colab_type": "code",
        "colab": {
          "base_uri": "https://localhost:8080/",
          "height": 266
        },
        "outputId": "d7c07030-8805-4671-9ae2-6530b71a0765"
      },
      "source": [
        "twitter_archive_master.corr()"
      ],
      "execution_count": 150,
      "outputs": [
        {
          "output_type": "execute_result",
          "data": {
            "text/html": [
              "<div>\n",
              "<style scoped>\n",
              "    .dataframe tbody tr th:only-of-type {\n",
              "        vertical-align: middle;\n",
              "    }\n",
              "\n",
              "    .dataframe tbody tr th {\n",
              "        vertical-align: top;\n",
              "    }\n",
              "\n",
              "    .dataframe thead th {\n",
              "        text-align: right;\n",
              "    }\n",
              "</style>\n",
              "<table border=\"1\" class=\"dataframe\">\n",
              "  <thead>\n",
              "    <tr style=\"text-align: right;\">\n",
              "      <th></th>\n",
              "      <th>tweet_id</th>\n",
              "      <th>favorites</th>\n",
              "      <th>retweets</th>\n",
              "      <th>rating_numerator</th>\n",
              "      <th>rating_denominator</th>\n",
              "      <th>img_num</th>\n",
              "      <th>prediction_confidence</th>\n",
              "    </tr>\n",
              "  </thead>\n",
              "  <tbody>\n",
              "    <tr>\n",
              "      <th>tweet_id</th>\n",
              "      <td>1.000000</td>\n",
              "      <td>0.613850</td>\n",
              "      <td>0.386979</td>\n",
              "      <td>0.537975</td>\n",
              "      <td>NaN</td>\n",
              "      <td>0.213148</td>\n",
              "      <td>0.100789</td>\n",
              "    </tr>\n",
              "    <tr>\n",
              "      <th>favorites</th>\n",
              "      <td>0.613850</td>\n",
              "      <td>1.000000</td>\n",
              "      <td>0.929102</td>\n",
              "      <td>0.395391</td>\n",
              "      <td>NaN</td>\n",
              "      <td>0.126056</td>\n",
              "      <td>0.071119</td>\n",
              "    </tr>\n",
              "    <tr>\n",
              "      <th>retweets</th>\n",
              "      <td>0.386979</td>\n",
              "      <td>0.929102</td>\n",
              "      <td>1.000000</td>\n",
              "      <td>0.297646</td>\n",
              "      <td>NaN</td>\n",
              "      <td>0.101735</td>\n",
              "      <td>0.049980</td>\n",
              "    </tr>\n",
              "    <tr>\n",
              "      <th>rating_numerator</th>\n",
              "      <td>0.537975</td>\n",
              "      <td>0.395391</td>\n",
              "      <td>0.297646</td>\n",
              "      <td>1.000000</td>\n",
              "      <td>NaN</td>\n",
              "      <td>0.202592</td>\n",
              "      <td>0.102845</td>\n",
              "    </tr>\n",
              "    <tr>\n",
              "      <th>rating_denominator</th>\n",
              "      <td>NaN</td>\n",
              "      <td>NaN</td>\n",
              "      <td>NaN</td>\n",
              "      <td>NaN</td>\n",
              "      <td>NaN</td>\n",
              "      <td>NaN</td>\n",
              "      <td>NaN</td>\n",
              "    </tr>\n",
              "    <tr>\n",
              "      <th>img_num</th>\n",
              "      <td>0.213148</td>\n",
              "      <td>0.126056</td>\n",
              "      <td>0.101735</td>\n",
              "      <td>0.202592</td>\n",
              "      <td>NaN</td>\n",
              "      <td>1.000000</td>\n",
              "      <td>0.200958</td>\n",
              "    </tr>\n",
              "    <tr>\n",
              "      <th>prediction_confidence</th>\n",
              "      <td>0.100789</td>\n",
              "      <td>0.071119</td>\n",
              "      <td>0.049980</td>\n",
              "      <td>0.102845</td>\n",
              "      <td>NaN</td>\n",
              "      <td>0.200958</td>\n",
              "      <td>1.000000</td>\n",
              "    </tr>\n",
              "  </tbody>\n",
              "</table>\n",
              "</div>"
            ],
            "text/plain": [
              "                       tweet_id  favorites  ...   img_num  prediction_confidence\n",
              "tweet_id               1.000000   0.613850  ...  0.213148               0.100789\n",
              "favorites              0.613850   1.000000  ...  0.126056               0.071119\n",
              "retweets               0.386979   0.929102  ...  0.101735               0.049980\n",
              "rating_numerator       0.537975   0.395391  ...  0.202592               0.102845\n",
              "rating_denominator          NaN        NaN  ...       NaN                    NaN\n",
              "img_num                0.213148   0.126056  ...  1.000000               0.200958\n",
              "prediction_confidence  0.100789   0.071119  ...  0.200958               1.000000\n",
              "\n",
              "[7 rows x 7 columns]"
            ]
          },
          "metadata": {
            "tags": []
          },
          "execution_count": 150
        }
      ]
    },
    {
      "cell_type": "code",
      "metadata": {
        "id": "8VWE42K8jIbF",
        "colab_type": "code",
        "outputId": "09ab8047-c2ec-407e-893f-8c9fc0d4839b",
        "colab": {
          "base_uri": "https://localhost:8080/",
          "height": 735
        }
      },
      "source": [
        "twitter_archive_master.plot(x='favorites',y='retweets',kind='scatter',figsize=(20,10));\n",
        "plt.xlabel('Favourites_Counts',fontsize=15)\n",
        "plt.ylabel('Retweets_Counts',fontsize=15)\n",
        "plt.title('Relational Plot between Favourites Counts and Retweets Counts',fontsize=15)"
      ],
      "execution_count": 144,
      "outputs": [
        {
          "output_type": "stream",
          "text": [
            "/usr/local/lib/python3.6/dist-packages/pandas/plotting/_matplotlib/core.py:420: FutureWarning: Converting timezone-aware DatetimeArray to timezone-naive ndarray with 'datetime64[ns]' dtype. In the future, this will return an ndarray with 'object' dtype where each element is a 'pandas.Timestamp' with the correct 'tz'.\n",
            "\tTo accept the future behavior, pass 'dtype=object'.\n",
            "\tTo keep the old behavior, pass 'dtype=\"datetime64[ns]\"'.\n",
            "  numeric_data[col] = np.asarray(numeric_data[col])\n"
          ],
          "name": "stderr"
        },
        {
          "output_type": "execute_result",
          "data": {
            "text/plain": [
              "Text(0.5, 1.0, 'Relational Plot between Favourites Counts and Retweets Counts')"
            ]
          },
          "metadata": {
            "tags": []
          },
          "execution_count": 144
        },
        {
          "output_type": "display_data",
          "data": {
            "image/png": "[encoded data removed]",
            "text/plain": [
              "<Figure size 1440x720 with 1 Axes>"
            ]
          },
          "metadata": {
            "tags": []
          }
        }
      ]
    },
    {
      "cell_type": "code",
      "metadata": {
        "id": "VD01aSl02fK6",
        "colab_type": "code",
        "colab": {
          "base_uri": "https://localhost:8080/",
          "height": 111
        },
        "outputId": "6a5b1124-4777-4d34-8b2a-795a7fa541e0"
      },
      "source": [
        "twitter_archive_master[['favorites','retweets']].corr()"
      ],
      "execution_count": 146,
      "outputs": [
        {
          "output_type": "execute_result",
          "data": {
            "text/html": [
              "<div>\n",
              "<style scoped>\n",
              "    .dataframe tbody tr th:only-of-type {\n",
              "        vertical-align: middle;\n",
              "    }\n",
              "\n",
              "    .dataframe tbody tr th {\n",
              "        vertical-align: top;\n",
              "    }\n",
              "\n",
              "    .dataframe thead th {\n",
              "        text-align: right;\n",
              "    }\n",
              "</style>\n",
              "<table border=\"1\" class=\"dataframe\">\n",
              "  <thead>\n",
              "    <tr style=\"text-align: right;\">\n",
              "      <th></th>\n",
              "      <th>favorites</th>\n",
              "      <th>retweets</th>\n",
              "    </tr>\n",
              "  </thead>\n",
              "  <tbody>\n",
              "    <tr>\n",
              "      <th>favorites</th>\n",
              "      <td>1.000000</td>\n",
              "      <td>0.929102</td>\n",
              "    </tr>\n",
              "    <tr>\n",
              "      <th>retweets</th>\n",
              "      <td>0.929102</td>\n",
              "      <td>1.000000</td>\n",
              "    </tr>\n",
              "  </tbody>\n",
              "</table>\n",
              "</div>"
            ],
            "text/plain": [
              "           favorites  retweets\n",
              "favorites   1.000000  0.929102\n",
              "retweets    0.929102  1.000000"
            ]
          },
          "metadata": {
            "tags": []
          },
          "execution_count": 146
        }
      ]
    },
    {
      "cell_type": "code",
      "metadata": {
        "id": "3cBtjUk_kpMj",
        "colab_type": "code",
        "outputId": "af98347b-da2c-4915-f3f2-9191cf9a3b81",
        "colab": {
          "base_uri": "https://localhost:8080/",
          "height": 611
        }
      },
      "source": [
        "twitter_archive_master.plot(x='timestamp_x',y='rating_numerator',kind='line',figsize=(15,10))\n",
        "plt.xlabel('Time',fontsize=15)\n",
        "plt.ylabel('Rating',fontsize=15)\n",
        "plt.title('Relation bet. Time and Rating of Dogs',fontsize=15)"
      ],
      "execution_count": 148,
      "outputs": [
        {
          "output_type": "execute_result",
          "data": {
            "text/plain": [
              "Text(0.5, 1.0, 'Relation bet. Time and Rating of Dogs')"
            ]
          },
          "metadata": {
            "tags": []
          },
          "execution_count": 148
        },
        {
          "output_type": "display_data",
          "data": {
            "image/png": "[encoded data removed]",
            "text/plain": [
              "<Figure size 1080x720 with 1 Axes>"
            ]
          },
          "metadata": {
            "tags": []
          }
        }
      ]
    },
    {
      "cell_type": "code",
      "metadata": {
        "id": "8pWkyBauvkkC",
        "colab_type": "code",
        "outputId": "34efa4cc-e40b-4aae-e128-fef3f5f5164d",
        "colab": {
          "base_uri": "https://localhost:8080/",
          "height": 391
        }
      },
      "source": [
        "breeds=twitter_archive_master.groupby(by='dog_breed').rating_numerator.mean().sort_values(ascending=False).head(20)\n",
        "breeds"
      ],
      "execution_count": 0,
      "outputs": [
        {
          "output_type": "execute_result",
          "data": {
            "text/plain": [
              "dog_breed\n",
              "saluki                     12.500000\n",
              "briard                     12.333333\n",
              "tibetan_mastiff            12.250000\n",
              "border_terrier             12.142857\n",
              "silky_terrier              12.000000\n",
              "standard_schnauzer         12.000000\n",
              "eskimo_dog                 11.777778\n",
              "gordon_setter              11.750000\n",
              "irish_setter               11.750000\n",
              "samoyed                    11.743590\n",
              "chow                       11.609756\n",
              "golden_retriever           11.567164\n",
              "cardigan                   11.529412\n",
              "wire-haired_fox_terrier    11.500000\n",
              "australian_terrier         11.500000\n",
              "giant_schnauzer            11.500000\n",
              "great_pyrenees             11.461538\n",
              "kelpie                     11.454545\n",
              "pembroke                   11.443182\n",
              "irish_water_spaniel        11.333333\n",
              "Name: rating_numerator, dtype: float64"
            ]
          },
          "metadata": {
            "tags": []
          },
          "execution_count": 199
        }
      ]
    },
    {
      "cell_type": "code",
      "metadata": {
        "id": "59My1TI5wbNZ",
        "colab_type": "code",
        "outputId": "94e3b8cd-f094-4cfb-c08c-9989932e04ec",
        "colab": {
          "base_uri": "https://localhost:8080/",
          "height": 510
        }
      },
      "source": [
        "breeds.plot(kind='bar',figsize=(10,6))"
      ],
      "execution_count": 0,
      "outputs": [
        {
          "output_type": "execute_result",
          "data": {
            "text/plain": [
              "<matplotlib.axes._subplots.AxesSubplot at 0x7f91b327a390>"
            ]
          },
          "metadata": {
            "tags": []
          },
          "execution_count": 202
        },
        {
          "output_type": "display_data",
          "data": {
            "image/png": "[encoded data removed]",
            "text/plain": [
              "<Figure size 720x432 with 1 Axes>"
            ]
          },
          "metadata": {
            "tags": []
          }
        }
      ]
    }
  ]
}